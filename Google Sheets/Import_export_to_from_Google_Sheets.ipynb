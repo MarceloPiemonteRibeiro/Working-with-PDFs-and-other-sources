{
  "nbformat": 4,
  "nbformat_minor": 0,
  "metadata": {
    "colab": {
      "name": "Test_API_Google_Sheets.ipynb",
      "provenance": [],
      "collapsed_sections": [],
      "authorship_tag": "ABX9TyN+QUUuECRMPHT3WkQ5x+oS",
      "include_colab_link": true
    },
    "kernelspec": {
      "name": "python3",
      "display_name": "Python 3"
    },
    "language_info": {
      "name": "python"
    }
  },
  "cells": [
    {
      "cell_type": "markdown",
      "metadata": {
        "id": "view-in-github",
        "colab_type": "text"
      },
      "source": [
        "<a href=\"https://colab.research.google.com/github/MarceloPiemonteRibeiro/Working-with-PDFs-and-other-sources/blob/main/Google%20Sheets/Import_export_to_from_Google_Sheets.ipynb\" target=\"_parent\"><img src=\"https://colab.research.google.com/assets/colab-badge.svg\" alt=\"Open In Colab\"/></a>"
      ]
    },
    {
      "cell_type": "markdown",
      "source": [
        "# Import a dummy API (Google stock prices)"
      ],
      "metadata": {
        "id": "AZZzPxa9eoMZ"
      }
    },
    {
      "cell_type": "markdown",
      "source": [
        "Source https://blog.quantinsti.com/historical-market-data-python-api/"
      ],
      "metadata": {
        "id": "MVMj9_UBel2g"
      }
    },
    {
      "cell_type": "code",
      "execution_count": 1,
      "metadata": {
        "colab": {
          "base_uri": "https://localhost:8080/"
        },
        "id": "92srS3SRc6VX",
        "outputId": "2a110846-7165-4c5d-c6d3-3cb9a83efcb2"
      },
      "outputs": [
        {
          "output_type": "stream",
          "name": "stdout",
          "text": [
            "Looking in indexes: https://pypi.org/simple, https://us-python.pkg.dev/colab-wheels/public/simple/\n",
            "Collecting yfinance\n",
            "  Downloading yfinance-0.1.74-py2.py3-none-any.whl (27 kB)\n",
            "Requirement already satisfied: numpy>=1.15 in /usr/local/lib/python3.7/dist-packages (from yfinance) (1.21.6)\n",
            "Requirement already satisfied: lxml>=4.5.1 in /usr/local/lib/python3.7/dist-packages (from yfinance) (4.9.1)\n",
            "Requirement already satisfied: pandas>=0.24.0 in /usr/local/lib/python3.7/dist-packages (from yfinance) (1.3.5)\n",
            "Requirement already satisfied: multitasking>=0.0.7 in /usr/local/lib/python3.7/dist-packages (from yfinance) (0.0.11)\n",
            "Collecting requests>=2.26\n",
            "  Downloading requests-2.28.1-py3-none-any.whl (62 kB)\n",
            "\u001b[K     |████████████████████████████████| 62 kB 1.3 MB/s \n",
            "\u001b[?25hRequirement already satisfied: pytz>=2017.3 in /usr/local/lib/python3.7/dist-packages (from pandas>=0.24.0->yfinance) (2022.1)\n",
            "Requirement already satisfied: python-dateutil>=2.7.3 in /usr/local/lib/python3.7/dist-packages (from pandas>=0.24.0->yfinance) (2.8.2)\n",
            "Requirement already satisfied: six>=1.5 in /usr/local/lib/python3.7/dist-packages (from python-dateutil>=2.7.3->pandas>=0.24.0->yfinance) (1.15.0)\n",
            "Requirement already satisfied: certifi>=2017.4.17 in /usr/local/lib/python3.7/dist-packages (from requests>=2.26->yfinance) (2022.6.15)\n",
            "Requirement already satisfied: urllib3<1.27,>=1.21.1 in /usr/local/lib/python3.7/dist-packages (from requests>=2.26->yfinance) (1.24.3)\n",
            "Requirement already satisfied: idna<4,>=2.5 in /usr/local/lib/python3.7/dist-packages (from requests>=2.26->yfinance) (2.10)\n",
            "Requirement already satisfied: charset-normalizer<3,>=2 in /usr/local/lib/python3.7/dist-packages (from requests>=2.26->yfinance) (2.1.0)\n",
            "Installing collected packages: requests, yfinance\n",
            "  Attempting uninstall: requests\n",
            "    Found existing installation: requests 2.23.0\n",
            "    Uninstalling requests-2.23.0:\n",
            "      Successfully uninstalled requests-2.23.0\n",
            "Successfully installed requests-2.28.1 yfinance-0.1.74\n"
          ]
        }
      ],
      "source": [
        "pip install yfinance"
      ]
    },
    {
      "cell_type": "code",
      "source": [
        "!pip install matplotlib\n",
        "# Import yfinance and matplotlib\n",
        "import yfinance as yf  \n",
        "import matplotlib.pyplot as plt\n",
        "# Get the data for the SPY ETF by specifying the stock ticker, start date, and end date\n",
        "data = yf.download('SPY','2022-01-18','2022-08-05')\n",
        "# Plot the close prices\n",
        "data[\"Adj Close\"].plot()\n",
        "plt.show()"
      ],
      "metadata": {
        "colab": {
          "base_uri": "https://localhost:8080/",
          "height": 451
        },
        "id": "zrP8N3ugdwk_",
        "outputId": "ee623944-c25f-4a1f-ccf4-8fb9fa58bd8b"
      },
      "execution_count": 2,
      "outputs": [
        {
          "output_type": "stream",
          "name": "stdout",
          "text": [
            "Looking in indexes: https://pypi.org/simple, https://us-python.pkg.dev/colab-wheels/public/simple/\n",
            "Requirement already satisfied: matplotlib in /usr/local/lib/python3.7/dist-packages (3.2.2)\n",
            "Requirement already satisfied: python-dateutil>=2.1 in /usr/local/lib/python3.7/dist-packages (from matplotlib) (2.8.2)\n",
            "Requirement already satisfied: cycler>=0.10 in /usr/local/lib/python3.7/dist-packages (from matplotlib) (0.11.0)\n",
            "Requirement already satisfied: kiwisolver>=1.0.1 in /usr/local/lib/python3.7/dist-packages (from matplotlib) (1.4.4)\n",
            "Requirement already satisfied: numpy>=1.11 in /usr/local/lib/python3.7/dist-packages (from matplotlib) (1.21.6)\n",
            "Requirement already satisfied: pyparsing!=2.0.4,!=2.1.2,!=2.1.6,>=2.0.1 in /usr/local/lib/python3.7/dist-packages (from matplotlib) (3.0.9)\n",
            "Requirement already satisfied: typing-extensions in /usr/local/lib/python3.7/dist-packages (from kiwisolver>=1.0.1->matplotlib) (4.1.1)\n",
            "Requirement already satisfied: six>=1.5 in /usr/local/lib/python3.7/dist-packages (from python-dateutil>=2.1->matplotlib) (1.15.0)\n",
            "[*********************100%***********************]  1 of 1 completed\n"
          ]
        },
        {
          "output_type": "display_data",
          "data": {
            "text/plain": [
              "<Figure size 432x288 with 1 Axes>"
            ],
            "image/png": "[encoded data removed]"
          },
          "metadata": {
            "needs_background": "light"
          }
        }
      ]
    },
    {
      "cell_type": "markdown",
      "source": [
        "Add index to dataframe"
      ],
      "metadata": {
        "id": "6_851Vu4IFhW"
      }
    },
    {
      "cell_type": "code",
      "source": [
        "# data.reset_index(inplace=True) # transform Date from index to column\n",
        "# data['Date'].astype(str) # transform date type to string so below to export to Google Sheets you need to transform the df to json\n",
        "#data = data.rename(columns = {'index':'Date'})\n",
        "data.tail()"
      ],
      "metadata": {
        "colab": {
          "base_uri": "https://localhost:8080/",
          "height": 237
        },
        "id": "-2JwTlcneDKW",
        "outputId": "420ca217-031e-417e-b7a8-cd43fd660756"
      },
      "execution_count": 3,
      "outputs": [
        {
          "output_type": "execute_result",
          "data": {
            "text/plain": [
              "                  Open        High         Low       Close   Adj Close  \\\n",
              "Date                                                                     \n",
              "2022-07-29  407.579987  413.029999  406.769989  411.989990  411.989990   \n",
              "2022-08-01  409.149994  413.410004  408.399994  410.769989  410.769989   \n",
              "2022-08-02  409.119995  413.000000  406.820007  408.059998  408.059998   \n",
              "2022-08-03  410.299988  415.679993  410.000000  414.450012  414.450012   \n",
              "2022-08-04  414.369995  415.089996  412.440002  414.170013  414.170013   \n",
              "\n",
              "              Volume  \n",
              "Date                  \n",
              "2022-07-29  86921200  \n",
              "2022-08-01  69997500  \n",
              "2022-08-02  63435400  \n",
              "2022-08-03  67820600  \n",
              "2022-08-04  45656600  "
            ],
            "text/html": [
              "\n",
              "  <div id=\"df-0f0b1e54-4bc2-4a37-8913-4840df4b6831\">\n",
              "    <div class=\"colab-df-container\">\n",
              "      <div>\n",
              "<style scoped>\n",
              "    .dataframe tbody tr th:only-of-type {\n",
              "        vertical-align: middle;\n",
              "    }\n",
              "\n",
              "    .dataframe tbody tr th {\n",
              "        vertical-align: top;\n",
              "    }\n",
              "\n",
              "    .dataframe thead th {\n",
              "        text-align: right;\n",
              "    }\n",
              "</style>\n",
              "<table border=\"1\" class=\"dataframe\">\n",
              "  <thead>\n",
              "    <tr style=\"text-align: right;\">\n",
              "      <th></th>\n",
              "      <th>Open</th>\n",
              "      <th>High</th>\n",
              "      <th>Low</th>\n",
              "      <th>Close</th>\n",
              "      <th>Adj Close</th>\n",
              "      <th>Volume</th>\n",
              "    </tr>\n",
              "    <tr>\n",
              "      <th>Date</th>\n",
              "      <th></th>\n",
              "      <th></th>\n",
              "      <th></th>\n",
              "      <th></th>\n",
              "      <th></th>\n",
              "      <th></th>\n",
              "    </tr>\n",
              "  </thead>\n",
              "  <tbody>\n",
              "    <tr>\n",
              "      <th>2022-07-29</th>\n",
              "      <td>407.579987</td>\n",
              "      <td>413.029999</td>\n",
              "      <td>406.769989</td>\n",
              "      <td>411.989990</td>\n",
              "      <td>411.989990</td>\n",
              "      <td>86921200</td>\n",
              "    </tr>\n",
              "    <tr>\n",
              "      <th>2022-08-01</th>\n",
              "      <td>409.149994</td>\n",
              "      <td>413.410004</td>\n",
              "      <td>408.399994</td>\n",
              "      <td>410.769989</td>\n",
              "      <td>410.769989</td>\n",
              "      <td>69997500</td>\n",
              "    </tr>\n",
              "    <tr>\n",
              "      <th>2022-08-02</th>\n",
              "      <td>409.119995</td>\n",
              "      <td>413.000000</td>\n",
              "      <td>406.820007</td>\n",
              "      <td>408.059998</td>\n",
              "      <td>408.059998</td>\n",
              "      <td>63435400</td>\n",
              "    </tr>\n",
              "    <tr>\n",
              "      <th>2022-08-03</th>\n",
              "      <td>410.299988</td>\n",
              "      <td>415.679993</td>\n",
              "      <td>410.000000</td>\n",
              "      <td>414.450012</td>\n",
              "      <td>414.450012</td>\n",
              "      <td>67820600</td>\n",
              "    </tr>\n",
              "    <tr>\n",
              "      <th>2022-08-04</th>\n",
              "      <td>414.369995</td>\n",
              "      <td>415.089996</td>\n",
              "      <td>412.440002</td>\n",
              "      <td>414.170013</td>\n",
              "      <td>414.170013</td>\n",
              "      <td>45656600</td>\n",
              "    </tr>\n",
              "  </tbody>\n",
              "</table>\n",
              "</div>\n",
              "      <button class=\"colab-df-convert\" onclick=\"convertToInteractive('df-0f0b1e54-4bc2-4a37-8913-4840df4b6831')\"\n",
              "              title=\"Convert this dataframe to an interactive table.\"\n",
              "              style=\"display:none;\">\n",
              "        \n",
              "  <svg xmlns=\"http://www.w3.org/2000/svg\" height=\"24px\"viewBox=\"0 0 24 24\"\n",
              "       width=\"24px\">\n",
              "    <path d=\"M0 0h24v24H0V0z\" fill=\"none\"/>\n",
              "    <path d=\"M18.56 5.44l.94 2.06.94-2.06 2.06-.94-2.06-.94-.94-2.06-.94 2.06-2.06.94zm-11 1L8.5 8.5l.94-2.06 2.06-.94-2.06-.94L8.5 2.5l-.94 2.06-2.06.94zm10 10l.94 2.06.94-2.06 2.06-.94-2.06-.94-.94-2.06-.94 2.06-2.06.94z\"/><path d=\"M17.41 7.96l-1.37-1.37c-.4-.4-.92-.59-1.43-.59-.52 0-1.04.2-1.43.59L10.3 9.45l-7.72 7.72c-.78.78-.78 2.05 0 2.83L4 21.41c.39.39.9.59 1.41.59.51 0 1.02-.2 1.41-.59l7.78-7.78 2.81-2.81c.8-.78.8-2.07 0-2.86zM5.41 20L4 18.59l7.72-7.72 1.47 1.35L5.41 20z\"/>\n",
              "  </svg>\n",
              "      </button>\n",
              "      \n",
              "  <style>\n",
              "    .colab-df-container {\n",
              "      display:flex;\n",
              "      flex-wrap:wrap;\n",
              "      gap: 12px;\n",
              "    }\n",
              "\n",
              "    .colab-df-convert {\n",
              "      background-color: #E8F0FE;\n",
              "      border: none;\n",
              "      border-radius: 50%;\n",
              "      cursor: pointer;\n",
              "      display: none;\n",
              "      fill: #1967D2;\n",
              "      height: 32px;\n",
              "      padding: 0 0 0 0;\n",
              "      width: 32px;\n",
              "    }\n",
              "\n",
              "    .colab-df-convert:hover {\n",
              "      background-color: #E2EBFA;\n",
              "      box-shadow: 0px 1px 2px rgba(60, 64, 67, 0.3), 0px 1px 3px 1px rgba(60, 64, 67, 0.15);\n",
              "      fill: #174EA6;\n",
              "    }\n",
              "\n",
              "    [theme=dark] .colab-df-convert {\n",
              "      background-color: #3B4455;\n",
              "      fill: #D2E3FC;\n",
              "    }\n",
              "\n",
              "    [theme=dark] .colab-df-convert:hover {\n",
              "      background-color: #434B5C;\n",
              "      box-shadow: 0px 1px 3px 1px rgba(0, 0, 0, 0.15);\n",
              "      filter: drop-shadow(0px 1px 2px rgba(0, 0, 0, 0.3));\n",
              "      fill: #FFFFFF;\n",
              "    }\n",
              "  </style>\n",
              "\n",
              "      <script>\n",
              "        const buttonEl =\n",
              "          document.querySelector('#df-0f0b1e54-4bc2-4a37-8913-4840df4b6831 button.colab-df-convert');\n",
              "        buttonEl.style.display =\n",
              "          google.colab.kernel.accessAllowed ? 'block' : 'none';\n",
              "\n",
              "        async function convertToInteractive(key) {\n",
              "          const element = document.querySelector('#df-0f0b1e54-4bc2-4a37-8913-4840df4b6831');\n",
              "          const dataTable =\n",
              "            await google.colab.kernel.invokeFunction('convertToInteractive',\n",
              "                                                     [key], {});\n",
              "          if (!dataTable) return;\n",
              "\n",
              "          const docLinkHtml = 'Like what you see? Visit the ' +\n",
              "            '<a target=\"_blank\" href=https://colab.research.google.com/notebooks/data_table.ipynb>data table notebook</a>'\n",
              "            + ' to learn more about interactive tables.';\n",
              "          element.innerHTML = '';\n",
              "          dataTable['output_type'] = 'display_data';\n",
              "          await google.colab.output.renderOutput(dataTable, element);\n",
              "          const docLink = document.createElement('div');\n",
              "          docLink.innerHTML = docLinkHtml;\n",
              "          element.appendChild(docLink);\n",
              "        }\n",
              "      </script>\n",
              "    </div>\n",
              "  </div>\n",
              "  "
            ]
          },
          "metadata": {},
          "execution_count": 3
        }
      ]
    },
    {
      "cell_type": "markdown",
      "source": [
        "# Import data from Google Sheets"
      ],
      "metadata": {
        "id": "DXp9_JOegax4"
      }
    },
    {
      "cell_type": "markdown",
      "source": [
        "Source: https://www.youtube.com/watch?v=cN7W2EPM-dw"
      ],
      "metadata": {
        "id": "b-zh1ptnl988"
      }
    },
    {
      "cell_type": "code",
      "source": [
        "!pip install --upgrade gspread"
      ],
      "metadata": {
        "colab": {
          "base_uri": "https://localhost:8080/"
        },
        "id": "LroxCGJcgrF7",
        "outputId": "a1863122-96d9-4313-dfa4-c08559f62e9b"
      },
      "execution_count": 4,
      "outputs": [
        {
          "output_type": "stream",
          "name": "stdout",
          "text": [
            "Looking in indexes: https://pypi.org/simple, https://us-python.pkg.dev/colab-wheels/public/simple/\n",
            "Requirement already satisfied: gspread in /usr/local/lib/python3.7/dist-packages (3.4.2)\n",
            "Collecting gspread\n",
            "  Downloading gspread-5.4.0-py3-none-any.whl (37 kB)\n",
            "Requirement already satisfied: google-auth-oauthlib>=0.4.1 in /usr/local/lib/python3.7/dist-packages (from gspread) (0.4.6)\n",
            "Requirement already satisfied: google-auth>=1.12.0 in /usr/local/lib/python3.7/dist-packages (from gspread) (1.35.0)\n",
            "Requirement already satisfied: pyasn1-modules>=0.2.1 in /usr/local/lib/python3.7/dist-packages (from google-auth>=1.12.0->gspread) (0.2.8)\n",
            "Requirement already satisfied: cachetools<5.0,>=2.0.0 in /usr/local/lib/python3.7/dist-packages (from google-auth>=1.12.0->gspread) (4.2.4)\n",
            "Requirement already satisfied: setuptools>=40.3.0 in /usr/local/lib/python3.7/dist-packages (from google-auth>=1.12.0->gspread) (57.4.0)\n",
            "Requirement already satisfied: six>=1.9.0 in /usr/local/lib/python3.7/dist-packages (from google-auth>=1.12.0->gspread) (1.15.0)\n",
            "Requirement already satisfied: rsa<5,>=3.1.4 in /usr/local/lib/python3.7/dist-packages (from google-auth>=1.12.0->gspread) (4.9)\n",
            "Requirement already satisfied: requests-oauthlib>=0.7.0 in /usr/local/lib/python3.7/dist-packages (from google-auth-oauthlib>=0.4.1->gspread) (1.3.1)\n",
            "Requirement already satisfied: pyasn1<0.5.0,>=0.4.6 in /usr/local/lib/python3.7/dist-packages (from pyasn1-modules>=0.2.1->google-auth>=1.12.0->gspread) (0.4.8)\n",
            "Requirement already satisfied: oauthlib>=3.0.0 in /usr/local/lib/python3.7/dist-packages (from requests-oauthlib>=0.7.0->google-auth-oauthlib>=0.4.1->gspread) (3.2.0)\n",
            "Requirement already satisfied: requests>=2.0.0 in /usr/local/lib/python3.7/dist-packages (from requests-oauthlib>=0.7.0->google-auth-oauthlib>=0.4.1->gspread) (2.28.1)\n",
            "Requirement already satisfied: urllib3<1.27,>=1.21.1 in /usr/local/lib/python3.7/dist-packages (from requests>=2.0.0->requests-oauthlib>=0.7.0->google-auth-oauthlib>=0.4.1->gspread) (1.24.3)\n",
            "Requirement already satisfied: charset-normalizer<3,>=2 in /usr/local/lib/python3.7/dist-packages (from requests>=2.0.0->requests-oauthlib>=0.7.0->google-auth-oauthlib>=0.4.1->gspread) (2.1.0)\n",
            "Requirement already satisfied: idna<4,>=2.5 in /usr/local/lib/python3.7/dist-packages (from requests>=2.0.0->requests-oauthlib>=0.7.0->google-auth-oauthlib>=0.4.1->gspread) (2.10)\n",
            "Requirement already satisfied: certifi>=2017.4.17 in /usr/local/lib/python3.7/dist-packages (from requests>=2.0.0->requests-oauthlib>=0.7.0->google-auth-oauthlib>=0.4.1->gspread) (2022.6.15)\n",
            "Installing collected packages: gspread\n",
            "  Attempting uninstall: gspread\n",
            "    Found existing installation: gspread 3.4.2\n",
            "    Uninstalling gspread-3.4.2:\n",
            "      Successfully uninstalled gspread-3.4.2\n",
            "Successfully installed gspread-5.4.0\n"
          ]
        }
      ]
    },
    {
      "cell_type": "markdown",
      "source": [
        "Import data from Google Sheets"
      ],
      "metadata": {
        "id": "NeUG5lddjnCF"
      }
    },
    {
      "cell_type": "code",
      "source": [
        "from google.colab import auth\n",
        "auth.authenticate_user()\n",
        "\n",
        "import gspread\n",
        "from google.auth import default\n",
        "creds, _ = default()\n",
        "\n",
        "gc = gspread.authorize(creds)\n",
        "\n",
        "wb = gc.open_by_key('13qIP8ytx2k-DPqDli9HlU5mSwUh53cIOEPGrzD-0Jsg') # id from the google sheet you need to create\n",
        "ws=wb.worksheet('Kaggle') # name of the tab from Google sheets you want\n",
        "# get_all_values gives a list of rows.\n",
        "rows = ws.get_all_values()\n",
        "print(rows)\n",
        "\n"
      ],
      "metadata": {
        "colab": {
          "base_uri": "https://localhost:8080/"
        },
        "id": "nxCOa8HRgWD_",
        "outputId": "4d549461-6af8-4432-e094-21ecdcdb0c94"
      },
      "execution_count": 5,
      "outputs": [
        {
          "output_type": "stream",
          "name": "stdout",
          "text": [
            "[['Date', 'House_Price_Index', 'Stock_Price_Index', 'Consumer_Price_Index', 'Population', 'Unemployment_Rate', 'Real_GDP', 'Mortgage_Rate', 'Real_Disposable_Income'], ['01/01/1975', '61.09', '6.714.653', '6.530.488', '98.599', '846.667', '5.648.462', '904.712', '19908'], ['01/01/1976', '65.525', '7.996.264', '6.905.653', '95.022', '771.667', '5.952.809', '886.585', '20346'], ['01/01/1977', '73.435', '788.254', '7.354.636', '100.577', '706.667', '6.228.076', '884.519', '20780'], ['01/01/1978', '83.745', '7.884.679', '7.915.866', '105.957', '606.667', '6.572.819', '964.173', '21497'], ['01/01/1979', '951.325', '8.563.207', '8.806.755', '110.358', '583.333', '6.780.924', '1.120.365', '21672'], ['01/01/1980', '1.026.675', '100', '100', '95.959', '714.167', '6.763.514', '1.374.212', '21584'], ['01/01/1981', '1.072.375', '1.086.752', '1.103.347', '98.142', '7.6', '6.935.153', '1.664.151', '21891'], ['01/01/1982', '108.46', '1.012.065', '1.170.998', '95.332', '970.833', '6810.12', '1.604.365', '22156'], ['01/01/1983', '1.162.425', '1.360.172', '1.208.616', '91.438', '961.667', '7122.29', '1.323.538', '22714'], ['01/01/1984', '1.214.575', '1.357.124', '1.260.593', '86.582', '7.525', '7.637.704', '1.387.769', '24062'], ['01/01/1985', '1.276.625', '1.587.128', '1.305.289', '88.613', '719.167', '7956.17', '1.243.019', '24565'], ['01/01/1986', '136.375', '1.996.837', '1.330.064', '92.416', '699.167', '8.231.664', '1.018.731', '25268'], ['01/01/1987', '1.452.025', '2.374.222', '1.378.805', '89.383', '619.167', '8.516.418', '10.2134', '25597'], ['01/01/1988', '1.529.875', '2.201.137', '1.435.029', '90.800', '549.167', '8.872.154', '1.034.173', '26559'], ['01/01/1989', '1.610.625', '2.643.018', '1.504.298', '94.441', '526.667', '9.197.997', '1.031.942', '27080'], ['01/01/1990', '1.661.125', '2.693.153', '1.585.499', '112.965', '561.667', '9.371.468', '1.012.942', '27303'], ['01/01/1991', '1.692.775', '3.029.543', '1.652.644', '133.626', '681.667', '9.361.322', '924.654', '27138'], ['01/01/1992', '1.739.925', '3.362.521', '170.27', '138.689', '750.833', '9.691.069', '839.019', '27895'], ['01/01/1993', '178.05', '3.664.476', '1.752.958', '131.868', '6.9', '9.957.746', '731.462', '27990'], ['01/01/1994', '182.575', '3.731.211', '1.798.665', '1.2263', '608.333', '10358.92', '838.077', '28411'], ['01/01/1995', '1.881.475', '4.274.894', '1.849.125', '119.079', '560.833', '10636.98', '793.462', '29011'], ['01/01/1996', '1.946.375', '5.258.922', '1.903.327', '116.341', '541.667', '11038.27', '780.615', '29586'], ['01/01/1997', '2.011.575', '6.703.276', '1.947.821', '120.396', '4.95', '11529.16', '759.885', '30304'], ['01/01/1998', '2.114.625', '8.079.262', '1.978.056', '116.571', '450.833', '12045.82', '694.264', '31712'], ['01/01/1999', '221.87', '909.092', '2.021.337', '114.834', '421.667', '12623.36', '7.44', '32409'], ['01/01/2000', '236.07', '9.448.396', '2.089.595', '111.277', '399.167', '13138.04', '805.346', '33645'], ['01/01/2001', '253.725', '8.893.486', '214.865', '98.974', '473.333', '13263.42', '696.788', '34216'], ['01/01/2002', '269.795', '7.750.649', '2.182.728', '9.278', '5.775', '13488.36', '653.731', '34894'], ['01/01/2003', '286.625', '7.565.553', '2.232.278', '85.948', '599.167', '13865.52', '582.698', '35474'], ['01/01/2004', '3.135.125', '9.183.871', '2.292.042', '92.548', '553.333', '14399.7', '583.923', '36325'], ['01/01/2005', '349.095', '1.020.495', '2.369.805', '92.171', '506.667', '14901.27', '586.673', '36526'], ['01/01/2006', '374.1', '1.160.508', '2.446.253', '96.425', '461.667', '15315.94', '641.327', '37570'], ['01/01/2007', '378.265', '1.339.636', '2.516.037', '95.106', '461.667', '15623.87', '633.731', '38093'], ['01/01/2008', '358.86', '1.116.256', '261.263', '94.587', '5.775', '15642.96', '602.717', '38188'], ['01/01/2009', '338.95', '8.458.884', '2.603.341', '87.665', '926.667', '15236.26', '503.654', '37814'], ['01/01/2010', '325.12', '1.003.609', '2.646.037', '82.962', '961.667', '15648.99', '468.981', '38282'], ['01/01/2011', '312.59', '1.093.152', '2.729.568', '72.679', '8.95', '15891.53', '444.788', '38769'], ['01/01/2012', '311.775', '1.112.093', '2.786.052', '7.336', '806.667', '16253.97', '3.6575', '39732'], ['01/01/2013', '3.235.275', '1308.67', '2.826.863', '69.286', '7.375', '16553.35', '397.558', '38947'], ['01/01/2014', '3.397.575', '1.479.804', '2.872.721', '73.336', '616.667', '16932.05', '416.887', '40118'], ['01/01/2015', '3.572.575', '1.482.642', '2.876.129', '73.622', '529.167', '17390.3', '385.058', '41383'], ['01/01/2016', '3.759.925', '1.441.709', '2.912.414', '72.468', '486.667', '17680.27', '365.404', '41821'], ['01/01/2017', '396.47', '1.644.509', '2.974.451', '63.264', '4.35', '18079.08', '398.981', '42699'], ['01/01/2018', '4.184.625', '1.755.565', '3.047.105', '52.644', '3.9', '18606.79', '454.462', '43886'], ['01/01/2019', '437.8', '1.786.285', '3.102.325', '45.538', '366.667', '19032.67', '393.577', '44644'], ['01/01/2020', '4.602.675', '1.755.045', '3.140.595', '9.612', '809.167', '18384.69', '3.1117', '47241'], ['01/01/2021', '523.26', '2.255.844', '3.288.135', '11.838', '536.667', '19427.29', '295.769', '48219']]\n"
          ]
        }
      ]
    },
    {
      "cell_type": "code",
      "source": [
        "# Convert to a DataFrame and render.\n",
        "import pandas as pd\n",
        "dfKaggle=pd.DataFrame.from_records(rows[1:],columns=rows[0]) # add [] to put the name of columns as header in my df\n",
        "dfKaggle.head()"
      ],
      "metadata": {
        "colab": {
          "base_uri": "https://localhost:8080/",
          "height": 270
        },
        "id": "fB08Dw5Ejgpz",
        "outputId": "a89c3689-3a84-4428-b5cb-64ec1ccc9566"
      },
      "execution_count": 6,
      "outputs": [
        {
          "output_type": "execute_result",
          "data": {
            "text/plain": [
              "         Date House_Price_Index Stock_Price_Index Consumer_Price_Index  \\\n",
              "0  01/01/1975             61.09         6.714.653            6.530.488   \n",
              "1  01/01/1976            65.525         7.996.264            6.905.653   \n",
              "2  01/01/1977            73.435           788.254            7.354.636   \n",
              "3  01/01/1978            83.745         7.884.679            7.915.866   \n",
              "4  01/01/1979           951.325         8.563.207            8.806.755   \n",
              "\n",
              "  Population Unemployment_Rate   Real_GDP Mortgage_Rate Real_Disposable_Income  \n",
              "0     98.599           846.667  5.648.462       904.712                  19908  \n",
              "1     95.022           771.667  5.952.809       886.585                  20346  \n",
              "2    100.577           706.667  6.228.076       884.519                  20780  \n",
              "3    105.957           606.667  6.572.819       964.173                  21497  \n",
              "4    110.358           583.333  6.780.924     1.120.365                  21672  "
            ],
            "text/html": [
              "\n",
              "  <div id=\"df-fa59e70b-d292-4654-b515-beb52a1dcb96\">\n",
              "    <div class=\"colab-df-container\">\n",
              "      <div>\n",
              "<style scoped>\n",
              "    .dataframe tbody tr th:only-of-type {\n",
              "        vertical-align: middle;\n",
              "    }\n",
              "\n",
              "    .dataframe tbody tr th {\n",
              "        vertical-align: top;\n",
              "    }\n",
              "\n",
              "    .dataframe thead th {\n",
              "        text-align: right;\n",
              "    }\n",
              "</style>\n",
              "<table border=\"1\" class=\"dataframe\">\n",
              "  <thead>\n",
              "    <tr style=\"text-align: right;\">\n",
              "      <th></th>\n",
              "      <th>Date</th>\n",
              "      <th>House_Price_Index</th>\n",
              "      <th>Stock_Price_Index</th>\n",
              "      <th>Consumer_Price_Index</th>\n",
              "      <th>Population</th>\n",
              "      <th>Unemployment_Rate</th>\n",
              "      <th>Real_GDP</th>\n",
              "      <th>Mortgage_Rate</th>\n",
              "      <th>Real_Disposable_Income</th>\n",
              "    </tr>\n",
              "  </thead>\n",
              "  <tbody>\n",
              "    <tr>\n",
              "      <th>0</th>\n",
              "      <td>01/01/1975</td>\n",
              "      <td>61.09</td>\n",
              "      <td>6.714.653</td>\n",
              "      <td>6.530.488</td>\n",
              "      <td>98.599</td>\n",
              "      <td>846.667</td>\n",
              "      <td>5.648.462</td>\n",
              "      <td>904.712</td>\n",
              "      <td>19908</td>\n",
              "    </tr>\n",
              "    <tr>\n",
              "      <th>1</th>\n",
              "      <td>01/01/1976</td>\n",
              "      <td>65.525</td>\n",
              "      <td>7.996.264</td>\n",
              "      <td>6.905.653</td>\n",
              "      <td>95.022</td>\n",
              "      <td>771.667</td>\n",
              "      <td>5.952.809</td>\n",
              "      <td>886.585</td>\n",
              "      <td>20346</td>\n",
              "    </tr>\n",
              "    <tr>\n",
              "      <th>2</th>\n",
              "      <td>01/01/1977</td>\n",
              "      <td>73.435</td>\n",
              "      <td>788.254</td>\n",
              "      <td>7.354.636</td>\n",
              "      <td>100.577</td>\n",
              "      <td>706.667</td>\n",
              "      <td>6.228.076</td>\n",
              "      <td>884.519</td>\n",
              "      <td>20780</td>\n",
              "    </tr>\n",
              "    <tr>\n",
              "      <th>3</th>\n",
              "      <td>01/01/1978</td>\n",
              "      <td>83.745</td>\n",
              "      <td>7.884.679</td>\n",
              "      <td>7.915.866</td>\n",
              "      <td>105.957</td>\n",
              "      <td>606.667</td>\n",
              "      <td>6.572.819</td>\n",
              "      <td>964.173</td>\n",
              "      <td>21497</td>\n",
              "    </tr>\n",
              "    <tr>\n",
              "      <th>4</th>\n",
              "      <td>01/01/1979</td>\n",
              "      <td>951.325</td>\n",
              "      <td>8.563.207</td>\n",
              "      <td>8.806.755</td>\n",
              "      <td>110.358</td>\n",
              "      <td>583.333</td>\n",
              "      <td>6.780.924</td>\n",
              "      <td>1.120.365</td>\n",
              "      <td>21672</td>\n",
              "    </tr>\n",
              "  </tbody>\n",
              "</table>\n",
              "</div>\n",
              "      <button class=\"colab-df-convert\" onclick=\"convertToInteractive('df-fa59e70b-d292-4654-b515-beb52a1dcb96')\"\n",
              "              title=\"Convert this dataframe to an interactive table.\"\n",
              "              style=\"display:none;\">\n",
              "        \n",
              "  <svg xmlns=\"http://www.w3.org/2000/svg\" height=\"24px\"viewBox=\"0 0 24 24\"\n",
              "       width=\"24px\">\n",
              "    <path d=\"M0 0h24v24H0V0z\" fill=\"none\"/>\n",
              "    <path d=\"M18.56 5.44l.94 2.06.94-2.06 2.06-.94-2.06-.94-.94-2.06-.94 2.06-2.06.94zm-11 1L8.5 8.5l.94-2.06 2.06-.94-2.06-.94L8.5 2.5l-.94 2.06-2.06.94zm10 10l.94 2.06.94-2.06 2.06-.94-2.06-.94-.94-2.06-.94 2.06-2.06.94z\"/><path d=\"M17.41 7.96l-1.37-1.37c-.4-.4-.92-.59-1.43-.59-.52 0-1.04.2-1.43.59L10.3 9.45l-7.72 7.72c-.78.78-.78 2.05 0 2.83L4 21.41c.39.39.9.59 1.41.59.51 0 1.02-.2 1.41-.59l7.78-7.78 2.81-2.81c.8-.78.8-2.07 0-2.86zM5.41 20L4 18.59l7.72-7.72 1.47 1.35L5.41 20z\"/>\n",
              "  </svg>\n",
              "      </button>\n",
              "      \n",
              "  <style>\n",
              "    .colab-df-container {\n",
              "      display:flex;\n",
              "      flex-wrap:wrap;\n",
              "      gap: 12px;\n",
              "    }\n",
              "\n",
              "    .colab-df-convert {\n",
              "      background-color: #E8F0FE;\n",
              "      border: none;\n",
              "      border-radius: 50%;\n",
              "      cursor: pointer;\n",
              "      display: none;\n",
              "      fill: #1967D2;\n",
              "      height: 32px;\n",
              "      padding: 0 0 0 0;\n",
              "      width: 32px;\n",
              "    }\n",
              "\n",
              "    .colab-df-convert:hover {\n",
              "      background-color: #E2EBFA;\n",
              "      box-shadow: 0px 1px 2px rgba(60, 64, 67, 0.3), 0px 1px 3px 1px rgba(60, 64, 67, 0.15);\n",
              "      fill: #174EA6;\n",
              "    }\n",
              "\n",
              "    [theme=dark] .colab-df-convert {\n",
              "      background-color: #3B4455;\n",
              "      fill: #D2E3FC;\n",
              "    }\n",
              "\n",
              "    [theme=dark] .colab-df-convert:hover {\n",
              "      background-color: #434B5C;\n",
              "      box-shadow: 0px 1px 3px 1px rgba(0, 0, 0, 0.15);\n",
              "      filter: drop-shadow(0px 1px 2px rgba(0, 0, 0, 0.3));\n",
              "      fill: #FFFFFF;\n",
              "    }\n",
              "  </style>\n",
              "\n",
              "      <script>\n",
              "        const buttonEl =\n",
              "          document.querySelector('#df-fa59e70b-d292-4654-b515-beb52a1dcb96 button.colab-df-convert');\n",
              "        buttonEl.style.display =\n",
              "          google.colab.kernel.accessAllowed ? 'block' : 'none';\n",
              "\n",
              "        async function convertToInteractive(key) {\n",
              "          const element = document.querySelector('#df-fa59e70b-d292-4654-b515-beb52a1dcb96');\n",
              "          const dataTable =\n",
              "            await google.colab.kernel.invokeFunction('convertToInteractive',\n",
              "                                                     [key], {});\n",
              "          if (!dataTable) return;\n",
              "\n",
              "          const docLinkHtml = 'Like what you see? Visit the ' +\n",
              "            '<a target=\"_blank\" href=https://colab.research.google.com/notebooks/data_table.ipynb>data table notebook</a>'\n",
              "            + ' to learn more about interactive tables.';\n",
              "          element.innerHTML = '';\n",
              "          dataTable['output_type'] = 'display_data';\n",
              "          await google.colab.output.renderOutput(dataTable, element);\n",
              "          const docLink = document.createElement('div');\n",
              "          docLink.innerHTML = docLinkHtml;\n",
              "          element.appendChild(docLink);\n",
              "        }\n",
              "      </script>\n",
              "    </div>\n",
              "  </div>\n",
              "  "
            ]
          },
          "metadata": {},
          "execution_count": 6
        }
      ]
    },
    {
      "cell_type": "markdown",
      "source": [
        "# Export dataframe to Google sheets "
      ],
      "metadata": {
        "id": "NF4YhY7LmAAi"
      }
    },
    {
      "cell_type": "markdown",
      "source": [
        "Source: https://www.youtube.com/watch?v=SObQewMLVTg"
      ],
      "metadata": {
        "id": "1GgEuZrjEoRK"
      }
    },
    {
      "cell_type": "code",
      "source": [
        "from google.colab import auth\n",
        "auth.authenticate_user()\n",
        "\n",
        "import gspread\n",
        "from google.auth import default\n",
        "creds, _ = default()\n",
        "\n",
        "gc = gspread.authorize(creds)\n",
        "\n",
        "wb = gc.open_by_key('13qIP8ytx2k-DPqDli9HlU5mSwUh53cIOEPGrzD-0Jsg') # id from the google sheet\n",
        "ws=wb.worksheet('API_Google_Stock')\n",
        "\n",
        "# ws.update_cell(1,1,'Teste') # write in a specific cell\n",
        "header=data.columns.to_list()\n",
        "#manual_header=['Date','Open', 'High',\t'Low',\t'Close',\t'Adj Close', 'Volume']\n",
        "data_api=[header]+ data.to_numpy().tolist()\n",
        "\n",
        "ws.update(None,data_api)"
      ],
      "metadata": {
        "colab": {
          "base_uri": "https://localhost:8080/"
        },
        "id": "VWmNoObxEqow",
        "outputId": "eebd4b0f-0341-4ff1-a74e-693ec226a77a"
      },
      "execution_count": 7,
      "outputs": [
        {
          "output_type": "execute_result",
          "data": {
            "text/plain": [
              "{'spreadsheetId': '13qIP8ytx2k-DPqDli9HlU5mSwUh53cIOEPGrzD-0Jsg',\n",
              " 'updatedCells': 834,\n",
              " 'updatedColumns': 6,\n",
              " 'updatedRange': 'API_Google_Stock!A1:F139',\n",
              " 'updatedRows': 139}"
            ]
          },
          "metadata": {},
          "execution_count": 7
        }
      ]
    },
    {
      "cell_type": "markdown",
      "source": [
        "Make sure gspread version >5.0"
      ],
      "metadata": {
        "id": "U3cpYBWtGLKQ"
      }
    },
    {
      "cell_type": "code",
      "source": [
        "gspread.__version__\n",
        "# !pip install --upgrade gspread"
      ],
      "metadata": {
        "colab": {
          "base_uri": "https://localhost:8080/",
          "height": 35
        },
        "id": "bCDN-4uXGGyN",
        "outputId": "ef8491c4-d918-4d7e-a907-de961693bf48"
      },
      "execution_count": null,
      "outputs": [
        {
          "output_type": "execute_result",
          "data": {
            "text/plain": [
              "'5.4.0'"
            ],
            "application/vnd.google.colaboratory.intrinsic+json": {
              "type": "string"
            }
          },
          "metadata": {},
          "execution_count": 150
        }
      ]
    },
    {
      "cell_type": "markdown",
      "source": [
        "Test a dummy data frame"
      ],
      "metadata": {
        "id": "xztpgCojJ3AG"
      }
    },
    {
      "cell_type": "code",
      "source": [
        "import pandas as pd  \n",
        "  \n",
        "# assign data of lists.  \n",
        "dataframe = {'Name':['Renault', 'Duster', 'Maruti', 'Honda City'], 'Ratings':[9.0, 3.0, 5.0, 3.0]}  \n",
        "  \n",
        "# Creates pandas DataFrame.  \n",
        "df = pd.DataFrame(dataframe)  \n",
        "  \n",
        "# print the data  \n",
        "print(df)  "
      ],
      "metadata": {
        "colab": {
          "base_uri": "https://localhost:8080/"
        },
        "id": "kd6PQkbbJ5HB",
        "outputId": "c1f48013-850c-4d0d-b923-a13a10497358"
      },
      "execution_count": 16,
      "outputs": [
        {
          "output_type": "stream",
          "name": "stdout",
          "text": [
            "         Name  Ratings\n",
            "0     Renault      9.0\n",
            "1      Duster      3.0\n",
            "2      Maruti      5.0\n",
            "3  Honda City      3.0\n"
          ]
        }
      ]
    },
    {
      "cell_type": "code",
      "source": [
        "from google.colab import auth\n",
        "auth.authenticate_user()\n",
        "\n",
        "import gspread\n",
        "from google.auth import default\n",
        "creds, _ = default()\n",
        "\n",
        "gc = gspread.authorize(creds)\n",
        "\n",
        "wb = gc.open_by_key('13qIP8ytx2k-DPqDli9HlU5mSwUh53cIOEPGrzD-0Jsg') # id from the google sheet\n",
        "ws=wb.worksheet('Dummy_df')\n",
        "\n",
        "# ws.update_cell(1,1,'Teste') # write in a specific cell\n",
        "header=df.columns.to_list()\n",
        "#manual_header=['Date','Open', 'High',\t'Low',\t'Close',\t'Adj Close', 'Volume']\n",
        "data_api=[header]+ df.to_numpy().tolist()\n",
        "\n",
        "ws.update(None,data_api)"
      ],
      "metadata": {
        "colab": {
          "base_uri": "https://localhost:8080/"
        },
        "id": "3v6_WDlSKeew",
        "outputId": "2d984251-1cba-420e-8c34-24ab5aa27ee2"
      },
      "execution_count": 17,
      "outputs": [
        {
          "output_type": "stream",
          "name": "stderr",
          "text": [
            "WARNING:google.auth._default:No project ID could be determined. Consider running `gcloud config set project` or setting the GOOGLE_CLOUD_PROJECT environment variable\n"
          ]
        },
        {
          "output_type": "execute_result",
          "data": {
            "text/plain": [
              "{'spreadsheetId': '13qIP8ytx2k-DPqDli9HlU5mSwUh53cIOEPGrzD-0Jsg',\n",
              " 'updatedCells': 10,\n",
              " 'updatedColumns': 2,\n",
              " 'updatedRange': 'Dummy_df!A1:B5',\n",
              " 'updatedRows': 5}"
            ]
          },
          "metadata": {},
          "execution_count": 17
        }
      ]
    }
  ]
}