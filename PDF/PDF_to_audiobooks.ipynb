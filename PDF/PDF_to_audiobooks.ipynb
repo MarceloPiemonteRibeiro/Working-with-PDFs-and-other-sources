{
  "nbformat": 4,
  "nbformat_minor": 0,
  "metadata": {
    "colab": {
      "name": "PDF_to_audiobooks.ipynb",
      "provenance": [],
      "collapsed_sections": [],
      "authorship_tag": "ABX9TyM1WqqlaMipFUfzU8rLqcWh",
      "include_colab_link": true
    },
    "kernelspec": {
      "name": "python3",
      "display_name": "Python 3"
    },
    "language_info": {
      "name": "python"
    }
  },
  "cells": [
    {
      "cell_type": "markdown",
      "metadata": {
        "id": "view-in-github",
        "colab_type": "text"
      },
      "source": [
        "<a href=\"https://colab.research.google.com/github/MarceloPiemonteRibeiro/Working-with-PDFs-and-other-sources/blob/main/PDF/PDF_to_audiobooks.ipynb\" target=\"_parent\"><img src=\"https://colab.research.google.com/assets/colab-badge.svg\" alt=\"Open In Colab\"/></a>"
      ]
    },
    {
      "cell_type": "markdown",
      "source": [
        "## Install"
      ],
      "metadata": {
        "id": "J1I7xo2CqBKN"
      }
    },
    {
      "cell_type": "code",
      "source": [
        "pip install PyPDF3\n"
      ],
      "metadata": {
        "colab": {
          "base_uri": "https://localhost:8080/"
        },
        "id": "qDRvv-NXmkl-",
        "outputId": "bebbb21f-7ff6-40e8-fc44-670d8591d7a0"
      },
      "execution_count": null,
      "outputs": [
        {
          "output_type": "stream",
          "name": "stdout",
          "text": [
            "Looking in indexes: https://pypi.org/simple, https://us-python.pkg.dev/colab-wheels/public/simple/\n",
            "Requirement already satisfied: PyPDF3 in /usr/local/lib/python3.7/dist-packages (1.0.6)\n",
            "Requirement already satisfied: tqdm in /usr/local/lib/python3.7/dist-packages (from PyPDF3) (4.64.0)\n"
          ]
        }
      ]
    },
    {
      "cell_type": "code",
      "source": [
        "pip install pyttsx3"
      ],
      "metadata": {
        "colab": {
          "base_uri": "https://localhost:8080/"
        },
        "id": "q8mlK8ydot9k",
        "outputId": "cf1afc85-4318-48b4-9691-5f7b6ff5517f"
      },
      "execution_count": null,
      "outputs": [
        {
          "output_type": "stream",
          "name": "stdout",
          "text": [
            "Looking in indexes: https://pypi.org/simple, https://us-python.pkg.dev/colab-wheels/public/simple/\n",
            "Requirement already satisfied: pyttsx3 in /usr/local/lib/python3.7/dist-packages (2.90)\n"
          ]
        }
      ]
    },
    {
      "cell_type": "code",
      "source": [
        "pip install pdfplumber"
      ],
      "metadata": {
        "colab": {
          "base_uri": "https://localhost:8080/",
          "height": 558
        },
        "id": "L_tY_mVLp5Bo",
        "outputId": "0ab03e06-7d48-4c69-f41f-319da8f0ff15"
      },
      "execution_count": null,
      "outputs": [
        {
          "output_type": "stream",
          "name": "stdout",
          "text": [
            "Looking in indexes: https://pypi.org/simple, https://us-python.pkg.dev/colab-wheels/public/simple/\n",
            "Collecting pdfplumber\n",
            "  Downloading pdfplumber-0.7.4-py3-none-any.whl (40 kB)\n",
            "\u001b[K     |████████████████████████████████| 40 kB 4.6 MB/s \n",
            "\u001b[?25hCollecting Pillow>=9.1\n",
            "  Downloading Pillow-9.2.0-cp37-cp37m-manylinux_2_17_x86_64.manylinux2014_x86_64.whl (3.1 MB)\n",
            "\u001b[K     |████████████████████████████████| 3.1 MB 8.1 MB/s \n",
            "\u001b[?25hCollecting Wand>=0.6.7\n",
            "  Downloading Wand-0.6.10-py2.py3-none-any.whl (142 kB)\n",
            "\u001b[K     |████████████████████████████████| 142 kB 48.8 MB/s \n",
            "\u001b[?25hCollecting pdfminer.six==20220524\n",
            "  Downloading pdfminer.six-20220524-py3-none-any.whl (5.6 MB)\n",
            "\u001b[K     |████████████████████████████████| 5.6 MB 38.2 MB/s \n",
            "\u001b[?25hRequirement already satisfied: charset-normalizer>=2.0.0 in /usr/local/lib/python3.7/dist-packages (from pdfminer.six==20220524->pdfplumber) (2.1.0)\n",
            "Collecting cryptography>=36.0.0\n",
            "  Downloading cryptography-37.0.4-cp36-abi3-manylinux_2_24_x86_64.whl (4.1 MB)\n",
            "\u001b[K     |████████████████████████████████| 4.1 MB 36.0 MB/s \n",
            "\u001b[?25hRequirement already satisfied: cffi>=1.12 in /usr/local/lib/python3.7/dist-packages (from cryptography>=36.0.0->pdfminer.six==20220524->pdfplumber) (1.15.1)\n",
            "Requirement already satisfied: pycparser in /usr/local/lib/python3.7/dist-packages (from cffi>=1.12->cryptography>=36.0.0->pdfminer.six==20220524->pdfplumber) (2.21)\n",
            "Installing collected packages: cryptography, Wand, Pillow, pdfminer.six, pdfplumber\n",
            "  Attempting uninstall: Pillow\n",
            "    Found existing installation: Pillow 7.1.2\n",
            "    Uninstalling Pillow-7.1.2:\n",
            "      Successfully uninstalled Pillow-7.1.2\n",
            "Successfully installed Pillow-9.2.0 Wand-0.6.10 cryptography-37.0.4 pdfminer.six-20220524 pdfplumber-0.7.4\n"
          ]
        },
        {
          "output_type": "display_data",
          "data": {
            "application/vnd.colab-display-data+json": {
              "pip_warning": {
                "packages": [
                  "PIL"
                ]
              }
            }
          },
          "metadata": {}
        }
      ]
    },
    {
      "cell_type": "code",
      "source": [
        "pip install path pydub PyPDF4 pyttsx3 SpeechRecognition"
      ],
      "metadata": {
        "colab": {
          "base_uri": "https://localhost:8080/"
        },
        "id": "lSX3t1hjvthN",
        "outputId": "41ef6b38-aea9-49e3-eb91-908024d46af5"
      },
      "execution_count": null,
      "outputs": [
        {
          "output_type": "stream",
          "name": "stdout",
          "text": [
            "Looking in indexes: https://pypi.org/simple, https://us-python.pkg.dev/colab-wheels/public/simple/\n",
            "Requirement already satisfied: path in /usr/local/lib/python3.7/dist-packages (16.4.0)\n",
            "Requirement already satisfied: pydub in /usr/local/lib/python3.7/dist-packages (0.25.1)\n",
            "Collecting PyPDF4\n",
            "  Downloading PyPDF4-1.27.0.tar.gz (63 kB)\n",
            "\u001b[K     |████████████████████████████████| 63 kB 1.9 MB/s \n",
            "\u001b[?25hRequirement already satisfied: pyttsx3 in /usr/local/lib/python3.7/dist-packages (2.90)\n",
            "Collecting SpeechRecognition\n",
            "  Downloading SpeechRecognition-3.8.1-py2.py3-none-any.whl (32.8 MB)\n",
            "\u001b[K     |████████████████████████████████| 32.8 MB 177 kB/s \n",
            "\u001b[?25hBuilding wheels for collected packages: PyPDF4\n",
            "  Building wheel for PyPDF4 (setup.py) ... \u001b[?25l\u001b[?25hdone\n",
            "  Created wheel for PyPDF4: filename=PyPDF4-1.27.0-py3-none-any.whl size=61248 sha256=6db989ec958eeca71f10ae2bb99df45cb90ae4af5d1e32e2650efa9785015050\n",
            "  Stored in directory: /root/.cache/pip/wheels/82/db/a8/ab40e2699944d458726831fed55791a14d800e0dc5a4889869\n",
            "Successfully built PyPDF4\n",
            "Installing collected packages: SpeechRecognition, PyPDF4\n",
            "Successfully installed PyPDF4-1.27.0 SpeechRecognition-3.8.1\n"
          ]
        }
      ]
    },
    {
      "cell_type": "code",
      "source": [
        "pip install gTTS"
      ],
      "metadata": {
        "colab": {
          "base_uri": "https://localhost:8080/"
        },
        "id": "trfavjiDJpIm",
        "outputId": "f2abb127-b067-4843-ac56-10167466b8bd"
      },
      "execution_count": null,
      "outputs": [
        {
          "output_type": "stream",
          "name": "stdout",
          "text": [
            "Looking in indexes: https://pypi.org/simple, https://us-python.pkg.dev/colab-wheels/public/simple/\n",
            "Collecting gTTS\n",
            "  Downloading gTTS-2.2.4-py3-none-any.whl (26 kB)\n",
            "Requirement already satisfied: click in /usr/local/lib/python3.7/dist-packages (from gTTS) (7.1.2)\n",
            "Requirement already satisfied: requests in /usr/local/lib/python3.7/dist-packages (from gTTS) (2.23.0)\n",
            "Requirement already satisfied: six in /usr/local/lib/python3.7/dist-packages (from gTTS) (1.15.0)\n",
            "Requirement already satisfied: chardet<4,>=3.0.2 in /usr/local/lib/python3.7/dist-packages (from requests->gTTS) (3.0.4)\n",
            "Requirement already satisfied: certifi>=2017.4.17 in /usr/local/lib/python3.7/dist-packages (from requests->gTTS) (2022.6.15)\n",
            "Requirement already satisfied: urllib3!=1.25.0,!=1.25.1,<1.26,>=1.21.1 in /usr/local/lib/python3.7/dist-packages (from requests->gTTS) (1.24.3)\n",
            "Requirement already satisfied: idna<3,>=2.5 in /usr/local/lib/python3.7/dist-packages (from requests->gTTS) (2.10)\n",
            "Installing collected packages: gTTS\n",
            "Successfully installed gTTS-2.2.4\n"
          ]
        }
      ]
    },
    {
      "cell_type": "markdown",
      "source": [
        "## Codes"
      ],
      "metadata": {
        "id": "gJP3m6okqGDK"
      }
    },
    {
      "cell_type": "markdown",
      "source": [
        "Working"
      ],
      "metadata": {
        "id": "00nUGu0UPC4f"
      }
    },
    {
      "cell_type": "code",
      "source": [
        "import PyPDF2 \n",
        "import pyttsx3  \n",
        "from gtts import gTTS\n",
        "\n",
        "# https://codeconia.com/build-your-own-free-audio-book-from-pdf-using-python/\n",
        "\n",
        "pdfobj = open('AR_Norway_2019.pdf','rb')    #replace demo with your file\n",
        "\n",
        "#pdf file object.\n",
        "pdfreader = PyPDF2.PdfFileReader(pdfobj)\n",
        "\n",
        "text = \"\"\n",
        "\n",
        "#read all the page of pdf.\n",
        "for pagenumber in range(pdfreader.numPages):\n",
        "    page = pdfreader.getPage(pagenumber)    #get page.\n",
        "    text += page.extractText()            #extract the text.\n",
        "\n",
        "pdfobj.close()            #close the file.\n",
        "\n",
        "print(text)\n",
        "\n",
        "engine = pyttsx3.init('dummy')        #init the text to speech library.\n",
        "engine.say(text)        #this function speak the text.\n",
        "engine.runAndWait()\n",
        "\n",
        "#Saving part starts from here  (source: https://www.codegrepper.com/code-examples/python/pyttsx3+save+to+file+not+working)\n",
        "tts = gTTS(text= text, lang='en')\n",
        "tts.save(\"saved_file.mp3\")\n"
      ],
      "metadata": {
        "colab": {
          "base_uri": "https://localhost:8080/"
        },
        "id": "PKUH-fdd0smi",
        "outputId": "5243431d-f3c5-489c-cc43-572513d5b48e"
      },
      "execution_count": null,
      "outputs": [
        {
          "output_type": "stream",
          "name": "stdout",
          "text": [
            "Challenges:  \n",
            "- NS Communication/Pariticipation: why they engage less? New focal points? Are the same \n",
            "NSs that never respond?  \n",
            "- Decreasing rates: Are we really decreasing? Did we fill more data in the past than today?  \n",
            "PMER changed a lot in Africa/head of delegations so maybe not fault.  \n",
            "- External datasets: what IFRC (sector) datasets are out there?  \n",
            "- Validate: create trainings for long -term  \n",
            "- Analysis: know better the context of what we are writing/analysing about -> conta ct with \n",
            "technical teams.  \n",
            "- ECR /FDRS : marketing dissemination.  \n",
            "Solution:  \n",
            "- Having a target approach: can NSs have different deadlines? How to categorize NSs?  \n",
            " \n",
            "Unifying plan:  \n",
            "Country platform: where HNS, PNS and COs add their plans (target) and then the reach ed. How are \n",
            "they entering this info? Copy of the FDRS BE? Kobo? Online Excel? Aim is to start gradually with a \n",
            "light solution and then create a copy of BE or other systems .  \n",
            " \n",
            " \n"
          ]
        }
      ]
    },
    {
      "cell_type": "markdown",
      "source": [
        "## Ignore"
      ],
      "metadata": {
        "id": "LKWWzHVWPmVu"
      }
    },
    {
      "cell_type": "code",
      "source": [
        "# https://www.youtube.com/watch?v=Uv25CLHuNHU&feature=youtu.be\n",
        "# importing the modules\n",
        "import PyPDF2\n",
        "import pyttsx3\n",
        "from gtts import gTTS\n",
        "\n",
        "# path of the PDF file\n",
        "pdfReader = PyPDF2.PdfFileReader(open('AR_Norway_2019.pdf', 'rb'))\n",
        "\n",
        "# get the handle to speaker\n",
        "speaker = pyttsx3.init('dummy')\n",
        "\n",
        "# split the pages and read one by one\n",
        "for page_num in range(pdfReader.numPages):\n",
        "  text=pdfReader.getPage(page_num).extractText()\n",
        "  speaker.say(text) #clcoding.com\n",
        "  speaker.runAndWait()\n",
        "# stop the speaker after completion\n",
        "speaker.stop()\n",
        "# save audiobook\n",
        "#Saving part starts from here  (source: https://www.codegrepper.com/code-examples/python/pyttsx3+save+to+file+not+working)\n",
        "tts = gTTS(text= text, lang='en')\n",
        "tts.save(\"saved_file.mp3\")\n"
      ],
      "metadata": {
        "colab": {
          "base_uri": "https://localhost:8080/"
        },
        "id": "czv5zwM7mxF0",
        "outputId": "53651b76-6aae-4d12-dec6-2c572c0a1767"
      },
      "execution_count": null,
      "outputs": [
        {
          "output_type": "stream",
          "name": "stderr",
          "text": [
            "WARNING:PyPDF2._reader:Xref table not zero-indexed. ID numbers for objects will be corrected.\n"
          ]
        }
      ]
    },
    {
      "cell_type": "code",
      "source": [
        "import PyPDF2\n",
        "import pyttsx3\n",
        "import os\n",
        "import warnings\n",
        "from gtts import gTTS\n",
        "\n",
        "warnings.filterwarnings('ignore')\n",
        "path=open('AR_Norway_2019.pdf','rb')\n",
        "pdf_reader=PyPDF2.PdfFileReader(path)\n",
        "Page_No = pdf_reader.getPage(0)\n",
        "text= Page_No.extractText()\n",
        "audio =pyttsx3.init('dummy')\n",
        "audio.say(text)\n",
        "\n",
        "#Saving part starts from here  (source: https://www.codegrepper.com/code-examples/python/pyttsx3+save+to+file+not+working)\n",
        "tts = gTTS(text= text, lang='en')\n",
        "tts.save(\"saved_file.mp3\")\n",
        "\n",
        "\n"
      ],
      "metadata": {
        "colab": {
          "base_uri": "https://localhost:8080/"
        },
        "id": "qD-zWCx_Fh6N",
        "outputId": "b21f6755-8999-4ce1-dd7b-c94256348981"
      },
      "execution_count": null,
      "outputs": [
        {
          "output_type": "stream",
          "name": "stderr",
          "text": [
            "WARNING:PyPDF2._reader:Xref table not zero-indexed. ID numbers for objects will be corrected.\n"
          ]
        }
      ]
    }
  ]
}