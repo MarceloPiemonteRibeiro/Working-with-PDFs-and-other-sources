{
  "nbformat": 4,
  "nbformat_minor": 0,
  "metadata": {
    "colab": {
      "name": "Reading_ARs.ipynb",
      "provenance": [],
      "collapsed_sections": [
        "URaYyShZLTvo",
        "HnSpDv02yCaz",
        "8hPfY_e0rhuX",
        "xch1b9meLq5z",
        "FOwRYWxrP9fT",
        "AA8jN0YNwW9P",
        "WoVokXvZwaZe",
        "YQj-9U6LaQsB",
        "uMbXe6r5aS6P",
        "52YSDYrqvxYA",
        "sOlXX3CulADm"
      ],
      "authorship_tag": "ABX9TyOJiaDHU506ZXmvO5LVCog4",
      "include_colab_link": true
    },
    "kernelspec": {
      "name": "python3",
      "display_name": "Python 3"
    },
    "language_info": {
      "name": "python"
    }
  },
  "cells": [
    {
      "cell_type": "markdown",
      "metadata": {
        "id": "view-in-github",
        "colab_type": "text"
      },
      "source": [
        "<a href=\"https://colab.research.google.com/github/MarceloPiemonteRibeiro/Working-with-PDFs-and-other-sources/blob/main/PDF/Reading_PDFs.ipynb\" target=\"_parent\"><img src=\"https://colab.research.google.com/assets/colab-badge.svg\" alt=\"Open In Colab\"/></a>"
      ]
    },
    {
      "cell_type": "markdown",
      "source": [
        "### Read PDF and export a txt file"
      ],
      "metadata": {
        "id": "URaYyShZLTvo"
      }
    },
    {
      "cell_type": "markdown",
      "source": [
        "#### Option 1"
      ],
      "metadata": {
        "id": "GxQe3jjvvRXk"
      }
    },
    {
      "cell_type": "markdown",
      "source": [
        "Using https://learndataanalysis.org/how-to-extract-text-from-a-pdf-file-using-python/"
      ],
      "metadata": {
        "id": "XE54bW3eLWTh"
      }
    },
    {
      "cell_type": "code",
      "source": [
        "pip install PyPDF2"
      ],
      "metadata": {
        "colab": {
          "base_uri": "https://localhost:8080/"
        },
        "id": "ooIRpY5lGXNN",
        "outputId": "4e995599-c035-4beb-81d2-605911c6e55f"
      },
      "execution_count": null,
      "outputs": [
        {
          "output_type": "stream",
          "name": "stdout",
          "text": [
            "Looking in indexes: https://pypi.org/simple, https://us-python.pkg.dev/colab-wheels/public/simple/\n",
            "Collecting PyPDF2\n",
            "  Downloading PyPDF2-2.8.1-py3-none-any.whl (204 kB)\n",
            "\u001b[K     |████████████████████████████████| 204 kB 7.3 MB/s \n",
            "\u001b[?25hRequirement already satisfied: typing-extensions in /usr/local/lib/python3.7/dist-packages (from PyPDF2) (4.1.1)\n",
            "Installing collected packages: PyPDF2\n",
            "Successfully installed PyPDF2-2.8.1\n"
          ]
        }
      ]
    },
    {
      "cell_type": "code",
      "source": [
        "pip install PyMuPDF"
      ],
      "metadata": {
        "colab": {
          "base_uri": "https://localhost:8080/"
        },
        "id": "QoioKgnnm7Lk",
        "outputId": "ebf9c008-1584-4d03-e248-addadd683772"
      },
      "execution_count": null,
      "outputs": [
        {
          "output_type": "stream",
          "name": "stdout",
          "text": [
            "Looking in indexes: https://pypi.org/simple, https://us-python.pkg.dev/colab-wheels/public/simple/\n",
            "Collecting PyMuPDF\n",
            "  Downloading PyMuPDF-1.20.1-cp37-cp37m-manylinux_2_17_x86_64.manylinux2014_x86_64.whl (8.8 MB)\n",
            "\u001b[K     |████████████████████████████████| 8.8 MB 7.8 MB/s \n",
            "\u001b[?25hInstalling collected packages: PyMuPDF\n",
            "Successfully installed PyMuPDF-1.20.1\n"
          ]
        }
      ]
    },
    {
      "cell_type": "code",
      "execution_count": null,
      "metadata": {
        "colab": {
          "base_uri": "https://localhost:8080/"
        },
        "id": "s-1TgrjIGMqx",
        "outputId": "4dce8412-1047-4047-f6fc-2d4f8262883d"
      },
      "outputs": [
        {
          "output_type": "stream",
          "name": "stderr",
          "text": [
            "/usr/local/lib/python3.7/dist-packages/PyPDF2/_reader.py:1345: PdfReadWarning: Xref table not zero-indexed. ID numbers for objects will be corrected.\n",
            "  PdfReadWarning,\n"
          ]
        },
        {
          "output_type": "stream",
          "name": "stdout",
          "text": [
            "----------------------------------------------------------------------------------------------------\n",
            "----------------------------------------------------------------------------------------------------\n",
            "----------------------------------------------------------------------------------------------------\n",
            "----------------------------------------------------------------------------------------------------\n",
            "----------------------------------------------------------------------------------------------------\n",
            "----------------------------------------------------------------------------------------------------\n",
            "----------------------------------------------------------------------------------------------------\n",
            "----------------------------------------------------------------------------------------------------\n",
            "----------------------------------------------------------------------------------------------------\n",
            "----------------------------------------------------------------------------------------------------\n",
            "----------------------------------------------------------------------------------------------------\n",
            "----------------------------------------------------------------------------------------------------\n",
            "----------------------------------------------------------------------------------------------------\n",
            "----------------------------------------------------------------------------------------------------\n",
            "----------------------------------------------------------------------------------------------------\n",
            "----------------------------------------------------------------------------------------------------\n",
            "----------------------------------------------------------------------------------------------------\n",
            "----------------------------------------------------------------------------------------------------\n",
            "----------------------------------------------------------------------------------------------------\n",
            "----------------------------------------------------------------------------------------------------\n",
            "----------------------------------------------------------------------------------------------------\n",
            "----------------------------------------------------------------------------------------------------\n",
            "----------------------------------------------------------------------------------------------------\n",
            "----------------------------------------------------------------------------------------------------\n",
            "----------------------------------------------------------------------------------------------------\n",
            "----------------------------------------------------------------------------------------------------\n",
            "----------------------------------------------------------------------------------------------------\n",
            "----------------------------------------------------------------------------------------------------\n",
            "----------------------------------------------------------------------------------------------------\n",
            "----------------------------------------------------------------------------------------------------\n",
            "----------------------------------------------------------------------------------------------------\n",
            "----------------------------------------------------------------------------------------------------\n",
            "----------------------------------------------------------------------------------------------------\n",
            "----------------------------------------------------------------------------------------------------\n",
            "----------------------------------------------------------------------------------------------------\n",
            "----------------------------------------------------------------------------------------------------\n",
            "----------------------------------------------------------------------------------------------------\n",
            "----------------------------------------------------------------------------------------------------\n",
            "----------------------------------------------------------------------------------------------------\n",
            "----------------------------------------------------------------------------------------------------\n",
            "----------------------------------------------------------------------------------------------------\n",
            "----------------------------------------------------------------------------------------------------\n"
          ]
        }
      ],
      "source": [
        "from PyPDF2 import PdfFileReader, PdfFileWriter\n",
        "\n",
        "file_path = 'AR_Finland_2021.pdf'\n",
        "pdf = PdfFileReader(file_path)\n",
        "\n",
        "with open('AR_Finland_2021.txt', 'w') as f:\n",
        "    for page_num in range(pdf.numPages):\n",
        "        # print('Page: {0}'.format(page_num))\n",
        "        pageObj = pdf.getPage(page_num)\n",
        "\n",
        "        try: \n",
        "            txt = pageObj.extractText()\n",
        "            print(''.center(100, '-'))\n",
        "        except:\n",
        "            pass\n",
        "        else:\n",
        "            f.write('Page {0}\\n'.format(page_num+1))\n",
        "            f.write(''.center(100, '-'))\n",
        "            f.write(txt)\n",
        "    f.close()"
      ]
    },
    {
      "cell_type": "markdown",
      "source": [
        "#### Option 2"
      ],
      "metadata": {
        "id": "dh8Aff8NvVzg"
      }
    },
    {
      "cell_type": "code",
      "source": [
        "pip install pdfminer.six"
      ],
      "metadata": {
        "colab": {
          "base_uri": "https://localhost:8080/"
        },
        "id": "-y0QrvHIvVeD",
        "outputId": "2999f47a-8e6b-432c-b0bf-26c3262f2d11"
      },
      "execution_count": null,
      "outputs": [
        {
          "output_type": "stream",
          "name": "stdout",
          "text": [
            "Looking in indexes: https://pypi.org/simple, https://us-python.pkg.dev/colab-wheels/public/simple/\n",
            "Collecting pdfminer.six\n",
            "  Downloading pdfminer.six-20220524-py3-none-any.whl (5.6 MB)\n",
            "\u001b[K     |████████████████████████████████| 5.6 MB 7.5 MB/s \n",
            "\u001b[?25hCollecting cryptography>=36.0.0\n",
            "  Downloading cryptography-37.0.4-cp36-abi3-manylinux_2_24_x86_64.whl (4.1 MB)\n",
            "\u001b[K     |████████████████████████████████| 4.1 MB 36.5 MB/s \n",
            "\u001b[?25hRequirement already satisfied: charset-normalizer>=2.0.0 in /usr/local/lib/python3.7/dist-packages (from pdfminer.six) (2.1.0)\n",
            "Requirement already satisfied: cffi>=1.12 in /usr/local/lib/python3.7/dist-packages (from cryptography>=36.0.0->pdfminer.six) (1.15.1)\n",
            "Requirement already satisfied: pycparser in /usr/local/lib/python3.7/dist-packages (from cffi>=1.12->cryptography>=36.0.0->pdfminer.six) (2.21)\n",
            "Installing collected packages: cryptography, pdfminer.six\n",
            "Successfully installed cryptography-37.0.4 pdfminer.six-20220524\n"
          ]
        }
      ]
    },
    {
      "cell_type": "code",
      "source": [
        "from pdfminer.high_level import extract_text\n",
        "text  = extract_text('AR_Finland_2021.pdf', 'rb')\n",
        "\n",
        "with open('/content/Example2.txt', 'w') as writefile:\n",
        "    writefile.write(text)"
      ],
      "metadata": {
        "id": "_OIrzK07vb4O"
      },
      "execution_count": null,
      "outputs": []
    },
    {
      "cell_type": "markdown",
      "source": [
        "### Color my strings and numbers in the txt output"
      ],
      "metadata": {
        "id": "HnSpDv02yCaz"
      }
    },
    {
      "cell_type": "markdown",
      "source": [
        "To do"
      ],
      "metadata": {
        "id": "xHNpjmh1gVa3"
      }
    },
    {
      "cell_type": "markdown",
      "source": [
        "### Search for a word in the txt output"
      ],
      "metadata": {
        "id": "8hPfY_e0rhuX"
      }
    },
    {
      "cell_type": "code",
      "source": [
        "key_words=input(\"Enter a word:\")\n",
        "file=open(\"AR_Finland_2021.txt\", 'r')\n",
        "\n",
        "for line in file:\n",
        "  if key_words in line:\n",
        "    print(line)"
      ],
      "metadata": {
        "colab": {
          "base_uri": "https://localhost:8080/"
        },
        "id": "ktNSO6QPqK2x",
        "outputId": "c199f4b5-942e-463f-ae58-c07e3f401da8"
      },
      "execution_count": null,
      "outputs": [
        {
          "output_type": "stream",
          "name": "stdout",
          "text": [
            "Enter a word:disaster\n",
            "       Growing need for disaster response   ...................................................................................... 12 \n",
            "\n",
            "assistance in disasters and crises in accordance with its seven Fundamental Principles. The global ability of the Red \n",
            "\n",
            "The Finnish Red Cross helps people when disasters and accidents strike and trains them to be prepared for them. The \n",
            "\n",
            "• International disaster response and development cooperation\n",
            "\n",
            "tion focused on promoting health and disaster prepared -\n",
            "\n",
            "the growing number of climate change-related disasters.\n",
            "\n",
            "geted\tat\tdisaster-prone\tand\tfragile\tstates.\tConflicts\tin\t\n",
            "\n",
            "During the year, disaster response was targeted, among others, at the dire humanitarian crisis in Afghanistan. A midwife of the Afghan Red \n",
            "\n",
            "Growing need for disaster response \n",
            "\n",
            "In 2021, Finnish Red Cross disaster response was es -\n",
            "\n",
            "supports partner National Societies in disaster response operations and long-term development cooperation projects.TERJO AALTONENPage 13\n",
            "\n",
            "supported in disaster response operations and in long-\n",
            "\n",
            "for disaster response professionals.\n",
            "\n",
            "and as team leaders in disaster response operations.\n",
            "\n",
            "caused by natural disasters in the Philippines and Red \n",
            "\n",
            "focusing on natural disasters and preparing for them, \n",
            "\n"
          ]
        }
      ]
    },
    {
      "cell_type": "markdown",
      "source": [
        "### Read only a specific page in a PDF\n"
      ],
      "metadata": {
        "id": "xch1b9meLq5z"
      }
    },
    {
      "cell_type": "code",
      "source": [
        "pip install PyPDF"
      ],
      "metadata": {
        "colab": {
          "base_uri": "https://localhost:8080/"
        },
        "id": "N52vVaTcLx40",
        "outputId": "6006f07f-353e-44c3-9523-373a40bbd962"
      },
      "execution_count": null,
      "outputs": [
        {
          "output_type": "stream",
          "name": "stdout",
          "text": [
            "Looking in indexes: https://pypi.org/simple, https://us-python.pkg.dev/colab-wheels/public/simple/\n",
            "Collecting PyPDF\n",
            "  Downloading pyPdf-1.13.tar.gz (35 kB)\n",
            "Building wheels for collected packages: PyPDF\n",
            "  Building wheel for PyPDF (setup.py) ... \u001b[?25l\u001b[?25hdone\n",
            "  Created wheel for PyPDF: filename=pyPdf-1.13-py3-none-any.whl size=36499 sha256=c3f99bc0b1a1a2e29823d3111590fc172277a2eaf61299fd53b3f89db3b1780e\n",
            "  Stored in directory: /root/.cache/pip/wheels/e2/e4/5b/45ff55366ef8f906af3b0e39ba093b15ec850200a84dc7e441\n",
            "Successfully built PyPDF\n",
            "Installing collected packages: PyPDF\n",
            "Successfully installed PyPDF-1.13\n"
          ]
        }
      ]
    },
    {
      "cell_type": "markdown",
      "source": [
        "Extract a specific page"
      ],
      "metadata": {
        "id": "0wFVudGQM745"
      }
    },
    {
      "cell_type": "code",
      "source": [
        "#import the PyPDF2 module\n",
        "import PyPDF2\n",
        "\n",
        "#open the PDF file\n",
        "PDFfile = open('AR_Finland_2021.pdf', 'rb')\n",
        "\n",
        "PDFfilereader = PyPDF2.PdfFileReader(PDFfile)\n",
        "\n",
        "#print the number of pages\n",
        "print(PDFfilereader.numPages)\n",
        "\n",
        "#provide the page number\n",
        "pages = PDFfilereader.getPage(7)\n",
        "\n",
        "#extracting the text in PDF file\n",
        "print(pages.extractText())\n",
        "\n",
        "#close the PDF file\n",
        "PDFfile.close()"
      ],
      "metadata": {
        "colab": {
          "base_uri": "https://localhost:8080/"
        },
        "id": "k_aqkYJ6MuM2",
        "outputId": "bf28a361-a2d3-4f71-9465-6cf81dbd4062"
      },
      "execution_count": null,
      "outputs": [
        {
          "output_type": "stream",
          "name": "stdout",
          "text": [
            "42\n",
            "8Help is available locally\n",
            "Effective\taid\tin\tchanging\tFinland\n",
            "The year 2021 was characterised by coronavirus-relat -\n",
            "ed assistance duties. The Red Cross assisted municipal -\n",
            "ities, among others, in support tasks in the coronavirus \n",
            "vaccination campaign and in contact tracing. More than \n",
            "2,000 volunteers were involved in the duties. Coronavi -\n",
            "rus\tinformation\twas\talso\tcontinued\tto\tsupport\tpeople’s\t\n",
            "psychosocial resilience and to encourage people to get \n",
            "vaccinated.\n",
            "Other domestic assistance duties were related to, \n",
            "among\tothers,\tstructural\tfires\tand\twildfires,\taccidents,\t\n",
            "storms, water distribution as well as threatening and vi -\n",
            "olent situations. The Red Cross also had a strong involve -\n",
            "ment in the Afghanistan evacuations.\n",
            "The number of alerts through the Voluntary Res -\n",
            "cue Service was 364, with 2,571 persons assisted. FRC \n",
            "districts and branches provided relief in 185 sudden \n",
            "accidents\tin\tFinland,\tmost\tof\twhich\twere\tfires.\tThese\tas -\n",
            "sistance situations involved 91 FRC branches in almost \n",
            "all districts. The number of people assisted was 470. The number of people assisted was lower than the year before \n",
            "but the number of duties was higher.\n",
            "First\taid\tgroups\tand\tevent\tfirst\taid\twere\tactively\tde -\n",
            "veloped.\tThe\tguidelines\tprepared\tby\tthe\tevent\tfirst\taid\t\n",
            "quality guideline group were adopted in the Expert group \n",
            "for\tfirst\taid\tand\thealth\tactivities.\tThe\tordering\tsystem\tfor\t\n",
            "event\tfirst\taid\tprogressed\ttowards\tthe\tpilot\tphase.\n",
            "New Emergency Evacuation Centre (EEC) units \n",
            "were taken into use to improve the preparedness of local \n",
            "branches and alert groups. There are 14 EEC units in the \n",
            "region of 11 districts.\n",
            "Preparedness planning and gathering of the national \n",
            "situational picture were developed, among others, by dig -\n",
            "italising preparedness plans of FRC local branches and \n",
            "by promoting regional planning. The general part of the \n",
            "preparedness plan was updated and planning was har -\n",
            "monised together with the districts, Kontti chain and \n",
            "Blood Service. \n",
            "Volunteer Niusha Hemadi guided a client at the coronavirus vaccination point at Messukeskus in Helsinki. The Red Cross assisted \n",
            "municipalities, among others, in support duties in the vaccination campaign and in contact tracing.SAKARI PIIPPOEvents with first aid and persons assisted\n",
            "3317 3026 29161143 211113524 1483315164\n",
            "2754 3182\n",
            "0200040006000800010000120001400016000\n",
            "20172018201920202021Ensiapupäivystykset ja avunsaajat\n",
            "Päivystykset, Lähde:Hupsis Avunsaajat Events with first aid Persons assistedFirst aid groups and event first aiders\n",
            "251 233 2682224\n",
            "11431894\n",
            "05001000150020002500\n",
            "2019 2020 2 02 1* Lähde : H ups iksi sEnsiapuryhmät ja päivystäjien määrä\n",
            "Eu\u0012phv\u0014y\u0016ntpmu tiiyi eip\u0015\u0016\u0012\u0013iri\u0013 First aid groups Events first aiders Source: Hupsis\n"
          ]
        },
        {
          "output_type": "stream",
          "name": "stderr",
          "text": [
            "/usr/local/lib/python3.7/dist-packages/PyPDF2/_reader.py:1345: PdfReadWarning: Xref table not zero-indexed. ID numbers for objects will be corrected.\n",
            "  PdfReadWarning,\n"
          ]
        }
      ]
    },
    {
      "cell_type": "markdown",
      "source": [
        "### Identify pages where images are stored (error)"
      ],
      "metadata": {
        "id": "FOwRYWxrP9fT"
      }
    },
    {
      "cell_type": "markdown",
      "source": [
        "#### Option 1 (error)"
      ],
      "metadata": {
        "id": "AA8jN0YNwW9P"
      }
    },
    {
      "cell_type": "code",
      "source": [
        "pip install PyMuPDF Pillow"
      ],
      "metadata": {
        "colab": {
          "base_uri": "https://localhost:8080/"
        },
        "id": "2pc7NMifQBqG",
        "outputId": "f6bec1f4-938b-4a88-b2d8-b2b96e23fe53"
      },
      "execution_count": null,
      "outputs": [
        {
          "output_type": "stream",
          "name": "stdout",
          "text": [
            "Looking in indexes: https://pypi.org/simple, https://us-python.pkg.dev/colab-wheels/public/simple/\n",
            "Collecting PyMuPDF\n",
            "  Downloading PyMuPDF-1.20.1-cp37-cp37m-manylinux_2_17_x86_64.manylinux2014_x86_64.whl (8.8 MB)\n",
            "\u001b[K     |████████████████████████████████| 8.8 MB 3.6 MB/s \n",
            "\u001b[?25hRequirement already satisfied: Pillow in /usr/local/lib/python3.7/dist-packages (7.1.2)\n",
            "Installing collected packages: PyMuPDF\n",
            "Successfully installed PyMuPDF-1.20.1\n"
          ]
        }
      ]
    },
    {
      "cell_type": "code",
      "source": [
        "pip install PyMuPDF"
      ],
      "metadata": {
        "colab": {
          "base_uri": "https://localhost:8080/"
        },
        "id": "kL6nCyxNTokG",
        "outputId": "87168116-bfe5-49d0-c7de-8bcd242d92b1"
      },
      "execution_count": null,
      "outputs": [
        {
          "output_type": "stream",
          "name": "stdout",
          "text": [
            "Looking in indexes: https://pypi.org/simple, https://us-python.pkg.dev/colab-wheels/public/simple/\n",
            "Requirement already satisfied: PyMuPDF in /usr/local/lib/python3.7/dist-packages (1.20.1)\n"
          ]
        }
      ]
    },
    {
      "cell_type": "code",
      "source": [
        "pip install python-gettext"
      ],
      "metadata": {
        "colab": {
          "base_uri": "https://localhost:8080/"
        },
        "id": "eP0rtWIYXbVQ",
        "outputId": "87830877-b6b8-4c55-c52d-ea6d681fcbae"
      },
      "execution_count": null,
      "outputs": [
        {
          "output_type": "stream",
          "name": "stdout",
          "text": [
            "Looking in indexes: https://pypi.org/simple, https://us-python.pkg.dev/colab-wheels/public/simple/\n",
            "Collecting python-gettext\n",
            "  Downloading python-gettext-4.0.tar.gz (13 kB)\n",
            "Building wheels for collected packages: python-gettext\n",
            "  Building wheel for python-gettext (setup.py) ... \u001b[?25l\u001b[?25hdone\n",
            "  Created wheel for python-gettext: filename=python_gettext-4.0-py3-none-any.whl size=15679 sha256=63d9abf8bd7d531232cd1972f55a3eacbee92510a5c2607904685bc1fbb30e63\n",
            "  Stored in directory: /root/.cache/pip/wheels/d2/92/57/2a88b4997b119ed046b221f9fa555d43447131a73d3be5157b\n",
            "Successfully built python-gettext\n",
            "Installing collected packages: python-gettext\n",
            "Successfully installed python-gettext-4.0\n"
          ]
        }
      ]
    },
    {
      "cell_type": "markdown",
      "source": [
        "source: https://www.thepythoncode.com/article/extract-pdf-images-in-python"
      ],
      "metadata": {
        "id": "PlBFUG-0mg6q"
      }
    },
    {
      "cell_type": "code",
      "source": [
        "import fitz # PyMuPDF\n",
        "import io\n",
        "from PIL import Image"
      ],
      "metadata": {
        "id": "4ti5Z-iwlMmO"
      },
      "execution_count": null,
      "outputs": []
    },
    {
      "cell_type": "code",
      "source": [
        "# file path you want to extract images from\n",
        "file = \"AR_Finland_2021.pdf\"\n",
        "# open the file\n",
        "pdf_file = fitz.open(file)"
      ],
      "metadata": {
        "id": "tu5yJiCelSsz"
      },
      "execution_count": null,
      "outputs": []
    },
    {
      "cell_type": "code",
      "source": [
        "# iterate over PDF pages\n",
        "for page_index in range(len(pdf_file)):\n",
        "    # get the page itself\n",
        "    page = pdf_file[page_index]\n",
        "    image_list = page.getImageList()\n",
        "    # printing number of images found in this page\n",
        "    if image_list:\n",
        "        print(f\"[+] Found a total of {len(image_list)} images in page {page_index}\")\n",
        "    else:\n",
        "        print(\"[!] No images found on page\", page_index)\n",
        "    for image_index, img in enumerate(page.getImageList(), start=1):\n",
        "        # get the XREF of the image\n",
        "        xref = img[0]\n",
        "        # extract the image bytes\n",
        "        base_image = pdf_file.extractImage(xref)\n",
        "        image_bytes = base_image[\"image\"]\n",
        "        # get the image extension\n",
        "        image_ext = base_image[\"ext\"]\n",
        "        # load it to PIL\n",
        "        image = Image.open(io.BytesIO(image_bytes))\n",
        "        # save it to local disk\n",
        "        image.save(open(f\"image{page_index+1}_{image_index}.{image_ext}\", \"wb\"))"
      ],
      "metadata": {
        "colab": {
          "base_uri": "https://localhost:8080/",
          "height": 235
        },
        "id": "n3GHb5gOlaPh",
        "outputId": "ce8a951b-203a-41ae-aba2-71b3262a4d33"
      },
      "execution_count": null,
      "outputs": [
        {
          "output_type": "error",
          "ename": "AttributeError",
          "evalue": "ignored",
          "traceback": [
            "\u001b[0;31m---------------------------------------------------------------------------\u001b[0m",
            "\u001b[0;31mAttributeError\u001b[0m                            Traceback (most recent call last)",
            "\u001b[0;32m<ipython-input-14-52b69ebd484d>\u001b[0m in \u001b[0;36m<module>\u001b[0;34m()\u001b[0m\n\u001b[1;32m      3\u001b[0m     \u001b[0;31m# get the page itself\u001b[0m\u001b[0;34m\u001b[0m\u001b[0;34m\u001b[0m\u001b[0;34m\u001b[0m\u001b[0m\n\u001b[1;32m      4\u001b[0m     \u001b[0mpage\u001b[0m \u001b[0;34m=\u001b[0m \u001b[0mpdf_file\u001b[0m\u001b[0;34m[\u001b[0m\u001b[0mpage_index\u001b[0m\u001b[0;34m]\u001b[0m\u001b[0;34m\u001b[0m\u001b[0;34m\u001b[0m\u001b[0m\n\u001b[0;32m----> 5\u001b[0;31m     \u001b[0mimage_list\u001b[0m \u001b[0;34m=\u001b[0m \u001b[0mpage\u001b[0m\u001b[0;34m.\u001b[0m\u001b[0mgetImageList\u001b[0m\u001b[0;34m(\u001b[0m\u001b[0;34m)\u001b[0m\u001b[0;34m\u001b[0m\u001b[0;34m\u001b[0m\u001b[0m\n\u001b[0m\u001b[1;32m      6\u001b[0m     \u001b[0;31m# printing number of images found in this page\u001b[0m\u001b[0;34m\u001b[0m\u001b[0;34m\u001b[0m\u001b[0;34m\u001b[0m\u001b[0m\n\u001b[1;32m      7\u001b[0m     \u001b[0;32mif\u001b[0m \u001b[0mimage_list\u001b[0m\u001b[0;34m:\u001b[0m\u001b[0;34m\u001b[0m\u001b[0;34m\u001b[0m\u001b[0m\n",
            "\u001b[0;31mAttributeError\u001b[0m: 'Page' object has no attribute 'getImageList'"
          ]
        }
      ]
    },
    {
      "cell_type": "code",
      "source": [
        "import fitz\n",
        "file = fitz.open('AR_Finland_2021.pdf')\n",
        "\n",
        "# extract text\n",
        "for pageNumber, page in enumerate(file.pages(), start=1):\n",
        "  text = page.get_text()\n",
        "  txt = open(f'report_Page_{pageNumber}.txt', 'a')\n",
        "  txt.writelines(text)\n",
        "  txt.close()\n",
        "\n",
        "  # extract image\n",
        "  for pageNumber, page in enumerate(file.pages(), start=1):\n",
        "    for imgNumber, img in enumerate(page_get_image(List()), start=1):\n",
        "\n",
        "      xref = img[0]\n",
        "      \n",
        "      pix=fitzPixmap(file, xref)\n",
        "\n",
        "      if pix.n > 4:\n",
        "        pix = fitz.Pixmap(fitz.csRGB, pix)\n",
        "\n",
        "      pix.writePNG(f'image_Page{pageNumber}_{imgNumber}.png')"
      ],
      "metadata": {
        "colab": {
          "base_uri": "https://localhost:8080/",
          "height": 235
        },
        "id": "kW8nUlewT5aA",
        "outputId": "e13c3031-dc52-4432-df8f-2a3aa5da4734"
      },
      "execution_count": null,
      "outputs": [
        {
          "output_type": "error",
          "ename": "NameError",
          "evalue": "ignored",
          "traceback": [
            "\u001b[0;31m---------------------------------------------------------------------------\u001b[0m",
            "\u001b[0;31mNameError\u001b[0m                                 Traceback (most recent call last)",
            "\u001b[0;32m<ipython-input-31-0d850b104f82>\u001b[0m in \u001b[0;36m<module>\u001b[0;34m()\u001b[0m\n\u001b[1;32m     11\u001b[0m   \u001b[0;31m# extract image\u001b[0m\u001b[0;34m\u001b[0m\u001b[0;34m\u001b[0m\u001b[0;34m\u001b[0m\u001b[0m\n\u001b[1;32m     12\u001b[0m   \u001b[0;32mfor\u001b[0m \u001b[0mpageNumber\u001b[0m\u001b[0;34m,\u001b[0m \u001b[0mpage\u001b[0m \u001b[0;32min\u001b[0m \u001b[0menumerate\u001b[0m\u001b[0;34m(\u001b[0m\u001b[0mfile\u001b[0m\u001b[0;34m.\u001b[0m\u001b[0mpages\u001b[0m\u001b[0;34m(\u001b[0m\u001b[0;34m)\u001b[0m\u001b[0;34m,\u001b[0m \u001b[0mstart\u001b[0m\u001b[0;34m=\u001b[0m\u001b[0;36m1\u001b[0m\u001b[0;34m)\u001b[0m\u001b[0;34m:\u001b[0m\u001b[0;34m\u001b[0m\u001b[0;34m\u001b[0m\u001b[0m\n\u001b[0;32m---> 13\u001b[0;31m     \u001b[0;32mfor\u001b[0m \u001b[0mimgNumber\u001b[0m\u001b[0;34m,\u001b[0m \u001b[0mimg\u001b[0m \u001b[0;32min\u001b[0m \u001b[0menumerate\u001b[0m\u001b[0;34m(\u001b[0m\u001b[0mpage_get_image\u001b[0m\u001b[0;34m(\u001b[0m\u001b[0mList\u001b[0m\u001b[0;34m(\u001b[0m\u001b[0;34m)\u001b[0m\u001b[0;34m)\u001b[0m\u001b[0;34m,\u001b[0m \u001b[0mstart\u001b[0m\u001b[0;34m=\u001b[0m\u001b[0;36m1\u001b[0m\u001b[0;34m)\u001b[0m\u001b[0;34m:\u001b[0m\u001b[0;34m\u001b[0m\u001b[0;34m\u001b[0m\u001b[0m\n\u001b[0m\u001b[1;32m     14\u001b[0m \u001b[0;34m\u001b[0m\u001b[0m\n\u001b[1;32m     15\u001b[0m       \u001b[0mxref\u001b[0m \u001b[0;34m=\u001b[0m \u001b[0mimg\u001b[0m\u001b[0;34m[\u001b[0m\u001b[0;36m0\u001b[0m\u001b[0;34m]\u001b[0m\u001b[0;34m\u001b[0m\u001b[0;34m\u001b[0m\u001b[0m\n",
            "\u001b[0;31mNameError\u001b[0m: name 'page_get_image' is not defined"
          ]
        }
      ]
    },
    {
      "cell_type": "markdown",
      "source": [
        "### Extract images from PDF"
      ],
      "metadata": {
        "id": "WoVokXvZwaZe"
      }
    },
    {
      "cell_type": "markdown",
      "source": [
        "https://likegeeks.com/python-pdf/"
      ],
      "metadata": {
        "id": "FGzDUEhlT_M_"
      }
    },
    {
      "cell_type": "code",
      "source": [
        "import fitz\n",
        "\n",
        "import io\n",
        "\n",
        "from PIL import Image\n",
        "\n",
        "file_in_pdf_format = fitz.open(\"AR_Finland_2021.pdf\")\n",
        "\n",
        "for page_number in range(len(file_in_pdf_format)):\n",
        "\n",
        "    page = file_in_pdf_format[page_number]\n",
        "\n",
        "    img_list = page.get_images()\n",
        "\n",
        "    if len(img_list) == 0:\n",
        "        \n",
        "        print(\"There is no image on page \", page_number)\n",
        "\n",
        "        pass\n",
        "\n",
        "    for img_index, img in enumerate(page.get_images(), start=1):\n",
        "        \n",
        "        xref = img[0]\n",
        "\n",
        "        base_img = file_in_pdf_format.extract_image(xref)\n",
        "\n",
        "        img_bytes = base_img[\"image\"]\n",
        "\n",
        "        img_ext = base_img[\"ext\"]\n",
        "\n",
        "        image = Image.open(io.BytesIO(img_bytes))\n",
        "\n",
        "        image.save(open(f\"image{page_number + 1}_{img_index}.{img_ext}\", \"wb\"))"
      ],
      "metadata": {
        "colab": {
          "base_uri": "https://localhost:8080/"
        },
        "id": "R0_nhHj5wcG9",
        "outputId": "c947595f-8c56-44da-ec02-6ba87397cc0f"
      },
      "execution_count": null,
      "outputs": [
        {
          "output_type": "stream",
          "name": "stdout",
          "text": [
            "There is no image on page  1\n",
            "There is no image on page  2\n",
            "There is no image on page  3\n",
            "There is no image on page  4\n",
            "There is no image on page  5\n",
            "There is no image on page  25\n",
            "There is no image on page  28\n",
            "There is no image on page  29\n",
            "There is no image on page  31\n",
            "There is no image on page  32\n",
            "There is no image on page  33\n",
            "There is no image on page  34\n",
            "There is no image on page  35\n",
            "There is no image on page  36\n",
            "There is no image on page  37\n",
            "There is no image on page  38\n",
            "There is no image on page  39\n",
            "There is no image on page  40\n",
            "There is no image on page  41\n"
          ]
        }
      ]
    },
    {
      "cell_type": "markdown",
      "source": [
        "### Highlight strings in a PDF (best solution so far)"
      ],
      "metadata": {
        "id": "Hmcj4X49SWY1"
      }
    },
    {
      "cell_type": "markdown",
      "source": [
        "#### Option 1 (error)"
      ],
      "metadata": {
        "id": "YQj-9U6LaQsB"
      }
    },
    {
      "cell_type": "markdown",
      "source": [
        "https://likegeeks.com/python-pdf/#cerber-recaptcha-msg"
      ],
      "metadata": {
        "id": "n464rLMKYpkT"
      }
    },
    {
      "cell_type": "code",
      "source": [
        "pip install pyPDF2"
      ],
      "metadata": {
        "colab": {
          "base_uri": "https://localhost:8080/"
        },
        "id": "VhEj38LMV7ru",
        "outputId": "b226eda7-2a40-4211-e0ac-5350dc091640"
      },
      "execution_count": null,
      "outputs": [
        {
          "output_type": "stream",
          "name": "stdout",
          "text": [
            "Looking in indexes: https://pypi.org/simple, https://us-python.pkg.dev/colab-wheels/public/simple/\n",
            "Requirement already satisfied: pyPDF2 in /usr/local/lib/python3.7/dist-packages (2.8.1)\n",
            "Requirement already satisfied: typing-extensions in /usr/local/lib/python3.7/dist-packages (from pyPDF2) (4.1.1)\n"
          ]
        }
      ]
    },
    {
      "cell_type": "code",
      "source": [
        "pip install PDFrw"
      ],
      "metadata": {
        "colab": {
          "base_uri": "https://localhost:8080/"
        },
        "id": "m_WErakEV_a9",
        "outputId": "2f5ee2ce-d3c4-4274-d187-17f0b02b33cd"
      },
      "execution_count": null,
      "outputs": [
        {
          "output_type": "stream",
          "name": "stdout",
          "text": [
            "Looking in indexes: https://pypi.org/simple, https://us-python.pkg.dev/colab-wheels/public/simple/\n",
            "Requirement already satisfied: PDFrw in /usr/local/lib/python3.7/dist-packages (0.4)\n"
          ]
        }
      ]
    },
    {
      "cell_type": "code",
      "source": [
        "pip install tabula-py"
      ],
      "metadata": {
        "colab": {
          "base_uri": "https://localhost:8080/"
        },
        "id": "PiWQGq7NWFCG",
        "outputId": "628fdca3-155a-42d2-8cd7-0ca7fcffd13d"
      },
      "execution_count": null,
      "outputs": [
        {
          "output_type": "stream",
          "name": "stdout",
          "text": [
            "Looking in indexes: https://pypi.org/simple, https://us-python.pkg.dev/colab-wheels/public/simple/\n",
            "Collecting tabula-py\n",
            "  Downloading tabula_py-2.4.0-py3-none-any.whl (12.0 MB)\n",
            "\u001b[K     |████████████████████████████████| 12.0 MB 4.3 MB/s \n",
            "\u001b[?25hCollecting distro\n",
            "  Downloading distro-1.7.0-py3-none-any.whl (20 kB)\n",
            "Requirement already satisfied: numpy in /usr/local/lib/python3.7/dist-packages (from tabula-py) (1.21.6)\n",
            "Requirement already satisfied: pandas>=0.25.3 in /usr/local/lib/python3.7/dist-packages (from tabula-py) (1.3.5)\n",
            "Requirement already satisfied: python-dateutil>=2.7.3 in /usr/local/lib/python3.7/dist-packages (from pandas>=0.25.3->tabula-py) (2.8.2)\n",
            "Requirement already satisfied: pytz>=2017.3 in /usr/local/lib/python3.7/dist-packages (from pandas>=0.25.3->tabula-py) (2022.1)\n",
            "Requirement already satisfied: six>=1.5 in /usr/local/lib/python3.7/dist-packages (from python-dateutil>=2.7.3->pandas>=0.25.3->tabula-py) (1.15.0)\n",
            "Installing collected packages: distro, tabula-py\n",
            "Successfully installed distro-1.7.0 tabula-py-2.4.0\n"
          ]
        }
      ]
    },
    {
      "cell_type": "code",
      "source": [
        "pip install poppler-utils"
      ],
      "metadata": {
        "colab": {
          "base_uri": "https://localhost:8080/"
        },
        "id": "0R6T_27DWNSt",
        "outputId": "248b6cd1-5f69-49f3-89a2-0b683423f58b"
      },
      "execution_count": null,
      "outputs": [
        {
          "output_type": "stream",
          "name": "stdout",
          "text": [
            "Looking in indexes: https://pypi.org/simple, https://us-python.pkg.dev/colab-wheels/public/simple/\n",
            "Collecting poppler-utils\n",
            "  Downloading poppler_utils-0.1.0-py3-none-any.whl (9.2 kB)\n",
            "Requirement already satisfied: Click>=7.0 in /usr/local/lib/python3.7/dist-packages (from poppler-utils) (7.1.2)\n",
            "Installing collected packages: poppler-utils\n",
            "Successfully installed poppler-utils-0.1.0\n"
          ]
        }
      ]
    },
    {
      "cell_type": "code",
      "source": [
        "pip install reportlab"
      ],
      "metadata": {
        "colab": {
          "base_uri": "https://localhost:8080/"
        },
        "id": "GdJ2X1WGWQI-",
        "outputId": "2c0c35ba-8e17-4669-f726-efa43fec50b9"
      },
      "execution_count": null,
      "outputs": [
        {
          "output_type": "stream",
          "name": "stdout",
          "text": [
            "Looking in indexes: https://pypi.org/simple, https://us-python.pkg.dev/colab-wheels/public/simple/\n",
            "Requirement already satisfied: reportlab in /usr/local/lib/python3.7/dist-packages (3.6.11)\n",
            "Requirement already satisfied: pillow>=9.0.0 in /usr/local/lib/python3.7/dist-packages (from reportlab) (9.2.0)\n"
          ]
        }
      ]
    },
    {
      "cell_type": "code",
      "source": [
        "import fitz\n",
        "\n",
        "pdf_file = fitz.open(\"AR_Finland_2021.pdf\")\n",
        "\n",
        "for page in pdf_file:\n",
        "\n",
        "    text_to_be_highlighted = \"blood\"\n",
        "\n",
        "    highlight = p.searchFor(text_to_be_highlighted)\n",
        "\n",
        "    for inst in highlight:\n",
        "\n",
        "        highlight = page.addHighlightAnnot(inst)\n",
        "\n",
        "        highlight.update()\n",
        "\n",
        "pdf_file.save(\"output.pdf\", garbage=4, deflate=True, clean=True)"
      ],
      "metadata": {
        "colab": {
          "base_uri": "https://localhost:8080/",
          "height": 235
        },
        "id": "9qP_M5bxSwNm",
        "outputId": "0577fabb-80e1-4c2f-a043-22cd3109a51e"
      },
      "execution_count": null,
      "outputs": [
        {
          "output_type": "error",
          "ename": "NameError",
          "evalue": "ignored",
          "traceback": [
            "\u001b[0;31m---------------------------------------------------------------------------\u001b[0m",
            "\u001b[0;31mNameError\u001b[0m                                 Traceback (most recent call last)",
            "\u001b[0;32m<ipython-input-34-c9913356e661>\u001b[0m in \u001b[0;36m<module>\u001b[0;34m()\u001b[0m\n\u001b[1;32m      7\u001b[0m     \u001b[0mtext_to_be_highlighted\u001b[0m \u001b[0;34m=\u001b[0m \u001b[0;34m\"blood\"\u001b[0m\u001b[0;34m\u001b[0m\u001b[0;34m\u001b[0m\u001b[0m\n\u001b[1;32m      8\u001b[0m \u001b[0;34m\u001b[0m\u001b[0m\n\u001b[0;32m----> 9\u001b[0;31m     \u001b[0mhighlight\u001b[0m \u001b[0;34m=\u001b[0m \u001b[0mp\u001b[0m\u001b[0;34m.\u001b[0m\u001b[0msearchFor\u001b[0m\u001b[0;34m(\u001b[0m\u001b[0mtext_to_be_highlighted\u001b[0m\u001b[0;34m)\u001b[0m\u001b[0;34m\u001b[0m\u001b[0;34m\u001b[0m\u001b[0m\n\u001b[0m\u001b[1;32m     10\u001b[0m \u001b[0;34m\u001b[0m\u001b[0m\n\u001b[1;32m     11\u001b[0m     \u001b[0;32mfor\u001b[0m \u001b[0minst\u001b[0m \u001b[0;32min\u001b[0m \u001b[0mhighlight\u001b[0m\u001b[0;34m:\u001b[0m\u001b[0;34m\u001b[0m\u001b[0;34m\u001b[0m\u001b[0m\n",
            "\u001b[0;31mNameError\u001b[0m: name 'p' is not defined"
          ]
        }
      ]
    },
    {
      "cell_type": "markdown",
      "source": [
        "#### Option 2"
      ],
      "metadata": {
        "id": "uMbXe6r5aS6P"
      }
    },
    {
      "cell_type": "markdown",
      "source": [
        "source: https://www.javatpoint.com/manipulating-pdf-using-python"
      ],
      "metadata": {
        "id": "-eAp65gMa5JQ"
      }
    },
    {
      "cell_type": "markdown",
      "source": [
        "my_text can have only one word at time : https://github.com/pymupdf/PyMuPDF/issues/475"
      ],
      "metadata": {
        "id": "abSJyIMLdvA5"
      }
    },
    {
      "cell_type": "code",
      "source": [
        "import fitz     \n",
        "# opening the pdf file  \n",
        "my_pdf = fitz.open(\"AR_Afghanistan_2019.pdf\")      \n",
        "# input text to be highlighted  \n",
        "my_text = \"blood\"  \n",
        "my_text1=\"aid\"  \n",
        "# iterating through pages for highlighting the input phrase  \n",
        "for n_page in my_pdf:  \n",
        "    matchWords = n_page.search_for(my_text) + n_page.search_for(my_text1)      \n",
        "    for word in matchWords:  \n",
        "        my_highlight = n_page.add_highlight_annot(word)  \n",
        "        my_highlight.update()     \n",
        "# saving the pdf file as highlighted.pdf  \n",
        "my_pdf.save(\"highlighted_text.pdf\")  "
      ],
      "metadata": {
        "id": "94J75esjaNrD"
      },
      "execution_count": null,
      "outputs": []
    },
    {
      "cell_type": "code",
      "source": [
        "import fitz    \n",
        "\n",
        "# opening the pdf file  \n",
        "my_pdf = fitz.open(\"AR_Afghanistan_2019.pdf\")\n",
        "  \n",
        "# input text to be highlighted  \n",
        "my_text = \"blood\"  \n",
        "my_text1=\"aid\"\n",
        "my_text2=\"first\"\n",
        "my_text3=\"governing\"\n",
        "my_text4=\"board\"\n",
        "my_text5=\"branches\"\n",
        "my_text6=\"districts\"\n",
        "my_text7=\"committees\"\n",
        "my_text8=\"staff\"\n",
        "my_text9=\"employees\"\n",
        "my_text11=\"paid\"\n",
        "my_text12=\"volunteers\"\n",
        "my_text13=\"patients\"\n",
        "my_text14=\"refugees\"\n",
        "my_text15=\"immigrants\"\n",
        "my_text16=\"international\"\n",
        "\n",
        "for i in range(0, 10):\n",
        "    # iterating through pages for highlighting the input phrase\n",
        "    for n_page in my_pdf:\n",
        "        matchWords = n_page.search_for(str(i)) + n_page.search_for(my_text) + n_page.search_for(my_text1)+ n_page.search_for(my_text2)+ n_page.search_for(my_text3)+ n_page.search_for(my_text4)+ n_page.search_for(my_text5)+ n_page.search_for(my_text6)+ n_page.search_for(my_text7)+ n_page.search_for(my_text8)+ n_page.search_for(my_text9)+ n_page.search_for(my_text11)+ n_page.search_for(my_text12)+ n_page.search_for(my_text13)+ n_page.search_for(my_text14)+ n_page.search_for(my_text15)+ n_page.search_for(my_text16)\n",
        "        # print(matchWords)\n",
        "        for word in matchWords:\n",
        "            my_highlight = n_page.add_highlight_annot(word)\n",
        "            my_highlight.update()\n",
        "\n",
        "        # saving the pdf file as highlighted.pdf\n",
        "    my_pdf.save(\"highlighted_text1.pdf\")"
      ],
      "metadata": {
        "id": "R5Fpgzoof22e"
      },
      "execution_count": null,
      "outputs": []
    },
    {
      "cell_type": "markdown",
      "source": [
        "#### Option 3 (best so far)"
      ],
      "metadata": {
        "id": "52YSDYrqvxYA"
      }
    },
    {
      "cell_type": "code",
      "source": [
        "import fitz     \n",
        "\n",
        "pdfIn = fitz.open(\"AR_Afghanistan_2019.pdf\")\n",
        "\n",
        "for i in range(0, 10):\n",
        "  for page in pdfIn:\n",
        "    print(page)\n",
        "    texts = [\"blood\",\"aid\",\"first\",\"governing\",\"board\",\"branches\",\"districts\",\"committees\",\"staff\",\"employees\",\"paid\",\"volunteers\",\"patients\",\"refugees\",\"immigrants\",\"international\"]\n",
        "    text_instances = [page.search_for(text) for text in texts] \n",
        "    text_instances = page.search_for(str(i))\n",
        "    # coordinates of each word found in PDF-page\n",
        "    print(text_instances)  \n",
        "\n",
        "    # iterate through each instance for highlighting\n",
        "    for inst in text_instances:\n",
        "        annot = page.add_highlight_annot(inst)\n",
        "        annot = page.add_rect_annot(inst)\n",
        "        \n",
        "        ## Adding comment to the highlighted text\n",
        "        info = annot.info\n",
        "        info[\"title\"] = \"word_diffs\"\n",
        "        info[\"content\"] = \"diffs\"\n",
        "        annot.set_info(info)\n",
        "        annot.update()\n",
        "\n",
        "\n",
        "# Saving the PDF Output\n",
        "# pdfIn.save(\"page-4_output.pdf\")\n",
        "my_pdf.save(\"highlight5.pdf\") "
      ],
      "metadata": {
        "colab": {
          "base_uri": "https://localhost:8080/"
        },
        "id": "pKiZ7leOvzHu",
        "outputId": "cd4ea880-71ca-430c-bd05-f6dc9be1c9db"
      },
      "execution_count": null,
      "outputs": [
        {
          "output_type": "stream",
          "name": "stdout",
          "text": [
            "page 0 of AR_Afghanistan_2019.pdf\n",
            "[]\n",
            "page 1 of AR_Afghanistan_2019.pdf\n",
            "[]\n",
            "page 2 of AR_Afghanistan_2019.pdf\n",
            "[]\n",
            "page 3 of AR_Afghanistan_2019.pdf\n",
            "[Rect(119.53999328613281, 121.50899505615234, 126.16506958007812, 134.01524353027344), Rect(660.8200073242188, 133.98898315429688, 667.445068359375, 146.49522399902344), Rect(337.3699951171875, 259.0589904785156, 343.9950866699219, 271.56524658203125), Rect(370.3699951171875, 271.53900146484375, 376.9950866699219, 284.0452575683594), Rect(588.18994140625, 296.4989929199219, 601.4149780273438, 309.0052490234375), Rect(654.0999755859375, 352.1990051269531, 660.7250366210938, 364.70526123046875), Rect(128.66000366210938, 352.1990051269531, 135.2850799560547, 364.70526123046875), Rect(152.5399932861328, 432.718994140625, 159.16506958007812, 445.2252502441406)]\n",
            "page 4 of AR_Afghanistan_2019.pdf\n",
            "[Rect(128.3000030517578, 162.78900146484375, 134.92507934570312, 175.2952423095703), Rect(134.90000915527344, 248.13897705078125, 141.52508544921875, 260.6452331542969), Rect(128.3000030517578, 357.2389831542969, 134.92507934570312, 369.7452392578125), Rect(469.1499938964844, 420.4789733886719, 475.77508544921875, 432.9852294921875), Rect(134.90000915527344, 476.4289855957031, 148.12509155273438, 488.93524169921875)]\n",
            "page 5 of AR_Afghanistan_2019.pdf\n",
            "[Rect(128.3000030517578, 102.5489730834961, 134.92507934570312, 115.05522155761719), Rect(121.69999694824219, 159.66897583007812, 128.3250732421875, 172.1752166748047), Rect(141.50001525878906, 159.66897583007812, 148.12509155273438, 172.1752166748047), Rect(316.1300048828125, 204.3389892578125, 322.7550964355469, 216.84523010253906), Rect(128.3000030517578, 241.65899658203125, 134.92507934570312, 254.1652374267578), Rect(128.3000030517578, 305.01898193359375, 134.92507934570312, 317.5252380371094), Rect(128.3000030517578, 362.0389709472656, 134.92507934570312, 374.54522705078125), Rect(128.3000030517578, 425.39898681640625, 134.92507934570312, 437.9052429199219), Rect(395.33001708984375, 470.0690002441406, 401.9551086425781, 482.57525634765625), Rect(128.3000030517578, 476.3089904785156, 134.92507934570312, 488.81524658203125), Rect(469.1499938964844, 508.3450012207031, 475.77508544921875, 520.8512573242188)]\n",
            "page 6 of AR_Afghanistan_2019.pdf\n",
            "[Rect(362.33001708984375, 90.0689926147461, 368.9551086425781, 102.57524108886719), Rect(128.3000030517578, 108.78899383544922, 134.92507934570312, 121.29524230957031), Rect(563.1099853515625, 140.94900512695312, 576.3350219726562, 153.4552459716797), Rect(556.5099487304688, 153.42898559570312, 576.3349609375, 165.9352264404297), Rect(302.92999267578125, 140.94900512695312, 309.5550842285156, 153.4552459716797), Rect(316.1300048828125, 140.94900512695312, 322.7550964355469, 153.4552459716797), Rect(203.89999389648438, 140.94900512695312, 217.1250762939453, 153.4552459716797), Rect(128.3000030517578, 165.90899658203125, 134.92507934570312, 178.4152374267578), Rect(289.7300109863281, 254.13897705078125, 296.3551025390625, 266.6452331542969), Rect(128.3000030517578, 260.3789978027344, 134.92507934570312, 272.88525390625), Rect(516.9099731445312, 367.3190002441406, 536.7349853515625, 379.82525634765625), Rect(362.3299865722656, 329.8789978027344, 368.955078125, 342.38525390625), Rect(250.10000610351562, 329.8789978027344, 256.72509765625, 342.38525390625), Rect(355.7300109863281, 342.3589782714844, 362.3551025390625, 354.865234375), Rect(368.92999267578125, 367.3190002441406, 382.15509033203125, 379.82525634765625), Rect(362.33001708984375, 379.7989807128906, 368.9551086425781, 392.30523681640625), Rect(115.0999984741211, 354.8389892578125, 121.7250747680664, 367.3452453613281), Rect(536.7099609375, 418.1990051269531, 543.3350219726562, 430.70526123046875), Rect(355.7300109863281, 456.5090026855469, 362.3551025390625, 469.0152587890625), Rect(217.10000610351562, 519.864990234375, 223.72508239746094, 532.3712768554688)]\n",
            "page 7 of AR_Afghanistan_2019.pdf\n",
            "[Rect(510.30999755859375, 127.50899505615234, 523.5350341796875, 140.01524353027344), Rect(401.92999267578125, 108.78899383544922, 415.15509033203125, 121.29524230957031), Rect(114.9800033569336, 121.26897430419922, 128.205078125, 133.7752227783203), Rect(134.78001403808594, 121.26897430419922, 148.00509643554688, 133.7752227783203), Rect(128.3000030517578, 172.14898681640625, 134.92507934570312, 184.6552276611328), Rect(469.1499938964844, 204.3389892578125, 475.77508544921875, 216.84523010253906), Rect(283.1300048828125, 266.6189880371094, 289.7550964355469, 279.125244140625), Rect(322.7300109863281, 279.0989990234375, 329.3551025390625, 291.6052551269531), Rect(415.1300048828125, 291.458984375, 428.3551025390625, 303.9652404785156), Rect(128.3000030517578, 254.13897705078125, 134.92507934570312, 266.6452331542969), Rect(302.9300231933594, 317.39898681640625, 309.55511474609375, 329.9052429199219), Rect(128.3000030517578, 329.8789978027344, 134.92507934570312, 342.38525390625), Rect(128.3000030517578, 355.7989807128906, 134.92507934570312, 368.30523681640625), Rect(283.1300048828125, 394.1990051269531, 289.7550964355469, 406.70526123046875), Rect(441.530029296875, 406.6789855957031, 448.1551208496094, 419.18524169921875), Rect(128.3000030517578, 394.1990051269531, 134.92507934570312, 406.70526123046875), Rect(289.7300109863281, 420.1189880371094, 296.3551025390625, 432.625244140625), Rect(128.3000030517578, 420.1189880371094, 134.92507934570312, 432.625244140625), Rect(375.530029296875, 520.824951171875, 382.1551208496094, 533.3312377929688), Rect(128.3000030517578, 471.02899169921875, 134.92507934570312, 483.5352478027344)]\n",
            "page 8 of AR_Afghanistan_2019.pdf\n",
            "[Rect(421.7300109863281, 89.10897064208984, 428.3551025390625, 101.61521911621094), Rect(469.1499938964844, 114.0689926147461, 475.77508544921875, 126.57524108886719), Rect(434.9300231933594, 126.5489730834961, 441.55511474609375, 139.0552215576172), Rect(549.9099731445312, 152.468994140625, 556.5350341796875, 164.97523498535156), Rect(250.10000610351562, 152.468994140625, 256.72509765625, 164.97523498535156), Rect(184.10000610351562, 164.8289794921875, 190.72508239746094, 177.33522033691406), Rect(375.5299987792969, 214.77899169921875, 382.15509033203125, 227.2852325439453), Rect(210.5, 214.77899169921875, 217.1250762939453, 227.2852325439453), Rect(316.1300048828125, 227.25900268554688, 322.7550964355469, 239.76524353027344), Rect(184.10000610351562, 239.61898803710938, 190.72508239746094, 252.12522888183594), Rect(342.5299987792969, 252.0989990234375, 349.15509033203125, 264.6052551269531), Rect(217.10000610351562, 252.0989990234375, 230.32508850097656, 264.6052551269531), Rect(349.1300048828125, 264.5789794921875, 355.7550964355469, 277.0852355957031), Rect(108.5, 214.77899169921875, 115.12507629394531, 227.2852325439453), Rect(243.5, 303.458984375, 250.1250762939453, 315.9652404785156), Rect(236.9000244140625, 315.958984375, 256.7251281738281, 328.4652404785156), Rect(128.3000030517578, 309.718994140625, 134.92507934570312, 322.2252502441406), Rect(329.33001708984375, 351.958984375, 349.1551208496094, 364.4652404785156), Rect(128.3000030517578, 358.1990051269531, 134.92507934570312, 370.70526123046875), Rect(128.3000030517578, 412.4389953613281, 134.92507934570312, 424.94525146484375), Rect(523.5099487304688, 463.3489685058594, 536.7349853515625, 475.855224609375), Rect(269.92999267578125, 450.8689880371094, 276.5550842285156, 463.375244140625), Rect(128.3000030517578, 475.8289794921875, 134.92507934570312, 488.3352355957031)]\n",
            "page 9 of AR_Afghanistan_2019.pdf\n",
            "[Rect(401.92999267578125, 64.14900970458984, 408.5550842285156, 76.65525817871094), Rect(128.3000030517578, 101.58898162841797, 134.92507934570312, 114.09523010253906), Rect(569.7099609375, 177.30899047851562, 589.5349731445312, 189.8152313232422), Rect(469.1499938964844, 189.81900024414062, 475.77508544921875, 202.3252410888672), Rect(362.33001708984375, 189.81900024414062, 382.1551208496094, 202.3252410888672), Rect(128.3000030517578, 177.30899047851562, 134.92507934570312, 189.8152313232422), Rect(128.3000030517578, 265.0589904785156, 134.92507934570312, 277.56524658203125), Rect(128.3000030517578, 403.6789855957031, 134.92507934570312, 416.18524169921875), Rect(128.3000030517578, 429.5989685058594, 134.92507934570312, 442.105224609375), Rect(128.3000030517578, 504.3849792480469, 134.92507934570312, 516.8912353515625)]\n",
            "page 10 of AR_Afghanistan_2019.pdf\n",
            "[Rect(128.3000030517578, 64.14900970458984, 134.92507934570312, 76.65525817871094), Rect(128.3000030517578, 102.5489730834961, 134.92507934570312, 115.05522155761719), Rect(128.3000030517578, 153.42898559570312, 134.92507934570312, 165.9352264404297), Rect(128.3000030517578, 216.69900512695312, 134.92507934570312, 229.2052459716797), Rect(469.1499938964844, 242.61898803710938, 475.77508544921875, 255.12522888183594), Rect(128.3000030517578, 403.4389953613281, 134.92507934570312, 415.94525146484375), Rect(128.3000030517578, 458.3089904785156, 134.92507934570312, 470.81524658203125), Rect(134.90000915527344, 509.1849670410156, 148.12509155273438, 521.6912231445312)]\n",
            "page 11 of AR_Afghanistan_2019.pdf\n",
            "[Rect(400.6099853515625, 551.2559814453125, 406.2054443359375, 562.2960205078125), Rect(128.3000030517578, 85.98897552490234, 134.92507934570312, 98.49522399902344), Rect(375.5299987792969, 164.8289794921875, 382.15509033203125, 177.33522033691406), Rect(128.3000030517578, 149.3489990234375, 134.92507934570312, 161.85523986816406), Rect(469.1499938964844, 190.77899169921875, 475.77508544921875, 203.2852325439453), Rect(462.54998779296875, 278.01898193359375, 469.1750793457031, 290.5252380371094), Rect(128.3000030517578, 237.5789794921875, 134.92507934570312, 250.08522033691406), Rect(312.4100036621094, 314.8789978027344, 319.03509521484375, 327.38525390625), Rect(134.90000915527344, 311.7590026855469, 141.52508544921875, 324.2652587890625)]\n",
            "page 12 of AR_Afghanistan_2019.pdf\n",
            "[Rect(530.7100219726562, 353.9989929199219, 537.3350830078125, 366.5052490234375), Rect(374.80999755859375, 429.3589782714844, 394.6351013183594, 441.865234375), Rect(339.5299987792969, 504.6249694824219, 346.15509033203125, 517.1312255859375)]\n",
            "page 13 of AR_Afghanistan_2019.pdf\n",
            "[Rect(463.6300048828125, 63.668968200683594, 470.2550964355469, 76.17521667480469), Rect(530.7099609375, 374.8789978027344, 537.3350219726562, 387.38525390625)]\n",
            "page 14 of AR_Afghanistan_2019.pdf\n",
            "[Rect(415.7300109863281, 63.668968200683594, 422.3551025390625, 76.17521667480469), Rect(404.2099914550781, 304.4189758300781, 410.8350830078125, 316.92523193359375), Rect(530.7099609375, 367.3190002441406, 537.3350219726562, 379.82525634765625)]\n",
            "page 15 of AR_Afghanistan_2019.pdf\n",
            "[Rect(317.69000244140625, 217.65899658203125, 324.3150939941406, 230.1652374267578), Rect(424.3699951171875, 305.3789978027344, 430.9950866699219, 317.88525390625), Rect(310.4900207519531, 305.3789978027344, 317.1151123046875, 317.88525390625), Rect(364.1300048828125, 317.8789978027344, 370.7550964355469, 330.38525390625), Rect(476.3500061035156, 355.3190002441406, 489.5751037597656, 367.82525634765625), Rect(425.33001708984375, 367.7989807128906, 431.9551086425781, 380.30523681640625), Rect(504.5500183105469, 518.304931640625, 511.17510986328125, 530.8112182617188), Rect(461.2300109863281, 530.7849731445312, 467.8551025390625, 543.291259765625)]\n",
            "page 16 of AR_Afghanistan_2019.pdf\n",
            "[Rect(478.1499938964844, 63.668968200683594, 491.3750915527344, 76.17521667480469), Rect(530.7099609375, 118.86898040771484, 537.3350219726562, 131.37522888183594), Rect(364.1300354003906, 118.86898040771484, 370.755126953125, 131.37522888183594), Rect(339.5299987792969, 229.17898559570312, 346.15509033203125, 241.6852264404297), Rect(429.530029296875, 241.65899658203125, 436.1551208496094, 254.1652374267578), Rect(316.9700012207031, 284.2590026855469, 323.5950927734375, 296.7652587890625), Rect(415.6099853515625, 389.27899169921875, 428.8350830078125, 401.7852478027344), Rect(403.1300048828125, 439.2289733886719, 409.7550964355469, 451.7352294921875), Rect(397.5182800292969, 476.5489807128906, 404.14337158203125, 489.05523681640625)]\n",
            "page 17 of AR_Afghanistan_2019.pdf\n",
            "[Rect(290.69000244140625, 63.668968200683594, 297.3150939941406, 76.17521667480469), Rect(428.80999755859375, 88.62899017333984, 435.4350891113281, 101.13523864746094), Rect(437.57000732421875, 138.42898559570312, 444.1950988769531, 150.9352264404297), Rect(497.95001220703125, 150.90899658203125, 504.5751037597656, 163.4152374267578), Rect(303.77001953125, 150.90899658203125, 310.3951110839844, 163.4152374267578), Rect(297.2900085449219, 175.86898803710938, 303.91510009765625, 188.37522888183594), Rect(397.6100158691406, 188.37899780273438, 404.235107421875, 200.88523864746094), Rect(491.3500061035156, 200.73898315429688, 504.5751037597656, 213.24522399902344), Rect(373.6100158691406, 200.73898315429688, 380.235107421875, 213.24522399902344), Rect(530.7099609375, 238.65899658203125, 537.3350219726562, 251.1652374267578), Rect(464.4700012207031, 263.6189880371094, 471.0950927734375, 276.125244140625), Rect(417.6500244140625, 276.0989990234375, 437.4751281738281, 288.6052551269531)]\n",
            "page 18 of AR_Afghanistan_2019.pdf\n",
            "[Rect(371.2099914550781, 173.94900512695312, 377.8350830078125, 186.4552459716797), Rect(391.010009765625, 173.94900512695312, 397.6351013183594, 186.4552459716797), Rect(290.69000244140625, 274.1789855957031, 297.3150939941406, 286.68524169921875), Rect(713.6199951171875, 387.8389892578125, 720.2450561523438, 400.3452453613281), Rect(348.77001953125, 387.8389892578125, 355.3951110839844, 400.3452453613281), Rect(348.77001953125, 438.2690124511719, 361.9951171875, 450.7752685546875), Rect(335.57000732421875, 476.1889953613281, 342.1950988769531, 488.69525146484375), Rect(355.3700256347656, 476.1889953613281, 361.9951171875, 488.69525146484375), Rect(621.3099975585938, 501.5090026855469, 634.5350341796875, 514.0152587890625)]\n",
            "page 19 of AR_Afghanistan_2019.pdf\n",
            "[Rect(591.1900024414062, 89.10897064208984, 597.8150634765625, 101.61521911621094), Rect(355.3699951171875, 82.86898040771484, 361.9950866699219, 95.37522888183594), Rect(713.6199951171875, 127.50899505615234, 720.2450561523438, 140.01524353027344), Rect(439.3699951171875, 152.468994140625, 445.9950866699219, 164.97523498535156), Rect(342.1700134277344, 246.93899536132812, 348.79510498046875, 259.44525146484375), Rect(707.02001953125, 266.13897705078125, 713.6450805664062, 278.6452331542969), Rect(348.77001953125, 290.97900390625, 361.9951171875, 303.4852600097656), Rect(713.6199951171875, 404.6390075683594, 720.2450561523438, 417.145263671875), Rect(371.45001220703125, 432.30999755859375, 377.04547119140625, 443.3500061035156)]\n",
            "page 20 of AR_Afghanistan_2019.pdf\n",
            "[Rect(713.6199951171875, 89.10897064208984, 720.2450561523438, 101.61521911621094)]\n",
            "page 21 of AR_Afghanistan_2019.pdf\n",
            "[Rect(400.6099853515625, 551.2559814453125, 406.2054443359375, 562.2960205078125), Rect(713.6199951171875, 110.10897064208984, 720.2450561523438, 122.61521911621094), Rect(607.2699584960938, 122.46898651123047, 627.094970703125, 134.97523498535156), Rect(628.8699340820312, 161.708984375, 635.4949951171875, 174.21522521972656), Rect(600.6699829101562, 199.65899658203125, 607.2950439453125, 212.1652374267578), Rect(642.8200073242188, 238.77899169921875, 649.445068359375, 251.2852325439453), Rect(520.2604370117188, 265.9700012207031, 537.00634765625, 277.010009765625), Rect(460.989990234375, 301.65899658203125, 467.6150817871094, 314.1652526855469), Rect(713.6199951171875, 427.3190002441406, 720.2450561523438, 439.82525634765625), Rect(656.97998046875, 504.9779357910156, 663.0929565429688, 516.0287475585938)]\n",
            "page 22 of AR_Afghanistan_2019.pdf\n",
            "[Rect(650.8599853515625, 65.58194732666016, 656.9729614257812, 76.63272857666016), Rect(707.02001953125, 77.9489974975586, 713.6450805664062, 90.45524597167969), Rect(707.02001953125, 128.3489990234375, 720.2450561523438, 140.85523986816406), Rect(589.6300048828125, 130.26193237304688, 595.7429809570312, 141.31271362304688), Rect(604.12548828125, 130.26193237304688, 610.2384643554688, 141.31271362304688), Rect(707.02001953125, 154.98898315429688, 713.6450805664062, 167.49522399902344), Rect(707.02001953125, 180.458984375, 713.6450805664062, 192.96522521972656), Rect(707.02001953125, 218.37899780273438, 713.6450805664062, 230.88523864746094), Rect(584.3499755859375, 232.77194213867188, 590.4629516601562, 243.82272338867188), Rect(707.02001953125, 245.13897705078125, 713.6450805664062, 257.6452331542969), Rect(656.97998046875, 259.4119567871094, 663.0929565429688, 270.4627380371094), Rect(585.3099975585938, 273.2119445800781, 597.54296875, 284.2627258300781), Rect(707.02001953125, 285.5789794921875, 713.6450805664062, 298.0852355957031), Rect(707.02001953125, 311.03900146484375, 720.2450561523438, 323.5452575683594), Rect(707.02001953125, 337.7989807128906, 713.6450805664062, 350.30523681640625), Rect(500.5899963378906, 339.7119445800781, 506.7029724121094, 350.7627258300781), Rect(524.82275390625, 339.7119445800781, 530.9357299804688, 350.7627258300781), Rect(557.5673217773438, 339.7119445800781, 563.6802978515625, 350.7627258300781), Rect(638.8599853515625, 378.3519592285156, 644.9729614257812, 389.4027404785156), Rect(707.02001953125, 403.1990051269531, 713.6450805664062, 415.70526123046875), Rect(620.3800048828125, 417.5919494628906, 626.4929809570312, 428.6427307128906), Rect(632.6123046875, 417.5919494628906, 638.7252807617188, 428.6427307128906), Rect(608.469970703125, 444.2619323730469, 614.5829467773438, 455.3127136230469), Rect(614.5900268554688, 458.06195068359375, 626.822998046875, 469.11273193359375), Rect(713.6199951171875, 482.90899658203125, 720.2450561523438, 495.4152526855469), Rect(574.75, 484.8219299316406, 580.8629760742188, 495.8727111816406)]\n",
            "page 23 of AR_Afghanistan_2019.pdf\n",
            "[Rect(490.1499938964844, 76.62899017333984, 496.77508544921875, 89.13523864746094), Rect(498.6700134277344, 140.8289794921875, 505.29510498046875, 153.33522033691406), Rect(713.6199951171875, 366.5989685058594, 720.2450561523438, 379.105224609375), Rect(460.989990234375, 366.5989685058594, 467.6150817871094, 379.105224609375), Rect(474.19000244140625, 366.5989685058594, 480.8150939941406, 379.105224609375), Rect(493.9900207519531, 379.0790100097656, 500.6151123046875, 391.58526611328125), Rect(708.219970703125, 477.26898193359375, 714.8450317382812, 489.7752380371094)]\n",
            "page 24 of AR_Afghanistan_2019.pdf\n",
            "[Rect(393.1700134277344, 63.668968200683594, 399.79510498046875, 76.17521667480469), Rect(333.7699890136719, 81.6689682006836, 340.39508056640625, 94.17521667480469), Rect(708.219970703125, 139.38897705078125, 714.8450317382812, 151.8952178955078), Rect(623.02001953125, 158.22900390625, 629.6450805664062, 170.73524475097656), Rect(701.6199951171875, 219.0989990234375, 708.2450561523438, 231.60523986816406), Rect(701.6199951171875, 235.05899047851562, 714.8450317382812, 247.5652313232422), Rect(701.6199951171875, 253.29898071289062, 708.2450561523438, 265.80523681640625), Rect(701.6199951171875, 269.6189880371094, 708.2450561523438, 282.125244140625), Rect(701.6199951171875, 292.2989807128906, 708.2450561523438, 304.80523681640625), Rect(577.989990234375, 292.2989807128906, 584.6150512695312, 304.80523681640625), Rect(701.6199951171875, 307.1990051269531, 708.2450561523438, 319.70526123046875), Rect(564.7899780273438, 307.1990051269531, 578.0150146484375, 319.70526123046875), Rect(701.6199951171875, 334.5589904785156, 708.2450561523438, 347.06524658203125), Rect(701.6199951171875, 378.1189880371094, 714.8450317382812, 390.625244140625), Rect(701.6199951171875, 403.4389953613281, 708.2450561523438, 415.94525146484375), Rect(701.6199951171875, 438.14898681640625, 708.2450561523438, 450.6552429199219), Rect(624.219970703125, 451.1089782714844, 630.8450317382812, 463.615234375), Rect(472.3900146484375, 451.1089782714844, 479.0151062011719, 463.615234375), Rect(708.219970703125, 464.0690002441406, 714.8450317382812, 476.57525634765625), Rect(419.57000732421875, 531.864990234375, 426.1950988769531, 544.3712768554688)]\n",
            "page 25 of AR_Afghanistan_2019.pdf\n",
            "[Rect(708.219970703125, 89.10897064208984, 714.8450317382812, 101.61521911621094), Rect(708.219970703125, 193.65899658203125, 714.8450317382812, 206.1652374267578), Rect(261.1400146484375, 220.89898681640625, 267.7651062011719, 233.4052276611328), Rect(708.219970703125, 306.718994140625, 714.8450317382812, 319.2252502441406), Rect(610.989990234375, 306.718994140625, 617.6150512695312, 319.2252502441406), Rect(552.1747436523438, 331.4048767089844, 557.6947631835938, 346.1322326660156), Rect(478.9900207519531, 371.7590026855469, 485.6151123046875, 384.2652587890625)]\n",
            "page 26 of AR_Afghanistan_2019.pdf\n",
            "[Rect(451.3700256347656, 194.37899780273438, 464.5951232910156, 206.88523864746094), Rect(477.7700500488281, 194.37899780273438, 497.59515380859375, 206.88523864746094), Rect(340.1300354003906, 232.53900146484375, 359.95513916015625, 245.0452423095703), Rect(340.1300354003906, 251.37899780273438, 346.755126953125, 263.88525390625), Rect(451.3700256347656, 289.2989807128906, 464.5951232910156, 301.80523681640625), Rect(477.7700500488281, 289.2989807128906, 497.59515380859375, 301.80523681640625), Rect(280.7300109863281, 290.6189880371094, 287.3551025390625, 303.125244140625), Rect(195.02000427246094, 289.2989807128906, 201.64508056640625, 301.80523681640625), Rect(464.570068359375, 351.5989685058594, 471.1951599121094, 364.105224609375), Rect(333.5300598144531, 351.5989685058594, 340.1551513671875, 364.105224609375), Rect(467.07977294921875, 412.2699890136719, 478.19525146484375, 423.30999755859375), Rect(480.9902038574219, 412.2699890136719, 497.6257019042969, 423.30999755859375), Rect(329.4197998046875, 412.2699890136719, 340.5352783203125, 423.30999755859375), Rect(343.3302307128906, 412.2699890136719, 359.9657287597656, 423.30999755859375), Rect(401.21002197265625, 452.1889953613281, 407.8351135253906, 464.69525146484375), Rect(315.98004150390625, 452.1889953613281, 322.6051330566406, 464.69525146484375)]\n",
            "page 27 of AR_Afghanistan_2019.pdf\n",
            "[Rect(562.3898315429688, 171.78900146484375, 569.014892578125, 184.2952423095703), Rect(405.77001953125, 333.2389831542969, 412.3951110839844, 345.7452392578125), Rect(303.77001953125, 333.1189880371094, 310.3951110839844, 345.625244140625), Rect(237.02001953125, 333.2389831542969, 243.6450958251953, 345.7452392578125), Rect(276.62005615234375, 333.2389831542969, 283.2451477050781, 345.7452392578125), Rect(97.94400024414062, 333.2389831542969, 104.56907653808594, 345.7452392578125), Rect(539.4699096679688, 499.708984375, 559.294921875, 512.2152099609375), Rect(565.8698120117188, 499.708984375, 585.69482421875, 512.2152099609375)]\n",
            "page 28 of AR_Afghanistan_2019.pdf\n",
            "[Rect(525.9099731445312, 91.98897552490234, 532.5350341796875, 104.49522399902344), Rect(386.92999267578125, 111.4289779663086, 393.5550842285156, 123.93522644042969), Rect(453.9100036621094, 130.14898681640625, 460.53509521484375, 142.6552276611328), Rect(545.7100219726562, 123.90898895263672, 552.3350830078125, 136.4152374267578), Rect(695.1400146484375, 130.14898681640625, 701.7650756835938, 142.6552276611328), Rect(729.8200073242188, 136.14898681640625, 736.445068359375, 148.6552276611328), Rect(386.92999267578125, 163.38897705078125, 393.5550842285156, 175.8952178955078), Rect(453.9100036621094, 182.01898193359375, 460.53509521484375, 194.5252227783203), Rect(545.7100219726562, 175.74899291992188, 552.3350830078125, 188.25523376464844), Rect(695.1400146484375, 182.01898193359375, 701.7650756835938, 194.5252227783203), Rect(729.8200073242188, 188.01898193359375, 736.445068359375, 200.5252227783203), Rect(749.6199340820312, 188.01898193359375, 756.2449951171875, 200.5252227783203), Rect(689.5090942382812, 344.8299865722656, 700.7918701171875, 350.80694580078125), Rect(689.5090942382812, 356.8299865722656, 700.7918701171875, 362.80694580078125), Rect(633.1090698242188, 347.8299865722656, 644.391845703125, 353.80694580078125), Rect(530.7191162109375, 356.8299865722656, 542.0018920898438, 362.80694580078125), Rect(300.6590881347656, 369.66998291015625, 311.94189453125, 375.6469421386719), Rect(300.6590881347656, 381.66998291015625, 311.94189453125, 387.6469421386719), Rect(129.86907958984375, 375.66998291015625, 141.1519012451172, 381.6469421386719), Rect(84.87307739257812, 366.66998291015625, 96.15589141845703, 372.6469421386719), Rect(84.87307739257812, 384.66998291015625, 96.15589141845703, 390.6469421386719), Rect(342.5390930175781, 381.19000244140625, 353.8218994140625, 387.1669616699219), Rect(171.3890838623047, 372.19000244140625, 182.67190551757812, 378.1669616699219), Rect(171.3890838623047, 390.19000244140625, 182.67190551757812, 396.1669616699219), Rect(43.569091796875, 384.19000244140625, 54.851905822753906, 390.1669616699219), Rect(704.0291137695312, 483.94000244140625, 715.3118896484375, 495.9169616699219), Rect(462.7991027832031, 505.5400085449219, 474.0819091796875, 511.5169677734375), Rect(438.4390869140625, 511.6600036621094, 449.7218933105469, 517.636962890625), Rect(311.819091796875, 511.6600036621094, 323.1018981933594, 517.636962890625), Rect(289.37908935546875, 505.6600036621094, 300.6618957519531, 511.636962890625), Rect(243.98907470703125, 508.6600036621094, 255.2718963623047, 514.636962890625), Rect(118.58908081054688, 517.6600341796875, 129.8719024658203, 523.6370239257812), Rect(95.31307983398438, 508.6600036621094, 106.59589385986328, 514.636962890625), Rect(72.60907745361328, 505.6600036621094, 83.89189147949219, 511.636962890625)]\n",
            "page 29 of AR_Afghanistan_2019.pdf\n",
            "[Rect(707.0199584960938, 55.868980407714844, 713.64501953125, 68.37522888183594), Rect(588.5499877929688, 217.05899047851562, 595.175048828125, 229.5652313232422), Rect(559.8699951171875, 217.05899047851562, 566.4950561523438, 229.5652313232422), Rect(403.7300109863281, 217.05899047851562, 410.3551025390625, 229.5652313232422), Rect(373.1300048828125, 217.05899047851562, 379.7550964355469, 229.5652313232422), Rect(108.26000213623047, 217.05899047851562, 114.88507843017578, 229.5652313232422), Rect(673.8999633789062, 238.29898071289062, 680.5250244140625, 250.8052215576172), Rect(373.1300048828125, 238.29898071289062, 379.7550964355469, 250.8052215576172), Rect(108.26000213623047, 238.29898071289062, 114.88507843017578, 250.8052215576172), Rect(373.1300048828125, 255.69900512695312, 379.7550964355469, 268.20526123046875), Rect(108.26000213623047, 255.69900512695312, 114.88507843017578, 268.20526123046875), Rect(403.7300109863281, 273.0989990234375, 410.3551025390625, 285.6052551269531), Rect(373.1300048828125, 273.0989990234375, 379.7550964355469, 285.6052551269531), Rect(108.26000213623047, 273.0989990234375, 114.88507843017578, 285.6052551269531), Rect(458.4700012207031, 290.6189880371094, 465.0950927734375, 303.125244140625), Rect(427.7300109863281, 290.6189880371094, 434.3551025390625, 303.125244140625), Rect(373.1300048828125, 290.6189880371094, 379.7550964355469, 303.125244140625), Rect(108.26000213623047, 290.6189880371094, 114.88507843017578, 303.125244140625), Rect(615.9099731445312, 308.03900146484375, 622.5350341796875, 320.5452575683594), Rect(373.1300048828125, 308.03900146484375, 379.7550964355469, 320.5452575683594), Rect(193.5800018310547, 308.03900146484375, 200.205078125, 320.5452575683594), Rect(162.97999572753906, 308.03900146484375, 169.60507202148438, 320.5452575683594), Rect(108.26000213623047, 308.03900146484375, 114.88507843017578, 320.5452575683594), Rect(615.9099731445312, 325.4389953613281, 622.5350341796875, 337.94525146484375), Rect(458.4700012207031, 325.4389953613281, 465.0950927734375, 337.94525146484375), Rect(427.7300109863281, 325.4389953613281, 434.3551025390625, 337.94525146484375), Rect(373.1300048828125, 325.4389953613281, 379.7550964355469, 337.94525146484375), Rect(108.26000213623047, 325.4389953613281, 114.88507843017578, 337.94525146484375), Rect(646.6599731445312, 342.8389892578125, 653.2850341796875, 355.3452453613281), Rect(615.9099731445312, 342.8389892578125, 622.5350341796875, 355.3452453613281), Rect(108.26000213623047, 342.8389892578125, 114.88507843017578, 355.3452453613281), Rect(701.3800048828125, 360.2389831542969, 708.0050659179688, 372.7452392578125), Rect(615.9099731445312, 360.2389831542969, 622.5350341796875, 372.7452392578125), Rect(403.7300109863281, 360.2389831542969, 410.3551025390625, 372.7452392578125), Rect(373.1300048828125, 360.2389831542969, 379.7550964355469, 372.7452392578125), Rect(615.9099731445312, 377.7590026855469, 622.5350341796875, 390.2652587890625), Rect(373.1300048828125, 377.7590026855469, 379.7550964355469, 390.2652587890625), Rect(108.26000213623047, 377.7590026855469, 114.88507843017578, 390.2652587890625), Rect(615.9099731445312, 395.15899658203125, 622.5350341796875, 407.6652526855469), Rect(373.1300048828125, 395.15899658203125, 379.7550964355469, 407.6652526855469), Rect(646.6599731445312, 415.5589904785156, 653.2850341796875, 428.06524658203125), Rect(615.9099731445312, 415.5589904785156, 622.5350341796875, 428.06524658203125), Rect(403.7300109863281, 415.5589904785156, 410.3551025390625, 428.06524658203125), Rect(373.1300048828125, 415.5589904785156, 379.7550964355469, 428.06524658203125), Rect(212.3000030517578, 475.5889892578125, 225.52508544921875, 488.0952453613281), Rect(529.75, 482.0690002441406, 536.3750610351562, 494.57525634765625), Rect(505.75, 482.0690002441406, 512.3750610351562, 494.57525634765625), Rect(263.6600036621094, 482.0690002441406, 270.28509521484375, 494.57525634765625), Rect(276.8600158691406, 482.0690002441406, 283.485107421875, 494.57525634765625)]\n",
            "page 30 of AR_Afghanistan_2019.pdf\n",
            "[Rect(602.591064453125, 77.54000854492188, 608.1865234375, 88.58000946044922), Rect(661.2603149414062, 107.29998779296875, 666.8557739257812, 118.3399887084961), Rect(651.450439453125, 137.17999267578125, 657.0458984375, 148.21998596191406), Rect(662.5913696289062, 181.85000610351562, 668.1868286132812, 192.88999938964844), Rect(129.2212677001953, 77.54000854492188, 134.81674194335938, 88.58000946044922), Rect(282.2804260253906, 140.89999389648438, 287.8758850097656, 151.9399871826172), Rect(285.0404357910156, 156.739990234375, 290.6358947753906, 167.7799835205078), Rect(330.2829895019531, 428.3500061035156, 334.8445129394531, 437.3500061035156), Rect(51.404998779296875, 410.17999267578125, 55.966522216796875, 419.17999267578125), Rect(58.236000061035156, 410.17999267578125, 71.92352294921875, 419.17999267578125), Rect(46.845001220703125, 381.33001708984375, 55.96952438354492, 390.33001708984375), Rect(58.2390022277832, 381.33001708984375, 71.92652893066406, 390.33001708984375), Rect(51.40800094604492, 352.47998046875, 55.96952438354492, 361.47998046875), Rect(58.2390022277832, 352.47998046875, 71.92652893066406, 361.47998046875), Rect(46.845001220703125, 323.6300048828125, 55.96952438354492, 332.6300048828125), Rect(58.2390022277832, 323.6300048828125, 71.92652893066406, 332.6300048828125), Rect(51.40800094604492, 294.7900085449219, 55.96952438354492, 303.7900085449219), Rect(58.2390022277832, 294.7900085449219, 71.92652893066406, 303.7900085449219), Rect(46.845001220703125, 265.9599914550781, 55.96952438354492, 274.9599914550781), Rect(58.2390022277832, 265.9599914550781, 71.92652893066406, 274.9599914550781), Rect(51.40800094604492, 237.1099853515625, 55.96952438354492, 246.1099853515625), Rect(58.2390022277832, 237.1099853515625, 71.92652893066406, 246.1099853515625), Rect(46.845001220703125, 208.26998901367188, 55.96952438354492, 217.26998901367188), Rect(58.2390022277832, 208.26998901367188, 71.92652893066406, 217.26998901367188), Rect(236.58998107910156, 180.010009765625, 243.70596313476562, 194.0500030517578), Rect(580.8109741210938, 350.53997802734375, 585.3724975585938, 359.53997802734375), Rect(486.5259704589844, 432.5, 491.0874938964844, 441.5), Rect(510.9649353027344, 322.1499938964844, 515.5264892578125, 331.1499938964844), Rect(608.8799438476562, 244.95001220703125, 615.9959106445312, 258.9900207519531)]\n",
            "page 31 of AR_Afghanistan_2019.pdf\n",
            "[Rect(380.4499816894531, 551.2559814453125, 386.0454406738281, 562.2960205078125), Rect(423.04998779296875, 95.25, 427.61151123046875, 104.25), Rect(467.2999572753906, 115.4620132446289, 471.8736572265625, 124.48600769042969), Rect(529.6799926757812, 166.510009765625, 534.2415161132812, 175.510009765625), Rect(521.5, 210.760009765625, 526.0615234375, 219.760009765625), Rect(525.1900024414062, 261.760009765625, 534.3115234375, 270.760009765625), Rect(516.8900146484375, 299.2699890136719, 526.0115356445312, 308.2699890136719), Rect(500.4998779296875, 338.2519836425781, 505.0735778808594, 347.2760009765625), Rect(452.5, 378.03997802734375, 457.0615234375, 387.03997802734375), Rect(209.3300018310547, 277.5299987792969, 218.45152282714844, 286.5299987792969), Rect(222.13999938964844, 228.01998901367188, 226.70152282714844, 237.01998901367188), Rect(282.16998291015625, 125.989990234375, 286.73150634765625, 134.989990234375), Rect(312.0999450683594, 115.4620132446289, 316.67364501953125, 124.48600769042969), Rect(405.04998779296875, 90.739990234375, 409.61151123046875, 99.739990234375)]\n",
            "page 32 of AR_Afghanistan_2019.pdf\n",
            "[Rect(374.7985534667969, 100.42999267578125, 379.8466491699219, 110.3899917602539), Rect(501.42913818359375, 100.42999267578125, 506.47723388671875, 110.3899917602539), Rect(607.1297607421875, 100.42999267578125, 612.1778564453125, 110.3899917602539), Rect(698.8486938476562, 100.42999267578125, 703.8967895507812, 110.3899917602539), Rect(376.028564453125, 114.47000122070312, 381.07666015625, 124.43000030517578), Rect(360.86968994140625, 128.38998413085938, 365.91778564453125, 138.34999084472656), Rect(505.139404296875, 128.38998413085938, 515.2371826171875, 138.34999084472656), Rect(690.0894775390625, 128.38998413085938, 695.1375732421875, 138.34999084472656), Rect(353.3397216796875, 142.30999755859375, 358.3878173828125, 152.27000427246094), Rect(370.9788513183594, 142.30999755859375, 376.0269470214844, 152.27000427246094), Rect(492.5597229003906, 142.30999755859375, 497.6078186035156, 152.27000427246094), Rect(623.5892333984375, 142.30999755859375, 628.6373291015625, 152.27000427246094), Rect(497.60943603515625, 170.14999389648438, 502.65753173828125, 180.11000061035156), Rect(621.0692138671875, 170.14999389648438, 626.1173095703125, 180.11000061035156), Rect(700.19873046875, 170.14999389648438, 705.246826171875, 180.11000061035156), Rect(501.4300231933594, 198.01998901367188, 506.4781188964844, 207.97999572753906), Rect(634.9675903320312, 212.42001342773438, 640.0156860351562, 222.38002014160156), Rect(61.16659164428711, 486.2619934082031, 70.28837585449219, 495.2860107421875), Rect(72.54585266113281, 486.2619934082031, 86.26986694335938, 495.2860107421875), Rect(56.63399887084961, 432.21002197265625, 70.32152557373047, 441.21002197265625), Rect(72.47400665283203, 432.21002197265625, 86.16153717041016, 441.21002197265625), Rect(61.196998596191406, 378.1099853515625, 70.32152557373047, 387.1099853515625), Rect(72.47400665283203, 378.1099853515625, 86.16153717041016, 387.1099853515625), Rect(56.63399887084961, 324.0199890136719, 70.32152557373047, 333.0199890136719), Rect(72.47400665283203, 324.0199890136719, 86.16153717041016, 333.0199890136719), Rect(61.196998596191406, 269.9200134277344, 70.32152557373047, 278.9200134277344), Rect(72.47400665283203, 269.9200134277344, 86.16153717041016, 278.9200134277344)]\n",
            "page 33 of AR_Afghanistan_2019.pdf\n",
            "[Rect(523.3900146484375, 46.920013427734375, 536.5586547851562, 59.8800163269043), Rect(457.9900207519531, 46.920013427734375, 464.5586242675781, 59.8800163269043)]\n",
            "page 34 of AR_Afghanistan_2019.pdf\n",
            "[Rect(141.0297088623047, 155.38998413085938, 146.07778930664062, 165.34999084472656), Rect(210.25039672851562, 154.22000122070312, 215.8458709716797, 165.25999450683594), Rect(144.45872497558594, 168.1400146484375, 150.05419921875, 179.1800079345703), Rect(207.4904022216797, 168.1400146484375, 213.08587646484375, 179.1800079345703), Rect(218.6407928466797, 168.1400146484375, 224.23626708984375, 179.1800079345703), Rect(328.8404235839844, 168.1400146484375, 334.4358825683594, 179.1800079345703), Rect(161.1511993408203, 182.08999633789062, 166.74667358398438, 193.12998962402344), Rect(224.27120971679688, 182.08999633789062, 229.86668395996094, 193.12998962402344), Rect(331.6004333496094, 182.08999633789062, 337.1958923339844, 193.12998962402344), Rect(499.44000244140625, 252.739990234375, 504.00152587890625, 261.739990234375), Rect(568.8699951171875, 223.02999877929688, 573.4315185546875, 232.02999877929688), Rect(701.9859619140625, 146.6099853515625, 706.5474853515625, 155.6099853515625), Rect(443.8599853515625, 281.4200134277344, 448.4215087890625, 290.4200134277344), Rect(430.1499938964844, 265.2699890136719, 448.3915100097656, 274.2699890136719), Rect(425.5899963378906, 249.1099853515625, 448.3915100097656, 258.1099853515625), Rect(430.1499938964844, 232.95999145507812, 448.3915100097656, 241.95999145507812), Rect(425.5899963378906, 216.80999755859375, 448.3915100097656, 225.80999755859375), Rect(430.1499938964844, 200.66000366210938, 448.3915100097656, 209.66000366210938), Rect(425.5899963378906, 184.510009765625, 448.3915100097656, 193.510009765625), Rect(430.1499938964844, 168.35000610351562, 448.3915100097656, 177.35000610351562), Rect(425.5899963378906, 152.20001220703125, 448.3915100097656, 161.20001220703125), Rect(204.84300231933594, 342.30999755859375, 209.40452575683594, 351.30999755859375), Rect(313.7030029296875, 335.7300109863281, 318.2645263671875, 344.7300109863281), Rect(207.12600708007812, 330.5199890136719, 211.68753051757812, 339.5199890136719), Rect(313.7030029296875, 307.94000244140625, 318.2645263671875, 316.94000244140625), Rect(322.8289794921875, 307.94000244140625, 327.3905029296875, 316.94000244140625), Rect(313.7030029296875, 249.95001220703125, 318.2645263671875, 258.95001220703125), Rect(35.97600173950195, 344.9200134277344, 40.53752517700195, 353.9200134277344), Rect(35.97600173950195, 322.2200012207031, 40.53752517700195, 331.2200012207031), Rect(35.97600173950195, 299.510009765625, 40.53752517700195, 308.510009765625), Rect(35.97600173950195, 276.80999755859375, 40.53752517700195, 285.80999755859375), Rect(35.97600173950195, 254.1300048828125, 40.53752517700195, 263.1300048828125), Rect(31.416000366210938, 231.42999267578125, 40.53752517700195, 240.42999267578125)]\n",
            "page 35 of AR_Afghanistan_2019.pdf\n",
            "[Rect(402.0404052734375, 33.959991455078125, 407.6358642578125, 44.9999885559082)]\n",
            "page 0 of AR_Afghanistan_2019.pdf\n",
            "[]\n",
            "page 1 of AR_Afghanistan_2019.pdf\n",
            "[]\n",
            "page 2 of AR_Afghanistan_2019.pdf\n",
            "[Rect(397.7300109863281, 551.2559814453125, 403.3254699707031, 562.2960205078125), Rect(696.7000122070312, 126.260009765625, 702.2954711914062, 137.3000030517578), Rect(252.6199951171875, 223.010009765625, 263.8554382324219, 234.0500030517578), Rect(258.2599792480469, 255.17001342773438, 263.8554382324219, 266.21002197265625), Rect(420.1700134277344, 286.4189758300781, 433.3951110839844, 298.92523193359375), Rect(439.9700012207031, 350.8789978027344, 446.5950927734375, 363.38525390625), Rect(354.1700134277344, 383.0389709472656, 360.79510498046875, 395.54522705078125), Rect(691.0599975585938, 416.2300109863281, 702.29541015625, 427.27001953125), Rect(691.0599975585938, 448.4200134277344, 702.29541015625, 459.46002197265625), Rect(691.0599975585938, 480.70001220703125, 696.6554565429688, 491.7400207519531), Rect(258.2599792480469, 480.70001220703125, 263.8554382324219, 491.7400207519531)]\n",
            "page 3 of AR_Afghanistan_2019.pdf\n",
            "[Rect(112.93999481201172, 121.50899505615234, 119.56507110595703, 134.01524353027344), Rect(700.4199829101562, 133.98898315429688, 707.0450439453125, 146.49522399902344), Rect(713.6199340820312, 133.98898315429688, 720.2449951171875, 146.49522399902344), Rect(409.9700012207031, 259.0589904785156, 416.5950927734375, 271.56524658203125), Rect(343.9700012207031, 259.0589904785156, 350.5950927734375, 271.56524658203125), Rect(376.9700012207031, 271.53900146484375, 383.5950927734375, 284.0452575683594), Rect(568.3900146484375, 296.4989929199219, 575.0150756835938, 309.0052490234375), Rect(108.86000061035156, 352.1990051269531, 115.48507690429688, 364.70526123046875), Rect(159.13999938964844, 432.718994140625, 165.76507568359375, 445.2252502441406)]\n",
            "page 4 of AR_Afghanistan_2019.pdf\n",
            "[Rect(134.90000915527344, 162.78900146484375, 148.12509155273438, 175.2952423095703), Rect(141.50001525878906, 248.13897705078125, 148.12509155273438, 260.6452331542969), Rect(250.10000610351562, 307.4389953613281, 256.72509765625, 319.94525146484375), Rect(263.3299865722656, 382.1990051269531, 269.955078125, 394.70526123046875), Rect(134.90000915527344, 357.2389831542969, 148.12509155273438, 369.7452392578125), Rect(115.0999984741211, 476.4289855957031, 121.7250747680664, 488.93524169921875)]\n",
            "page 5 of AR_Afghanistan_2019.pdf\n",
            "[Rect(134.90000915527344, 102.5489730834961, 148.12509155273438, 115.05522155761719), Rect(469.1499938964844, 128.468994140625, 475.77508544921875, 140.97523498535156), Rect(602.7100219726562, 216.69900512695312, 609.3350830078125, 229.2052459716797), Rect(322.7300109863281, 204.3389892578125, 335.9551086425781, 216.84523010253906), Rect(134.90000915527344, 241.65899658203125, 148.12509155273438, 254.1652374267578), Rect(134.90000915527344, 305.01898193359375, 148.12509155273438, 317.5252380371094), Rect(134.90000915527344, 362.0389709472656, 148.12509155273438, 374.54522705078125), Rect(134.90000915527344, 425.39898681640625, 148.12509155273438, 437.9052429199219), Rect(388.7300109863281, 470.0690002441406, 395.3551025390625, 482.57525634765625), Rect(134.90000915527344, 476.3089904785156, 148.12509155273438, 488.81524658203125), Rect(316.1300048828125, 520.824951171875, 322.7550964355469, 533.3312377929688), Rect(141.50001525878906, 520.824951171875, 148.12509155273438, 533.3312377929688)]\n",
            "page 6 of AR_Afghanistan_2019.pdf\n",
            "[Rect(134.90000915527344, 108.78899383544922, 148.12509155273438, 121.29524230957031), Rect(556.510009765625, 140.94900512695312, 563.1350708007812, 153.4552459716797), Rect(549.9099731445312, 153.42898559570312, 556.5350341796875, 165.9352264404297), Rect(469.1499938964844, 140.94900512695312, 475.77508544921875, 153.4552459716797), Rect(322.7300109863281, 140.94900512695312, 329.3551025390625, 153.4552459716797), Rect(289.7300109863281, 153.42898559570312, 302.9551086425781, 165.9352264404297), Rect(190.6999969482422, 153.42898559570312, 197.3250732421875, 165.9352264404297), Rect(203.90000915527344, 153.42898559570312, 210.52508544921875, 165.9352264404297), Rect(134.90000915527344, 165.90899658203125, 148.12509155273438, 178.4152374267578), Rect(283.1300048828125, 254.13897705078125, 289.7550964355469, 266.6452331542969), Rect(302.9300231933594, 254.13897705078125, 309.55511474609375, 266.6452331542969), Rect(316.1300354003906, 254.13897705078125, 322.755126953125, 266.6452331542969), Rect(302.92999267578125, 279.0989990234375, 309.5550842285156, 291.6052551269531), Rect(134.90000915527344, 260.3789978027344, 148.12509155273438, 272.88525390625), Rect(368.92999267578125, 329.8789978027344, 382.15509033203125, 342.38525390625), Rect(362.33001708984375, 342.3589782714844, 368.9551086425781, 354.865234375), Rect(296.33001708984375, 354.8389892578125, 302.9551086425781, 367.3452453613281), Rect(362.3299865722656, 367.3190002441406, 368.955078125, 379.82525634765625), Rect(355.7300109863281, 379.7989807128906, 362.3551025390625, 392.30523681640625), Rect(121.69999694824219, 354.8389892578125, 134.92507934570312, 367.3452453613281), Rect(141.50001525878906, 354.8389892578125, 148.12509155273438, 367.3452453613281), Rect(141.5, 411.958984375, 148.1250762939453, 424.4652404785156), Rect(441.5299987792969, 444.14898681640625, 448.15509033203125, 456.6552429199219), Rect(362.33001708984375, 456.5090026855469, 375.55511474609375, 469.0152587890625), Rect(141.3800048828125, 513.6249389648438, 148.0050811767578, 526.1312255859375)]\n",
            "page 7 of AR_Afghanistan_2019.pdf\n",
            "[Rect(134.90000915527344, 172.14898681640625, 148.12509155273438, 184.6552276611328), Rect(388.7300109863281, 266.6189880371094, 401.9551086425781, 279.125244140625), Rect(302.92999267578125, 279.0989990234375, 316.15509033203125, 291.6052551269531), Rect(441.530029296875, 291.458984375, 448.1551208496094, 303.9652404785156), Rect(134.90000915527344, 254.13897705078125, 148.12509155273438, 266.6452331542969), Rect(556.510009765625, 342.3589782714844, 563.1350708007812, 354.865234375), Rect(469.1499938964844, 317.39898681640625, 475.77508544921875, 329.9052429199219), Rect(269.92999267578125, 317.39898681640625, 276.5550842285156, 329.9052429199219), Rect(134.90000915527344, 329.8789978027344, 148.12509155273438, 342.38525390625), Rect(276.5299987792969, 355.7989807128906, 289.7550964355469, 368.30523681640625), Rect(134.90000915527344, 355.7989807128906, 148.12509155273438, 368.30523681640625), Rect(428.33001708984375, 406.6789855957031, 434.9551086425781, 419.18524169921875), Rect(134.90000915527344, 394.1990051269531, 148.12509155273438, 406.70526123046875), Rect(283.1300048828125, 420.1189880371094, 289.7550964355469, 432.625244140625), Rect(309.530029296875, 420.1189880371094, 316.1551208496094, 432.625244140625), Rect(134.90000915527344, 420.1189880371094, 148.12509155273438, 432.625244140625), Rect(355.7300109863281, 471.02899169921875, 362.3551025390625, 483.5352478027344), Rect(349.1300048828125, 495.9889831542969, 355.7550964355469, 508.4952392578125), Rect(355.7300109863281, 520.824951171875, 362.3551025390625, 533.3312377929688), Rect(134.90000915527344, 471.02899169921875, 148.12509155273438, 483.5352478027344)]\n",
            "page 8 of AR_Afghanistan_2019.pdf\n",
            "[Rect(415.1300048828125, 89.10897064208984, 421.7550964355469, 101.61521911621094), Rect(428.33001708984375, 89.10897064208984, 434.9551086425781, 101.61521911621094), Rect(441.530029296875, 89.10897064208984, 448.1551208496094, 101.61521911621094), Rect(408.5299987792969, 126.5489730834961, 415.15509033203125, 139.0552215576172), Rect(428.33001708984375, 126.5489730834961, 434.9551086425781, 139.0552215576172), Rect(441.530029296875, 126.5489730834961, 448.1551208496094, 139.0552215576172), Rect(563.1099243164062, 152.468994140625, 576.3349609375, 164.97523498535156), Rect(368.92999267578125, 152.468994140625, 388.7550964355469, 164.97523498535156), Rect(256.70001220703125, 152.468994140625, 276.5251159667969, 164.97523498535156), Rect(190.70001220703125, 164.8289794921875, 210.5251007080078, 177.33522033691406), Rect(197.3000030517578, 202.29898071289062, 203.92507934570312, 214.8052215576172), Rect(382.1300048828125, 214.77899169921875, 388.7550964355469, 227.2852325439453), Rect(217.10000610351562, 214.77899169921875, 223.72508239746094, 227.2852325439453), Rect(441.5299987792969, 239.61898803710938, 448.15509033203125, 252.12522888183594), Rect(190.70001220703125, 239.61898803710938, 197.32508850097656, 252.12522888183594), Rect(335.92999267578125, 264.5789794921875, 349.15509033203125, 277.0852355957031), Rect(141.50001525878906, 214.77899169921875, 148.12509155273438, 227.2852325439453), Rect(469.1499938964844, 290.97900390625, 475.77508544921875, 303.4852600097656), Rect(217.10000610351562, 315.958984375, 223.72508239746094, 328.4652404785156), Rect(134.90000915527344, 309.718994140625, 148.12509155273438, 322.2252502441406), Rect(322.7300109863281, 351.958984375, 329.3551025390625, 364.4652404785156), Rect(134.90000915527344, 358.1990051269531, 148.12509155273438, 370.70526123046875), Rect(302.9300231933594, 387.5989685058594, 316.1551208496094, 400.105224609375), Rect(415.1300048828125, 424.9189758300781, 421.7550964355469, 437.42523193359375), Rect(134.90000915527344, 412.4389953613281, 148.12509155273438, 424.94525146484375), Rect(510.30999755859375, 463.3489685058594, 516.93505859375, 475.855224609375), Rect(283.1300048828125, 450.8689880371094, 296.3551025390625, 463.375244140625), Rect(134.90000915527344, 475.8289794921875, 148.12509155273438, 488.3352355957031)]\n",
            "page 9 of AR_Afghanistan_2019.pdf\n",
            "[Rect(415.1300048828125, 64.14900970458984, 421.7550964355469, 76.65525817871094), Rect(134.90000915527344, 101.58898162841797, 148.12509155273438, 114.09523010253906), Rect(516.9099731445312, 152.468994140625, 543.3349609375, 164.97523498535156), Rect(355.7300109863281, 164.8289794921875, 382.1551208496094, 177.33522033691406), Rect(134.90000915527344, 177.30899047851562, 148.12509155273438, 189.8152313232422), Rect(134.90000915527344, 265.0589904785156, 148.12509155273438, 277.56524658203125), Rect(576.3099975585938, 365.27899169921875, 582.93505859375, 377.7852478027344), Rect(469.1499938964844, 327.958984375, 475.77508544921875, 340.4652404785156), Rect(302.92999267578125, 416.15899658203125, 309.5550842285156, 428.6652526855469), Rect(134.90000915527344, 403.6789855957031, 148.12509155273438, 416.18524169921875), Rect(134.90000915527344, 429.5989685058594, 148.12509155273438, 442.105224609375), Rect(134.90000915527344, 504.3849792480469, 148.12509155273438, 516.8912353515625)]\n",
            "page 10 of AR_Afghanistan_2019.pdf\n",
            "[Rect(134.90000915527344, 64.14900970458984, 148.12509155273438, 76.65525817871094), Rect(134.90000915527344, 102.5489730834961, 148.12509155273438, 115.05522155761719), Rect(134.90000915527344, 153.42898559570312, 148.12509155273438, 165.9352264404297), Rect(134.90000915527344, 216.69900512695312, 148.12509155273438, 229.2052459716797), Rect(141.5, 242.61898803710938, 148.1250762939453, 255.12522888183594), Rect(141.5, 293.4989929199219, 148.1250762939453, 306.0052490234375), Rect(469.1499938964844, 331.9189758300781, 475.77508544921875, 344.42523193359375), Rect(141.5, 331.9189758300781, 148.1250762939453, 344.42523193359375), Rect(141.5, 357.8389892578125, 148.1250762939453, 370.3452453613281), Rect(121.69999694824219, 403.4389953613281, 128.3250732421875, 415.94525146484375), Rect(134.90000915527344, 458.3089904785156, 148.12509155273438, 470.81524658203125), Rect(115.0999984741211, 509.1849670410156, 121.7250747680664, 521.6912231445312)]\n",
            "page 11 of AR_Afghanistan_2019.pdf\n",
            "[Rect(394.9700012207031, 551.2559814453125, 400.5654602050781, 562.2960205078125), Rect(713.6199951171875, 424.1990051269531, 720.2450561523438, 436.70526123046875), Rect(309.5299987792969, 64.14900970458984, 316.15509033203125, 76.65525817871094), Rect(134.90000915527344, 85.98897552490234, 148.12509155273438, 98.49522399902344), Rect(382.1300048828125, 164.8289794921875, 401.9551086425781, 177.33522033691406), Rect(134.90000915527344, 149.3489990234375, 148.12509155273438, 161.85523986816406), Rect(469.1499938964844, 240.69900512695312, 475.77508544921875, 253.2052459716797), Rect(134.90000915527344, 237.5789794921875, 148.12509155273438, 250.08522033691406), Rect(115.0999984741211, 311.7590026855469, 121.7250747680664, 324.2652587890625)]\n",
            "page 12 of AR_Afghanistan_2019.pdf\n",
            "[Rect(394.9700012207031, 551.2559814453125, 406.2054443359375, 562.2960205078125), Rect(313.1300048828125, 163.86898803710938, 319.7550964355469, 176.37522888183594), Rect(332.92999267578125, 189.3389892578125, 339.5550842285156, 201.84523010253906), Rect(365.9300231933594, 353.9989929199219, 379.1551208496094, 366.5052490234375), Rect(326.3299865722656, 391.4389953613281, 332.955078125, 403.94525146484375), Rect(368.2099914550781, 429.3589782714844, 374.8350830078125, 441.865234375), Rect(530.7100219726562, 466.708984375, 537.3350830078125, 479.2152404785156), Rect(352.7300109863281, 504.6249694824219, 365.9551086425781, 517.1312255859375)]\n",
            "page 13 of AR_Afghanistan_2019.pdf\n",
            "[Rect(394.9700012207031, 551.2559814453125, 400.5654602050781, 562.2960205078125), Rect(476.83001708984375, 63.668968200683594, 483.4551086425781, 76.17521667480469), Rect(290.69000244140625, 277.0589904785156, 297.3150939941406, 289.56524658203125), Rect(530.7099609375, 449.6689758300781, 537.3350219726562, 462.17523193359375)]\n",
            "page 14 of AR_Afghanistan_2019.pdf\n",
            "[Rect(394.9700012207031, 551.2559814453125, 400.5654602050781, 562.2960205078125), Rect(422.33001708984375, 63.668968200683594, 435.55511474609375, 76.17521667480469), Rect(397.6099853515625, 304.4189758300781, 404.2350769042969, 316.92523193359375), Rect(414.7699890136719, 422.39898681640625, 441.1950988769531, 434.9052429199219), Rect(530.7099609375, 447.3890075683594, 537.3350219726562, 459.895263671875), Rect(404.2099914550781, 447.3890075683594, 430.6351013183594, 459.895263671875)]\n",
            "page 15 of AR_Afghanistan_2019.pdf\n",
            "[Rect(394.9700012207031, 551.2559814453125, 400.5654602050781, 562.2960205078125), Rect(386.5508117675781, 65.89999389648438, 392.1462707519531, 76.93999481201172), Rect(437.3299865722656, 93.5, 442.9254455566406, 104.54000091552734), Rect(311.0899963378906, 217.65899658203125, 317.715087890625, 230.1652374267578), Rect(330.8900146484375, 217.65899658203125, 337.5151062011719, 230.1652374267578), Rect(344.09002685546875, 217.65899658203125, 350.7151184082031, 230.1652374267578), Rect(476.8299865722656, 255.0989990234375, 483.455078125, 267.6052551269531), Rect(430.9700012207031, 305.3789978027344, 444.1950988769531, 317.88525390625), Rect(370.7300109863281, 317.8789978027344, 377.3551025390625, 330.38525390625), Rect(442.8500061035156, 342.8389892578125, 449.47509765625, 355.3452453613281), Rect(469.75, 355.3190002441406, 476.3750915527344, 367.82525634765625), Rect(418.7300109863281, 367.7989807128906, 425.3551025390625, 380.30523681640625), Rect(393.6499938964844, 505.8249816894531, 406.8750915527344, 518.3312377929688), Rect(441.42999267578125, 530.7849731445312, 454.65509033203125, 543.291259765625)]\n",
            "page 16 of AR_Afghanistan_2019.pdf\n",
            "[Rect(394.9700012207031, 551.2559814453125, 400.5654602050781, 562.2960205078125), Rect(504.5500183105469, 63.668968200683594, 511.17510986328125, 76.17521667480469), Rect(331.1300048828125, 118.86898040771484, 337.7550964355469, 131.37522888183594), Rect(333.2900085449219, 173.94900512695312, 346.5151062011719, 186.4552459716797), Rect(530.7099609375, 229.17898559570312, 537.3350219726562, 241.6852264404297), Rect(416.33001708984375, 241.65899658203125, 422.9551086425781, 254.1652374267578), Rect(310.3699951171875, 284.2590026855469, 316.9950866699219, 296.7652587890625), Rect(336.77001953125, 284.2590026855469, 343.3951110839844, 296.7652587890625), Rect(413.45001220703125, 339.47900390625, 420.0751037597656, 351.9852600097656), Rect(418.25, 364.4389953613281, 424.8750915527344, 376.94525146484375), Rect(435.4100036621094, 389.27899169921875, 442.03509521484375, 401.7852478027344), Rect(396.5299987792969, 439.2289733886719, 403.15509033203125, 451.7352294921875), Rect(409.7300109863281, 439.2289733886719, 416.3551025390625, 451.7352294921875), Rect(422.9300231933594, 439.2289733886719, 429.55511474609375, 451.7352294921875), Rect(371.2099914550781, 476.5489807128906, 377.8350830078125, 489.05523681640625), Rect(390.894287109375, 476.5489807128906, 397.5193786621094, 489.05523681640625), Rect(404.0981140136719, 476.5489807128906, 410.72320556640625, 489.05523681640625)]\n",
            "page 17 of AR_Afghanistan_2019.pdf\n",
            "[Rect(394.9700012207031, 551.2559814453125, 400.5654602050781, 562.2960205078125), Rect(424.4900207519531, 63.668968200683594, 444.31512451171875, 76.17521667480469), Rect(297.2900085449219, 63.668968200683594, 317.1151123046875, 76.17521667480469), Rect(435.4100036621094, 88.62899017333984, 455.235107421875, 101.13523864746094), Rect(297.1700134277344, 125.9489974975586, 303.79510498046875, 138.4552459716797), Rect(444.1700134277344, 138.42898559570312, 450.79510498046875, 150.9352264404297), Rect(504.5500183105469, 150.90899658203125, 511.17510986328125, 163.4152374267578), Rect(367.25, 163.38897705078125, 373.8750915527344, 175.8952178955078), Rect(303.8900146484375, 175.86898803710938, 310.5151062011719, 188.37522888183594), Rect(360.4100036621094, 200.73898315429688, 373.6351013183594, 213.24522399902344), Rect(397.8500061035156, 276.0989990234375, 404.47509765625, 288.6052551269531), Rect(530.7099609375, 406.4389953613281, 537.3350219726562, 418.94525146484375)]\n",
            "page 18 of AR_Afghanistan_2019.pdf\n",
            "[Rect(394.9700012207031, 551.2559814453125, 400.5654602050781, 562.2960205078125), Rect(377.80999755859375, 173.94900512695312, 391.03509521484375, 186.4552459716797), Rect(297.2900085449219, 274.1789855957031, 317.1151123046875, 286.68524169921875), Rect(577.989990234375, 400.3190002441406, 584.6150512695312, 412.82525634765625), Rect(355.3700256347656, 387.8389892578125, 361.9951171875, 400.3452453613281), Rect(328.9700012207031, 438.2690124511719, 335.5950927734375, 450.7752685546875), Rect(713.6199951171875, 463.708984375, 720.2450561523438, 476.2152404785156), Rect(328.9700012207031, 514.7049560546875, 342.1950988769531, 527.2112426757812), Rect(348.77001953125, 514.7049560546875, 361.9951171875, 527.2112426757812)]\n",
            "page 19 of AR_Afghanistan_2019.pdf\n",
            "[Rect(394.9700012207031, 551.2559814453125, 400.5654602050781, 562.2960205078125), Rect(355.3699951171875, 164.8289794921875, 361.9950866699219, 177.33522033691406), Rect(713.6199951171875, 215.25900268554688, 720.2450561523438, 227.76524353027344), Rect(591.1900024414062, 227.73898315429688, 597.8150634765625, 240.24522399902344), Rect(713.6199951171875, 240.69900512695312, 720.2450561523438, 253.2052459716797), Rect(335.57000732421875, 246.93899536132812, 342.1950988769531, 259.44525146484375), Rect(713.6199951171875, 266.13897705078125, 720.2450561523438, 278.6452331542969), Rect(328.9700012207031, 290.97900390625, 335.5950927734375, 303.4852600097656), Rect(370.3700256347656, 404.6390075683594, 376.9951171875, 417.145263671875)]\n",
            "page 20 of AR_Afghanistan_2019.pdf\n",
            "[Rect(394.9700012207031, 551.2559814453125, 400.5654602050781, 562.2960205078125), Rect(713.6199951171875, 152.468994140625, 720.2450561523438, 164.97523498535156)]\n",
            "page 21 of AR_Afghanistan_2019.pdf\n",
            "[Rect(713.6199951171875, 187.17898559570312, 720.2450561523438, 199.6852264404297), Rect(620.4699096679688, 199.65899658203125, 627.094970703125, 212.1652374267578), Rect(656.0199584960938, 238.77899169921875, 669.2449951171875, 251.2852325439453), Rect(474.19000244140625, 301.65899658203125, 487.41510009765625, 314.1652526855469), Rect(460.989990234375, 364.4389953613281, 487.41510009765625, 376.94525146484375), Rect(713.6199951171875, 452.6689758300781, 720.2450561523438, 465.17523193359375), Rect(713.6199951171875, 478.1089782714844, 720.2450561523438, 490.615234375)]\n",
            "page 22 of AR_Afghanistan_2019.pdf\n",
            "[Rect(400.6099853515625, 551.2559814453125, 406.2054443359375, 562.2960205078125), Rect(713.6199951171875, 77.9489974975586, 720.2450561523438, 90.45524597167969), Rect(610.2416381835938, 130.26193237304688, 616.3546142578125, 141.31271362304688), Rect(713.6199951171875, 180.458984375, 720.2450561523438, 192.96522521972656), Rect(603.6699829101562, 273.2119445800781, 609.782958984375, 284.2627258300781), Rect(713.6199951171875, 337.7989807128906, 720.2450561523438, 350.30523681640625), Rect(549.287353515625, 339.7119445800781, 555.4003295898438, 350.7627258300781), Rect(713.6199951171875, 403.1990051269531, 720.2450561523438, 415.70526123046875), Rect(713.6199951171875, 442.3489685058594, 720.2450561523438, 454.855224609375), Rect(602.3499755859375, 444.2619323730469, 608.4629516601562, 455.3127136230469)]\n",
            "page 23 of AR_Afghanistan_2019.pdf\n",
            "[Rect(713.6199951171875, 76.62899017333984, 720.2450561523438, 89.13523864746094), Rect(496.75, 76.62899017333984, 516.5750732421875, 89.13523864746094), Rect(547.6300048828125, 140.8289794921875, 554.2550659179688, 153.33522033691406), Rect(560.8299560546875, 140.8289794921875, 567.4550170898438, 153.33522033691406), Rect(492.07000732421875, 140.8289794921875, 498.6950988769531, 153.33522033691406), Rect(467.5899963378906, 366.5989685058594, 474.215087890625, 379.105224609375), Rect(480.7900085449219, 366.5989685058594, 487.41510009765625, 379.105224609375), Rect(500.59002685546875, 379.0790100097656, 507.2151184082031, 391.58526611328125), Rect(456.19000244140625, 442.468994140625, 469.41510009765625, 454.9752502441406), Rect(307.3700256347656, 463.9490051269531, 320.5951232910156, 476.45526123046875)]\n",
            "page 24 of AR_Afghanistan_2019.pdf\n",
            "[Rect(708.219970703125, 63.668968200683594, 714.8450317382812, 76.17521667480469), Rect(379.9700012207031, 63.668968200683594, 386.5950927734375, 76.17521667480469), Rect(320.57000732421875, 63.668968200683594, 327.1950988769531, 76.17521667480469), Rect(708.219970703125, 158.22900390625, 714.8450317382812, 170.73524475097656), Rect(708.219970703125, 188.49899291992188, 714.8450317382812, 201.00523376464844), Rect(708.219970703125, 219.0989990234375, 714.8450317382812, 231.60523986816406), Rect(708.219970703125, 269.6189880371094, 714.8450317382812, 282.125244140625), Rect(577.9899291992188, 307.1990051269531, 591.2149658203125, 319.70526123046875), Rect(485.5899963378906, 307.1990051269531, 498.8150939941406, 319.70526123046875), Rect(484.3900146484375, 348.958984375, 504.2151184082031, 361.4652404785156), Rect(708.219970703125, 403.4389953613281, 714.8450317382812, 415.94525146484375), Rect(708.219970703125, 438.14898681640625, 714.8450317382812, 450.6552429199219), Rect(708.219970703125, 451.1089782714844, 714.8450317382812, 463.615234375), Rect(708.219970703125, 492.26898193359375, 714.8450317382812, 504.7752380371094), Rect(444.54998779296875, 493.468994140625, 451.1750793457031, 505.9752502441406), Rect(588.0699462890625, 506.5450134277344, 594.6950073242188, 519.05126953125), Rect(239.3000030517578, 506.5450134277344, 252.52508544921875, 519.05126953125), Rect(591.1900024414062, 531.864990234375, 597.8150634765625, 544.3712768554688), Rect(340.3699951171875, 531.864990234375, 346.9950866699219, 544.3712768554688), Rect(353.57000732421875, 531.864990234375, 360.1950988769531, 544.3712768554688)]\n",
            "page 25 of AR_Afghanistan_2019.pdf\n",
            "[Rect(708.219970703125, 128.10897827148438, 714.8450317382812, 140.61521911621094), Rect(708.219970703125, 142.74899291992188, 714.8450317382812, 155.25523376464844), Rect(701.6199951171875, 168.18899536132812, 714.8450317382812, 180.6952362060547), Rect(701.6199951171875, 193.65899658203125, 708.2450561523438, 206.1652374267578), Rect(564.7899780273438, 193.65899658203125, 584.614990234375, 206.1652374267578), Rect(701.6199951171875, 207.3389892578125, 708.2450561523438, 219.84523010253906), Rect(406.3699951171875, 207.3389892578125, 426.1950988769531, 219.84523010253906), Rect(701.6199951171875, 220.89898681640625, 714.8450317382812, 233.4052276611328), Rect(155.5399932861328, 220.89898681640625, 162.16506958007812, 233.4052276611328), Rect(168.74000549316406, 220.89898681640625, 188.56509399414062, 233.4052276611328), Rect(701.6199951171875, 236.49899291992188, 708.2450561523438, 249.00523376464844), Rect(701.6199951171875, 250.77899169921875, 708.2450561523438, 263.2852478027344), Rect(701.6199951171875, 278.7389831542969, 708.2450561523438, 291.2452392578125), Rect(602.5899658203125, 278.7389831542969, 622.4149780273438, 291.2452392578125), Rect(701.6199951171875, 306.718994140625, 708.2450561523438, 319.2252502441406), Rect(617.5899658203125, 306.718994140625, 630.8150024414062, 319.2252502441406), Rect(701.6199951171875, 319.6789855957031, 714.8450317382812, 332.18524169921875), Rect(546.6547241210938, 331.4048767089844, 552.1747436523438, 346.1322326660156), Rect(564.0700073242188, 331.4048767089844, 569.5900268554688, 346.1322326660156), Rect(701.6199951171875, 346.4389953613281, 714.8450317382812, 358.94525146484375), Rect(708.219970703125, 371.7590026855469, 714.8450317382812, 384.2652587890625), Rect(465.7900085449219, 371.7590026855469, 472.41510009765625, 384.2652587890625)]\n",
            "page 26 of AR_Afghanistan_2019.pdf\n",
            "[Rect(475.989990234375, 105.1889877319336, 482.6150817871094, 117.69523620605469), Rect(307.1300354003906, 194.37899780273438, 313.755126953125, 206.88523864746094), Rect(313.7300109863281, 232.53900146484375, 320.3551025390625, 245.0452423095703), Rect(353.3300476074219, 251.37899780273438, 359.95513916015625, 263.88525390625), Rect(188.4199981689453, 289.2989807128906, 195.04507446289062, 301.80523681640625), Rect(708.219970703125, 330.958984375, 714.8450317382812, 343.4652404785156), Rect(461.4493713378906, 332.8299865722656, 467.0448303222656, 343.8699951171875), Rect(492.0302429199219, 332.8299865722656, 497.6257019042969, 343.8699951171875), Rect(323.7893981933594, 332.8299865722656, 329.3848571777344, 343.8699951171875), Rect(354.3702697753906, 332.8299865722656, 359.9657287597656, 343.8699951171875), Rect(457.9700622558594, 351.5989685058594, 464.59515380859375, 364.105224609375), Rect(326.9300537109375, 351.5989685058594, 333.5551452636719, 364.105224609375), Rect(398.57000732421875, 370.4389953613281, 405.1950988769531, 382.94525146484375), Rect(411.77001953125, 370.4389953613281, 418.3951110839844, 382.94525146484375), Rect(457.9700622558594, 370.4389953613281, 464.59515380859375, 382.94525146484375), Rect(260.8999938964844, 370.4389953613281, 267.52508544921875, 382.94525146484375), Rect(274.1000061035156, 370.4389953613281, 280.72509765625, 382.94525146484375), Rect(320.300048828125, 370.4389953613281, 326.9251403808594, 382.94525146484375), Rect(381.4100036621094, 452.1889953613281, 388.03509521484375, 464.69525146484375), Rect(249.97999572753906, 452.1889953613281, 256.6050720214844, 464.69525146484375)]\n",
            "page 27 of AR_Afghanistan_2019.pdf\n",
            "[Rect(376.9700012207031, 62.829002380371094, 383.5950927734375, 75.33525085449219), Rect(648.9400024414062, 141.18899536132812, 655.5650634765625, 153.6952362060547), Rect(390.4100341796875, 171.78900146484375, 397.0351257324219, 184.2952423095703), Rect(214.58006286621094, 171.78900146484375, 221.20513916015625, 184.2952423095703), Rect(481.0299987792969, 333.2389831542969, 487.65509033203125, 345.7452392578125), Rect(500.83001708984375, 333.2389831542969, 507.4551086425781, 345.7452392578125), Rect(297.1700134277344, 333.1189880371094, 303.79510498046875, 345.625244140625), Rect(217.22000122070312, 333.2389831542969, 223.84507751464844, 345.7452392578125), Rect(243.62002563476562, 333.2389831542969, 250.24510192871094, 345.7452392578125), Rect(576.7899780273438, 487.2289733886719, 583.4150390625, 499.7352294921875), Rect(616.3898315429688, 487.2289733886719, 623.014892578125, 499.7352294921875), Rect(136.3400115966797, 487.2289733886719, 142.965087890625, 499.7352294921875), Rect(149.54002380371094, 487.2289733886719, 156.16510009765625, 499.7352294921875), Rect(255.13999938964844, 499.708984375, 261.76507568359375, 512.2152099609375), Rect(281.5400085449219, 499.708984375, 288.16510009765625, 512.2152099609375)]\n",
            "page 28 of AR_Afghanistan_2019.pdf\n",
            "[Rect(202.82000732421875, 130.14898681640625, 209.44508361816406, 142.6552276611328), Rect(256.5799865722656, 130.14898681640625, 263.205078125, 142.6552276611328), Rect(320.2099914550781, 130.14898681640625, 326.8350830078125, 142.6552276611328), Rect(460.510009765625, 130.14898681640625, 467.1351013183594, 142.6552276611328), Rect(552.3099975585938, 123.90898895263672, 558.93505859375, 136.4152374267578), Rect(736.4199829101562, 136.14898681640625, 749.64501953125, 148.6552276611328), Rect(202.82000732421875, 182.01898193359375, 209.44508361816406, 194.5252227783203), Rect(256.5799865722656, 182.01898193359375, 263.205078125, 194.5252227783203), Rect(320.2099914550781, 182.01898193359375, 326.8350830078125, 194.5252227783203), Rect(460.510009765625, 182.01898193359375, 467.1351013183594, 194.5252227783203), Rect(552.3099975585938, 175.74899291992188, 558.93505859375, 188.25523376464844), Rect(736.4199829101562, 188.01898193359375, 749.64501953125, 200.5252227783203), Rect(729.6856079101562, 281.8099670410156, 738.79345703125, 286.634765625), Rect(689.5090942382812, 350.8299865722656, 700.7918701171875, 356.80694580078125), Rect(689.5090942382812, 362.8299865722656, 700.7918701171875, 368.80694580078125), Rect(633.1090698242188, 353.8299865722656, 644.391845703125, 365.80694580078125), Rect(530.7191162109375, 350.8299865722656, 542.0018920898438, 356.80694580078125), Rect(530.7191162109375, 362.8299865722656, 542.0018920898438, 368.80694580078125), Rect(475.0390930175781, 375.66998291015625, 486.3218994140625, 387.6469421386719), Rect(428.4591064453125, 381.66998291015625, 439.7419128417969, 387.6469421386719), Rect(255.6290740966797, 381.66998291015625, 266.9118957519531, 387.6469421386719), Rect(129.86907958984375, 369.66998291015625, 141.1519012451172, 375.6469421386719), Rect(84.87307739257812, 378.66998291015625, 96.15589141845703, 384.6469421386719), Rect(342.5390930175781, 375.19000244140625, 353.8218994140625, 381.1669616699219), Rect(171.3890838623047, 384.19000244140625, 182.67190551757812, 390.1669616699219), Rect(43.569087982177734, 378.19000244140625, 54.851905822753906, 384.1669616699219), Rect(43.569095611572266, 390.19000244140625, 54.85191345214844, 396.1669616699219), Rect(704.0291137695312, 477.94000244140625, 715.3118896484375, 483.9169616699219), Rect(545.2390747070312, 455.5, 556.5218505859375, 461.4769592285156), Rect(530.7191162109375, 502.6600036621094, 542.0018920898438, 508.636962890625), Rect(462.7991027832031, 511.5400085449219, 474.0819091796875, 517.5169677734375), Rect(289.37908935546875, 511.6600036621094, 300.6618957519531, 523.6370239257812), Rect(266.5791015625, 511.6600036621094, 277.8619079589844, 523.6370239257812), Rect(243.98907470703125, 514.6600341796875, 255.2718963623047, 520.6370239257812), Rect(171.3890838623047, 502.6600036621094, 182.67190551757812, 514.636962890625), Rect(118.58908081054688, 505.6600036621094, 129.8719024658203, 511.636962890625), Rect(95.31307983398438, 502.6600036621094, 106.59589385986328, 508.636962890625), Rect(72.60907745361328, 517.6600341796875, 83.89189147949219, 523.6370239257812), Rect(43.56908416748047, 502.6600036621094, 54.851898193359375, 508.636962890625)]\n",
            "page 29 of AR_Afghanistan_2019.pdf\n",
            "[Rect(700.4199829101562, 55.868980407714844, 707.0450439453125, 68.37522888183594), Rect(713.6199340820312, 55.868980407714844, 720.2449951171875, 68.37522888183594), Rect(475.0299987792969, 55.868980407714844, 481.65509033203125, 68.37522888183594), Rect(262.7300109863281, 49.608970642089844, 275.9551086425781, 62.1152229309082), Rect(667.2999877929688, 217.05899047851562, 673.925048828125, 229.5652313232422), Rect(451.8699951171875, 217.05899047851562, 458.4950866699219, 229.5652313232422), Rect(397.1300048828125, 217.05899047851562, 403.7550964355469, 229.5652313232422), Rect(186.97999572753906, 217.05899047851562, 193.60507202148438, 229.5652313232422), Rect(132.25999450683594, 217.05899047851562, 145.48507690429688, 229.5652313232422), Rect(451.8699951171875, 238.29898071289062, 458.4950866699219, 250.8052215576172), Rect(186.97999572753906, 238.29898071289062, 200.205078125, 250.8052215576172), Rect(162.97999572753906, 238.29898071289062, 169.60507202148438, 250.8052215576172), Rect(670.6599731445312, 255.69900512695312, 677.2850341796875, 268.20526123046875), Rect(646.6599731445312, 255.69900512695312, 653.2850341796875, 268.20526123046875), Rect(451.8699951171875, 255.69900512695312, 458.4950866699219, 268.20526123046875), Rect(397.1300048828125, 255.69900512695312, 403.7550964355469, 268.20526123046875), Rect(186.97999572753906, 255.69900512695312, 193.60507202148438, 268.20526123046875), Rect(132.25999450683594, 255.69900512695312, 145.48507690429688, 268.20526123046875), Rect(667.2999877929688, 273.0989990234375, 680.5250244140625, 285.6052551269531), Rect(451.8699951171875, 273.0989990234375, 458.4950866699219, 285.6052551269531), Rect(397.1300048828125, 273.0989990234375, 403.7550964355469, 285.6052551269531), Rect(186.97999572753906, 273.0989990234375, 193.60507202148438, 285.6052551269531), Rect(451.8699951171875, 290.6189880371094, 458.4950866699219, 303.125244140625), Rect(186.97999572753906, 290.6189880371094, 200.205078125, 303.125244140625), Rect(640.0599975585938, 308.03900146484375, 646.68505859375, 320.5452575683594), Rect(451.8699951171875, 308.03900146484375, 458.4950866699219, 320.5452575683594), Rect(427.7300109863281, 308.03900146484375, 434.3551025390625, 320.5452575683594), Rect(186.97999572753906, 308.03900146484375, 193.60507202148438, 320.5452575683594), Rect(694.780029296875, 325.4389953613281, 701.4050903320312, 337.94525146484375), Rect(640.0599975585938, 325.4389953613281, 653.2850341796875, 337.94525146484375), Rect(451.8699951171875, 325.4389953613281, 458.4950866699219, 337.94525146484375), Rect(186.97999572753906, 325.4389953613281, 193.60507202148438, 337.94525146484375), Rect(162.97999572753906, 325.4389953613281, 169.60507202148438, 337.94525146484375), Rect(694.780029296875, 342.8389892578125, 701.4050903320312, 355.3452453613281), Rect(640.0599975585938, 342.8389892578125, 646.68505859375, 355.3452453613281), Rect(451.8699951171875, 342.8389892578125, 465.0950927734375, 355.3452453613281), Rect(373.1300048828125, 342.8389892578125, 379.7550964355469, 355.3452453613281), Rect(694.780029296875, 360.2389831542969, 701.4050903320312, 372.7452392578125), Rect(451.8699951171875, 360.2389831542969, 458.4950866699219, 372.7452392578125), Rect(397.1300048828125, 360.2389831542969, 403.7550964355469, 372.7452392578125), Rect(186.97999572753906, 360.2389831542969, 193.60507202148438, 372.7452392578125), Rect(132.25999450683594, 360.2389831542969, 138.88507080078125, 372.7452392578125), Rect(108.26000213623047, 360.2389831542969, 114.88507843017578, 372.7452392578125), Rect(694.780029296875, 377.7590026855469, 701.4050903320312, 390.2652587890625), Rect(640.0599975585938, 377.7590026855469, 646.68505859375, 390.2652587890625), Rect(451.8699951171875, 377.7590026855469, 458.4950866699219, 390.2652587890625), Rect(186.97999572753906, 377.7590026855469, 193.60507202148438, 390.2652587890625), Rect(162.97999572753906, 377.7590026855469, 169.60507202148438, 390.2652587890625), Rect(694.780029296875, 395.15899658203125, 701.4050903320312, 407.6652526855469), Rect(451.8699951171875, 395.15899658203125, 458.4950866699219, 407.6652526855469), Rect(694.780029296875, 415.5589904785156, 701.4050903320312, 428.06524658203125), Rect(640.0599975585938, 415.5589904785156, 646.68505859375, 428.06524658203125), Rect(451.8699951171875, 415.5589904785156, 458.4950866699219, 428.06524658203125), Rect(397.1300048828125, 415.5589904785156, 403.7550964355469, 428.06524658203125), Rect(260.29998779296875, 469.1089782714844, 266.9250793457031, 481.615234375), Rect(225.50001525878906, 475.5889892578125, 238.72509765625, 488.0952453613281), Rect(492.54998779296875, 482.0690002441406, 499.1750793457031, 494.57525634765625), Rect(429.6499938964844, 482.0690002441406, 436.27508544921875, 494.57525634765625), Rect(257.05999755859375, 482.0690002441406, 263.6850891113281, 494.57525634765625)]\n",
            "page 30 of AR_Afghanistan_2019.pdf\n",
            "[Rect(609.7899780273438, 34.20001220703125, 615.8720092773438, 46.20001220703125), Rect(608.2214965820312, 77.54000854492188, 613.8169555664062, 88.58000946044922), Rect(627.8200073242188, 107.29998779296875, 633.4154663085938, 118.3399887084961), Rect(643.0504760742188, 122.29998779296875, 648.6459350585938, 133.33998107910156), Rect(662.5913696289062, 122.29998779296875, 668.1868286132812, 133.33998107910156), Rect(637.5399780273438, 137.17999267578125, 643.1354370117188, 148.21998596191406), Rect(640.4104614257812, 166.94000244140625, 646.0059204101562, 177.97999572753906), Rect(651.44091796875, 181.85000610351562, 657.036376953125, 192.88999938964844), Rect(631.9000244140625, 196.73001098632812, 643.1259155273438, 207.77000427246094), Rect(666.7898559570312, 211.73001098632812, 672.3853149414062, 222.77000427246094), Rect(134.85166931152344, 77.54000854492188, 140.4471435546875, 88.58000946044922), Rect(273.8900146484375, 109.22000122070312, 279.4854736328125, 120.26000213623047), Rect(287.8004455566406, 140.89999389648438, 293.3959045410156, 151.9399871826172), Rect(293.43084716796875, 156.739990234375, 299.02630615234375, 167.7799835205078), Rect(123.12000274658203, 428.7799987792969, 127.68152618408203, 437.7799987792969), Rect(334.8459777832031, 428.3500061035156, 339.4075012207031, 437.3500061035156), Rect(42.28200149536133, 381.33001708984375, 46.84352493286133, 390.33001708984375), Rect(42.28200149536133, 352.47998046875, 46.84352493286133, 361.47998046875), Rect(243.6699676513672, 180.010009765625, 250.78594970703125, 194.0500030517578), Rect(553.4600219726562, 350.53997802734375, 558.0215454101562, 359.53997802734375), Rect(519.5559692382812, 406.47998046875, 524.1174926757812, 415.47998046875), Rect(535.4949340820312, 406.47998046875, 540.0564575195312, 415.47998046875), Rect(475.1499938964844, 432.5, 479.7115173339844, 441.5), Rect(479.2129821777344, 336.3999938964844, 483.7745056152344, 345.3999938964844), Rect(501.8389587402344, 322.1499938964844, 506.4004821777344, 331.1499938964844), Rect(507.3399963378906, 314.3900146484375, 516.4644775390625, 323.3900146484375), Rect(615.9598999023438, 244.95001220703125, 623.0758666992188, 258.9900207519531)]\n",
            "page 31 of AR_Afghanistan_2019.pdf\n",
            "[Rect(423.04998779296875, 125.989990234375, 427.61151123046875, 134.989990234375), Rect(471.85992431640625, 115.4620132446289, 476.4336242675781, 124.48600769042969), Rect(483.239990234375, 154.510009765625, 487.801513671875, 163.510009765625), Rect(539.4500122070312, 147.72198486328125, 544.023681640625, 156.74598693847656), Rect(386.2300109863281, 392.29998779296875, 390.7915344238281, 401.29998779296875), Rect(399.9100036621094, 392.29998779296875, 404.4715270996094, 401.29998779296875), Rect(327.2198791503906, 367.5119934082031, 331.7935791015625, 376.5360107421875), Rect(257.9800109863281, 306.0019836425781, 262.5537109375, 315.0260009765625), Rect(204.77000427246094, 277.5299987792969, 209.33152770996094, 286.5299987792969), Rect(214.4600067138672, 150.760009765625, 219.0215301513672, 159.760009765625), Rect(236.22999572753906, 128.989990234375, 240.79151916503906, 137.989990234375), Rect(245.34999084472656, 128.989990234375, 249.91151428222656, 137.989990234375), Rect(273.04998779296875, 125.989990234375, 277.61151123046875, 134.989990234375), Rect(284.3999938964844, 111.739990234375, 288.9615173339844, 120.739990234375), Rect(327.739990234375, 131.25, 332.301513671875, 140.25), Rect(356.2300109863281, 120.739990234375, 360.7915344238281, 129.739990234375), Rect(357.739990234375, 91.47998046875, 362.301513671875, 100.47998046875), Rect(379.489990234375, 83.989990234375, 384.051513671875, 92.989990234375), Rect(206.05999755859375, 60.31072235107422, 214.48536682128906, 75.6395492553711)]\n",
            "page 32 of AR_Afghanistan_2019.pdf\n",
            "[Rect(380.4499816894531, 551.2559814453125, 386.0454406738281, 562.2960205078125), Rect(353.57000732421875, 86.54000854492188, 359.16546630859375, 97.58000946044922), Rect(492.7900085449219, 86.54000854492188, 498.3854675292969, 97.58000946044922), Rect(608.5900268554688, 86.54000854492188, 614.1854858398438, 97.58000946044922), Rect(677.6199951171875, 86.54000854492188, 683.2154541015625, 97.58000946044922), Rect(483.7900085449219, 100.42999267578125, 488.8381042480469, 110.3899917602539), Rect(668.6199951171875, 100.42999267578125, 673.6680908203125, 110.3899917602539), Rect(682.5595092773438, 114.47000122070312, 687.6076049804688, 124.43000030517578), Rect(700.19873046875, 114.47000122070312, 705.246826171875, 124.43000030517578), Rect(353.3299865722656, 128.38998413085938, 358.3780822753906, 138.34999084472656), Rect(370.9691162109375, 128.38998413085938, 376.0172119140625, 138.34999084472656), Rect(492.54998779296875, 128.38998413085938, 497.59808349609375, 138.34999084472656), Rect(608.469970703125, 128.38998413085938, 613.51806640625, 138.34999084472656), Rect(677.5, 128.38998413085938, 682.548095703125, 138.34999084472656), Rect(608.479736328125, 156.23001098632812, 613.52783203125, 166.1900177001953), Rect(680.0297241210938, 156.23001098632812, 685.0778198242188, 166.1900177001953), Rect(492.5597229003906, 170.14999389648438, 497.6078186035156, 180.11000061035156), Rect(515.2485961914062, 170.14999389648438, 520.2966918945312, 180.11000061035156), Rect(603.4299926757812, 170.14999389648438, 608.4780883789062, 180.11000061035156), Rect(690.0992431640625, 170.14999389648438, 695.1473388671875, 180.11000061035156), Rect(368.4491271972656, 184.10000610351562, 373.4972229003906, 194.0600128173828), Rect(487.510009765625, 184.10000610351562, 492.55810546875, 194.0600128173828), Rect(603.4299926757812, 184.10000610351562, 618.5775756835938, 194.0600128173828), Rect(672.4600219726562, 184.10000610351562, 682.557861328125, 194.0600128173828), Rect(506.47003173828125, 198.01998901367188, 511.51812744140625, 207.97999572753906), Rect(605.9500122070312, 198.01998901367188, 610.9981079101562, 207.97999572753906), Rect(357.0593566894531, 212.42001342773438, 362.1074523925781, 222.38002014160156), Rect(612.0794067382812, 212.42001342773438, 617.1275024414062, 222.38002014160156), Rect(624.7784423828125, 212.42001342773438, 629.8265380859375, 222.38002014160156), Rect(693.8084716796875, 212.42001342773438, 698.8565673828125, 222.38002014160156), Rect(49.79399871826172, 432.21002197265625, 54.35552215576172, 441.21002197265625), Rect(49.79399871826172, 378.1099853515625, 54.35552215576172, 387.1099853515625), Rect(688.9400024414062, 385.94000244140625, 693.5015258789062, 394.94000244140625), Rect(688.9400024414062, 402.80999755859375, 693.5015258789062, 411.80999755859375), Rect(688.9400024414062, 419.71002197265625, 693.5015258789062, 428.71002197265625), Rect(688.9400024414062, 436.58001708984375, 693.5015258789062, 445.58001708984375)]\n",
            "page 33 of AR_Afghanistan_2019.pdf\n",
            "[Rect(471.1900329589844, 46.920013427734375, 477.7586364746094, 59.8800163269043)]\n",
            "page 34 of AR_Afghanistan_2019.pdf\n",
            "[Rect(150.97999572753906, 126.3800048828125, 156.57546997070312, 137.4199981689453), Rect(211.6999969482422, 126.3800048828125, 217.29547119140625, 137.4199981689453), Rect(272.3299865722656, 126.3800048828125, 277.9254455566406, 137.4199981689453), Rect(335.45001220703125, 126.3800048828125, 341.04547119140625, 137.4199981689453), Rect(257.4200134277344, 140.29998779296875, 263.0154724121094, 151.33998107910156), Rect(265.8104248046875, 140.29998779296875, 276.9259033203125, 151.33998107910156), Rect(320.45001220703125, 140.29998779296875, 326.04547119140625, 151.33998107910156), Rect(199.10000610351562, 154.22000122070312, 204.6954803466797, 165.25999450683594), Rect(135.97999572753906, 168.1400146484375, 141.57546997070312, 179.1800079345703), Rect(257.4200134277344, 168.1400146484375, 263.0154724121094, 179.1800079345703), Rect(276.9608459472656, 168.1400146484375, 282.5563049316406, 179.1800079345703), Rect(334.3604431152344, 168.1400146484375, 339.9559020996094, 179.1800079345703), Rect(141.6103973388672, 182.08999633789062, 147.20587158203125, 193.12998962402344), Rect(155.5207977294922, 182.08999633789062, 161.11627197265625, 193.12998962402344), Rect(199.10000610351562, 182.08999633789062, 204.6954803466797, 193.12998962402344), Rect(339.9908447265625, 182.08999633789062, 345.5863037109375, 193.12998962402344), Rect(483.4800109863281, 268.9599914550781, 488.0415344238281, 277.9599914550781), Rect(555.1900024414062, 268.9599914550781, 559.7515258789062, 277.9599914550781), Rect(626.9000244140625, 268.9599914550781, 631.4615478515625, 277.9599914550781), Rect(698.6199951171875, 268.9599914550781, 703.1815185546875, 277.9599914550781), Rect(485.760009765625, 252.739990234375, 490.321533203125, 261.739990234375), Rect(494.8800048828125, 252.739990234375, 499.4415283203125, 261.739990234375), Rect(550.6300048828125, 223.02999877929688, 555.1915283203125, 232.02999877929688), Rect(708.7989501953125, 146.6099853515625, 713.3604736328125, 155.6099853515625), Rect(421.0299987792969, 249.1099853515625, 425.5915222167969, 258.1099853515625), Rect(421.0299987792969, 232.95999145507812, 425.5915222167969, 241.95999145507812), Rect(490.32000732421875, 293.1300048828125, 494.88153076171875, 302.1300048828125), Rect(567.030029296875, 345.4320068359375, 571.6036987304688, 354.4560241699219), Rect(306.8900146484375, 335.7300109863281, 311.4515380859375, 344.7300109863281), Rect(198.0, 330.5199890136719, 202.5615234375, 339.5199890136719), Rect(98.23200225830078, 301.70001220703125, 102.79352569580078, 310.70001220703125), Rect(105.04500579833984, 301.70001220703125, 114.1695327758789, 310.70001220703125), Rect(306.8900146484375, 278.9200134277344, 311.4515380859375, 287.9200134277344), Rect(322.8289794921875, 278.9200134277344, 327.3905029296875, 287.9200134277344), Rect(98.23200225830078, 256.2200012207031, 102.79352569580078, 265.2200012207031), Rect(318.2659912109375, 249.95001220703125, 322.8275146484375, 258.95001220703125), Rect(26.856000900268555, 231.42999267578125, 31.417524337768555, 240.42999267578125), Rect(145.0800018310547, 376.58001708984375, 149.6415252685547, 385.58001708984375), Rect(177.72000122070312, 376.58001708984375, 182.28152465820312, 385.58001708984375), Rect(210.33999633789062, 376.58001708984375, 214.90151977539062, 385.58001708984375), Rect(242.97999572753906, 376.58001708984375, 247.54151916503906, 385.58001708984375)]\n",
            "page 35 of AR_Afghanistan_2019.pdf\n",
            "[Rect(443.0804138183594, 33.959991455078125, 448.6758728027344, 44.9999885559082), Rect(413.1908264160156, 33.959991455078125, 418.7862854003906, 44.9999885559082)]\n",
            "page 0 of AR_Afghanistan_2019.pdf\n",
            "[]\n",
            "page 1 of AR_Afghanistan_2019.pdf\n",
            "[]\n",
            "page 2 of AR_Afghanistan_2019.pdf\n",
            "[Rect(252.6199951171875, 126.260009765625, 258.2154541015625, 137.3000030517578), Rect(696.7000122070312, 158.54000854492188, 702.2954711914062, 169.5800018310547), Rect(252.6199951171875, 158.54000854492188, 258.2154541015625, 169.5800018310547), Rect(252.6199951171875, 255.17001342773438, 258.2154541015625, 266.21002197265625), Rect(252.6199951171875, 287.3299865722656, 263.8554382324219, 298.3699951171875), Rect(252.6199951171875, 319.6300048828125, 258.2154541015625, 330.6700134277344), Rect(252.6199951171875, 351.7900085449219, 258.2154541015625, 362.83001708984375), Rect(591.7899780273438, 383.0389709472656, 598.4150390625, 395.54522705078125), Rect(252.6199951171875, 383.9499816894531, 258.2154541015625, 394.989990234375), Rect(252.6199951171875, 416.2300109863281, 258.2154541015625, 427.27001953125), Rect(252.6199951171875, 448.4200134277344, 258.2154541015625, 459.46002197265625), Rect(696.699951171875, 480.70001220703125, 702.29541015625, 491.7400207519531)]\n",
            "page 3 of AR_Afghanistan_2019.pdf\n",
            "[Rect(397.7300109863281, 551.2559814453125, 403.3254699707031, 562.2960205078125), Rect(126.1399917602539, 121.50899505615234, 132.76507568359375, 134.01524353027344), Rect(528.7899780273438, 284.01898193359375, 535.4150390625, 296.5252380371094), Rect(350.80999755859375, 352.1990051269531, 357.4350891113281, 364.70526123046875), Rect(654.0999755859375, 406.9189758300781, 660.7250366210938, 419.42523193359375), Rect(552.4299926757812, 406.9189758300781, 559.0550537109375, 419.42523193359375)]\n",
            "page 4 of AR_Afghanistan_2019.pdf\n",
            "[Rect(469.1499938964844, 202.29898071289062, 475.77508544921875, 214.8052215576172), Rect(115.0999984741211, 248.13897705078125, 121.7250747680664, 260.6452331542969)]\n",
            "page 5 of AR_Afghanistan_2019.pdf\n",
            "[Rect(469.1499938964844, 280.0589904785156, 475.77508544921875, 292.56524658203125), Rect(230.3000030517578, 457.5889892578125, 236.92507934570312, 470.0952453613281)]\n",
            "page 6 of AR_Afghanistan_2019.pdf\n",
            "[Rect(576.3099365234375, 140.94900512695312, 582.9349975585938, 153.4552459716797), Rect(462.54998779296875, 204.3389892578125, 469.1750793457031, 216.84523010253906), Rect(296.33001708984375, 254.13897705078125, 302.9551086425781, 266.6452331542969), Rect(510.30999755859375, 367.3190002441406, 516.93505859375, 379.82525634765625), Rect(462.54998779296875, 329.8789978027344, 469.1750793457031, 342.38525390625), Rect(368.9300231933594, 379.7989807128906, 375.55511474609375, 392.30523681640625), Rect(530.1099853515625, 418.1990051269531, 536.7350463867188, 430.70526123046875), Rect(462.54998779296875, 393.2389831542969, 475.77508544921875, 405.7452392578125), Rect(462.54998779296875, 444.14898681640625, 469.1750793457031, 456.6552429199219), Rect(462.54998779296875, 494.90899658203125, 469.1750793457031, 507.4152526855469)]\n",
            "page 7 of AR_Afghanistan_2019.pdf\n",
            "[Rect(462.54998779296875, 108.78899383544922, 469.1750793457031, 121.29524230957031), Rect(462.54998779296875, 153.42898559570312, 469.1750793457031, 165.9352264404297), Rect(462.54998779296875, 204.3389892578125, 469.1750793457031, 216.84523010253906), Rect(462.54998779296875, 254.13897705078125, 469.1750793457031, 266.6452331542969), Rect(276.5299987792969, 266.6189880371094, 283.15509033203125, 279.125244140625), Rect(428.33001708984375, 291.458984375, 434.9551086425781, 303.9652404785156), Rect(462.54998779296875, 317.39898681640625, 469.1750793457031, 329.9052429199219), Rect(289.7300109863281, 317.39898681640625, 296.3551025390625, 329.9052429199219), Rect(177.5, 317.39898681640625, 184.1250762939453, 329.9052429199219), Rect(296.33001708984375, 355.7989807128906, 302.9551086425781, 368.30523681640625), Rect(434.9300231933594, 406.6789855957031, 441.55511474609375, 419.18524169921875), Rect(469.1499938964844, 420.1189880371094, 475.77508544921875, 432.625244140625), Rect(296.33001708984375, 420.1189880371094, 302.9551086425781, 432.625244140625), Rect(375.530029296875, 495.9889831542969, 382.1551208496094, 508.4952392578125), Rect(368.9300231933594, 520.824951171875, 375.55511474609375, 533.3312377929688)]\n",
            "page 8 of AR_Afghanistan_2019.pdf\n",
            "[Rect(121.69999694824219, 214.77899169921875, 128.3250732421875, 227.2852325439453), Rect(134.90000915527344, 214.77899169921875, 141.52508544921875, 227.2852325439453), Rect(236.89999389648438, 303.458984375, 243.5250701904297, 315.9652404785156), Rect(289.7300109863281, 387.5989685058594, 296.3551025390625, 400.105224609375), Rect(469.1499938964844, 450.8689880371094, 475.77508544921875, 463.375244140625), Rect(329.3299865722656, 500.6689758300781, 335.955078125, 513.1752319335938)]\n",
            "page 9 of AR_Afghanistan_2019.pdf\n",
            "[Rect(469.1499938964844, 504.3849792480469, 475.77508544921875, 516.8912353515625)]\n",
            "page 10 of AR_Afghanistan_2019.pdf\n",
            "[Rect(469.1499938964844, 442.708984375, 475.77508544921875, 455.2152404785156)]\n",
            "page 11 of AR_Afghanistan_2019.pdf\n",
            "[]\n",
            "page 12 of AR_Afghanistan_2019.pdf\n",
            "[Rect(530.7100219726562, 63.668968200683594, 537.3350830078125, 76.17521667480469), Rect(352.7300109863281, 353.9989929199219, 359.3551025390625, 366.5052490234375), Rect(293.3299865722656, 479.1889953613281, 299.955078125, 491.69525146484375)]\n",
            "page 13 of AR_Afghanistan_2019.pdf\n",
            "[Rect(400.6099853515625, 551.2559814453125, 406.2054443359375, 562.2960205078125), Rect(530.7099609375, 101.10897064208984, 537.3350219726562, 113.61521911621094), Rect(713.6199951171875, 226.65899658203125, 720.2450561523438, 239.1652374267578), Rect(524.1099853515625, 487.2289733886719, 530.7350463867188, 499.7352294921875)]\n",
            "page 14 of AR_Afghanistan_2019.pdf\n",
            "[Rect(524.1099853515625, 63.668968200683594, 530.7350463867188, 76.17521667480469), Rect(524.1099853515625, 118.86898040771484, 537.3350219726562, 131.37522888183594), Rect(524.1099853515625, 173.94900512695312, 530.7350463867188, 186.4552459716797), Rect(524.1099853515625, 236.85897827148438, 530.7350463867188, 249.36521911621094), Rect(524.1099853515625, 291.9389953613281, 530.7350463867188, 304.44525146484375), Rect(297.2900085449219, 291.9389953613281, 303.91510009765625, 304.44525146484375), Rect(524.1099853515625, 329.39898681640625, 530.7350463867188, 341.9052429199219), Rect(524.1099853515625, 367.3190002441406, 530.7350463867188, 379.82525634765625), Rect(524.1099853515625, 422.39898681640625, 530.7350463867188, 434.9052429199219), Rect(524.1099853515625, 447.3890075683594, 530.7350463867188, 459.895263671875)]\n",
            "page 15 of AR_Afghanistan_2019.pdf\n",
            "[Rect(380.92041015625, 65.89999389648438, 386.515869140625, 76.93999481201172), Rect(505.5099792480469, 79.69998168945312, 511.1054382324219, 90.73998260498047), Rect(530.7099609375, 155.3489990234375, 537.3350219726562, 167.85523986816406), Rect(324.2900085449219, 217.65899658203125, 330.91510009765625, 230.1652374267578), Rect(431.9300231933594, 367.7989807128906, 438.55511474609375, 380.30523681640625), Rect(497.95001220703125, 518.304931640625, 504.5751037597656, 530.8112182617188)]\n",
            "page 16 of AR_Afghanistan_2019.pdf\n",
            "[Rect(491.3500061035156, 63.668968200683594, 497.97509765625, 76.17521667480469), Rect(350.9300231933594, 118.86898040771484, 357.55511474609375, 131.37522888183594), Rect(461.83001708984375, 131.3489990234375, 468.4551086425781, 143.85523986816406), Rect(353.09002685546875, 173.94900512695312, 359.7151184082031, 186.4552459716797), Rect(422.9300231933594, 241.65899658203125, 429.55511474609375, 254.1652374267578), Rect(323.57000732421875, 284.2590026855469, 330.1950988769531, 296.7652587890625), Rect(530.7099609375, 364.4389953613281, 537.3350219726562, 376.94525146484375), Rect(444.6500244140625, 364.4389953613281, 451.2751159667969, 376.94525146484375)]\n",
            "page 17 of AR_Afghanistan_2019.pdf\n",
            "[Rect(457.8699951171875, 263.6189880371094, 464.4950866699219, 276.125244140625)]\n",
            "page 18 of AR_Afghanistan_2019.pdf\n",
            "[Rect(530.7099609375, 118.86898040771484, 537.3350219726562, 131.37522888183594), Rect(328.9700012207031, 387.8389892578125, 335.5950927734375, 400.3452453613281)]\n",
            "page 19 of AR_Afghanistan_2019.pdf\n",
            "[Rect(584.5900268554688, 89.10897064208984, 591.215087890625, 101.61521911621094), Rect(348.7699890136719, 82.86898040771484, 355.39508056640625, 95.37522888183594), Rect(713.6199951171875, 102.0689926147461, 720.2450561523438, 114.57524108886719)]\n",
            "page 20 of AR_Afghanistan_2019.pdf\n",
            "[]\n",
            "page 21 of AR_Afghanistan_2019.pdf\n",
            "[Rect(394.9700012207031, 551.2559814453125, 400.5654602050781, 562.2960205078125), Rect(600.6699829101562, 122.46898651123047, 607.2950439453125, 134.97523498535156), Rect(713.6199951171875, 364.4389953613281, 720.2450561523438, 376.94525146484375)]\n",
            "page 22 of AR_Afghanistan_2019.pdf\n",
            "[Rect(394.9700012207031, 551.2559814453125, 400.5654602050781, 562.2960205078125), Rect(713.6199951171875, 285.5789794921875, 720.2450561523438, 298.0852355957031)]\n",
            "page 23 of AR_Afghanistan_2019.pdf\n",
            "[Rect(394.9700012207031, 551.2559814453125, 406.2054443359375, 562.2960205078125), Rect(505.27001953125, 140.8289794921875, 511.8951110839844, 153.33522033691406), Rect(713.6199951171875, 266.3789978027344, 720.2450561523438, 278.88525390625), Rect(460.989990234375, 379.0790100097656, 474.215087890625, 391.58526611328125)]\n",
            "page 24 of AR_Afghanistan_2019.pdf\n",
            "[Rect(394.9700012207031, 551.2559814453125, 400.5654602050781, 562.2960205078125), Rect(708.219970703125, 123.4289779663086, 714.8450317382812, 135.9352264404297), Rect(708.219970703125, 334.5589904785156, 714.8450317382812, 347.06524658203125), Rect(630.8199462890625, 451.1089782714844, 637.4450073242188, 463.615234375), Rect(478.9900207519531, 451.1089782714844, 485.6151123046875, 463.615234375), Rect(472.2699890136719, 493.468994140625, 478.89508056640625, 505.9752502441406)]\n",
            "page 25 of AR_Afghanistan_2019.pdf\n",
            "[Rect(394.9700012207031, 551.2559814453125, 400.5654602050781, 562.2960205078125), Rect(708.219970703125, 63.668968200683594, 714.8450317382812, 76.17521667480469), Rect(267.7400207519531, 220.89898681640625, 274.3651123046875, 233.4052276611328), Rect(708.219970703125, 278.7389831542969, 714.8450317382812, 291.2452392578125), Rect(264.48175048828125, 331.4048767089844, 270.0017395019531, 346.1322326660156), Rect(452.9235534667969, 331.4048767089844, 458.44354248046875, 346.1322326660156)]\n",
            "page 26 of AR_Afghanistan_2019.pdf\n",
            "[Rect(394.9700012207031, 551.2559814453125, 400.5654602050781, 562.2960205078125), Rect(320.3300476074219, 194.37899780273438, 333.5551452636719, 206.88523864746094), Rect(293.92999267578125, 232.53900146484375, 300.5550842285156, 245.0452423095703), Rect(300.5299987792969, 251.37899780273438, 307.15509033203125, 263.88525390625), Rect(320.3300476074219, 290.6189880371094, 326.95513916015625, 303.125244140625), Rect(708.219970703125, 351.5989685058594, 714.8450317382812, 364.105224609375), Rect(464.570068359375, 370.4389953613281, 471.1951599121094, 382.94525146484375), Rect(326.9000549316406, 370.4389953613281, 333.525146484375, 382.94525146484375), Rect(466.93023681640625, 432.9100036621094, 472.52569580078125, 443.95001220703125), Rect(329.29022216796875, 432.9100036621094, 334.88568115234375, 443.95001220703125), Rect(394.6100158691406, 452.1889953613281, 401.235107421875, 464.69525146484375), Rect(447.4100646972656, 452.1889953613281, 454.03515625, 464.69525146484375), Rect(269.7799987792969, 452.1889953613281, 276.40509033203125, 464.69525146484375)]\n",
            "page 27 of AR_Afghanistan_2019.pdf\n",
            "[Rect(394.9700012207031, 551.2559814453125, 400.5654602050781, 562.2960205078125), Rect(621.219970703125, 62.829002380371094, 627.8450317382812, 75.33525085449219), Rect(447.30999755859375, 114.5489730834961, 453.9350891113281, 127.05522155761719), Rect(217.22000122070312, 114.5489730834961, 223.84507751464844, 127.05522155761719), Rect(542.5899047851562, 171.78900146484375, 549.2149658203125, 184.2952423095703), Rect(181.5800323486328, 171.78900146484375, 188.20510864257812, 184.2952423095703), Rect(447.30999755859375, 284.2590026855469, 453.9350891113281, 296.7652587890625), Rect(217.22000122070312, 284.2590026855469, 223.84507751464844, 296.7652587890625), Rect(571.0298461914062, 333.2389831542969, 577.6549072265625, 345.7452392578125), Rect(372.7699890136719, 333.2389831542969, 379.39508056640625, 345.7452392578125), Rect(418.97003173828125, 333.2389831542969, 425.5951232910156, 345.7452392578125), Rect(223.82000732421875, 333.2389831542969, 230.44508361816406, 345.7452392578125), Rect(250.22003173828125, 333.2389831542969, 256.8451232910156, 345.7452392578125), Rect(124.343994140625, 333.2389831542969, 130.9690704345703, 345.7452392578125)]\n",
            "page 28 of AR_Afghanistan_2019.pdf\n",
            "[Rect(390.4100036621094, 551.2559814453125, 396.0054626464844, 562.2960205078125), Rect(749.6199340820312, 136.14898681640625, 756.2449951171875, 148.6552276611328), Rect(475.0390930175781, 369.66998291015625, 486.3218994140625, 375.6469421386719), Rect(428.4591064453125, 375.66998291015625, 439.7419128417969, 381.6469421386719), Rect(300.6590881347656, 375.66998291015625, 311.94189453125, 381.6469421386719), Rect(674.3890991210938, 480.94000244140625, 685.671875, 486.9169616699219), Rect(514.0391235351562, 464.5, 525.3218994140625, 470.4769592285156), Rect(438.4390869140625, 505.6600036621094, 449.7218933105469, 511.636962890625), Rect(438.4390869140625, 517.6600341796875, 449.7218933105469, 523.6370239257812)]\n",
            "page 29 of AR_Afghanistan_2019.pdf\n",
            "[Rect(390.4100036621094, 551.2559814453125, 396.0054626464844, 562.2960205078125), Rect(640.0599975585938, 217.05899047851562, 646.68505859375, 229.5652313232422), Rect(615.9099731445312, 217.05899047851562, 622.5350341796875, 229.5652313232422), Rect(458.4700012207031, 217.05899047851562, 465.0950927734375, 229.5652313232422), Rect(193.5800018310547, 217.05899047851562, 200.205078125, 229.5652313232422), Rect(162.97999572753906, 217.05899047851562, 169.60507202148438, 229.5652313232422), Rect(701.3800048828125, 238.29898071289062, 708.0050659179688, 250.8052215576172), Rect(667.2999877929688, 238.29898071289062, 673.925048828125, 250.8052215576172), Rect(646.6599731445312, 238.29898071289062, 653.2850341796875, 250.8052215576172), Rect(427.7300109863281, 238.29898071289062, 434.3551025390625, 250.8052215576172), Rect(640.0599975585938, 255.69900512695312, 646.68505859375, 268.20526123046875), Rect(162.97999572753906, 255.69900512695312, 169.60507202148438, 268.20526123046875), Rect(701.3800048828125, 273.0989990234375, 708.0050659179688, 285.6052551269531), Rect(427.7300109863281, 273.0989990234375, 434.3551025390625, 285.6052551269531), Rect(162.97999572753906, 273.0989990234375, 169.60507202148438, 285.6052551269531), Rect(615.9099731445312, 290.6189880371094, 622.5350341796875, 303.125244140625), Rect(162.97999572753906, 290.6189880371094, 169.60507202148438, 303.125244140625), Rect(162.97999572753906, 342.8389892578125, 169.60507202148438, 355.3452453613281), Rect(427.7300109863281, 360.2389831542969, 434.3551025390625, 372.7452392578125), Rect(458.4700012207031, 415.5589904785156, 465.0950927734375, 428.06524658203125)]\n",
            "page 30 of AR_Afghanistan_2019.pdf\n",
            "[Rect(374.80999755859375, 551.2559814453125, 380.40545654296875, 562.2960205078125), Rect(597.0489501953125, 77.54000854492188, 602.6444091796875, 88.58000946044922), Rect(647.3609008789062, 107.29998779296875, 652.9563598632812, 118.3399887084961), Rect(651.44091796875, 122.29998779296875, 657.036376953125, 133.33998107910156), Rect(637.5304565429688, 152.05999755859375, 643.1259155273438, 163.09999084472656), Rect(656.9609375, 181.85000610351562, 662.556396484375, 192.88999938964844), Rect(651.44091796875, 196.73001098632812, 657.036376953125, 207.77000427246094), Rect(658.3994140625, 211.73001098632812, 663.994873046875, 222.77000427246094), Rect(677.9403076171875, 211.73001098632812, 683.5357666015625, 222.77000427246094), Rect(123.70127868652344, 77.54000854492188, 129.2967529296875, 88.58000946044922), Rect(282.2804260253906, 109.22000122070312, 287.8758850097656, 120.26000213623047), Rect(273.8900146484375, 140.89999389648438, 279.4854736328125, 151.9399871826172), Rect(129.93301391601562, 428.7799987792969, 134.49453735351562, 437.7799987792969), Rect(323.4700012207031, 428.3500061035156, 328.0315246582031, 437.3500061035156), Rect(42.28200149536133, 323.6300048828125, 46.84352493286133, 332.6300048828125), Rect(42.28200149536133, 294.7900085449219, 46.84352493286133, 303.7900085449219), Rect(229.50999450683594, 180.010009765625, 236.6259765625, 194.0500030517578), Rect(569.3989868164062, 350.53997802734375, 573.9605102539062, 359.53997802734375), Rect(526.3689575195312, 406.47998046875, 530.9304809570312, 415.47998046875), Rect(472.0329895019531, 373.1199951171875, 476.5945129394531, 382.1199951171875), Rect(506.4019470214844, 322.1499938964844, 510.9634704589844, 331.1499938964844), Rect(523.2789916992188, 314.3900146484375, 527.8405151367188, 323.3900146484375), Rect(601.7999877929688, 244.95001220703125, 608.9159545898438, 258.9900207519531)]\n",
            "page 31 of AR_Afghanistan_2019.pdf\n",
            "[Rect(418.489990234375, 125.989990234375, 423.051513671875, 134.989990234375), Rect(462.739990234375, 115.4620132446289, 467.3136901855469, 124.48600769042969), Rect(465.0, 154.510009765625, 474.12152099609375, 163.510009765625), Rect(530.3300170898438, 147.72198486328125, 534.9036865234375, 156.74598693847656), Rect(503.260009765625, 210.760009765625, 512.3815307617188, 219.760009765625), Rect(511.510009765625, 261.760009765625, 516.071533203125, 270.760009765625), Rect(538.510009765625, 315.7900085449219, 543.071533203125, 324.7900085449219), Rect(552.1900024414062, 315.7900085449219, 556.7515258789062, 324.7900085449219), Rect(482.260009765625, 338.2519836425781, 486.8337097167969, 347.2760009765625), Rect(495.9399108886719, 338.2519836425781, 500.51361083984375, 347.2760009765625), Rect(434.260009765625, 378.03997802734375, 438.821533203125, 387.03997802734375), Rect(395.3500061035156, 392.29998779296875, 399.9115295410156, 401.29998779296875), Rect(224.97999572753906, 291.7900085449219, 234.1015167236328, 300.7900085449219), Rect(200.2100067138672, 277.5299987792969, 204.7715301513672, 286.5299987792969), Rect(221.97999572753906, 244.49200439453125, 226.55368041992188, 253.51600646972656), Rect(257.2300109863281, 206.23199462890625, 261.8037109375, 215.25599670410156), Rect(336.8599853515625, 131.25, 341.4215087890625, 140.25), Rect(400.489990234375, 90.739990234375, 405.051513671875, 99.739990234375)]\n",
            "page 32 of AR_Afghanistan_2019.pdf\n",
            "[Rect(344.57000732421875, 100.42999267578125, 349.61810302734375, 110.3899917602539), Rect(352.1097106933594, 100.42999267578125, 357.1578063964844, 110.3899917602539), Rect(362.2091369628906, 100.42999267578125, 367.2572326660156, 110.3899917602539), Rect(379.8482666015625, 100.42999267578125, 384.8963623046875, 110.3899917602539), Rect(496.3794250488281, 100.42999267578125, 501.4275207519531, 110.3899917602539), Rect(514.0185546875, 100.42999267578125, 524.1163940429688, 110.3899917602539), Rect(599.5900268554688, 100.42999267578125, 604.6381225585938, 110.3899917602539), Rect(624.7689819335938, 100.42999267578125, 634.8668212890625, 110.3899917602539), Rect(686.2592163085938, 100.42999267578125, 691.3073120117188, 110.3899917602539), Rect(358.3894348144531, 114.47000122070312, 363.4375305175781, 124.43000030517578), Rect(690.0992431640625, 114.47000122070312, 695.1473388671875, 124.43000030517578), Rect(626.1091918945312, 128.38998413085938, 631.1572875976562, 138.34999084472656), Rect(365.92913818359375, 142.30999755859375, 370.97723388671875, 152.27000427246094), Rect(677.509765625, 142.30999755859375, 682.557861328125, 152.27000427246094), Rect(487.510009765625, 170.14999389648438, 492.55810546875, 180.11000061035156), Rect(695.1489868164062, 170.14999389648438, 700.1970825195312, 180.11000061035156), Rect(497.60943603515625, 184.10000610351562, 502.65753173828125, 194.0600128173828), Rect(690.0992431640625, 184.10000610351562, 695.1473388671875, 194.0600128173828), Rect(628.6389770507812, 198.01998901367188, 633.6870727539062, 207.97999572753906), Rect(501.3290710449219, 212.42001342773438, 506.3771667480469, 222.38002014160156), Rect(508.97833251953125, 212.42001342773438, 514.0264282226562, 222.38002014160156), Rect(629.8281860351562, 212.42001342773438, 634.8762817382812, 222.38002014160156), Rect(686.1591796875, 212.42001342773438, 691.207275390625, 222.38002014160156), Rect(703.9976196289062, 212.42001342773438, 709.0457153320312, 222.38002014160156), Rect(49.79399871826172, 324.0199890136719, 54.35552215576172, 333.0199890136719), Rect(49.79399871826172, 269.9200134277344, 54.35552215576172, 278.9200134277344)]\n",
            "page 33 of AR_Afghanistan_2019.pdf\n",
            "[Rect(380.4499816894531, 551.2559814453125, 386.0454406738281, 562.2960205078125)]\n",
            "page 34 of AR_Afghanistan_2019.pdf\n",
            "[Rect(328.8404235839844, 140.29998779296875, 334.4358825683594, 151.33998107910156), Rect(153.6291046142578, 155.38998413085938, 158.67718505859375, 165.34999084472656), Rect(199.10000610351562, 168.1400146484375, 204.6954803466797, 179.1800079345703), Rect(213.01039123535156, 168.1400146484375, 218.60586547851562, 179.1800079345703), Rect(265.8104248046875, 168.1400146484375, 276.9259033203125, 179.1800079345703), Rect(320.45001220703125, 168.1400146484375, 326.04547119140625, 179.1800079345703), Rect(421.0299987792969, 216.80999755859375, 425.5915222167969, 225.80999755859375), Rect(421.0299987792969, 200.66000366210938, 425.5915222167969, 209.66000366210938), Rect(562.030029296875, 293.1300048828125, 566.591552734375, 302.1300048828125), Rect(624.1199951171875, 345.4320068359375, 628.6936645507812, 354.4560241699219), Rect(216.21900939941406, 342.30999755859375, 220.78053283691406, 351.30999755859375), Rect(306.8900146484375, 307.94000244140625, 311.4515380859375, 316.94000244140625), Rect(318.2659912109375, 307.94000244140625, 322.8275146484375, 316.94000244140625), Rect(313.7030029296875, 278.9200134277344, 322.8275146484375, 287.9200134277344), Rect(105.04500579833984, 256.2200012207031, 109.60652923583984, 265.2200012207031), Rect(306.8900146484375, 249.95001220703125, 311.4515380859375, 258.95001220703125), Rect(31.416000366210938, 322.2200012207031, 35.97752380371094, 331.2200012207031)]\n",
            "page 35 of AR_Afghanistan_2019.pdf\n",
            "[]\n",
            "page 0 of AR_Afghanistan_2019.pdf\n",
            "[]\n",
            "page 1 of AR_Afghanistan_2019.pdf\n",
            "[]\n",
            "page 2 of AR_Afghanistan_2019.pdf\n",
            "[Rect(696.7000122070312, 190.73001098632812, 702.2954711914062, 201.77000427246094), Rect(252.6199951171875, 190.73001098632812, 258.2154541015625, 201.77000427246094), Rect(446.57000732421875, 350.8789978027344, 453.1950988769531, 363.38525390625), Rect(360.77001953125, 383.0389709472656, 367.3951110839844, 395.54522705078125), Rect(252.6199951171875, 480.70001220703125, 258.2154541015625, 491.7400207519531)]\n",
            "page 3 of AR_Afghanistan_2019.pdf\n",
            "[Rect(416.57000732421875, 259.0589904785156, 423.1950988769531, 271.56524658203125), Rect(139.33999633789062, 271.53900146484375, 145.96507263183594, 284.0452575683594), Rect(238.10000610351562, 352.1990051269531, 244.72508239746094, 364.70526123046875)]\n",
            "page 4 of AR_Afghanistan_2019.pdf\n",
            "[Rect(397.7300109863281, 551.2559814453125, 403.3254699707031, 562.2960205078125), Rect(256.70001220703125, 307.4389953613281, 263.3251037597656, 319.94525146484375), Rect(269.92999267578125, 382.1990051269531, 276.5550842285156, 394.70526123046875)]\n",
            "page 5 of AR_Afghanistan_2019.pdf\n",
            "[]\n",
            "page 6 of AR_Afghanistan_2019.pdf\n",
            "[Rect(134.89999389648438, 462.7489929199219, 148.1250762939453, 475.2552490234375)]\n",
            "page 7 of AR_Afghanistan_2019.pdf\n",
            "[Rect(269.9000244140625, 165.90899658203125, 276.5251159667969, 178.4152374267578), Rect(289.7300109863281, 355.7989807128906, 296.3551025390625, 368.30523681640625), Rect(556.510009765625, 432.5989685058594, 563.1350708007812, 445.105224609375), Rect(302.9300231933594, 420.1189880371094, 309.55511474609375, 432.625244140625)]\n",
            "page 8 of AR_Afghanistan_2019.pdf\n",
            "[Rect(250.10000610351562, 290.97900390625, 256.72509765625, 303.4852600097656), Rect(230.30001831054688, 315.958984375, 236.9250946044922, 328.4652404785156), Rect(283.1300048828125, 488.3089904785156, 289.7550964355469, 500.81524658203125)]\n",
            "page 9 of AR_Afghanistan_2019.pdf\n",
            "[Rect(563.1099853515625, 177.30899047851562, 569.7350463867188, 189.8152313232422), Rect(355.7300109863281, 189.81900024414062, 362.3551025390625, 202.3252410888672)]\n",
            "page 10 of AR_Afghanistan_2019.pdf\n",
            "[]\n",
            "page 11 of AR_Afghanistan_2019.pdf\n",
            "[Rect(316.1300048828125, 64.14900970458984, 322.7550964355469, 76.65525817871094)]\n",
            "page 12 of AR_Afghanistan_2019.pdf\n",
            "[Rect(319.7300109863281, 163.86898803710938, 326.3551025390625, 176.37522888183594), Rect(339.5299987792969, 189.3389892578125, 346.15509033203125, 201.84523010253906), Rect(346.1300048828125, 466.708984375, 352.7550964355469, 479.2152404785156)]\n",
            "page 13 of AR_Afghanistan_2019.pdf\n",
            "[]\n",
            "page 14 of AR_Afghanistan_2019.pdf\n",
            "[Rect(400.6099853515625, 551.2559814453125, 406.2054443359375, 562.2960205078125)]\n",
            "page 15 of AR_Afghanistan_2019.pdf\n",
            "[Rect(713.6199951171875, 63.668968200683594, 720.2450561523438, 76.17521667480469), Rect(311.2099914550781, 79.69998168945312, 328.0854187011719, 90.73998260498047), Rect(303.8900146484375, 393.1189880371094, 310.5151062011719, 405.625244140625)]\n",
            "page 16 of AR_Afghanistan_2019.pdf\n",
            "[Rect(346.4900207519531, 173.94900512695312, 353.1151123046875, 186.4552459716797), Rect(330.1700134277344, 284.2590026855469, 336.79510498046875, 296.7652587890625)]\n",
            "page 17 of AR_Afghanistan_2019.pdf\n",
            "[Rect(303.8900146484375, 238.65899658203125, 310.5151062011719, 251.1652374267578), Rect(411.0500183105469, 276.0989990234375, 417.67510986328125, 288.6052551269531)]\n",
            "page 18 of AR_Afghanistan_2019.pdf\n",
            "[]\n",
            "page 19 of AR_Afghanistan_2019.pdf\n",
            "[Rect(348.7699890136719, 108.3089828491211, 361.9950866699219, 120.81523132324219)]\n",
            "page 20 of AR_Afghanistan_2019.pdf\n",
            "[]\n",
            "page 21 of AR_Afghanistan_2019.pdf\n",
            "[]\n",
            "page 22 of AR_Afghanistan_2019.pdf\n",
            "[Rect(597.5499877929688, 273.2119445800781, 603.6629638671875, 284.2627258300781), Rect(537.0550537109375, 339.7119445800781, 543.1680297851562, 350.7627258300781), Rect(563.6834716796875, 339.7119445800781, 569.7964477539062, 350.7627258300781), Rect(638.7284545898438, 417.5919494628906, 644.8414306640625, 428.6427307128906), Rect(562.510009765625, 484.8219299316406, 568.6229858398438, 495.8727111816406)]\n",
            "page 23 of AR_Afghanistan_2019.pdf\n",
            "[]\n",
            "page 24 of AR_Afghanistan_2019.pdf\n",
            "[Rect(400.6099853515625, 551.2559814453125, 406.2054443359375, 562.2960205078125)]\n",
            "page 25 of AR_Afghanistan_2019.pdf\n",
            "[]\n",
            "page 26 of AR_Afghanistan_2019.pdf\n",
            "[Rect(482.5899963378906, 105.1889877319336, 489.215087890625, 117.69523620605469), Rect(438.1700134277344, 194.37899780273438, 444.79510498046875, 206.88523864746094), Rect(293.92999267578125, 251.37899780273438, 300.5550842285156, 263.88525390625), Rect(313.7300109863281, 251.37899780273438, 320.3551025390625, 263.88525390625), Rect(438.1700134277344, 289.2989807128906, 444.79510498046875, 301.80523681640625), Rect(274.1300048828125, 290.6189880371094, 280.7550964355469, 303.125244140625), Rect(300.530029296875, 290.6189880371094, 307.1551208496094, 303.125244140625), Rect(208.2200164794922, 289.2989807128906, 214.8450927734375, 301.80523681640625), Rect(411.77001953125, 351.5989685058594, 418.3951110839844, 364.105224609375), Rect(438.1700439453125, 351.5989685058594, 444.7951354980469, 364.105224609375), Rect(280.7300109863281, 351.5989685058594, 287.3551025390625, 364.105224609375), Rect(307.1300354003906, 351.5989685058594, 313.755126953125, 364.105224609375), Rect(708.219970703125, 370.4389953613281, 714.8450317382812, 382.94525146484375), Rect(427.9700012207031, 432.9100036621094, 433.5654602050781, 443.95001220703125), Rect(486.4931335449219, 432.9100036621094, 497.5865173339844, 443.95001220703125), Rect(290.3299865722656, 432.9100036621094, 295.9254455566406, 443.95001220703125), Rect(348.8531188964844, 432.9100036621094, 359.9465026855469, 443.95001220703125), Rect(473.8100891113281, 452.1889953613281, 487.0351867675781, 464.69525146484375), Rect(302.780029296875, 452.1889953613281, 316.005126953125, 464.69525146484375)]\n",
            "page 27 of AR_Afghanistan_2019.pdf\n",
            "[Rect(383.57000732421875, 62.829002380371094, 390.1950988769531, 75.33525085449219), Rect(655.5399780273438, 141.18899536132812, 662.1650390625, 153.6952362060547), Rect(516.1900024414062, 171.78900146484375, 522.8150634765625, 184.2952423095703), Rect(370.6100158691406, 171.78900146484375, 383.8351135253906, 184.2952423095703), Rect(379.3699951171875, 333.2389831542969, 385.9950866699219, 345.7452392578125), Rect(399.1700134277344, 333.2389831542969, 405.79510498046875, 345.7452392578125), Rect(636.1897583007812, 487.2289733886719, 642.8148193359375, 499.7352294921875), Rect(301.34002685546875, 499.708984375, 307.9651184082031, 512.2152099609375)]\n",
            "page 28 of AR_Afghanistan_2019.pdf\n",
            "[Rect(704.0291137695312, 495.94000244140625, 715.3118896484375, 501.9169616699219), Rect(674.3890991210938, 492.94000244140625, 685.671875, 498.9169616699219), Rect(645.34912109375, 486.94000244140625, 656.6318969726562, 492.9169616699219), Rect(545.2390747070312, 467.5, 556.5218505859375, 473.4769592285156), Rect(514.0391235351562, 458.5, 525.3218994140625, 464.4769592285156), Rect(487.2790832519531, 505.6600036621094, 498.5618896484375, 511.636962890625), Rect(95.31307983398438, 514.6600341796875, 106.59589385986328, 520.6370239257812)]\n",
            "page 29 of AR_Afghanistan_2019.pdf\n",
            "[Rect(275.9300231933594, 49.608970642089844, 282.55511474609375, 62.1152229309082), Rect(646.6599731445312, 217.05899047851562, 653.2850341796875, 229.5652313232422), Rect(694.780029296875, 238.29898071289062, 701.4050903320312, 250.8052215576172), Rect(640.0599975585938, 238.29898071289062, 646.68505859375, 250.8052215576172), Rect(694.780029296875, 255.69900512695312, 701.4050903320312, 268.20526123046875), Rect(458.4700012207031, 255.69900512695312, 465.0950927734375, 268.20526123046875), Rect(403.7300109863281, 255.69900512695312, 410.3551025390625, 268.20526123046875), Rect(694.780029296875, 273.0989990234375, 701.4050903320312, 285.6052551269531), Rect(615.9099731445312, 273.0989990234375, 622.5350341796875, 285.6052551269531), Rect(640.0599975585938, 290.6189880371094, 646.68505859375, 303.125244140625), Rect(694.780029296875, 308.03900146484375, 701.4050903320312, 320.5452575683594), Rect(193.5800018310547, 325.4389953613281, 200.205078125, 337.94525146484375), Rect(427.7300109863281, 342.8389892578125, 434.3551025390625, 355.3452453613281), Rect(670.6599731445312, 360.2389831542969, 677.2850341796875, 372.7452392578125), Rect(138.86000061035156, 360.2389831542969, 145.48507690429688, 372.7452392578125), Rect(458.4700012207031, 377.7590026855469, 465.0950927734375, 390.2652587890625), Rect(427.7300109863281, 377.7590026855469, 434.3551025390625, 390.2652587890625), Rect(193.5800018310547, 377.7590026855469, 200.205078125, 390.2652587890625), Rect(670.6599731445312, 395.15899658203125, 677.2850341796875, 407.6652526855469), Rect(427.7300109863281, 395.15899658203125, 434.3551025390625, 407.6652526855469), Rect(701.3800048828125, 415.5589904785156, 708.0050659179688, 428.06524658203125), Rect(670.6599731445312, 415.5589904785156, 677.2850341796875, 428.06524658203125), Rect(499.1499938964844, 482.0690002441406, 505.77508544921875, 494.57525634765625), Rect(467.7099914550781, 482.0690002441406, 480.9350891113281, 494.57525634765625)]\n",
            "page 30 of AR_Afghanistan_2019.pdf\n",
            "[Rect(615.8739624023438, 34.20001220703125, 621.9559936523438, 46.20001220703125), Rect(637.5304565429688, 122.29998779296875, 643.1259155273438, 133.33998107910156), Rect(657.0808715820312, 137.17999267578125, 662.6763305664062, 148.21998596191406), Rect(634.780029296875, 166.94000244140625, 640.37548828125, 177.97999572753906), Rect(643.0504760742188, 196.73001098632812, 648.6459350585938, 207.77000427246094), Rect(638.97998046875, 211.73001098632812, 644.575439453125, 222.77000427246094), Rect(273.8900146484375, 125.05999755859375, 279.4854736328125, 136.09999084472656), Rect(273.8900146484375, 156.739990234375, 279.4854736328125, 167.7799835205078), Rect(218.74000549316406, 212.1099853515625, 223.30152893066406, 221.1099853515625), Rect(42.28200149536133, 265.9599914550781, 46.84352493286133, 274.9599914550781), Rect(42.28200149536133, 237.1099853515625, 46.84352493286133, 246.1099853515625), Rect(514.9929809570312, 406.47998046875, 519.5545043945312, 415.47998046875), Rect(491.0889587402344, 432.5, 495.6504821777344, 441.5), Rect(474.6499938964844, 336.3999938964844, 479.2115173339844, 345.3999938964844), Rect(516.4660034179688, 314.3900146484375, 521.0275268554688, 323.3900146484375)]\n",
            "page 31 of AR_Afghanistan_2019.pdf\n",
            "[Rect(374.80999755859375, 551.2559814453125, 380.40545654296875, 562.2960205078125), Rect(432.16998291015625, 125.989990234375, 436.73150634765625, 134.989990234375), Rect(525.77001953125, 147.72198486328125, 530.3436889648438, 156.74598693847656), Rect(543.0700073242188, 315.7900085449219, 547.6315307617188, 324.7900085449219), Rect(447.94000244140625, 378.03997802734375, 452.50152587890625, 387.03997802734375), Rect(228.13999938964844, 150.760009765625, 232.70152282714844, 159.760009765625), Rect(248.22999572753906, 143.25, 252.79151916503906, 152.25), Rect(240.7899932861328, 128.989990234375, 245.3515167236328, 137.989990234375), Rect(268.489990234375, 125.989990234375, 273.051513671875, 134.989990234375), Rect(270.7200012207031, 111.739990234375, 275.2815246582031, 120.739990234375), Rect(332.29998779296875, 131.25, 336.86151123046875, 140.25), Rect(360.7900085449219, 120.739990234375, 374.4715270996094, 129.739990234375), Rect(409.6099853515625, 90.739990234375, 414.1715087890625, 99.739990234375), Rect(214.48399353027344, 60.31072235107422, 222.90936279296875, 75.6395492553711)]\n",
            "page 32 of AR_Afghanistan_2019.pdf\n",
            "[Rect(374.80999755859375, 551.2559814453125, 380.40545654296875, 562.2960205078125), Rect(359.2004089355469, 86.54000854492188, 364.7958679199219, 97.58000946044922), Rect(498.42041015625, 86.54000854492188, 504.015869140625, 97.58000946044922), Rect(614.220458984375, 86.54000854492188, 619.81591796875, 97.58000946044922), Rect(683.2504272460938, 86.54000854492188, 688.8458862304688, 97.58000946044922), Rect(612.1795043945312, 100.42999267578125, 617.2276000976562, 110.3899917602539), Rect(631.168701171875, 114.47000122070312, 636.216796875, 124.43000030517578), Rect(677.509765625, 114.47000122070312, 682.557861328125, 124.43000030517578), Rect(695.1392211914062, 128.38998413085938, 700.1873168945312, 138.34999084472656), Rect(348.2900085449219, 142.30999755859375, 353.3381042480469, 152.27000427246094), Rect(603.4299926757812, 156.23001098632812, 608.4780883789062, 166.1900177001953), Rect(674.97998046875, 156.23001098632812, 680.028076171875, 166.1900177001953), Rect(510.1988525390625, 170.14999389648438, 515.2469482421875, 180.11000061035156), Rect(515.2485961914062, 184.10000610351562, 520.2966918945312, 194.0600128173828), Rect(621.0692138671875, 184.10000610351562, 631.1670532226562, 194.0600128173828), Rect(682.5595092773438, 184.10000610351562, 687.6076049804688, 194.0600128173828), Rect(344.45001220703125, 212.42001342773438, 349.49810791015625, 222.38002014160156), Rect(379.9473876953125, 212.42001342773438, 384.9954833984375, 222.38002014160156), Rect(483.6700134277344, 212.42001342773438, 488.7181091308594, 222.38002014160156), Rect(496.27935791015625, 212.42001342773438, 501.32745361328125, 222.38002014160156), Rect(514.028076171875, 212.42001342773438, 524.215576171875, 222.38002014160156), Rect(599.469970703125, 212.42001342773438, 604.51806640625, 222.38002014160156), Rect(668.5, 212.42001342773438, 673.548095703125, 222.38002014160156), Rect(411.6199951171875, 247.35000610351562, 418.7359619140625, 261.3900146484375), Rect(693.5, 385.94000244140625, 698.0615234375, 394.94000244140625), Rect(693.5, 402.80999755859375, 698.0615234375, 411.80999755859375), Rect(693.5, 419.71002197265625, 698.0615234375, 428.71002197265625), Rect(693.5, 436.58001708984375, 698.0615234375, 445.58001708984375)]\n",
            "page 33 of AR_Afghanistan_2019.pdf\n",
            "[Rect(374.80999755859375, 551.2559814453125, 380.40545654296875, 562.2960205078125)]\n",
            "page 34 of AR_Afghanistan_2019.pdf\n",
            "[Rect(374.80999755859375, 551.2559814453125, 386.0454406738281, 562.2960205078125), Rect(156.6103973388672, 126.3800048828125, 162.20587158203125, 137.4199981689453), Rect(217.3303985595703, 126.3800048828125, 222.92587280273438, 137.4199981689453), Rect(277.96038818359375, 126.3800048828125, 283.55584716796875, 137.4199981689453), Rect(341.0804138183594, 126.3800048828125, 346.6758728027344, 137.4199981689453), Rect(210.25039672851562, 140.29998779296875, 215.8458709716797, 151.33998107910156), Rect(257.4200134277344, 154.22000122070312, 263.0154724121094, 165.25999450683594), Rect(268.5704345703125, 154.22000122070312, 274.1658935546875, 165.25999450683594), Rect(320.45001220703125, 154.22000122070312, 326.04547119140625, 165.25999450683594), Rect(210.25039672851562, 182.08999633789062, 215.8458709716797, 193.12998962402344), Rect(257.4200134277344, 182.08999633789062, 263.0154724121094, 193.12998962402344), Rect(288.11126708984375, 182.08999633789062, 293.70672607421875, 193.12998962402344), Rect(320.45001220703125, 182.08999633789062, 326.04547119140625, 193.12998962402344), Rect(488.0400085449219, 268.9599914550781, 492.6015319824219, 277.9599914550781), Rect(559.75, 268.9599914550781, 564.3115234375, 277.9599914550781), Rect(631.4600219726562, 268.9599914550781, 636.0215454101562, 277.9599914550781), Rect(703.1799926757812, 268.9599914550781, 707.7415161132812, 277.9599914550781), Rect(559.75, 223.02999877929688, 564.3115234375, 232.02999877929688), Rect(621.1400146484375, 154.48001098632812, 625.7015380859375, 163.48001098632812), Rect(646.2049560546875, 154.48001098632812, 650.7664794921875, 163.48001098632812), Rect(692.8599853515625, 146.6099853515625, 697.4215087890625, 155.6099853515625), Rect(421.0299987792969, 184.510009765625, 425.5915222167969, 193.510009765625), Rect(421.0299987792969, 168.35000610351562, 425.5915222167969, 177.35000610351562), Rect(633.739990234375, 293.1300048828125, 638.301513671875, 302.1300048828125), Rect(110.70999145507812, 334.1499938964844, 115.27151489257812, 343.1499938964844), Rect(198.0, 300.052001953125, 202.5736846923828, 309.0760192871094), Rect(207.12326049804688, 300.052001953125, 211.6969451904297, 309.0760192871094), Rect(198.0, 255.1099853515625, 202.5615234375, 264.1099853515625), Rect(149.63999938964844, 376.58001708984375, 154.20152282714844, 385.58001708984375), Rect(182.27999877929688, 376.58001708984375, 186.84152221679688, 385.58001708984375), Rect(214.89999389648438, 376.58001708984375, 219.46151733398438, 385.58001708984375), Rect(247.5399932861328, 376.58001708984375, 252.1015167236328, 385.58001708984375)]\n",
            "page 35 of AR_Afghanistan_2019.pdf\n",
            "[Rect(374.80999755859375, 551.2559814453125, 380.40545654296875, 562.2960205078125), Rect(437.5603942871094, 33.959991455078125, 443.1558532714844, 44.9999885559082), Rect(213.6199951171875, 33.959991455078125, 224.85546875, 44.9999885559082)]\n",
            "page 0 of AR_Afghanistan_2019.pdf\n",
            "[]\n",
            "page 1 of AR_Afghanistan_2019.pdf\n",
            "[]\n",
            "page 2 of AR_Afghanistan_2019.pdf\n",
            "[Rect(696.7000122070312, 223.010009765625, 702.2954711914062, 234.0500030517578)]\n",
            "page 3 of AR_Afghanistan_2019.pdf\n",
            "[]\n",
            "page 4 of AR_Afghanistan_2019.pdf\n",
            "[Rect(469.1499938964844, 307.4389953613281, 475.77508544921875, 319.94525146484375)]\n",
            "page 5 of AR_Afghanistan_2019.pdf\n",
            "[Rect(397.7300109863281, 551.2559814453125, 403.3254699707031, 562.2960205078125), Rect(469.1499938964844, 406.6789855957031, 475.77508544921875, 419.18524169921875)]\n",
            "page 6 of AR_Afghanistan_2019.pdf\n",
            "[Rect(469.1499938964844, 494.90899658203125, 475.77508544921875, 507.4152526855469)]\n",
            "page 7 of AR_Afghanistan_2019.pdf\n",
            "[Rect(497.1099853515625, 127.50899505615234, 503.7350769042969, 140.01524353027344), Rect(329.3299865722656, 165.90899658203125, 335.955078125, 178.4152374267578), Rect(342.5299987792969, 165.90899658203125, 349.15509033203125, 178.4152374267578), Rect(256.70001220703125, 165.90899658203125, 263.3251037597656, 178.4152374267578), Rect(408.5299987792969, 406.6789855957031, 415.15509033203125, 419.18524169921875), Rect(563.1099853515625, 432.5989685058594, 569.7350463867188, 445.105224609375), Rect(375.530029296875, 471.02899169921875, 382.1551208496094, 483.5352478027344), Rect(469.1499938964844, 495.9889831542969, 475.77508544921875, 508.4952392578125), Rect(382.1300354003906, 520.824951171875, 388.755126953125, 533.3312377929688)]\n",
            "page 8 of AR_Afghanistan_2019.pdf\n",
            "[Rect(236.89999389648438, 290.97900390625, 243.5250701904297, 303.4852600097656), Rect(462.54998779296875, 351.958984375, 469.1750793457031, 364.4652404785156), Rect(462.54998779296875, 387.5989685058594, 469.1750793457031, 400.105224609375), Rect(462.54998779296875, 450.8689880371094, 469.1750793457031, 463.375244140625), Rect(462.54998779296875, 488.3089904785156, 469.1750793457031, 500.81524658203125), Rect(289.7300109863281, 488.3089904785156, 296.3551025390625, 500.81524658203125), Rect(355.7300109863281, 500.6689758300781, 362.3551025390625, 513.1752319335938)]\n",
            "page 9 of AR_Afghanistan_2019.pdf\n",
            "[Rect(462.54998779296875, 64.14900970458984, 475.77508544921875, 76.65525817871094), Rect(462.54998779296875, 101.58898162841797, 469.1750793457031, 114.09523010253906), Rect(462.54998779296875, 164.8289794921875, 469.1750793457031, 177.33522033691406), Rect(462.54998779296875, 189.81900024414062, 469.1750793457031, 202.3252410888672), Rect(462.54998779296875, 215.73898315429688, 469.1750793457031, 228.24522399902344), Rect(582.9099731445312, 365.27899169921875, 589.5350341796875, 377.7852478027344), Rect(462.54998779296875, 327.958984375, 469.1750793457031, 340.4652404785156)]\n",
            "page 10 of AR_Afghanistan_2019.pdf\n",
            "[Rect(469.1499938964844, 108.78899383544922, 475.77508544921875, 121.29524230957031)]\n",
            "page 11 of AR_Afghanistan_2019.pdf\n",
            "[Rect(469.1499938964844, 64.14900970458984, 475.77508544921875, 76.65525817871094)]\n",
            "page 12 of AR_Afghanistan_2019.pdf\n",
            "[Rect(530.7100219726562, 163.86898803710938, 537.3350830078125, 176.37522888183594), Rect(352.7300109863281, 466.708984375, 359.3551025390625, 479.2152404785156), Rect(319.7300109863281, 479.1889953613281, 326.3551025390625, 491.69525146484375)]\n",
            "page 13 of AR_Afghanistan_2019.pdf\n",
            "[Rect(530.7099609375, 226.65899658203125, 537.3350219726562, 239.1652374267578)]\n",
            "page 14 of AR_Afghanistan_2019.pdf\n",
            "[Rect(530.7099609375, 236.85897827148438, 537.3350219726562, 249.36521911621094)]\n",
            "page 15 of AR_Afghanistan_2019.pdf\n",
            "[Rect(400.6099853515625, 551.2559814453125, 406.2054443359375, 562.2960205078125), Rect(530.7099609375, 380.7590026855469, 537.3350219726562, 393.2652587890625), Rect(370.010009765625, 393.1189880371094, 376.6351013183594, 405.625244140625), Rect(383.21002197265625, 393.1189880371094, 389.8351135253906, 405.625244140625), Rect(290.69000244140625, 393.1189880371094, 297.3150939941406, 405.625244140625)]\n",
            "page 16 of AR_Afghanistan_2019.pdf\n",
            "[Rect(396.5299987792969, 241.65899658203125, 403.15509033203125, 254.1652374267578), Rect(524.1099853515625, 284.2590026855469, 530.7350463867188, 296.7652587890625), Rect(524.1099853515625, 339.47900390625, 530.7350463867188, 351.9852600097656), Rect(433.2500305175781, 339.47900390625, 439.8751220703125, 351.9852600097656), Rect(524.1099853515625, 364.4389953613281, 530.7350463867188, 376.94525146484375), Rect(524.1099853515625, 389.27899169921875, 530.7350463867188, 401.7852478027344), Rect(524.1099853515625, 426.718994140625, 537.3350219726562, 439.2252502441406), Rect(524.1099853515625, 464.0690002441406, 530.7350463867188, 476.57525634765625)]\n",
            "page 17 of AR_Afghanistan_2019.pdf\n",
            "[Rect(524.1099853515625, 63.668968200683594, 530.7350463867188, 76.17521667480469), Rect(524.1099853515625, 238.65899658203125, 530.7350463867188, 251.1652374267578), Rect(290.69000244140625, 238.65899658203125, 297.3150939941406, 251.1652374267578), Rect(713.6199951171875, 351.3589782714844, 720.2450561523438, 363.865234375), Rect(524.1099853515625, 351.3589782714844, 530.7350463867188, 363.865234375), Rect(524.1099853515625, 406.4389953613281, 530.7350463867188, 418.94525146484375)]\n",
            "page 18 of AR_Afghanistan_2019.pdf\n",
            "[Rect(530.7099609375, 211.41897583007812, 537.3350219726562, 223.9252166748047)]\n",
            "page 19 of AR_Afghanistan_2019.pdf\n",
            "[Rect(597.7899780273438, 227.73898315429688, 604.4150390625, 240.24522399902344)]\n",
            "page 20 of AR_Afghanistan_2019.pdf\n",
            "[]\n",
            "page 21 of AR_Afghanistan_2019.pdf\n",
            "[Rect(622.2699584960938, 161.708984375, 628.89501953125, 174.21522521972656), Rect(507.9100036621094, 518.7779541015625, 514.02294921875, 529.8287353515625)]\n",
            "page 22 of AR_Afghanistan_2019.pdf\n",
            "[Rect(656.97998046875, 65.58194732666016, 663.0929565429688, 76.63272857666016), Rect(590.469970703125, 232.77194213867188, 596.5829467773438, 243.82272338867188), Rect(663.0999755859375, 259.4119567871094, 669.2129516601562, 270.4627380371094), Rect(644.97998046875, 378.3519592285156, 651.0929565429688, 389.4027404785156)]\n",
            "page 23 of AR_Afghanistan_2019.pdf\n",
            "[]\n",
            "page 24 of AR_Afghanistan_2019.pdf\n",
            "[Rect(168.74000549316406, 269.6189880371094, 175.36508178710938, 282.125244140625), Rect(492.07000732421875, 493.468994140625, 498.6950988769531, 505.9752502441406)]\n",
            "page 25 of AR_Afghanistan_2019.pdf\n",
            "[Rect(400.6099853515625, 551.2559814453125, 406.2054443359375, 562.2960205078125), Rect(275.40032958984375, 331.4048767089844, 280.9203186035156, 346.1322326660156), Rect(447.403564453125, 331.4048767089844, 452.9235534667969, 346.1322326660156)]\n",
            "page 26 of AR_Afghanistan_2019.pdf\n",
            "[Rect(431.57000732421875, 194.37899780273438, 438.1950988769531, 206.88523864746094), Rect(346.73004150390625, 251.37899780273438, 353.3551330566406, 263.88525390625), Rect(431.57000732421875, 289.2989807128906, 438.1950988769531, 301.80523681640625), Rect(431.5700378417969, 351.5989685058594, 438.19512939453125, 364.105224609375), Rect(451.37005615234375, 351.5989685058594, 457.9951477050781, 364.105224609375), Rect(477.77008056640625, 351.5989685058594, 484.3951721191406, 364.105224609375), Rect(300.530029296875, 351.5989685058594, 307.1551208496094, 364.105224609375), Rect(320.3300476074219, 351.5989685058594, 326.95513916015625, 364.105224609375), Rect(346.7300720214844, 351.5989685058594, 353.35516357421875, 364.105224609375), Rect(431.5700378417969, 370.4389953613281, 438.19512939453125, 382.94525146484375), Rect(444.7700500488281, 370.4389953613281, 451.3951416015625, 382.94525146484375), Rect(293.9000244140625, 370.4389953613281, 300.5251159667969, 382.94525146484375), Rect(307.10003662109375, 370.4389953613281, 313.7251281738281, 382.94525146484375), Rect(708.219970703125, 410.39898681640625, 714.8450317382812, 422.9052429199219), Rect(453.1803894042969, 412.2699890136719, 458.7758483886719, 423.30999755859375), Rect(461.4493713378906, 412.2699890136719, 467.0448303222656, 423.30999755859375), Rect(315.5204162597656, 412.2699890136719, 321.1158752441406, 423.30999755859375), Rect(323.7893981933594, 412.2699890136719, 329.3848571777344, 423.30999755859375), Rect(458.6612548828125, 432.9100036621094, 464.2567138671875, 443.95001220703125), Rect(321.021240234375, 432.9100036621094, 326.61669921875, 443.95001220703125)]\n",
            "page 27 of AR_Afghanistan_2019.pdf\n",
            "[Rect(350.80999755859375, 171.78900146484375, 357.4350891113281, 184.2952423095703), Rect(557.8298950195312, 333.2389831542969, 564.4549560546875, 345.7452392578125), Rect(584.2297973632812, 333.2389831542969, 590.8548583984375, 345.7452392578125), Rect(642.7897338867188, 487.2289733886719, 649.414794921875, 499.7352294921875), Rect(307.9400329589844, 499.708984375, 314.56512451171875, 512.2152099609375)]\n",
            "page 28 of AR_Afghanistan_2019.pdf\n",
            "[Rect(618.589111328125, 489.94000244140625, 629.8718872070312, 495.9169616699219), Rect(416.2190856933594, 508.6600036621094, 427.50189208984375, 514.636962890625)]\n",
            "page 29 of AR_Afghanistan_2019.pdf\n",
            "[Rect(673.8999633789062, 217.05899047851562, 680.5250244140625, 229.5652313232422), Rect(427.7300109863281, 217.05899047851562, 434.3551025390625, 229.5652313232422), Rect(458.4700012207031, 238.29898071289062, 465.0950927734375, 250.8052215576172), Rect(615.9099731445312, 255.69900512695312, 622.5350341796875, 268.20526123046875), Rect(427.7300109863281, 255.69900512695312, 434.3551025390625, 268.20526123046875), Rect(193.5800018310547, 255.69900512695312, 200.205078125, 268.20526123046875), Rect(640.0599975585938, 273.0989990234375, 653.2850341796875, 285.6052551269531), Rect(458.4700012207031, 273.0989990234375, 465.0950927734375, 285.6052551269531), Rect(694.780029296875, 290.6189880371094, 701.4050903320312, 303.125244140625), Rect(646.6599731445312, 290.6189880371094, 653.2850341796875, 303.125244140625), Rect(701.3800048828125, 308.03900146484375, 708.0050659179688, 320.5452575683594), Rect(458.4700012207031, 308.03900146484375, 465.0950927734375, 320.5452575683594), Rect(701.3800048828125, 342.8389892578125, 708.0050659179688, 355.3452453613281), Rect(670.6599731445312, 342.8389892578125, 677.2850341796875, 355.3452453613281), Rect(458.4700012207031, 360.2389831542969, 465.0950927734375, 372.7452392578125), Rect(162.97999572753906, 360.2389831542969, 169.60507202148438, 372.7452392578125), Rect(701.3800048828125, 395.15899658203125, 708.0050659179688, 407.6652526855469), Rect(458.4700012207031, 395.15899658203125, 465.0950927734375, 407.6652526855469), Rect(427.7300109863281, 415.5589904785156, 434.3551025390625, 428.06524658203125), Rect(266.8999938964844, 469.1089782714844, 273.52508544921875, 481.615234375), Rect(461.1099853515625, 482.0690002441406, 467.7350769042969, 494.57525634765625), Rect(270.260009765625, 482.0690002441406, 276.8851013183594, 494.57525634765625)]\n",
            "page 30 of AR_Afghanistan_2019.pdf\n",
            "[Rect(654.3098754882812, 166.94000244140625, 659.9053344726562, 177.97999572753906), Rect(631.9000244140625, 181.85000610351562, 637.4954833984375, 192.88999938964844), Rect(652.87939453125, 211.73001098632812, 658.474853515625, 222.77000427246094), Rect(304.5812683105469, 156.739990234375, 310.1767272949219, 167.7799835205078), Rect(42.28200149536133, 208.26998901367188, 46.84352493286133, 217.26998901367188), Rect(490.5889587402344, 336.3999938964844, 495.1504821777344, 345.3999938964844), Rect(485.8999938964844, 322.1499938964844, 490.4615173339844, 331.1499938964844)]\n",
            "page 31 of AR_Afghanistan_2019.pdf\n",
            "[Rect(427.6099853515625, 125.989990234375, 432.1715087890625, 134.989990234375), Rect(436.72998046875, 125.989990234375, 441.29150390625, 134.989990234375), Rect(534.8900146484375, 147.72198486328125, 539.4636840820312, 156.74598693847656), Rect(516.0, 166.510009765625, 525.1215209960938, 175.510009765625), Rect(404.4700012207031, 392.29998779296875, 409.0315246582031, 401.29998779296875), Rect(313.53997802734375, 367.5119934082031, 322.67364501953125, 376.5360107421875), Rect(235.65989685058594, 244.49200439453125, 240.23358154296875, 253.51600646972656), Rect(213.02000427246094, 228.01998901367188, 217.58152770996094, 237.01998901367188), Rect(275.2799987792969, 111.739990234375, 279.8415222167969, 120.739990234375), Rect(307.53997802734375, 115.4620132446289, 312.1136779785156, 124.48600769042969), Rect(371.41998291015625, 91.47998046875, 375.98150634765625, 100.47998046875)]\n",
            "page 32 of AR_Afghanistan_2019.pdf\n",
            "[Rect(617.229248046875, 100.42999267578125, 622.27734375, 110.3899917602539), Rect(492.5597229003906, 114.47000122070312, 497.6078186035156, 124.43000030517578), Rect(608.479736328125, 114.47000122070312, 613.52783203125, 124.43000030517578), Rect(621.0594482421875, 128.38998413085938, 626.1075439453125, 138.34999084472656), Rect(510.1988525390625, 142.30999755859375, 515.2469482421875, 152.27000427246094), Rect(605.9500122070312, 142.30999755859375, 610.9981079101562, 152.27000427246094), Rect(628.6389770507812, 142.30999755859375, 633.6870727539062, 152.27000427246094), Rect(692.6192016601562, 156.23001098632812, 697.6672973632812, 166.1900177001953), Rect(608.479736328125, 170.14999389648438, 613.52783203125, 180.11000061035156), Rect(626.1189575195312, 170.14999389648438, 636.216796875, 180.11000061035156), Rect(672.4600219726562, 170.14999389648438, 677.5081176757812, 180.11000061035156), Rect(373.49884033203125, 184.10000610351562, 378.54693603515625, 194.0600128173828), Rect(492.5597229003906, 184.10000610351562, 497.6078186035156, 194.0600128173828), Rect(631.168701171875, 184.10000610351562, 636.216796875, 194.0600128173828), Rect(610.999755859375, 198.01998901367188, 616.0478515625, 207.97999572753906), Rect(681.1094360351562, 212.42001342773438, 686.1575317382812, 222.38002014160156)]\n",
            "page 33 of AR_Afghanistan_2019.pdf\n",
            "[]\n",
            "page 34 of AR_Afghanistan_2019.pdf\n",
            "[Rect(276.9608459472656, 140.29998779296875, 282.5563049316406, 151.33998107910156), Rect(204.73040771484375, 154.22000122070312, 210.3258819580078, 165.25999450683594), Rect(229.7911834716797, 154.22000122070312, 235.38665771484375, 165.25999450683594), Rect(276.9608459472656, 154.22000122070312, 282.5563049316406, 165.25999450683594), Rect(155.53182983398438, 168.1400146484375, 161.12730407714844, 179.1800079345703), Rect(204.73040771484375, 182.08999633789062, 210.3258819580078, 193.12998962402344), Rect(351.1412658691406, 182.08999633789062, 356.7367248535156, 193.12998962402344), Rect(555.1900024414062, 223.02999877929688, 559.7515258789062, 232.02999877929688), Rect(717.9249267578125, 146.6099853515625, 722.4864501953125, 155.6099853515625), Rect(421.0299987792969, 152.20001220703125, 425.5915222167969, 161.20001220703125), Rect(705.4600219726562, 293.1300048828125, 710.0215454101562, 302.1300048828125), Rect(322.8289794921875, 335.7300109863281, 327.3905029296875, 344.7300109863281), Rect(202.56300354003906, 330.5199890136719, 207.12452697753906, 339.5199890136719), Rect(223.0650177001953, 330.5199890136719, 227.6265411376953, 339.5199890136719), Rect(114.17101287841797, 301.70001220703125, 118.73253631591797, 310.70001220703125), Rect(213.9544219970703, 300.052001953125, 218.52810668945312, 309.0760192871094), Rect(31.416000366210938, 299.510009765625, 35.97752380371094, 308.510009765625)]\n",
            "page 35 of AR_Afghanistan_2019.pdf\n",
            "[Rect(380.4499816894531, 551.2559814453125, 386.0454406738281, 562.2960205078125)]\n",
            "page 0 of AR_Afghanistan_2019.pdf\n",
            "[]\n",
            "page 1 of AR_Afghanistan_2019.pdf\n",
            "[]\n",
            "page 2 of AR_Afghanistan_2019.pdf\n",
            "[Rect(696.7000122070312, 255.17001342773438, 702.2954711914062, 266.21002197265625), Rect(258.2599792480469, 319.6300048828125, 263.8554382324219, 330.6700134277344), Rect(258.2599792480469, 351.7900085449219, 263.8554382324219, 362.83001708984375)]\n",
            "page 3 of AR_Afghanistan_2019.pdf\n",
            "[Rect(647.6199951171875, 271.53900146484375, 660.8450317382812, 284.0452575683594), Rect(574.989990234375, 296.4989929199219, 581.6150512695312, 309.0052490234375), Rect(552.4299926757812, 352.1990051269531, 565.655029296875, 364.70526123046875), Rect(115.45999908447266, 352.1990051269531, 122.08507537841797, 364.70526123046875)]\n",
            "page 4 of AR_Afghanistan_2019.pdf\n",
            "[Rect(469.1499938964844, 332.27899169921875, 475.77508544921875, 344.7852478027344), Rect(121.69999694824219, 476.4289855957031, 128.3250732421875, 488.93524169921875)]\n",
            "page 5 of AR_Afghanistan_2019.pdf\n",
            "[Rect(375.5299987792969, 90.0689926147461, 382.15509033203125, 102.57524108886719), Rect(283.1300048828125, 90.0689926147461, 289.7550964355469, 102.57524108886719), Rect(469.1499938964844, 457.5889892578125, 475.77508544921875, 470.0952453613281), Rect(322.7300109863281, 520.824951171875, 329.3551025390625, 533.3312377929688)]\n",
            "page 6 of AR_Afghanistan_2019.pdf\n",
            "[Rect(397.7300109863281, 551.2559814453125, 403.3254699707031, 562.2960205078125), Rect(309.530029296875, 254.13897705078125, 316.1551208496094, 266.6452331542969), Rect(236.89999389648438, 329.8789978027344, 250.1250762939453, 342.38525390625), Rect(302.9300231933594, 354.8389892578125, 309.55511474609375, 367.3452453613281), Rect(223.70001220703125, 519.864990234375, 230.32508850097656, 532.3712768554688)]\n",
            "page 7 of AR_Afghanistan_2019.pdf\n",
            "[Rect(503.7099914550781, 127.50899505615234, 510.3350830078125, 140.01524353027344), Rect(469.1499938964844, 108.78899383544922, 475.77508544921875, 121.29524230957031), Rect(395.3299865722656, 108.78899383544922, 401.955078125, 121.29524230957031), Rect(230.3000030517578, 153.42898559570312, 236.92507934570312, 165.9352264404297), Rect(269.92999267578125, 266.6189880371094, 276.5550842285156, 279.125244140625), Rect(316.1300048828125, 279.0989990234375, 322.7550964355469, 291.6052551269531), Rect(276.5299987792969, 317.39898681640625, 283.15509033203125, 329.9052429199219), Rect(309.530029296875, 317.39898681640625, 316.1551208496094, 329.9052429199219), Rect(309.530029296875, 355.7989807128906, 316.1551208496094, 368.30523681640625), Rect(421.7300109863281, 406.6789855957031, 428.3551025390625, 419.18524169921875), Rect(276.5299987792969, 420.1189880371094, 283.15509033203125, 432.625244140625), Rect(469.1499938964844, 520.824951171875, 475.77508544921875, 533.3312377929688)]\n",
            "page 8 of AR_Afghanistan_2019.pdf\n",
            "[Rect(421.7300109863281, 126.5489730834961, 428.3551025390625, 139.0552215576172), Rect(556.5099487304688, 152.468994140625, 563.135009765625, 164.97523498535156), Rect(289.7300109863281, 239.61898803710938, 296.3551025390625, 252.12522888183594), Rect(441.5299987792969, 277.0589904785156, 448.15509033203125, 289.56524658203125), Rect(296.33001708984375, 387.5989685058594, 302.9551086425781, 400.105224609375), Rect(516.9099731445312, 463.3489685058594, 523.5350341796875, 475.855224609375), Rect(276.5299987792969, 450.8689880371094, 283.15509033203125, 463.375244140625), Rect(335.92999267578125, 500.6689758300781, 342.5550842285156, 513.1752319335938)]\n",
            "page 9 of AR_Afghanistan_2019.pdf\n",
            "[Rect(469.1499938964844, 101.58898162841797, 475.77508544921875, 114.09523010253906), Rect(462.54998779296875, 403.6789855957031, 469.1750793457031, 416.18524169921875), Rect(309.5299987792969, 416.15899658203125, 316.15509033203125, 428.6652526855469), Rect(462.54998779296875, 429.5989685058594, 469.1750793457031, 442.105224609375), Rect(462.54998779296875, 504.3849792480469, 469.1750793457031, 516.8912353515625)]\n",
            "page 10 of AR_Afghanistan_2019.pdf\n",
            "[Rect(462.54998779296875, 70.38899993896484, 469.1750793457031, 82.89524841308594), Rect(462.54998779296875, 108.78899383544922, 469.1750793457031, 121.29524230957031), Rect(462.54998779296875, 165.90899658203125, 475.77508544921875, 178.4152374267578), Rect(462.54998779296875, 216.69900512695312, 469.1750793457031, 229.2052459716797), Rect(462.54998779296875, 242.61898803710938, 469.1750793457031, 255.12522888183594), Rect(462.54998779296875, 293.4989929199219, 469.1750793457031, 306.0052490234375), Rect(462.54998779296875, 331.9189758300781, 469.1750793457031, 344.42523193359375), Rect(141.50001525878906, 403.4389953613281, 148.12509155273438, 415.94525146484375), Rect(121.69999694824219, 509.1849670410156, 128.3250732421875, 521.6912231445312)]\n",
            "page 11 of AR_Afghanistan_2019.pdf\n",
            "[Rect(469.1499938964844, 101.58898162841797, 475.77508544921875, 114.09523010253906), Rect(121.69999694824219, 311.7590026855469, 128.3250732421875, 324.2652587890625)]\n",
            "page 12 of AR_Afghanistan_2019.pdf\n",
            "[Rect(530.7100219726562, 189.3389892578125, 537.3350830078125, 201.84523010253906), Rect(359.33001708984375, 353.9989929199219, 365.9551086425781, 366.5052490234375), Rect(299.92999267578125, 479.1889953613281, 306.5550842285156, 491.69525146484375), Rect(346.1300048828125, 504.6249694824219, 352.7550964355469, 517.1312255859375)]\n",
            "page 13 of AR_Afghanistan_2019.pdf\n",
            "[Rect(438.5299987792969, 226.65899658203125, 445.15509033203125, 239.1652374267578), Rect(346.1300048828125, 226.65899658203125, 352.7550964355469, 239.1652374267578), Rect(530.7099609375, 264.5789794921875, 537.3350219726562, 277.0852355957031), Rect(297.2900085449219, 277.0589904785156, 303.91510009765625, 289.56524658203125)]\n",
            "page 14 of AR_Afghanistan_2019.pdf\n",
            "[Rect(530.7099609375, 291.9389953613281, 537.3350219726562, 304.44525146484375), Rect(332.92999267578125, 379.6789855957031, 339.5550842285156, 392.18524169921875)]\n",
            "page 15 of AR_Afghanistan_2019.pdf\n",
            "[Rect(337.4900207519531, 217.65899658203125, 344.1151123046875, 230.1652374267578), Rect(297.2900085449219, 305.3789978027344, 310.5151062011719, 317.88525390625), Rect(449.45001220703125, 342.8389892578125, 456.0751037597656, 355.3452453613281), Rect(297.2900085449219, 380.7590026855469, 303.91510009765625, 393.2652587890625), Rect(530.7099609375, 443.5489807128906, 537.3350219726562, 456.05523681640625), Rect(491.3500061035156, 518.304931640625, 497.97509765625, 530.8112182617188), Rect(454.6300048828125, 530.7849731445312, 461.2550964355469, 543.291259765625)]\n",
            "page 16 of AR_Afghanistan_2019.pdf\n",
            "[Rect(400.6099853515625, 551.2559814453125, 406.2054443359375, 562.2960205078125), Rect(337.7300109863281, 118.86898040771484, 344.3551025390625, 131.37522888183594), Rect(370.73004150390625, 118.86898040771484, 377.3551330566406, 131.37522888183594), Rect(366.2900390625, 173.94900512695312, 372.9151306152344, 186.4552459716797), Rect(409.7300109863281, 241.65899658203125, 416.3551025390625, 254.1652374267578), Rect(303.7699890136719, 284.2590026855469, 310.39508056640625, 296.7652587890625), Rect(530.7099609375, 464.0690002441406, 537.3350219726562, 476.57525634765625), Rect(384.413818359375, 476.5489807128906, 391.0389099121094, 489.05523681640625)]\n",
            "page 17 of AR_Afghanistan_2019.pdf\n",
            "[Rect(427.010009765625, 175.86898803710938, 433.6351013183594, 188.37522888183594), Rect(426.6500244140625, 213.218994140625, 433.2751159667969, 225.72523498535156), Rect(524.1099853515625, 461.6689758300781, 530.7350463867188, 474.17523193359375)]\n",
            "page 18 of AR_Afghanistan_2019.pdf\n",
            "[Rect(524.1099853515625, 63.668968200683594, 530.7350463867188, 76.17521667480469), Rect(524.1099853515625, 118.86898040771484, 530.7350463867188, 131.37522888183594), Rect(713.6199951171875, 173.94900512695312, 720.2450561523438, 186.4552459716797), Rect(524.1099853515625, 173.94900512695312, 530.7350463867188, 186.4552459716797), Rect(524.1099853515625, 211.41897583007812, 530.7350463867188, 223.9252166748047), Rect(524.1099853515625, 236.85897827148438, 537.3350219726562, 249.36521911621094), Rect(335.57000732421875, 438.2690124511719, 342.1950988769531, 450.7752685546875), Rect(614.7100219726562, 501.5090026855469, 621.3350830078125, 514.0152587890625)]\n",
            "page 19 of AR_Afghanistan_2019.pdf\n",
            "[Rect(713.6199951171875, 76.62899017333984, 720.2450561523438, 89.13523864746094), Rect(445.9700012207031, 152.468994140625, 452.5950927734375, 164.97523498535156), Rect(355.3700256347656, 246.93899536132812, 361.9951171875, 259.44525146484375), Rect(335.57000732421875, 290.97900390625, 342.1950988769531, 303.4852600097656)]\n",
            "page 20 of AR_Afghanistan_2019.pdf\n",
            "[]\n",
            "page 21 of AR_Afghanistan_2019.pdf\n",
            "[Rect(613.8699340820312, 199.65899658203125, 620.4949951171875, 212.1652374267578), Rect(649.4199829101562, 238.77899169921875, 656.0450439453125, 251.2852325439453), Rect(713.6199951171875, 301.65899658203125, 720.2450561523438, 314.1652526855469), Rect(467.5899963378906, 301.65899658203125, 474.215087890625, 314.1652526855469)]\n",
            "page 22 of AR_Afghanistan_2019.pdf\n",
            "[Rect(713.6199951171875, 245.13897705078125, 720.2450561523438, 257.6452331542969)]\n",
            "page 23 of AR_Afghanistan_2019.pdf\n",
            "[Rect(713.6199951171875, 203.61898803710938, 720.2450561523438, 216.12522888183594), Rect(474.19000244140625, 379.0790100097656, 487.41510009765625, 391.58526611328125)]\n",
            "page 24 of AR_Afghanistan_2019.pdf\n",
            "[Rect(708.219970703125, 106.38896942138672, 714.8450317382812, 118.89521789550781), Rect(445.989990234375, 189.5789794921875, 452.6150817871094, 202.08522033691406), Rect(630.8200073242188, 236.13897705078125, 637.445068359375, 248.6452178955078), Rect(708.219970703125, 307.1990051269531, 714.8450317382812, 319.70526123046875), Rect(410.2099914550781, 493.468994140625, 416.8350830078125, 505.9752502441406), Rect(346.1300048828125, 506.5450134277344, 352.7550964355469, 519.05126953125), Rect(708.219970703125, 531.864990234375, 714.8450317382812, 544.3712768554688), Rect(584.5900268554688, 531.864990234375, 591.215087890625, 544.3712768554688)]\n",
            "page 25 of AR_Afghanistan_2019.pdf\n",
            "[Rect(558.1900024414062, 193.65899658203125, 564.8150634765625, 206.1652374267578), Rect(624.219970703125, 207.3389892578125, 630.8450317382812, 219.84523010253906), Rect(708.219970703125, 250.77899169921875, 714.8450317382812, 263.2852478027344), Rect(569.5900268554688, 331.4048767089844, 575.1100463867188, 346.1322326660156)]\n",
            "page 26 of AR_Afghanistan_2019.pdf\n",
            "[Rect(400.6099853515625, 551.2559814453125, 406.2054443359375, 562.2960205078125), Rect(464.5700378417969, 194.37899780273438, 471.19512939453125, 206.88523864746094), Rect(464.5700378417969, 289.2989807128906, 471.19512939453125, 301.80523681640625), Rect(293.9300231933594, 290.6189880371094, 300.55511474609375, 303.125244140625), Rect(405.1700134277344, 351.5989685058594, 411.79510498046875, 364.105224609375), Rect(274.1300048828125, 351.5989685058594, 280.7550964355469, 364.105224609375), Rect(490.9700927734375, 370.4389953613281, 497.5951843261719, 382.94525146484375), Rect(353.3000793457031, 370.4389953613281, 359.9251708984375, 382.94525146484375), Rect(329.1800537109375, 452.1889953613281, 335.8051452636719, 464.69525146484375)]\n",
            "page 27 of AR_Afghanistan_2019.pdf\n",
            "[Rect(568.9898071289062, 171.78900146484375, 575.6148681640625, 184.2952423095703), Rect(155.1800079345703, 171.78900146484375, 161.80508422851562, 184.2952423095703), Rect(188.18003845214844, 171.78900146484375, 194.80511474609375, 184.2952423095703), Rect(590.8297729492188, 333.2389831542969, 604.0548095703125, 345.7452392578125), Rect(392.57000732421875, 333.2389831542969, 399.1950988769531, 345.7452392578125), Rect(432.1700439453125, 333.2389831542969, 438.7951354980469, 345.7452392578125), Rect(270.0200500488281, 333.2389831542969, 276.6451416015625, 345.7452392578125), Rect(583.3899536132812, 487.2289733886719, 590.0150146484375, 499.7352294921875), Rect(609.7898559570312, 487.2289733886719, 616.4149169921875, 499.7352294921875), Rect(274.94000244140625, 499.708984375, 281.5650939941406, 512.2152099609375)]\n",
            "page 28 of AR_Afghanistan_2019.pdf\n",
            "[Rect(386.92999267578125, 136.38897705078125, 393.5550842285156, 148.8952178955078), Rect(545.7100219726562, 136.38897705078125, 552.3350830078125, 148.8952178955078), Rect(386.92999267578125, 188.25900268554688, 393.5550842285156, 200.76524353027344), Rect(545.7100219726562, 188.25900268554688, 552.3350830078125, 200.76524353027344), Rect(462.7991027832031, 517.5399780273438, 474.0819091796875, 523.5169677734375), Rect(416.2190856933594, 514.6600341796875, 427.50189208984375, 520.6370239257812), Rect(140.78907775878906, 505.6600036621094, 152.0718994140625, 511.636962890625)]\n",
            "page 29 of AR_Afghanistan_2019.pdf\n",
            "[Rect(694.780029296875, 217.05899047851562, 701.4050903320312, 229.5652313232422), Rect(615.9099731445312, 238.29898071289062, 622.5350341796875, 250.8052215576172), Rect(193.5800018310547, 273.0989990234375, 200.205078125, 285.6052551269531), Rect(701.3800048828125, 290.6189880371094, 708.0050659179688, 303.125244140625), Rect(670.6599731445312, 325.4389953613281, 677.2850341796875, 337.94525146484375), Rect(193.5800018310547, 360.2389831542969, 200.205078125, 372.7452392578125)]\n",
            "page 30 of AR_Afghanistan_2019.pdf\n",
            "[Rect(636.21044921875, 107.29998779296875, 641.805908203125, 118.3399887084961), Rect(666.7803344726562, 107.29998779296875, 672.3757934570312, 118.3399887084961), Rect(631.9000244140625, 122.29998779296875, 637.4954833984375, 133.33998107910156), Rect(643.0504760742188, 152.05999755859375, 648.6459350585938, 163.09999084472656), Rect(643.0504760742188, 181.85000610351562, 648.6459350585938, 192.88999938964844), Rect(662.5913696289062, 196.73001098632812, 668.1868286132812, 207.77000427246094), Rect(298.95086669921875, 125.05999755859375, 304.54632568359375, 136.09999084472656), Rect(298.95086669921875, 156.739990234375, 304.54632568359375, 167.7799835205078), Rect(239.2420196533203, 212.1099853515625, 243.8035430908203, 221.1099853515625), Rect(46.84199905395508, 410.17999267578125, 51.40352249145508, 419.17999267578125), Rect(46.845001220703125, 352.47998046875, 51.406524658203125, 361.47998046875), Rect(46.845001220703125, 294.7900085449219, 51.406524658203125, 303.7900085449219), Rect(46.845001220703125, 237.1099853515625, 51.406524658203125, 246.1099853515625), Rect(560.2730102539062, 350.53997802734375, 564.8345336914062, 359.53997802734375), Rect(585.3739624023438, 350.53997802734375, 589.9354858398438, 359.53997802734375), Rect(510.42999267578125, 406.47998046875, 514.9915161132812, 415.47998046875), Rect(476.5959777832031, 373.1199951171875, 481.1575012207031, 382.1199951171875), Rect(495.0259704589844, 322.1499938964844, 499.5874938964844, 331.1499938964844), Rect(532.4049682617188, 314.3900146484375, 536.9664916992188, 323.3900146484375)]\n",
            "page 31 of AR_Afghanistan_2019.pdf\n",
            "[Rect(516.9400024414062, 210.760009765625, 521.5015258789062, 219.760009765625), Rect(547.6300048828125, 315.7900085449219, 552.1915283203125, 324.7900085449219), Rect(438.82000732421875, 378.03997802734375, 443.38153076171875, 387.03997802734375), Rect(308.9800109863281, 367.5119934082031, 313.5537109375, 376.5360107421875), Rect(267.0999450683594, 306.0019836425781, 271.67364501953125, 315.0260009765625), Rect(257.3500061035156, 271.5299987792969, 261.9115295410156, 280.5299987792969), Rect(208.4600067138672, 228.01998901367188, 213.0215301513672, 237.01998901367188), Rect(261.78997802734375, 206.23199462890625, 266.3636779785156, 215.25599670410156), Rect(240.13999938964844, 170.989990234375, 244.70152282714844, 179.989990234375), Rect(277.6099853515625, 125.989990234375, 282.1715087890625, 134.989990234375), Rect(279.8399963378906, 111.739990234375, 284.4015197753906, 120.739990234375), Rect(316.659912109375, 115.4620132446289, 321.2336120605469, 124.48600769042969), Rect(345.97998046875, 131.25, 350.54150390625, 140.25), Rect(374.4700012207031, 120.739990234375, 379.0315246582031, 129.739990234375), Rect(384.04998779296875, 83.989990234375, 388.61151123046875, 92.989990234375)]\n",
            "page 32 of AR_Afghanistan_2019.pdf\n",
            "[Rect(370.350830078125, 86.54000854492188, 375.9462890625, 97.58000946044922), Rect(357.159423828125, 100.42999267578125, 362.20751953125, 110.3899917602539), Rect(634.8684692382812, 100.42999267578125, 639.9165649414062, 110.3899917602539), Rect(676.1597290039062, 100.42999267578125, 681.2078247070312, 110.3899917602539), Rect(703.8984375, 100.42999267578125, 708.946533203125, 110.3899917602539), Rect(370.9788513183594, 114.47000122070312, 376.0269470214844, 124.43000030517578), Rect(505.1491394042969, 114.47000122070312, 515.2469482421875, 124.43000030517578), Rect(613.5294799804688, 114.47000122070312, 618.5775756835938, 124.43000030517578), Rect(672.4600219726562, 114.47000122070312, 677.5081176757812, 124.43000030517578), Rect(500.0896911621094, 128.38998413085938, 505.1377868652344, 138.34999084472656), Rect(505.1491394042969, 142.30999755859375, 510.1972351074219, 152.27000427246094), Rect(610.999755859375, 142.30999755859375, 616.0478515625, 152.27000427246094), Rect(682.5595092773438, 142.30999755859375, 687.6076049804688, 152.27000427246094), Rect(613.5294799804688, 156.23001098632812, 618.5775756835938, 166.1900177001953), Rect(505.1491394042969, 170.14999389648438, 510.1972351074219, 180.11000061035156), Rect(613.5294799804688, 170.14999389648438, 618.5775756835938, 180.11000061035156), Rect(682.5595092773438, 170.14999389648438, 687.6076049804688, 180.11000061035156), Rect(700.19873046875, 184.10000610351562, 705.246826171875, 194.0600128173828), Rect(352.0096435546875, 212.42001342773438, 357.0577392578125, 222.38002014160156), Rect(374.80804443359375, 212.42001342773438, 379.85614013671875, 222.38002014160156), Rect(607.0296630859375, 212.42001342773438, 612.0777587890625, 222.38002014160156), Rect(617.129150390625, 212.42001342773438, 622.17724609375, 222.38002014160156), Rect(56.59142303466797, 486.2619934082031, 61.16511154174805, 495.2860107421875), Rect(56.63399887084961, 378.1099853515625, 61.19552230834961, 387.1099853515625), Rect(56.63399887084961, 269.9200134277344, 61.19552230834961, 278.9200134277344), Rect(702.6199951171875, 385.94000244140625, 707.1815185546875, 394.94000244140625)]\n",
            "page 33 of AR_Afghanistan_2019.pdf\n",
            "[]\n",
            "page 34 of AR_Afghanistan_2019.pdf\n",
            "[Rect(167.7607879638672, 126.3800048828125, 173.35626220703125, 137.4199981689453), Rect(199.10000610351562, 140.29998779296875, 204.6954803466797, 151.33998107910156), Rect(135.97999572753906, 155.38998413085938, 141.028076171875, 165.34999084472656), Rect(148.5793914794922, 155.38998413085938, 153.62747192382812, 165.34999084472656), Rect(263.0504150390625, 154.22000122070312, 268.6458740234375, 165.25999450683594), Rect(282.4808654785156, 154.22000122070312, 288.0763244628906, 165.25999450683594), Rect(345.5108642578125, 154.22000122070312, 351.1063232421875, 165.25999450683594), Rect(135.97999572753906, 182.08999633789062, 141.57546997070312, 193.12998962402344), Rect(263.0504150390625, 182.08999633789062, 274.1658935546875, 193.12998962402344), Rect(345.6212463378906, 182.08999633789062, 351.2167053222656, 193.12998962402344), Rect(497.1600036621094, 268.9599914550781, 501.7215270996094, 277.9599914550781), Rect(481.20001220703125, 252.739990234375, 485.76153564453125, 261.739990234375), Rect(625.7030029296875, 154.48001098632812, 634.8275146484375, 163.48001098632812), Rect(713.3619384765625, 146.6099853515625, 717.9234619140625, 155.6099853515625), Rect(425.5899963378906, 265.2699890136719, 430.1515197753906, 274.2699890136719), Rect(425.5899963378906, 232.95999145507812, 430.1515197753906, 241.95999145507812), Rect(425.5899963378906, 200.66000366210938, 430.1515197753906, 209.66000366210938), Rect(425.5899963378906, 168.35000610351562, 430.1515197753906, 177.35000610351562), Rect(200.27999877929688, 342.30999755859375, 204.84152221679688, 351.30999755859375), Rect(211.656005859375, 342.30999755859375, 216.217529296875, 351.30999755859375), Rect(101.58999633789062, 334.1499938964844, 106.15151977539062, 343.1499938964844), Rect(202.57516479492188, 300.052001953125, 207.1488494873047, 309.0760192871094), Rect(218.5295867919922, 300.052001953125, 223.103271484375, 309.0760192871094), Rect(218.50201416015625, 255.1099853515625, 223.06353759765625, 264.1099853515625), Rect(158.75999450683594, 376.58001708984375, 163.32151794433594, 385.58001708984375)]\n",
            "page 35 of AR_Afghanistan_2019.pdf\n",
            "[]\n",
            "page 0 of AR_Afghanistan_2019.pdf\n",
            "[]\n",
            "page 1 of AR_Afghanistan_2019.pdf\n",
            "[]\n",
            "page 2 of AR_Afghanistan_2019.pdf\n",
            "[Rect(696.7000122070312, 287.3299865722656, 702.2954711914062, 298.3699951171875), Rect(258.2599792480469, 383.9499816894531, 263.8554382324219, 394.989990234375)]\n",
            "page 3 of AR_Afghanistan_2019.pdf\n",
            "[Rect(106.33999633789062, 121.50899505615234, 112.96507263183594, 134.01524353027344), Rect(693.8200073242188, 133.98898315429688, 700.445068359375, 146.49522399902344), Rect(707.0199584960938, 133.98898315429688, 713.64501953125, 146.49522399902344), Rect(462.7900085449219, 432.718994140625, 469.41510009765625, 445.2252502441406)]\n",
            "page 4 of AR_Afghanistan_2019.pdf\n",
            "[Rect(469.1499938964844, 382.1990051269531, 475.77508544921875, 394.70526123046875)]\n",
            "page 5 of AR_Afghanistan_2019.pdf\n",
            "[Rect(382.1300048828125, 90.0689926147461, 388.7550964355469, 102.57524108886719), Rect(115.0999984741211, 159.66897583007812, 121.7250747680664, 172.1752166748047), Rect(134.90000915527344, 159.66897583007812, 141.52508544921875, 172.1752166748047), Rect(469.1499938964844, 482.4289855957031, 475.77508544921875, 494.93524169921875), Rect(121.69999694824219, 520.824951171875, 128.3250732421875, 533.3312377929688)]\n",
            "page 6 of AR_Afghanistan_2019.pdf\n",
            "[Rect(355.7300109863281, 90.0689926147461, 362.3551025390625, 102.57524108886719), Rect(309.5299987792969, 140.94900512695312, 316.15509033203125, 153.4552459716797), Rect(197.3000030517578, 153.42898559570312, 203.92507934570312, 165.9352264404297), Rect(289.7300109863281, 354.8389892578125, 296.3551025390625, 367.3452453613281), Rect(349.1300048828125, 379.7989807128906, 355.7550964355469, 392.30523681640625), Rect(134.89999389648438, 411.958984375, 141.5250701904297, 424.4652404785156), Rect(569.7100219726562, 444.14898681640625, 576.3350830078125, 456.6552429199219), Rect(434.92999267578125, 444.14898681640625, 441.5550842285156, 456.6552429199219), Rect(134.77999877929688, 513.6249389648438, 141.4050750732422, 526.1312255859375)]\n",
            "page 7 of AR_Afghanistan_2019.pdf\n",
            "[Rect(397.7300109863281, 551.2559814453125, 403.3254699707031, 562.2960205078125), Rect(469.1499938964844, 153.42898559570312, 475.77508544921875, 165.9352264404297), Rect(263.3000183105469, 165.90899658203125, 269.92510986328125, 178.4152374267578), Rect(434.9300231933594, 291.458984375, 441.55511474609375, 303.9652404785156), Rect(276.5299987792969, 394.1990051269531, 283.15509033203125, 406.70526123046875), Rect(415.1300048828125, 406.6789855957031, 421.7550964355469, 419.18524169921875), Rect(382.1300354003906, 495.9889831542969, 388.755126953125, 508.4952392578125)]\n",
            "page 8 of AR_Afghanistan_2019.pdf\n",
            "[Rect(469.1499938964844, 76.62899017333984, 475.77508544921875, 89.13523864746094), Rect(415.1300048828125, 126.5489730834961, 421.7550964355469, 139.0552215576172), Rect(362.3299865722656, 152.468994140625, 368.955078125, 164.97523498535156), Rect(368.92999267578125, 214.77899169921875, 375.5550842285156, 227.2852325439453), Rect(428.3299865722656, 239.61898803710938, 441.5550842285156, 252.12522888183594), Rect(335.92999267578125, 252.0989990234375, 342.5550842285156, 264.6052551269531), Rect(230.30001831054688, 252.0989990234375, 236.9250946044922, 264.6052551269531), Rect(428.3299865722656, 277.0589904785156, 441.5550842285156, 289.56524658203125), Rect(115.0999984741211, 214.77899169921875, 121.7250747680664, 227.2852325439453), Rect(243.5, 290.97900390625, 250.1250762939453, 303.4852600097656), Rect(421.7300109863281, 424.9189758300781, 428.3551025390625, 437.42523193359375)]\n",
            "page 9 of AR_Afghanistan_2019.pdf\n",
            "[Rect(408.5299987792969, 64.14900970458984, 415.15509033203125, 76.65525817871094), Rect(469.1499938964844, 164.8289794921875, 475.77508544921875, 177.33522033691406)]\n",
            "page 10 of AR_Afghanistan_2019.pdf\n",
            "[Rect(469.1499938964844, 216.69900512695312, 475.77508544921875, 229.2052459716797), Rect(462.54998779296875, 357.8389892578125, 469.1750793457031, 370.3452453613281), Rect(462.54998779296875, 383.7590026855469, 469.1750793457031, 396.2652587890625), Rect(462.54998779296875, 442.708984375, 469.1750793457031, 455.2152404785156), Rect(462.54998779296875, 493.5889892578125, 469.1750793457031, 506.0952453613281)]\n",
            "page 11 of AR_Afghanistan_2019.pdf\n",
            "[Rect(462.54998779296875, 64.14900970458984, 469.1750793457031, 76.65525817871094), Rect(382.1300048828125, 64.14900970458984, 388.7550964355469, 76.65525817871094), Rect(462.54998779296875, 101.58898162841797, 469.1750793457031, 114.09523010253906), Rect(462.54998779296875, 127.50899505615234, 475.77508544921875, 140.01524353027344), Rect(462.54998779296875, 190.77899169921875, 469.1750793457031, 203.2852325439453), Rect(462.54998779296875, 215.73898315429688, 469.1750793457031, 228.24522399902344), Rect(462.54998779296875, 240.69900512695312, 469.1750793457031, 253.2052459716797)]\n",
            "page 12 of AR_Afghanistan_2019.pdf\n",
            "[Rect(530.7100219726562, 271.65899658203125, 537.3350830078125, 284.1652526855469), Rect(332.92999267578125, 391.4389953613281, 339.5550842285156, 403.94525146484375)]\n",
            "page 13 of AR_Afghanistan_2019.pdf\n",
            "[Rect(470.2300109863281, 63.668968200683594, 476.8551025390625, 76.17521667480469), Rect(445.1300048828125, 226.65899658203125, 451.7550964355469, 239.1652374267578), Rect(530.7099609375, 319.7989807128906, 537.3350219726562, 332.30523681640625)]\n",
            "page 14 of AR_Afghanistan_2019.pdf\n",
            "[Rect(530.7099609375, 329.39898681640625, 537.3350219726562, 341.9052429199219), Rect(409.8500061035156, 367.3190002441406, 423.0751037597656, 379.82525634765625)]\n",
            "page 15 of AR_Afghanistan_2019.pdf\n",
            "[Rect(436.25, 342.8389892578125, 442.8750915527344, 355.3452453613281), Rect(412.1300048828125, 367.7989807128906, 418.7550964355469, 380.30523681640625), Rect(297.2900085449219, 393.1189880371094, 303.91510009765625, 405.625244140625), Rect(530.7099609375, 493.3489990234375, 537.3350219726562, 505.8552551269531)]\n",
            "page 16 of AR_Afghanistan_2019.pdf\n",
            "[Rect(497.95001220703125, 63.668968200683594, 504.5751037597656, 76.17521667480469), Rect(332.92999267578125, 229.17898559570312, 339.5550842285156, 241.6852264404297), Rect(403.1300048828125, 241.65899658203125, 409.7550964355469, 254.1652374267578), Rect(451.2500305175781, 364.4389953613281, 457.8751220703125, 376.94525146484375), Rect(428.80999755859375, 389.27899169921875, 435.4350891113281, 401.7852478027344), Rect(377.833984375, 476.5489807128906, 384.4590759277344, 489.05523681640625)]\n",
            "page 17 of AR_Afghanistan_2019.pdf\n",
            "[Rect(400.6099853515625, 551.2559814453125, 406.2054443359375, 562.2960205078125), Rect(530.7099609375, 63.668968200683594, 537.3350219726562, 76.17521667480469), Rect(417.8900146484375, 63.668968200683594, 424.5151062011719, 76.17521667480469), Rect(430.9700012207031, 138.42898559570312, 437.5950927734375, 150.9352264404297), Rect(354.04998779296875, 163.38897705078125, 367.27508544921875, 175.8952178955078), Rect(391.010009765625, 188.37899780273438, 397.6351013183594, 200.88523864746094), Rect(504.5500183105469, 200.73898315429688, 511.17510986328125, 213.24522399902344), Rect(413.45001220703125, 213.218994140625, 426.67510986328125, 225.72523498535156), Rect(297.2900085449219, 238.65899658203125, 303.91510009765625, 251.1652374267578)]\n",
            "page 18 of AR_Afghanistan_2019.pdf\n",
            "[Rect(449.1099853515625, 173.94900512695312, 455.7350769042969, 186.4552459716797), Rect(713.6199951171875, 425.7590026855469, 720.2450561523438, 438.2652587890625), Rect(328.9700012207031, 476.1889953613281, 335.5950927734375, 488.69525146484375), Rect(348.77001953125, 476.1889953613281, 355.3951110839844, 488.69525146484375)]\n",
            "page 19 of AR_Afghanistan_2019.pdf\n",
            "[Rect(624.219970703125, 102.0689926147461, 630.8450317382812, 114.57524108886719), Rect(348.7699890136719, 164.8289794921875, 355.39508056640625, 177.33522033691406), Rect(350.57000732421875, 404.6390075683594, 357.1950988769531, 417.145263671875), Rect(713.6199951171875, 430.0790100097656, 720.2450561523438, 442.58526611328125)]\n",
            "page 20 of AR_Afghanistan_2019.pdf\n",
            "[Rect(713.6199951171875, 127.02898406982422, 720.2450561523438, 139.5352325439453)]\n",
            "page 21 of AR_Afghanistan_2019.pdf\n",
            "[Rect(713.6199951171875, 149.22900390625, 720.2450561523438, 161.73524475097656), Rect(615.6699829101562, 161.708984375, 622.2950439453125, 174.21522521972656), Rect(607.2699584960938, 199.65899658203125, 613.89501953125, 212.1652374267578)]\n",
            "page 22 of AR_Afghanistan_2019.pdf\n",
            "[Rect(713.6199951171875, 154.98898315429688, 720.2450561523438, 167.49522399902344), Rect(707.02001953125, 442.3489685058594, 713.6450805664062, 454.855224609375), Rect(707.02001953125, 482.90899658203125, 713.6450805664062, 495.4152526855469), Rect(707.02001953125, 509.5450134277344, 720.2450561523438, 522.05126953125)]\n",
            "page 23 of AR_Afghanistan_2019.pdf\n",
            "[Rect(707.02001953125, 76.62899017333984, 713.6450805664062, 89.13523864746094), Rect(483.54998779296875, 76.62899017333984, 490.1750793457031, 89.13523864746094), Rect(707.02001953125, 128.3489990234375, 713.6450805664062, 140.85523986816406), Rect(541.030029296875, 140.8289794921875, 547.6550903320312, 153.33522033691406), Rect(554.22998046875, 140.8289794921875, 560.8550415039062, 153.33522033691406), Rect(485.4700012207031, 140.8289794921875, 492.0950927734375, 153.33522033691406), Rect(707.02001953125, 203.61898803710938, 713.6450805664062, 216.12522888183594), Rect(707.02001953125, 266.3789978027344, 713.6450805664062, 278.88525390625), Rect(707.02001953125, 366.5989685058594, 713.6450805664062, 379.105224609375), Rect(708.219970703125, 502.708984375, 714.8450317382812, 515.2152099609375)]\n",
            "page 24 of AR_Afghanistan_2019.pdf\n",
            "[Rect(373.3699951171875, 63.668968200683594, 379.9950866699219, 76.17521667480469), Rect(386.57000732421875, 63.668968200683594, 393.1950988769531, 76.17521667480469), Rect(313.9700012207031, 63.668968200683594, 320.5950927734375, 76.17521667480469), Rect(327.1700134277344, 63.668968200683594, 333.79510498046875, 76.17521667480469), Rect(708.219970703125, 253.29898071289062, 714.8450317382812, 265.80523681640625), Rect(584.5899658203125, 292.2989807128906, 591.2150268554688, 304.80523681640625), Rect(478.989990234375, 307.1990051269531, 485.6150817871094, 319.70526123046875), Rect(477.7900085449219, 348.958984375, 484.41510009765625, 361.4652404785156), Rect(701.6199951171875, 451.1089782714844, 708.2450561523438, 463.615234375), Rect(701.6199951171875, 464.0690002441406, 708.2450561523438, 476.57525634765625), Rect(701.6199951171875, 478.1089782714844, 714.8450317382812, 490.615234375), Rect(701.6199951171875, 492.26898193359375, 708.2450561523438, 504.7752380371094), Rect(701.6199951171875, 506.5450134277344, 708.2450561523438, 519.05126953125), Rect(581.469970703125, 506.5450134277344, 588.0950317382812, 519.05126953125), Rect(339.5299987792969, 506.5450134277344, 346.15509033203125, 519.05126953125), Rect(701.6199951171875, 531.864990234375, 708.2450561523438, 544.3712768554688), Rect(426.1700134277344, 531.864990234375, 432.79510498046875, 544.3712768554688), Rect(333.7699890136719, 531.864990234375, 340.39508056640625, 544.3712768554688), Rect(346.9700012207031, 531.864990234375, 353.5950927734375, 544.3712768554688)]\n",
            "page 25 of AR_Afghanistan_2019.pdf\n",
            "[Rect(701.6199951171875, 63.668968200683594, 708.2450561523438, 76.17521667480469), Rect(701.6199951171875, 89.10897064208984, 708.2450561523438, 101.61521911621094), Rect(701.6199951171875, 128.10897827148438, 708.2450561523438, 140.61521911621094), Rect(701.6199951171875, 142.74899291992188, 708.2450561523438, 155.25523376464844), Rect(708.219970703125, 207.3389892578125, 714.8450317382812, 219.84523010253906), Rect(399.7699890136719, 207.3389892578125, 406.39508056640625, 219.84523010253906), Rect(162.13999938964844, 220.89898681640625, 168.76507568359375, 233.4052276611328), Rect(595.989990234375, 278.7389831542969, 602.6150512695312, 291.2452392578125)]\n",
            "page 26 of AR_Afghanistan_2019.pdf\n",
            "[Rect(274.1300048828125, 194.37899780273438, 280.7550964355469, 206.88523864746094), Rect(346.7300720214844, 194.37899780273438, 353.35516357421875, 206.88523864746094), Rect(320.33001708984375, 251.37899780273438, 326.9551086425781, 263.88525390625), Rect(307.1300354003906, 290.6189880371094, 313.755126953125, 303.125244140625), Rect(326.9300537109375, 290.6189880371094, 333.5551452636719, 303.125244140625), Rect(346.7300720214844, 290.6189880371094, 353.35516357421875, 303.125244140625), Rect(447.54998779296875, 332.8299865722656, 453.14544677734375, 343.8699951171875), Rect(467.07977294921875, 332.8299865722656, 478.19525146484375, 343.8699951171875), Rect(486.5102233886719, 332.8299865722656, 492.1056823730469, 343.8699951171875), Rect(309.8900146484375, 332.8299865722656, 315.4854736328125, 343.8699951171875), Rect(329.4197998046875, 332.8299865722656, 340.5352783203125, 343.8699951171875), Rect(348.8502502441406, 332.8299865722656, 354.4457092285156, 343.8699951171875), Rect(471.1700744628906, 370.4389953613281, 477.795166015625, 382.94525146484375), Rect(333.50006103515625, 370.4389953613281, 340.1251525878906, 382.94525146484375), Rect(433.60040283203125, 432.9100036621094, 444.71588134765625, 443.95001220703125), Rect(295.96038818359375, 432.9100036621094, 307.07586669921875, 443.95001220703125), Rect(335.7800598144531, 452.1889953613281, 342.4051513671875, 464.69525146484375)]\n",
            "page 27 of AR_Afghanistan_2019.pdf\n",
            "[Rect(400.6099853515625, 551.2559814453125, 406.2054443359375, 562.2960205078125), Rect(555.7898559570312, 171.78900146484375, 562.4149169921875, 184.2952423095703), Rect(403.61004638671875, 171.78900146484375, 410.2351379394531, 184.2952423095703), Rect(531.4299926757812, 333.2389831542969, 538.0550537109375, 345.7452392578125), Rect(117.7439956665039, 333.2389831542969, 124.36907196044922, 345.7452392578125), Rect(129.74000549316406, 487.2289733886719, 136.36508178710938, 499.7352294921875), Rect(142.9400177001953, 487.2289733886719, 149.56509399414062, 499.7352294921875)]\n",
            "page 28 of AR_Afghanistan_2019.pdf\n",
            "[Rect(506.1099853515625, 91.98897552490234, 512.7350463867188, 104.49522399902344), Rect(588.0700073242188, 111.1889877319336, 594.695068359375, 123.69523620605469), Rect(588.0700073242188, 136.62899780273438, 594.695068359375, 149.13523864746094), Rect(588.0700073242188, 163.02899169921875, 594.695068359375, 175.5352325439453), Rect(588.0700073242188, 188.49899291992188, 594.695068359375, 201.00523376464844), Rect(729.6856079101562, 286.6099853515625, 738.79345703125, 291.4347839355469), Rect(530.7191162109375, 344.8299865722656, 542.0018920898438, 350.80694580078125), Rect(428.4591064453125, 369.66998291015625, 439.7419128417969, 375.6469421386719), Rect(129.86907958984375, 381.66998291015625, 141.1519012451172, 387.6469421386719), Rect(84.87307739257812, 372.66998291015625, 96.15589141845703, 378.6469421386719), Rect(342.5390930175781, 387.19000244140625, 353.8218994140625, 393.1669616699219), Rect(171.3890838623047, 378.19000244140625, 182.67190551757812, 384.1669616699219), Rect(43.56908416748047, 372.19000244140625, 54.851898193359375, 378.1669616699219), Rect(674.3890991210938, 486.94000244140625, 685.671875, 492.9169616699219), Rect(645.34912109375, 480.94000244140625, 656.6318969726562, 486.9169616699219), Rect(645.34912109375, 492.94000244140625, 656.6318969726562, 498.9169616699219), Rect(618.589111328125, 483.94000244140625, 629.8718872070312, 489.9169616699219), Rect(545.2390747070312, 461.5, 556.5218505859375, 467.4769592285156), Rect(530.7191162109375, 514.6600341796875, 542.0018920898438, 526.6370239257812), Rect(311.819091796875, 505.6600036621094, 323.1018981933594, 511.636962890625), Rect(311.819091796875, 517.6600341796875, 323.1018981933594, 523.6370239257812), Rect(43.569091796875, 514.6600341796875, 54.85191345214844, 526.6370239257812)]\n",
            "page 29 of AR_Afghanistan_2019.pdf\n",
            "[Rect(693.8200073242188, 55.868980407714844, 700.445068359375, 68.37522888183594), Rect(488.2300109863281, 55.868980407714844, 501.4551086425781, 68.37522888183594), Rect(701.3800048828125, 255.69900512695312, 708.0050659179688, 268.20526123046875), Rect(400.3699951171875, 290.6189880371094, 406.9950866699219, 303.125244140625), Rect(135.5, 290.6189880371094, 142.1250762939453, 303.125244140625), Rect(701.3800048828125, 325.4389953613281, 708.0050659179688, 337.94525146484375), Rect(135.5, 342.8389892578125, 142.1250762939453, 355.3452453613281), Rect(646.6599731445312, 377.7590026855469, 653.2850341796875, 390.2652587890625), Rect(523.1500244140625, 482.0690002441406, 529.7750854492188, 494.57525634765625)]\n",
            "page 30 of AR_Afghanistan_2019.pdf\n",
            "[Rect(656.9609375, 122.29998779296875, 662.556396484375, 133.33998107910156), Rect(637.5304565429688, 181.85000610351562, 643.1259155273438, 192.88999938964844), Rect(647.2489624023438, 211.73001098632812, 652.8444213867188, 222.77000427246094), Rect(285.0404357910156, 125.05999755859375, 290.6358947753906, 136.09999084472656), Rect(293.43084716796875, 140.89999389648438, 299.02630615234375, 151.9399871826172), Rect(227.8660125732422, 212.1099853515625, 232.4275360107422, 221.1099853515625), Rect(339.4089660644531, 428.3500061035156, 343.9704895019531, 437.3500061035156), Rect(530.9319458007812, 406.47998046875, 535.4934692382812, 415.47998046875), Rect(490.4629821777344, 322.1499938964844, 495.0245056152344, 331.1499938964844)]\n",
            "page 31 of AR_Afghanistan_2019.pdf\n",
            "[Rect(476.4198913574219, 115.4620132446289, 480.99359130859375, 124.48600769042969), Rect(516.0700073242188, 261.760009765625, 525.1915283203125, 270.760009765625), Rect(238.6599884033203, 291.7900085449219, 243.2215118408203, 300.7900085449219), Rect(248.22999572753906, 271.5299987792969, 257.35150146484375, 280.5299987792969), Rect(246.72000122070312, 256.5299987792969, 251.28152465820312, 265.5299987792969), Rect(255.83999633789062, 256.5299987792969, 260.4015197753906, 265.5299987792969), Rect(226.5399627685547, 244.49200439453125, 231.1136474609375, 253.51600646972656), Rect(217.5800018310547, 228.01998901367188, 222.1415252685547, 237.01998901367188), Rect(226.4600067138672, 170.989990234375, 231.0215301513672, 179.989990234375), Rect(235.5800018310547, 170.989990234375, 240.1415252685547, 179.989990234375), Rect(249.9099884033203, 128.989990234375, 254.4715118408203, 137.989990234375), Rect(302.9800109863281, 115.4620132446289, 307.5537109375, 124.48600769042969), Rect(341.41998291015625, 131.25, 345.98150634765625, 140.25), Rect(393.16998291015625, 83.989990234375, 397.73150634765625, 92.989990234375)]\n",
            "page 32 of AR_Afghanistan_2019.pdf\n",
            "[Rect(509.5708312988281, 86.54000854492188, 515.1663208007812, 97.58000946044922), Rect(353.3397216796875, 114.47000122070312, 358.3878173828125, 124.43000030517578), Rect(487.510009765625, 114.47000122070312, 492.55810546875, 124.43000030517578), Rect(695.1489868164062, 114.47000122070312, 700.1970825195312, 124.43000030517578), Rect(358.3894348144531, 142.30999755859375, 363.4375305175781, 152.27000427246094), Rect(376.028564453125, 142.30999755859375, 381.07666015625, 152.27000427246094), Rect(631.168701171875, 156.23001098632812, 636.216796875, 166.1900177001953), Rect(677.509765625, 170.14999389648438, 682.557861328125, 180.11000061035156), Rect(355.8597106933594, 184.10000610351562, 360.9078063964844, 194.0600128173828), Rect(496.3900146484375, 198.01998901367188, 501.4381103515625, 207.97999572753906), Rect(676.0596923828125, 212.42001342773438, 681.1077880859375, 222.38002014160156), Rect(702.6199951171875, 402.80999755859375, 707.1815185546875, 411.80999755859375)]\n",
            "page 33 of AR_Afghanistan_2019.pdf\n",
            "[]\n",
            "page 34 of AR_Afghanistan_2019.pdf\n",
            "[Rect(228.4807891845703, 126.3800048828125, 234.07626342773438, 137.4199981689453), Rect(158.76846313476562, 155.38998413085938, 163.81654357910156, 165.34999084472656), Rect(331.6004333496094, 154.22000122070312, 337.1958923339844, 165.25999450683594), Rect(339.9908447265625, 168.1400146484375, 345.5863037109375, 179.1800079345703), Rect(150.0008087158203, 182.08999633789062, 155.59628295898438, 193.12998962402344), Rect(218.64080810546875, 182.08999633789062, 224.2362823486328, 193.12998962402344), Rect(568.8699951171875, 268.9599914550781, 573.4315185546875, 277.9599914550781), Rect(490.32000732421875, 252.739990234375, 494.88153076171875, 261.739990234375), Rect(564.3099975585938, 223.02999877929688, 568.8715209960938, 232.02999877929688), Rect(220.78201293945312, 342.30999755859375, 225.34353637695312, 351.30999755859375), Rect(207.12600708007812, 255.1099853515625, 211.68753051757812, 264.1099853515625), Rect(322.8289794921875, 249.95001220703125, 327.3905029296875, 258.95001220703125), Rect(31.416000366210938, 276.80999755859375, 35.97752380371094, 285.80999755859375), Rect(191.39999389648438, 376.58001708984375, 195.96151733398438, 385.58001708984375)]\n",
            "page 35 of AR_Afghanistan_2019.pdf\n",
            "[]\n",
            "page 0 of AR_Afghanistan_2019.pdf\n",
            "[]\n",
            "page 1 of AR_Afghanistan_2019.pdf\n",
            "[]\n",
            "page 2 of AR_Afghanistan_2019.pdf\n",
            "[Rect(696.7000122070312, 319.6300048828125, 702.2954711914062, 330.6700134277344), Rect(258.2599792480469, 416.2300109863281, 263.8554382324219, 427.27001953125)]\n",
            "page 3 of AR_Afghanistan_2019.pdf\n",
            "[Rect(660.699951171875, 352.1990051269531, 667.3250122070312, 364.70526123046875), Rect(460.6300048828125, 352.1990051269531, 467.2550964355469, 364.70526123046875), Rect(660.699951171875, 406.9189758300781, 667.3250122070312, 419.42523193359375), Rect(559.0299682617188, 406.9189758300781, 565.655029296875, 419.42523193359375), Rect(457.3900146484375, 406.9189758300781, 464.0151062011719, 419.42523193359375), Rect(350.80999755859375, 406.9189758300781, 357.4350891113281, 419.42523193359375), Rect(238.10000610351562, 406.9189758300781, 244.72508239746094, 419.42523193359375), Rect(122.05999755859375, 406.9189758300781, 135.2850799560547, 419.42523193359375)]\n",
            "page 4 of AR_Afghanistan_2019.pdf\n",
            "[Rect(121.69999694824219, 248.13897705078125, 128.3250732421875, 260.6452331542969)]\n",
            "page 5 of AR_Afghanistan_2019.pdf\n",
            "[Rect(469.1499938964844, 153.42898559570312, 475.77508544921875, 165.9352264404297), Rect(223.6999969482422, 457.5889892578125, 230.3250732421875, 470.0952453613281), Rect(134.90000915527344, 520.824951171875, 141.52508544921875, 533.3312377929688)]\n",
            "page 6 of AR_Afghanistan_2019.pdf\n",
            "[Rect(302.9300231933594, 153.42898559570312, 309.55511474609375, 165.9352264404297), Rect(469.1499938964844, 204.3389892578125, 475.77508544921875, 216.84523010253906), Rect(309.5299987792969, 279.0989990234375, 316.15509033203125, 291.6052551269531)]\n",
            "page 7 of AR_Afghanistan_2019.pdf\n",
            "[Rect(236.90000915527344, 153.42898559570312, 243.52508544921875, 165.9352264404297), Rect(401.9300231933594, 266.6189880371094, 408.55511474609375, 279.125244140625), Rect(563.1099853515625, 342.3589782714844, 569.7350463867188, 354.865234375), Rect(283.1300048828125, 317.39898681640625, 289.7550964355469, 329.9052429199219), Rect(170.89999389648438, 317.39898681640625, 177.5250701904297, 329.9052429199219), Rect(469.1499938964844, 355.7989807128906, 475.77508544921875, 368.30523681640625), Rect(302.9300231933594, 355.7989807128906, 309.55511474609375, 368.30523681640625), Rect(349.1300048828125, 471.02899169921875, 355.7550964355469, 483.5352478027344), Rect(368.9300231933594, 471.02899169921875, 375.55511474609375, 483.5352478027344), Rect(362.33001708984375, 520.824951171875, 368.9551086425781, 533.3312377929688)]\n",
            "page 8 of AR_Afghanistan_2019.pdf\n",
            "[Rect(397.7300109863281, 551.2559814453125, 403.3254699707031, 562.2960205078125), Rect(434.9300231933594, 89.10897064208984, 441.55511474609375, 101.61521911621094), Rect(203.90000915527344, 202.29898071289062, 210.52508544921875, 214.8052215576172), Rect(309.5299987792969, 227.25900268554688, 316.15509033203125, 239.76524353027344), Rect(296.33001708984375, 239.61898803710938, 302.9551086425781, 252.12522888183594), Rect(197.30001831054688, 239.61898803710938, 203.9250946044922, 252.12522888183594), Rect(349.1300048828125, 252.0989990234375, 355.7550964355469, 264.6052551269531), Rect(469.1499938964844, 351.958984375, 475.77508544921875, 364.4652404785156), Rect(342.5299987792969, 500.6689758300781, 355.7550964355469, 513.1752319335938), Rect(362.33001708984375, 500.6689758300781, 368.9551086425781, 513.1752319335938)]\n",
            "page 9 of AR_Afghanistan_2019.pdf\n",
            "[Rect(134.89999389648438, 355.9189758300781, 141.5250701904297, 368.42523193359375), Rect(469.1499938964844, 403.6789855957031, 475.77508544921875, 416.18524169921875)]\n",
            "page 10 of AR_Afghanistan_2019.pdf\n",
            "[Rect(469.1499938964844, 357.8389892578125, 475.77508544921875, 370.3452453613281)]\n",
            "page 11 of AR_Afghanistan_2019.pdf\n",
            "[Rect(388.7300109863281, 64.14900970458984, 395.3551025390625, 76.65525817871094), Rect(469.1499938964844, 278.01898193359375, 475.77508544921875, 290.5252380371094), Rect(319.010009765625, 314.8789978027344, 325.6351013183594, 327.38525390625)]\n",
            "page 12 of AR_Afghanistan_2019.pdf\n",
            "[Rect(306.5299987792969, 479.1889953613281, 319.7550964355469, 491.69525146484375), Rect(326.33001708984375, 479.1889953613281, 332.9551086425781, 491.69525146484375), Rect(530.7099609375, 504.6249694824219, 537.3350219726562, 517.1312255859375)]\n",
            "page 13 of AR_Afghanistan_2019.pdf\n",
            "[Rect(530.7099609375, 487.2289733886719, 537.3350219726562, 499.7352294921875)]\n",
            "page 14 of AR_Afghanistan_2019.pdf\n",
            "[Rect(290.69000244140625, 291.9389953613281, 297.3150939941406, 304.44525146484375), Rect(530.7099609375, 477.6289978027344, 537.3350219726562, 490.13525390625)]\n",
            "page 15 of AR_Afghanistan_2019.pdf\n",
            "[Rect(375.400390625, 65.89999389648438, 380.995849609375, 76.93999481201172), Rect(442.969970703125, 93.5, 448.5654296875, 104.54000091552734), Rect(483.42999267578125, 255.0989990234375, 490.0550842285156, 267.6052551269531), Rect(303.8900146484375, 380.7590026855469, 310.5151062011719, 393.2652587890625), Rect(406.8500061035156, 505.8249816894531, 413.47509765625, 518.3312377929688)]\n",
            "page 16 of AR_Afghanistan_2019.pdf\n",
            "[Rect(344.33001708984375, 118.86898040771484, 350.9551086425781, 131.37522888183594), Rect(455.2300109863281, 131.3489990234375, 461.8551025390625, 143.85523986816406), Rect(359.6900329589844, 173.94900512695312, 366.31512451171875, 186.4552459716797), Rect(530.7099609375, 284.2590026855469, 537.3350219726562, 296.7652587890625), Rect(406.8500061035156, 339.47900390625, 413.47509765625, 351.9852600097656), Rect(426.6500244140625, 339.47900390625, 433.2751159667969, 351.9852600097656), Rect(442.010009765625, 389.27899169921875, 448.6351013183594, 401.7852478027344), Rect(416.33001708984375, 439.2289733886719, 422.9551086425781, 451.7352294921875)]\n",
            "page 17 of AR_Afghanistan_2019.pdf\n",
            "[Rect(303.77001953125, 125.9489974975586, 310.3951110839844, 138.4552459716797), Rect(297.1700134277344, 150.90899658203125, 303.79510498046875, 163.4152374267578), Rect(433.6100158691406, 175.86898803710938, 440.235107421875, 188.37522888183594), Rect(310.4900207519531, 175.86898803710938, 317.1151123046875, 188.37522888183594), Rect(404.21002197265625, 188.37899780273438, 410.8351135253906, 200.88523864746094), Rect(530.7099609375, 461.6689758300781, 537.3350219726562, 474.17523193359375)]\n",
            "page 18 of AR_Afghanistan_2019.pdf\n",
            "[Rect(400.6099853515625, 551.2559814453125, 406.2054443359375, 562.2960205078125), Rect(455.7099914550781, 173.94900512695312, 462.3350830078125, 186.4552459716797), Rect(584.5899658203125, 400.3190002441406, 591.2150268554688, 412.82525634765625), Rect(335.57000732421875, 387.8389892578125, 342.1950988769531, 400.3452453613281), Rect(713.6199951171875, 501.5090026855469, 720.2450561523438, 514.0152587890625)]\n",
            "page 19 of AR_Afghanistan_2019.pdf\n",
            "[Rect(348.7699890136719, 221.49899291992188, 355.39508056640625, 234.00523376464844), Rect(363.77001953125, 404.6390075683594, 370.3951110839844, 417.145263671875)]\n",
            "page 20 of AR_Afghanistan_2019.pdf\n",
            "[]\n",
            "page 21 of AR_Afghanistan_2019.pdf\n",
            "[Rect(713.6199951171875, 238.77899169921875, 720.2450561523438, 251.2852325439453), Rect(663.0999755859375, 504.9779357910156, 669.2129516601562, 516.0287475585938)]\n",
            "page 22 of AR_Afghanistan_2019.pdf\n",
            "[Rect(663.0999755859375, 65.58194732666016, 669.2129516601562, 76.63272857666016), Rect(595.7461547851562, 130.26193237304688, 601.859130859375, 141.31271362304688), Rect(713.6199951171875, 218.37899780273438, 720.2450561523438, 230.88523864746094), Rect(506.7061462402344, 339.7119445800781, 518.8248901367188, 350.7627258300781), Rect(530.9389038085938, 339.7119445800781, 537.0518798828125, 350.7627258300781), Rect(543.1712036132812, 339.7119445800781, 549.2841796875, 350.7627258300781), Rect(626.4961547851562, 417.5919494628906, 632.609130859375, 428.6427307128906), Rect(650.9607543945312, 417.5919494628906, 669.2066650390625, 428.6427307128906)]\n",
            "page 23 of AR_Afghanistan_2019.pdf\n",
            "[Rect(713.6199951171875, 128.3489990234375, 720.2450561523438, 140.85523986816406), Rect(487.3900146484375, 379.0790100097656, 494.0151062011719, 391.58526611328125)]\n",
            "page 24 of AR_Afghanistan_2019.pdf\n",
            "[Rect(333.77001953125, 63.668968200683594, 340.3951110839844, 76.17521667480469), Rect(708.219970703125, 81.6689682006836, 714.8450317382812, 94.17521667480469), Rect(708.219970703125, 292.2989807128906, 714.8450317382812, 304.80523681640625), Rect(708.219970703125, 506.5450134277344, 714.8450317382812, 519.05126953125), Rect(232.6999969482422, 506.5450134277344, 239.3250732421875, 519.05126953125), Rect(86.30400085449219, 506.5450134277344, 92.9290771484375, 519.05126953125)]\n",
            "page 25 of AR_Afghanistan_2019.pdf\n",
            "[Rect(708.219970703125, 236.49899291992188, 714.8450317382812, 249.00523376464844), Rect(701.6199951171875, 371.7590026855469, 708.2450561523438, 384.2652587890625), Rect(472.3900146484375, 371.7590026855469, 479.0151062011719, 384.2652587890625)]\n",
            "page 26 of AR_Afghanistan_2019.pdf\n",
            "[Rect(353.330078125, 194.37899780273438, 359.9551696777344, 206.88523864746094), Rect(320.33001708984375, 232.53900146484375, 326.9551086425781, 245.0452423095703), Rect(326.9300231933594, 251.37899780273438, 333.55511474609375, 263.88525390625), Rect(353.330078125, 290.6189880371094, 359.9551696777344, 303.125244140625), Rect(453.1803894042969, 332.8299865722656, 458.7758483886719, 343.8699951171875), Rect(480.9902038574219, 332.8299865722656, 486.5856628417969, 343.8699951171875), Rect(315.5204162597656, 332.8299865722656, 321.1158752441406, 343.8699951171875), Rect(343.3302307128906, 332.8299865722656, 348.9256896972656, 343.8699951171875), Rect(424.97003173828125, 351.5989685058594, 431.5951232910156, 364.105224609375), Rect(293.9300231933594, 351.5989685058594, 300.55511474609375, 364.105224609375), Rect(405.1700134277344, 370.4389953613281, 411.79510498046875, 382.94525146484375), Rect(267.5, 370.4389953613281, 274.1250915527344, 382.94525146484375), Rect(447.54998779296875, 412.2699890136719, 453.14544677734375, 423.30999755859375), Rect(309.8900146484375, 412.2699890136719, 315.4854736328125, 423.30999755859375), Rect(447.5108337402344, 432.9100036621094, 453.1062927246094, 443.95001220703125), Rect(309.8708190917969, 432.9100036621094, 315.4662780761719, 443.95001220703125), Rect(421.0100402832031, 452.1889953613281, 427.6351318359375, 464.69525146484375), Rect(282.9800109863281, 452.1889953613281, 289.6051025390625, 464.69525146484375)]\n",
            "page 27 of AR_Afghanistan_2019.pdf\n",
            "[Rect(344.2099914550781, 171.78900146484375, 350.8350830078125, 184.2952423095703), Rect(174.9800262451172, 171.78900146484375, 181.6051025390625, 184.2952423095703), Rect(201.3800506591797, 171.78900146484375, 208.005126953125, 184.2952423095703), Rect(474.42999267578125, 333.2389831542969, 481.0550842285156, 345.7452392578125), Rect(316.97003173828125, 333.1189880371094, 330.19512939453125, 345.625244140625), Rect(210.6199951171875, 333.2389831542969, 217.2450714111328, 345.7452392578125), Rect(263.4200439453125, 333.2389831542969, 270.0451354980469, 345.7452392578125), Rect(104.54399871826172, 333.2389831542969, 111.16907501220703, 345.7452392578125), Rect(603.1898803710938, 487.2289733886719, 609.81494140625, 499.7352294921875), Rect(629.5897827148438, 487.2289733886719, 636.21484375, 499.7352294921875), Rect(519.6699829101562, 499.708984375, 526.2950439453125, 512.2152099609375), Rect(268.3399963378906, 499.708984375, 274.965087890625, 512.2152099609375), Rect(294.7400207519531, 499.708984375, 301.3651123046875, 512.2152099609375)]\n",
            "page 28 of AR_Afghanistan_2019.pdf\n",
            "[Rect(396.04998779296875, 551.2559814453125, 401.64544677734375, 562.2960205078125), Rect(380.3299865722656, 136.38897705078125, 386.955078125, 148.8952178955078), Rect(552.3099975585938, 136.38897705078125, 558.93505859375, 148.8952178955078), Rect(380.3299865722656, 188.25900268554688, 386.955078125, 200.76524353027344), Rect(552.3099975585938, 188.25900268554688, 558.93505859375, 200.76524353027344), Rect(255.6290740966797, 369.66998291015625, 266.9118957519531, 381.6469421386719), Rect(514.0391235351562, 470.5, 525.3218994140625, 476.4769592285156), Rect(487.2790832519531, 517.6600341796875, 498.5618896484375, 523.6370239257812), Rect(342.5390930175781, 505.6600036621094, 353.8218994140625, 517.636962890625), Rect(266.5791015625, 505.6600036621094, 277.8619079589844, 511.636962890625), Rect(171.3890838623047, 520.6600341796875, 182.67190551757812, 526.6370239257812), Rect(72.60907745361328, 511.6600036621094, 83.89189147949219, 517.636962890625)]\n",
            "page 29 of AR_Afghanistan_2019.pdf\n",
            "[Rect(400.3699951171875, 238.29898071289062, 406.9950866699219, 250.8052215576172), Rect(670.6599731445312, 290.6189880371094, 677.2850341796875, 303.125244140625), Rect(670.6599731445312, 308.03900146484375, 677.2850341796875, 320.5452575683594), Rect(135.5, 308.03900146484375, 142.1250762939453, 320.5452575683594), Rect(400.3699951171875, 325.4389953613281, 406.9950866699219, 337.94525146484375), Rect(135.5, 325.4389953613281, 142.1250762939453, 337.94525146484375), Rect(400.3699951171875, 342.8389892578125, 406.9950866699219, 355.3452453613281), Rect(670.6599731445312, 377.7590026855469, 677.2850341796875, 390.2652587890625), Rect(135.5, 377.7590026855469, 142.1250762939453, 390.2652587890625), Rect(400.3699951171875, 395.15899658203125, 406.9950866699219, 407.6652526855469), Rect(536.3499755859375, 482.0690002441406, 542.9750366210938, 494.57525634765625)]\n",
            "page 30 of AR_Afghanistan_2019.pdf\n",
            "[Rect(641.73046875, 107.29998779296875, 647.325927734375, 118.3399887084961), Rect(656.9609375, 152.05999755859375, 662.556396484375, 163.09999084472656), Rect(656.9609375, 196.73001098632812, 662.556396484375, 207.77000427246094), Rect(287.8004455566406, 109.22000122070312, 293.3959045410156, 120.26000213623047), Rect(279.5204162597656, 125.05999755859375, 285.1158752441406, 136.09999084472656), Rect(134.4960174560547, 428.7799987792969, 139.0575408935547, 437.7799987792969), Rect(223.30300903320312, 212.1099853515625, 227.86453247070312, 221.1099853515625), Rect(564.8359985351562, 350.53997802734375, 569.3975219726562, 359.53997802734375), Rect(487.9719543457031, 373.1199951171875, 492.5334777832031, 382.1199951171875), Rect(527.8419799804688, 314.3900146484375, 532.4035034179688, 323.3900146484375)]\n",
            "page 31 of AR_Afghanistan_2019.pdf\n",
            "[Rect(418.489990234375, 95.25, 423.051513671875, 104.25), Rect(427.6099853515625, 95.25, 436.73150634765625, 104.25), Rect(512.3800048828125, 210.760009765625, 516.9415283203125, 219.760009765625), Rect(507.7699890136719, 299.2699890136719, 516.8915405273438, 308.2699890136719), Rect(261.9100036621094, 271.5299987792969, 266.4715270996094, 280.5299987792969), Rect(251.27999877929688, 256.5299987792969, 255.84152221679688, 265.5299987792969), Rect(231.0999298095703, 244.49200439453125, 235.67361450195312, 253.51600646972656), Rect(252.7899932861328, 143.25, 257.35150146484375, 152.25), Rect(261.9100036621094, 143.25, 266.4715270996094, 152.25), Rect(366.8599853515625, 91.47998046875, 371.4215087890625, 100.47998046875)]\n",
            "page 32 of AR_Afghanistan_2019.pdf\n",
            "[Rect(625.3709106445312, 86.54000854492188, 630.9663696289062, 97.58000946044922), Rect(369.74884033203125, 100.42999267578125, 374.79693603515625, 110.3899917602539), Rect(508.9688415527344, 100.42999267578125, 514.0169067382812, 110.3899917602539), Rect(681.20947265625, 100.42999267578125, 686.257568359375, 110.3899917602539), Rect(497.60943603515625, 114.47000122070312, 502.65753173828125, 124.43000030517578), Rect(616.0097045898438, 128.38998413085938, 621.0578002929688, 138.34999084472656), Rect(515.2485961914062, 142.30999755859375, 520.2966918945312, 152.27000427246094), Rect(695.1489868164062, 142.30999755859375, 700.1970825195312, 152.27000427246094), Rect(505.1491394042969, 184.10000610351562, 515.2469482421875, 194.0600128173828), Rect(695.1489868164062, 184.10000610351562, 700.1970825195312, 194.0600128173828), Rect(369.7583312988281, 212.42001342773438, 374.8064270019531, 222.38002014160156), Rect(702.6199951171875, 419.71002197265625, 707.1815185546875, 428.71002197265625)]\n",
            "page 33 of AR_Afghanistan_2019.pdf\n",
            "[Rect(516.7899780273438, 46.920013427734375, 523.3585815429688, 59.8800163269043), Rect(451.3900146484375, 46.920013427734375, 457.9586181640625, 59.8800163269043)]\n",
            "page 34 of AR_Afghanistan_2019.pdf\n",
            "[Rect(289.1108093261719, 126.3800048828125, 294.7062683105469, 137.4199981689453), Rect(334.3604431152344, 140.29998779296875, 339.9559020996094, 151.33998107910156), Rect(326.0804138183594, 154.22000122070312, 331.6758728027344, 165.25999450683594), Rect(229.79119873046875, 182.08999633789062, 235.3866729736328, 193.12998962402344), Rect(276.9608459472656, 182.08999633789062, 282.5563049316406, 193.12998962402344), Rect(640.5800170898438, 268.9599914550781, 645.1415405273438, 277.9599914550781), Rect(573.4299926757812, 223.02999877929688, 577.9915161132812, 232.02999877929688), Rect(637.0789794921875, 154.48001098632812, 641.6405029296875, 163.48001098632812), Rect(109.6080093383789, 256.2200012207031, 114.1695327758789, 265.2200012207031), Rect(202.56300354003906, 255.1099853515625, 207.12452697753906, 264.1099853515625), Rect(224.01998901367188, 376.58001708984375, 228.58151245117188, 385.58001708984375)]\n",
            "page 35 of AR_Afghanistan_2019.pdf\n",
            "[Rect(396.4100036621094, 33.959991455078125, 402.0054626464844, 44.9999885559082)]\n",
            "page 0 of AR_Afghanistan_2019.pdf\n",
            "[]\n",
            "page 1 of AR_Afghanistan_2019.pdf\n",
            "[]\n",
            "page 2 of AR_Afghanistan_2019.pdf\n",
            "[Rect(696.7000122070312, 351.7900085449219, 702.2954711914062, 362.83001708984375), Rect(459.77001953125, 350.8789978027344, 466.3951110839844, 363.38525390625), Rect(373.97003173828125, 383.0389709472656, 380.5951232910156, 395.54522705078125)]\n",
            "page 3 of AR_Afghanistan_2019.pdf\n",
            "[Rect(429.77001953125, 259.0589904785156, 436.3951110839844, 271.56524658203125)]\n",
            "page 4 of AR_Afghanistan_2019.pdf\n",
            "[Rect(269.9000244140625, 307.4389953613281, 276.5251159667969, 319.94525146484375)]\n",
            "page 5 of AR_Afghanistan_2019.pdf\n",
            "[Rect(469.1499938964844, 90.0689926147461, 475.77508544921875, 102.57524108886719), Rect(289.7300109863281, 90.0689926147461, 296.3551025390625, 102.57524108886719)]\n",
            "page 6 of AR_Afghanistan_2019.pdf\n",
            "[Rect(469.1499938964844, 90.0689926147461, 475.77508544921875, 102.57524108886719)]\n",
            "page 7 of AR_Afghanistan_2019.pdf\n",
            "[Rect(469.1499938964844, 254.13897705078125, 475.77508544921875, 266.6452331542969), Rect(362.33001708984375, 471.02899169921875, 368.9551086425781, 483.5352478027344), Rect(355.7300109863281, 495.9889831542969, 362.3551025390625, 508.4952392578125)]\n",
            "page 8 of AR_Afghanistan_2019.pdf\n",
            "[Rect(469.1499938964844, 152.468994140625, 475.77508544921875, 164.97523498535156), Rect(223.70001220703125, 315.958984375, 230.32508850097656, 328.4652404785156)]\n",
            "page 9 of AR_Afghanistan_2019.pdf\n",
            "[Rect(397.7300109863281, 551.2559814453125, 403.3254699707031, 562.2960205078125), Rect(469.1499938964844, 215.73898315429688, 475.77508544921875, 228.24522399902344), Rect(141.5, 355.9189758300781, 148.1250762939453, 368.42523193359375)]\n",
            "page 10 of AR_Afghanistan_2019.pdf\n",
            "[Rect(469.1499938964844, 293.4989929199219, 475.77508544921875, 306.0052490234375)]\n",
            "page 11 of AR_Afghanistan_2019.pdf\n",
            "[Rect(329.33001708984375, 64.14900970458984, 335.9551086425781, 76.65525817871094), Rect(469.1499938964844, 215.73898315429688, 475.77508544921875, 228.24522399902344)]\n",
            "page 12 of AR_Afghanistan_2019.pdf\n",
            "[Rect(332.9300231933594, 163.86898803710938, 339.55511474609375, 176.37522888183594), Rect(530.7100219726562, 429.3589782714844, 537.3350830078125, 441.865234375)]\n",
            "page 13 of AR_Afghanistan_2019.pdf\n",
            "[Rect(352.7300109863281, 226.65899658203125, 359.3551025390625, 239.1652374267578), Rect(530.7099609375, 412.3190002441406, 537.3350219726562, 424.82525634765625)]\n",
            "page 14 of AR_Afghanistan_2019.pdf\n",
            "[Rect(530.7099609375, 422.39898681640625, 537.3350219726562, 434.9052429199219)]\n",
            "page 15 of AR_Afghanistan_2019.pdf\n",
            "[]\n",
            "page 16 of AR_Afghanistan_2019.pdf\n",
            "[Rect(530.7099609375, 173.94900512695312, 537.3350219726562, 186.4552459716797), Rect(420.0500183105469, 339.47900390625, 426.67510986328125, 351.9852600097656), Rect(424.8500061035156, 364.4389953613281, 431.47509765625, 376.94525146484375)]\n",
            "page 17 of AR_Afghanistan_2019.pdf\n",
            "[Rect(404.45001220703125, 276.0989990234375, 411.0751037597656, 288.6052551269531), Rect(530.7099609375, 351.3589782714844, 537.3350219726562, 363.865234375)]\n",
            "page 18 of AR_Afghanistan_2019.pdf\n",
            "[]\n",
            "page 19 of AR_Afghanistan_2019.pdf\n",
            "[Rect(400.6099853515625, 551.2559814453125, 406.2054443359375, 562.2960205078125), Rect(355.3699951171875, 221.49899291992188, 361.9950866699219, 234.00523376464844)]\n",
            "page 20 of AR_Afghanistan_2019.pdf\n",
            "[]\n",
            "page 21 of AR_Afghanistan_2019.pdf\n",
            "[]\n",
            "page 22 of AR_Afghanistan_2019.pdf\n",
            "[Rect(518.7066040039062, 339.7119445800781, 524.819580078125, 350.7627258300781), Rect(644.8446044921875, 417.5919494628906, 650.9575805664062, 428.6427307128906), Rect(614.5899658203125, 444.2619323730469, 620.7029418945312, 455.3127136230469), Rect(568.6300048828125, 484.8219299316406, 574.7429809570312, 495.8727111816406)]\n",
            "page 23 of AR_Afghanistan_2019.pdf\n",
            "[]\n",
            "page 24 of AR_Afghanistan_2019.pdf\n",
            "[]\n",
            "page 25 of AR_Afghanistan_2019.pdf\n",
            "[]\n",
            "page 26 of AR_Afghanistan_2019.pdf\n",
            "[Rect(495.7900085449219, 105.1889877319336, 502.41510009765625, 117.69523620605469), Rect(424.9700012207031, 194.37899780273438, 431.5950927734375, 206.88523864746094), Rect(267.5299987792969, 194.37899780273438, 274.15509033203125, 206.88523864746094), Rect(280.7300109863281, 194.37899780273438, 287.3551025390625, 206.88523864746094), Rect(333.5300598144531, 194.37899780273438, 340.1551513671875, 206.88523864746094), Rect(326.9300231933594, 232.53900146484375, 333.55511474609375, 245.0452423095703), Rect(424.9700012207031, 289.2989807128906, 431.5950927734375, 301.80523681640625), Rect(214.8200225830078, 289.2989807128906, 221.44509887695312, 301.80523681640625), Rect(484.3700866699219, 351.5989685058594, 490.99517822265625, 364.105224609375), Rect(353.330078125, 351.5989685058594, 359.9551696777344, 364.105224609375), Rect(438.1700439453125, 370.4389953613281, 444.7951354980469, 382.94525146484375), Rect(484.3700866699219, 370.4389953613281, 490.99517822265625, 382.94525146484375), Rect(300.5000305175781, 370.4389953613281, 307.1251220703125, 382.94525146484375), Rect(346.7000732421875, 370.4389953613281, 353.3251647949219, 382.94525146484375), Rect(478.0806579589844, 432.9100036621094, 483.6761169433594, 443.95001220703125), Rect(340.4406433105469, 432.9100036621094, 346.0361022949219, 443.95001220703125), Rect(460.6100769042969, 452.1889953613281, 467.23516845703125, 464.69525146484375), Rect(342.38006591796875, 452.1889953613281, 349.0051574707031, 464.69525146484375)]\n",
            "page 27 of AR_Afghanistan_2019.pdf\n",
            "[Rect(396.77001953125, 62.829002380371094, 403.3951110839844, 75.33525085449219), Rect(668.7399291992188, 141.18899536132812, 675.364990234375, 153.6952362060547), Rect(502.989990234375, 171.78900146484375, 516.215087890625, 184.2952423095703), Rect(529.3899536132812, 171.78900146484375, 536.0150146484375, 184.2952423095703), Rect(364.010009765625, 171.78900146484375, 370.6351013183594, 184.2952423095703), Rect(397.0100402832031, 171.78900146484375, 403.6351318359375, 184.2952423095703), Rect(161.78001403808594, 171.78900146484375, 168.40509033203125, 184.2952423095703), Rect(538.0299682617188, 333.2389831542969, 551.2550048828125, 345.7452392578125), Rect(564.4298706054688, 333.2389831542969, 571.054931640625, 345.7452392578125), Rect(494.2300109863281, 333.2389831542969, 500.8551025390625, 345.7452392578125), Rect(526.2699584960938, 499.708984375, 532.89501953125, 512.2152099609375), Rect(248.5399932861328, 499.708984375, 255.16506958007812, 512.2152099609375)]\n",
            "page 28 of AR_Afghanistan_2019.pdf\n",
            "[Rect(171.3890838623047, 514.6600341796875, 182.67190551757812, 520.6370239257812), Rect(118.58908081054688, 511.6600036621094, 129.8719024658203, 517.636962890625)]\n",
            "page 29 of AR_Afghanistan_2019.pdf\n",
            "[Rect(396.04998779296875, 551.2559814453125, 401.64544677734375, 562.2960205078125), Rect(646.6599731445312, 308.03900146484375, 653.2850341796875, 320.5452575683594), Rect(400.3699951171875, 308.03900146484375, 406.9950866699219, 320.5452575683594), Rect(643.2999877929688, 360.2389831542969, 649.925048828125, 372.7452392578125), Rect(701.3800048828125, 377.7590026855469, 708.0050659179688, 390.2652587890625), Rect(273.5, 469.1089782714844, 280.1250915527344, 481.615234375), Rect(436.25, 482.0690002441406, 442.8750915527344, 494.57525634765625)]\n",
            "page 30 of AR_Afghanistan_2019.pdf\n",
            "[Rect(628.0179443359375, 34.20001220703125, 634.0999755859375, 46.20001220703125), Rect(651.44091796875, 152.05999755859375, 657.036376953125, 163.09999084472656), Rect(648.679443359375, 166.94000244140625, 654.27490234375, 177.97999572753906), Rect(293.43084716796875, 125.05999755859375, 299.02630615234375, 136.09999084472656), Rect(279.5204162597656, 156.739990234375, 285.1158752441406, 167.7799835205078), Rect(234.67901611328125, 212.1099853515625, 239.24053955078125, 221.1099853515625), Rect(483.4089660644531, 373.1199951171875, 487.9704895019531, 382.1199951171875), Rect(486.0259704589844, 336.3999938964844, 490.5874938964844, 345.3999938964844)]\n",
            "page 31 of AR_Afghanistan_2019.pdf\n",
            "[Rect(478.67999267578125, 154.510009765625, 483.24151611328125, 163.510009765625), Rect(525.1199951171875, 166.510009765625, 529.6815185546875, 175.510009765625), Rect(491.37994384765625, 338.2519836425781, 495.9536437988281, 347.2760009765625), Rect(443.3800048828125, 378.03997802734375, 447.9415283203125, 387.03997802734375), Rect(390.7900085449219, 392.29998779296875, 395.3515319824219, 401.29998779296875), Rect(322.659912109375, 367.5119934082031, 327.2336120605469, 376.5360107421875), Rect(262.53997802734375, 306.0019836425781, 267.1136779785156, 315.0260009765625), Rect(275.4698791503906, 206.23199462890625, 280.0435791015625, 215.25599670410156), Rect(219.02000427246094, 150.760009765625, 228.1415252685547, 159.760009765625), Rect(257.3500061035156, 143.25, 261.9115295410156, 152.25), Rect(231.38815307617188, 60.31072235107422, 239.8135223388672, 75.6395492553711)]\n",
            "page 32 of AR_Afghanistan_2019.pdf\n",
            "[Rect(694.40087890625, 86.54000854492188, 699.996337890625, 97.58000946044922), Rect(348.2900085449219, 114.47000122070312, 353.3381042480469, 124.43000030517578), Rect(365.92913818359375, 114.47000122070312, 370.97723388671875, 124.43000030517578), Rect(603.4299926757812, 114.47000122070312, 608.4780883789062, 124.43000030517578), Rect(365.9194030761719, 128.38998413085938, 370.9674987792969, 138.34999084472656), Rect(497.60943603515625, 142.30999755859375, 502.65753173828125, 152.27000427246094), Rect(690.0992431640625, 142.30999755859375, 695.1473388671875, 152.27000427246094), Rect(687.5694580078125, 156.23001098632812, 692.6175537109375, 166.1900177001953), Rect(618.5394897460938, 198.01998901367188, 628.6373291015625, 207.97999572753906), Rect(491.2296447753906, 212.42001342773438, 496.2777404785156, 222.38002014160156), Rect(702.6199951171875, 436.58001708984375, 707.1815185546875, 445.58001708984375)]\n",
            "page 33 of AR_Afghanistan_2019.pdf\n",
            "[]\n",
            "page 34 of AR_Afghanistan_2019.pdf\n",
            "[Rect(352.2308349609375, 126.3800048828125, 357.8262939453125, 137.4199981689453), Rect(288.11126708984375, 154.22000122070312, 293.70672607421875, 165.25999450683594), Rect(339.9908447265625, 154.22000122070312, 345.5863037109375, 165.25999450683594), Rect(150.0118408203125, 168.1400146484375, 155.60731506347656, 179.1800079345703), Rect(326.0804138183594, 182.08999633789062, 331.6758728027344, 193.12998962402344), Rect(712.2999877929688, 268.9599914550781, 716.8615112304688, 277.9599914550781), Rect(697.4229736328125, 146.6099853515625, 701.9844970703125, 155.6099853515625), Rect(318.2659912109375, 335.7300109863281, 322.8275146484375, 344.7300109863281), Rect(223.10475158691406, 300.052001953125, 227.67843627929688, 309.0760192871094), Rect(213.9390106201172, 255.1099853515625, 218.5005340576172, 264.1099853515625), Rect(31.416000366210938, 254.1300048828125, 35.97752380371094, 263.1300048828125), Rect(256.6600036621094, 376.58001708984375, 261.2215270996094, 385.58001708984375)]\n",
            "page 35 of AR_Afghanistan_2019.pdf\n",
            "[]\n",
            "page 0 of AR_Afghanistan_2019.pdf\n",
            "[]\n",
            "page 1 of AR_Afghanistan_2019.pdf\n",
            "[]\n",
            "page 2 of AR_Afghanistan_2019.pdf\n",
            "[Rect(406.9700012207031, 286.4189758300781, 420.1950988769531, 298.92523193359375), Rect(591.7899780273438, 350.8789978027344, 598.4150390625, 363.38525390625), Rect(453.1700134277344, 350.8789978027344, 459.79510498046875, 363.38525390625), Rect(696.7000122070312, 383.9499816894531, 702.2954711914062, 394.989990234375), Rect(367.3700256347656, 383.0389709472656, 373.9951171875, 395.54522705078125), Rect(591.7899780273438, 415.3190002441406, 598.4150390625, 427.82525634765625), Rect(258.2599792480469, 448.4200134277344, 263.8554382324219, 459.46002197265625)]\n",
            "page 3 of AR_Afghanistan_2019.pdf\n",
            "[Rect(423.1700134277344, 259.0589904785156, 429.79510498046875, 271.56524658203125), Rect(454.0299987792969, 352.1990051269531, 460.65509033203125, 364.70526123046875), Rect(135.260009765625, 352.1990051269531, 141.8850860595703, 364.70526123046875), Rect(115.45999908447266, 406.9189758300781, 122.08507537841797, 419.42523193359375)]\n",
            "page 4 of AR_Afghanistan_2019.pdf\n",
            "[Rect(469.1499938964844, 144.30899047851562, 475.77508544921875, 156.8152313232422), Rect(469.1499938964844, 264.5789794921875, 475.77508544921875, 277.0852355957031), Rect(263.3000183105469, 307.4389953613281, 269.92510986328125, 319.94525146484375), Rect(276.5299987792969, 382.1990051269531, 289.7550964355469, 394.70526123046875)]\n",
            "page 5 of AR_Afghanistan_2019.pdf\n",
            "[Rect(462.54998779296875, 153.42898559570312, 469.1750793457031, 165.9352264404297), Rect(462.54998779296875, 204.3389892578125, 475.77508544921875, 216.84523010253906), Rect(462.54998779296875, 280.0589904785156, 469.1750793457031, 292.56524658203125), Rect(462.54998779296875, 330.958984375, 475.77508544921875, 343.4652404785156), Rect(462.54998779296875, 406.6789855957031, 469.1750793457031, 419.18524169921875), Rect(462.54998779296875, 457.5889892578125, 469.1750793457031, 470.0952453613281), Rect(462.54998779296875, 482.4289855957031, 469.1750793457031, 494.93524169921875), Rect(462.54998779296875, 508.3450012207031, 469.1750793457031, 520.8512573242188)]\n",
            "page 6 of AR_Afghanistan_2019.pdf\n",
            "[Rect(462.54998779296875, 90.0689926147461, 469.1750793457031, 102.57524108886719), Rect(462.54998779296875, 140.94900512695312, 469.1750793457031, 153.4552459716797), Rect(469.1499938964844, 329.8789978027344, 475.77508544921875, 342.38525390625), Rect(469.1499938964844, 444.14898681640625, 475.77508544921875, 456.6552429199219)]\n",
            "page 7 of AR_Afghanistan_2019.pdf\n",
            "[Rect(223.6999969482422, 153.42898559570312, 230.3250732421875, 165.9352264404297), Rect(335.92999267578125, 165.90899658203125, 342.5550842285156, 178.4152374267578), Rect(296.33001708984375, 317.39898681640625, 302.9551086425781, 329.9052429199219), Rect(462.54998779296875, 355.7989807128906, 469.1750793457031, 368.30523681640625), Rect(462.54998779296875, 394.1990051269531, 475.77508544921875, 406.70526123046875), Rect(462.54998779296875, 420.1189880371094, 469.1750793457031, 432.625244140625), Rect(462.54998779296875, 471.02899169921875, 475.77508544921875, 483.5352478027344), Rect(382.1300354003906, 471.02899169921875, 388.755126953125, 483.5352478027344), Rect(462.54998779296875, 495.9889831542969, 469.1750793457031, 508.4952392578125), Rect(362.33001708984375, 495.9889831542969, 375.55511474609375, 508.4952392578125), Rect(462.54998779296875, 520.824951171875, 469.1750793457031, 533.3312377929688)]\n",
            "page 8 of AR_Afghanistan_2019.pdf\n",
            "[Rect(462.54998779296875, 76.62899017333984, 469.1750793457031, 89.13523864746094), Rect(462.54998779296875, 114.0689926147461, 469.1750793457031, 126.57524108886719), Rect(462.54998779296875, 152.468994140625, 469.1750793457031, 164.97523498535156), Rect(462.54998779296875, 290.97900390625, 469.1750793457031, 303.4852600097656), Rect(469.1499938964844, 387.5989685058594, 475.77508544921875, 400.105224609375), Rect(469.1499938964844, 488.3089904785156, 475.77508544921875, 500.81524658203125)]\n",
            "page 9 of AR_Afghanistan_2019.pdf\n",
            "[Rect(469.1499938964844, 429.5989685058594, 475.77508544921875, 442.105224609375)]\n",
            "page 10 of AR_Afghanistan_2019.pdf\n",
            "[Rect(397.7300109863281, 551.2559814453125, 403.3254699707031, 562.2960205078125), Rect(469.1499938964844, 70.38899993896484, 475.77508544921875, 82.89524841308594), Rect(469.1499938964844, 383.7590026855469, 475.77508544921875, 396.2652587890625), Rect(469.1499938964844, 493.5889892578125, 475.77508544921875, 506.0952453613281)]\n",
            "page 11 of AR_Afghanistan_2019.pdf\n",
            "[Rect(530.7100219726562, 424.1990051269531, 537.3350830078125, 436.70526123046875), Rect(322.7300109863281, 64.14900970458984, 329.3551025390625, 76.65525817871094), Rect(141.50001525878906, 311.7590026855469, 148.12509155273438, 324.2652587890625)]\n",
            "page 12 of AR_Afghanistan_2019.pdf\n",
            "[Rect(530.7100219726562, 125.9489974975586, 537.3350830078125, 138.4552459716797), Rect(326.33001708984375, 163.86898803710938, 332.9551086425781, 176.37522888183594), Rect(346.1300048828125, 189.3389892578125, 359.3551025390625, 201.84523010253906), Rect(524.1099853515625, 504.6249694824219, 530.7350463867188, 517.1312255859375)]\n",
            "page 13 of AR_Afghanistan_2019.pdf\n",
            "[Rect(524.1099853515625, 63.668968200683594, 537.3350219726562, 76.17521667480469), Rect(524.1099853515625, 101.10897064208984, 530.7350463867188, 113.61521911621094), Rect(524.1099853515625, 151.38897705078125, 537.3350219726562, 163.8952178955078), Rect(524.1099853515625, 226.65899658203125, 530.7350463867188, 239.1652374267578), Rect(524.1099853515625, 264.5789794921875, 530.7350463867188, 277.0852355957031), Rect(524.1099853515625, 319.7989807128906, 530.7350463867188, 332.30523681640625), Rect(524.1099853515625, 374.8789978027344, 530.7350463867188, 387.38525390625), Rect(524.1099853515625, 412.3190002441406, 530.7350463867188, 424.82525634765625), Rect(524.1099853515625, 449.6689758300781, 530.7350463867188, 462.17523193359375)]\n",
            "page 14 of AR_Afghanistan_2019.pdf\n",
            "[Rect(530.7099609375, 63.668968200683594, 537.3350219726562, 76.17521667480469), Rect(530.7099609375, 173.94900512695312, 537.3350219726562, 186.4552459716797), Rect(524.1099853515625, 477.6289978027344, 530.7350463867188, 490.13525390625)]\n",
            "page 15 of AR_Afghanistan_2019.pdf\n",
            "[Rect(524.1099853515625, 64.98897552490234, 537.3350219726562, 77.49522399902344), Rect(369.7699890136719, 65.89999389648438, 375.3654479980469, 76.93999481201172), Rect(499.8699951171875, 79.69998168945312, 505.4654541015625, 90.73998260498047), Rect(448.6099548339844, 93.5, 454.2054138183594, 104.54000091552734), Rect(524.1099853515625, 155.3489990234375, 530.7350463867188, 167.85523986816406), Rect(524.1099853515625, 305.3789978027344, 537.3350219726562, 317.88525390625), Rect(524.1099853515625, 380.7590026855469, 530.7350463867188, 393.2652587890625), Rect(290.69000244140625, 380.7590026855469, 297.3150939941406, 393.2652587890625), Rect(376.6100158691406, 393.1189880371094, 383.235107421875, 405.625244140625), Rect(524.1099853515625, 443.5489807128906, 530.7350463867188, 456.05523681640625), Rect(524.1099853515625, 493.3489990234375, 530.7350463867188, 505.8552551269531)]\n",
            "page 16 of AR_Afghanistan_2019.pdf\n",
            "[Rect(524.1099853515625, 118.86898040771484, 530.7350463867188, 131.37522888183594), Rect(357.530029296875, 118.86898040771484, 364.1551208496094, 131.37522888183594), Rect(524.1099853515625, 173.94900512695312, 530.7350463867188, 186.4552459716797), Rect(524.1099853515625, 229.17898559570312, 530.7350463867188, 241.6852264404297), Rect(530.7099609375, 339.47900390625, 537.3350219726562, 351.9852600097656), Rect(439.85003662109375, 339.47900390625, 446.4751281738281, 351.9852600097656), Rect(431.45001220703125, 364.4389953613281, 444.67510986328125, 376.94525146484375), Rect(530.7099609375, 389.27899169921875, 537.3350219726562, 401.7852478027344)]\n",
            "page 17 of AR_Afghanistan_2019.pdf\n",
            "[]\n",
            "page 18 of AR_Afghanistan_2019.pdf\n",
            "[Rect(530.7099609375, 63.668968200683594, 537.3350219726562, 76.17521667480469), Rect(530.7099609375, 173.94900512695312, 537.3350219726562, 186.4552459716797)]\n",
            "page 19 of AR_Afghanistan_2019.pdf\n",
            "[]\n",
            "page 20 of AR_Afghanistan_2019.pdf\n",
            "[Rect(400.6099853515625, 551.2559814453125, 406.2054443359375, 562.2960205078125)]\n",
            "page 21 of AR_Afghanistan_2019.pdf\n",
            "[Rect(514.6300048828125, 265.9700012207031, 520.2254638671875, 277.010009765625)]\n",
            "page 22 of AR_Afghanistan_2019.pdf\n",
            "[]\n",
            "page 23 of AR_Afghanistan_2019.pdf\n",
            "[Rect(442.989990234375, 442.468994140625, 456.215087890625, 454.9752502441406), Rect(294.1700134277344, 463.9490051269531, 307.3951110839844, 476.45526123046875)]\n",
            "page 24 of AR_Afghanistan_2019.pdf\n",
            "[]\n",
            "page 25 of AR_Afghanistan_2019.pdf\n",
            "[]\n",
            "page 26 of AR_Afghanistan_2019.pdf\n",
            "[Rect(627.8200073242188, 105.1889877319336, 634.445068359375, 117.69523620605469), Rect(489.19000244140625, 105.1889877319336, 495.8150939941406, 117.69523620605469), Rect(293.9300231933594, 194.37899780273438, 307.1551208496094, 206.88523864746094), Rect(300.5299987792969, 232.53900146484375, 307.15509033203125, 245.0452423095703), Rect(268.489990234375, 291.5299987792969, 274.08544921875, 302.57000732421875), Rect(333.5300598144531, 290.6189880371094, 340.1551513671875, 303.125244140625), Rect(453.0308532714844, 432.9100036621094, 458.6263122558594, 443.95001220703125), Rect(472.45025634765625, 432.9100036621094, 478.04571533203125, 443.95001220703125), Rect(315.3908386230469, 432.9100036621094, 320.9862976074219, 443.95001220703125), Rect(334.81024169921875, 432.9100036621094, 340.40570068359375, 443.95001220703125), Rect(407.8100280761719, 452.1889953613281, 414.43511962890625, 464.69525146484375), Rect(427.61004638671875, 452.1889953613281, 440.83514404296875, 464.69525146484375), Rect(454.01007080078125, 452.1889953613281, 460.6351623535156, 464.69525146484375), Rect(276.3800048828125, 452.1889953613281, 283.0050964355469, 464.69525146484375)]\n",
            "page 27 of AR_Afghanistan_2019.pdf\n",
            "[Rect(390.1700134277344, 62.829002380371094, 396.79510498046875, 75.33525085449219), Rect(662.1399536132812, 141.18899536132812, 668.7650146484375, 153.6952362060547), Rect(593.9500122070312, 114.5489730834961, 600.5750732421875, 127.05522155761719), Rect(230.4199981689453, 114.5489730834961, 237.04507446289062, 127.05522155761719), Rect(535.9899291992188, 171.78900146484375, 542.614990234375, 184.2952423095703), Rect(148.5800018310547, 171.78900146484375, 155.205078125, 184.2952423095703), Rect(207.9800567626953, 171.78900146484375, 214.60513305664062, 184.2952423095703), Rect(593.9500122070312, 284.2590026855469, 600.5750732421875, 296.7652587890625), Rect(230.4199981689453, 284.2590026855469, 237.04507446289062, 296.7652587890625), Rect(425.5700378417969, 333.2389831542969, 432.19512939453125, 345.7452392578125), Rect(589.9899291992188, 487.2289733886719, 596.614990234375, 499.7352294921875)]\n",
            "page 28 of AR_Afghanistan_2019.pdf\n",
            "[Rect(663.8200073242188, 35.808982849121094, 670.445068359375, 48.31523513793945), Rect(729.6856079101562, 272.2099914550781, 738.79345703125, 281.83477783203125), Rect(545.2390747070312, 473.5, 556.5218505859375, 479.4769592285156), Rect(530.7191162109375, 508.6600036621094, 542.0018920898438, 514.636962890625), Rect(487.2790832519531, 511.6600036621094, 498.5618896484375, 517.636962890625), Rect(342.5390930175781, 517.6600341796875, 353.8218994140625, 523.6370239257812), Rect(140.78907775878906, 511.6600036621094, 152.0718994140625, 523.6370239257812), Rect(95.31307983398438, 520.6600341796875, 106.59589385986328, 526.6370239257812), Rect(43.569087982177734, 508.6600036621094, 54.851905822753906, 514.636962890625)]\n",
            "page 29 of AR_Afghanistan_2019.pdf\n",
            "[Rect(481.6300048828125, 55.868980407714844, 488.2550964355469, 68.37522888183594), Rect(701.3800048828125, 217.05899047851562, 708.0050659179688, 229.5652313232422), Rect(135.5, 238.29898071289062, 142.1250762939453, 250.8052215576172), Rect(135.5, 273.0989990234375, 142.1250762939453, 285.6052551269531), Rect(190.22000122070312, 342.8389892578125, 196.84507751464844, 355.3452453613281), Rect(400.3699951171875, 377.7590026855469, 406.9950866699219, 390.2652587890625), Rect(643.2999877929688, 395.15899658203125, 649.925048828125, 407.6652526855469)]\n",
            "page 30 of AR_Afghanistan_2019.pdf\n",
            "[Rect(380.4499816894531, 551.2559814453125, 386.0454406738281, 562.2960205078125), Rect(622.0179443359375, 34.20001220703125, 628.0999755859375, 46.20001220703125), Rect(613.7415161132812, 77.54000854492188, 619.3369750976562, 88.58000946044922), Rect(655.6298828125, 107.29998779296875, 661.225341796875, 118.3399887084961), Rect(645.930419921875, 137.17999267578125, 651.52587890625, 148.21998596191406), Rect(631.9000244140625, 152.05999755859375, 637.4954833984375, 163.09999084472656), Rect(662.5913696289062, 152.05999755859375, 668.1868286132812, 163.09999084472656), Rect(659.8298950195312, 166.94000244140625, 665.4253540039062, 177.97999572753906), Rect(672.3098754882812, 211.73001098632812, 677.9053344726562, 222.77000427246094), Rect(140.3716583251953, 77.54000854492188, 145.96713256835938, 88.58000946044922), Rect(293.43084716796875, 109.22000122070312, 299.02630615234375, 120.26000213623047), Rect(304.5812683105469, 125.05999755859375, 310.1767272949219, 136.09999084472656), Rect(139.05902099609375, 428.7799987792969, 143.62054443359375, 437.7799987792969), Rect(243.80502319335938, 212.1099853515625, 248.36654663085938, 221.1099853515625), Rect(250.7499542236328, 180.010009765625, 257.8659362792969, 194.0500030517578), Rect(576.2479858398438, 350.53997802734375, 580.8095092773438, 359.53997802734375), Rect(481.9629821777344, 432.5, 486.5245056152344, 441.5), Rect(467.4700012207031, 373.1199951171875, 472.0315246582031, 382.1199951171875), Rect(492.5349426269531, 373.1199951171875, 497.0964660644531, 382.1199951171875), Rect(495.1519470214844, 336.3999938964844, 499.7134704589844, 345.3999938964844), Rect(623.0398559570312, 244.95001220703125, 630.1558227539062, 258.9900207519531)]\n",
            "page 31 of AR_Afghanistan_2019.pdf\n",
            "[Rect(474.1199951171875, 154.510009765625, 478.6815185546875, 163.510009765625), Rect(486.8199768066406, 338.2519836425781, 491.3936767578125, 347.2760009765625), Rect(271.659912109375, 306.0019836425781, 280.7935791015625, 315.0260009765625), Rect(234.09999084472656, 291.7900085449219, 238.66151428222656, 300.7900085449219), Rect(260.3999938964844, 256.5299987792969, 264.9615173339844, 265.5299987792969), Rect(266.3499450683594, 206.23199462890625, 275.4836120605469, 215.25599670410156), Rect(231.02000427246094, 170.989990234375, 235.58152770996094, 179.989990234375), Rect(362.29998779296875, 91.47998046875, 366.86151123046875, 100.47998046875), Rect(388.6099853515625, 83.989990234375, 393.1715087890625, 92.989990234375), Rect(222.9641571044922, 60.31072235107422, 231.3895263671875, 75.6395492553711)]\n",
            "page 32 of AR_Afghanistan_2019.pdf\n",
            "[Rect(364.7204284667969, 86.54000854492188, 370.3158874511719, 97.58000946044922), Rect(503.9404296875, 86.54000854492188, 509.535888671875, 97.58000946044922), Rect(619.740478515625, 86.54000854492188, 625.3359375, 97.58000946044922), Rect(688.7704467773438, 86.54000854492188, 694.3659057617188, 97.58000946044922), Rect(491.3297119140625, 100.42999267578125, 496.3778076171875, 110.3899917602539), Rect(693.7989501953125, 100.42999267578125, 698.8470458984375, 110.3899917602539), Rect(515.2485961914062, 114.47000122070312, 520.2966918945312, 124.43000030517578), Rect(621.0692138671875, 114.47000122070312, 631.1670532226562, 124.43000030517578), Rect(685.0397338867188, 128.38998413085938, 690.0878295898438, 138.34999084472656), Rect(487.510009765625, 142.30999755859375, 492.55810546875, 152.27000427246094), Rect(618.5394897460938, 142.30999755859375, 623.5875854492188, 152.27000427246094), Rect(672.4600219726562, 142.30999755859375, 677.5081176757812, 152.27000427246094), Rect(700.19873046875, 142.30999755859375, 705.246826171875, 152.27000427246094), Rect(621.0692138671875, 156.23001098632812, 631.1670532226562, 166.1900177001953), Rect(697.6689453125, 156.23001098632812, 702.717041015625, 166.1900177001953), Rect(350.80999755859375, 184.10000610351562, 355.85809326171875, 194.0600128173828), Rect(363.3994140625, 184.10000610351562, 368.447509765625, 194.0600128173828), Rect(362.10906982421875, 212.42001342773438, 367.15716552734375, 222.38002014160156), Rect(698.8582153320312, 212.42001342773438, 703.9063110351562, 222.38002014160156), Rect(698.0599975585938, 385.94000244140625, 702.6215209960938, 394.94000244140625), Rect(698.0599975585938, 402.80999755859375, 702.6215209960938, 411.80999755859375), Rect(698.0599975585938, 419.71002197265625, 702.6215209960938, 428.71002197265625), Rect(698.0599975585938, 436.58001708984375, 702.6215209960938, 445.58001708984375)]\n",
            "page 33 of AR_Afghanistan_2019.pdf\n",
            "[Rect(536.590087890625, 46.920013427734375, 543.15869140625, 59.8800163269043), Rect(464.59002685546875, 46.920013427734375, 471.15863037109375, 59.8800163269043)]\n",
            "page 34 of AR_Afghanistan_2019.pdf\n",
            "[Rect(162.13038635253906, 126.3800048828125, 167.72586059570312, 137.4199981689453), Rect(222.8503875732422, 126.3800048828125, 228.44586181640625, 137.4199981689453), Rect(283.48040771484375, 126.3800048828125, 289.07586669921875, 137.4199981689453), Rect(346.6004333496094, 126.3800048828125, 352.1958923339844, 137.4199981689453), Rect(204.73040771484375, 140.29998779296875, 210.3258819580078, 151.33998107910156), Rect(339.9908447265625, 140.29998779296875, 345.5863037109375, 151.33998107910156), Rect(218.6407928466797, 154.22000122070312, 229.75625610351562, 165.25999450683594), Rect(351.1412658691406, 154.22000122070312, 356.7367248535156, 165.25999450683594), Rect(282.59124755859375, 182.08999633789062, 288.18670654296875, 193.12998962402344), Rect(492.6000061035156, 268.9599914550781, 497.1615295410156, 277.9599914550781), Rect(564.3099975585938, 268.9599914550781, 568.8715209960938, 277.9599914550781), Rect(636.02001953125, 268.9599914550781, 640.58154296875, 277.9599914550781), Rect(707.739990234375, 268.9599914550781, 712.301513671875, 277.9599914550781), Rect(641.6419677734375, 154.48001098632812, 646.2034912109375, 163.48001098632812), Rect(106.14999389648438, 334.1499938964844, 110.71151733398438, 343.1499938964844), Rect(213.9390106201172, 330.5199890136719, 223.06353759765625, 339.5199890136719), Rect(114.17101287841797, 256.2200012207031, 118.73253631591797, 265.2200012207031), Rect(223.0650177001953, 255.1099853515625, 227.6265411376953, 264.1099853515625), Rect(154.1999969482422, 376.58001708984375, 158.7615203857422, 385.58001708984375), Rect(186.83999633789062, 376.58001708984375, 191.40151977539062, 385.58001708984375), Rect(219.45999145507812, 376.58001708984375, 224.02151489257812, 385.58001708984375), Rect(252.09999084472656, 376.58001708984375, 256.6614990234375, 385.58001708984375)]\n",
            "page 35 of AR_Afghanistan_2019.pdf\n",
            "[Rect(431.92999267578125, 33.959991455078125, 437.52545166015625, 44.9999885559082), Rect(448.7108154296875, 33.959991455078125, 454.3062744140625, 44.9999885559082), Rect(407.5604248046875, 33.959991455078125, 413.1558837890625, 44.9999885559082)]\n"
          ]
        }
      ]
    },
    {
      "cell_type": "markdown",
      "source": [
        "### Translate: Extract -> Translate -> Write (incomplete)"
      ],
      "metadata": {
        "id": "sOlXX3CulADm"
      }
    },
    {
      "cell_type": "markdown",
      "source": [
        "Source: https://towardsdatascience.com/translate-long-pdf-reports-in-python-eab3be08ceb4"
      ],
      "metadata": {
        "id": "EKPTBif1lFiD"
      }
    },
    {
      "cell_type": "code",
      "source": [
        "pip install pdfplumber"
      ],
      "metadata": {
        "colab": {
          "base_uri": "https://localhost:8080/"
        },
        "id": "04c-5amEmWSW",
        "outputId": "ab0525b2-543c-44fd-a76b-4d7d6d502e90"
      },
      "execution_count": null,
      "outputs": [
        {
          "output_type": "stream",
          "name": "stdout",
          "text": [
            "Looking in indexes: https://pypi.org/simple, https://us-python.pkg.dev/colab-wheels/public/simple/\n",
            "Collecting pdfplumber\n",
            "  Downloading pdfplumber-0.7.4-py3-none-any.whl (40 kB)\n",
            "\u001b[K     |████████████████████████████████| 40 kB 3.1 MB/s \n",
            "\u001b[?25hRequirement already satisfied: pdfminer.six==20220524 in /usr/local/lib/python3.7/dist-packages (from pdfplumber) (20220524)\n",
            "Requirement already satisfied: Pillow>=9.1 in /usr/local/lib/python3.7/dist-packages (from pdfplumber) (9.2.0)\n",
            "Collecting Wand>=0.6.7\n",
            "  Downloading Wand-0.6.8-py2.py3-none-any.whl (142 kB)\n",
            "\u001b[K     |████████████████████████████████| 142 kB 8.4 MB/s \n",
            "\u001b[?25hRequirement already satisfied: cryptography>=36.0.0 in /usr/local/lib/python3.7/dist-packages (from pdfminer.six==20220524->pdfplumber) (37.0.4)\n",
            "Requirement already satisfied: charset-normalizer>=2.0.0 in /usr/local/lib/python3.7/dist-packages (from pdfminer.six==20220524->pdfplumber) (2.1.0)\n",
            "Requirement already satisfied: cffi>=1.12 in /usr/local/lib/python3.7/dist-packages (from cryptography>=36.0.0->pdfminer.six==20220524->pdfplumber) (1.15.1)\n",
            "Requirement already satisfied: pycparser in /usr/local/lib/python3.7/dist-packages (from cffi>=1.12->cryptography>=36.0.0->pdfminer.six==20220524->pdfplumber) (2.21)\n",
            "Installing collected packages: Wand, pdfplumber\n",
            "Successfully installed Wand-0.6.8 pdfplumber-0.7.4\n"
          ]
        }
      ]
    },
    {
      "cell_type": "markdown",
      "source": [
        "Import pdf"
      ],
      "metadata": {
        "id": "xWbIn-inmmsD"
      }
    },
    {
      "cell_type": "code",
      "source": [
        "import pdfplumber\n",
        "pdf = pdfplumber.open(\"AR_Finland_2021.pdf\")"
      ],
      "metadata": {
        "id": "L3JgGkWllD_8"
      },
      "execution_count": null,
      "outputs": []
    },
    {
      "cell_type": "markdown",
      "source": [
        "Read a sepcific page"
      ],
      "metadata": {
        "id": "OjrjNBQemoNp"
      }
    },
    {
      "cell_type": "code",
      "source": [
        "page1 = pdf.pages[1]\n",
        "page1.extract_text()"
      ],
      "metadata": {
        "colab": {
          "base_uri": "https://localhost:8080/",
          "height": 87
        },
        "id": "e23iXqoQmqS7",
        "outputId": "da440982-5513-414f-b848-4cbe51b80a77"
      },
      "execution_count": null,
      "outputs": [
        {
          "output_type": "execute_result",
          "data": {
            "text/plain": [
              "'Cover photo: The new mobile Emergency Evacuation Centre was tested in Tampere in early 2021. The trailer \\nholds, among others, two tents, camping beds, sleeping mats, tables and chairs, a generator, lighting systems,  \\nand a diesel heater. There are 14 EEC units in the region of 11 districts. Photo: Joonas Brandt\\nThe Finnish Red Cross, Tehtaankatu 1 a, 00140 Helsinki, Phone 020 701 2000'"
            ],
            "application/vnd.google.colaboratory.intrinsic+json": {
              "type": "string"
            }
          },
          "metadata": {},
          "execution_count": 47
        }
      ]
    },
    {
      "cell_type": "markdown",
      "source": [
        "Translate"
      ],
      "metadata": {
        "id": "q1yRF-0Am7cw"
      }
    },
    {
      "cell_type": "code",
      "source": [
        "pip install deep_translator"
      ],
      "metadata": {
        "colab": {
          "base_uri": "https://localhost:8080/"
        },
        "id": "EZGdnZjonvO4",
        "outputId": "9a435465-ef48-4f26-ce53-c072e286dbea"
      },
      "execution_count": null,
      "outputs": [
        {
          "output_type": "stream",
          "name": "stdout",
          "text": [
            "Looking in indexes: https://pypi.org/simple, https://us-python.pkg.dev/colab-wheels/public/simple/\n",
            "Collecting deep_translator\n",
            "  Downloading deep_translator-1.8.3-py3-none-any.whl (29 kB)\n",
            "Requirement already satisfied: requests<3.0.0,>=2.23.0 in /usr/local/lib/python3.7/dist-packages (from deep_translator) (2.23.0)\n",
            "Collecting beautifulsoup4<5.0.0,>=4.9.1\n",
            "  Downloading beautifulsoup4-4.11.1-py3-none-any.whl (128 kB)\n",
            "\u001b[K     |████████████████████████████████| 128 kB 7.9 MB/s \n",
            "\u001b[?25hRequirement already satisfied: soupsieve>1.2 in /usr/local/lib/python3.7/dist-packages (from beautifulsoup4<5.0.0,>=4.9.1->deep_translator) (2.3.2.post1)\n",
            "Requirement already satisfied: chardet<4,>=3.0.2 in /usr/local/lib/python3.7/dist-packages (from requests<3.0.0,>=2.23.0->deep_translator) (3.0.4)\n",
            "Requirement already satisfied: urllib3!=1.25.0,!=1.25.1,<1.26,>=1.21.1 in /usr/local/lib/python3.7/dist-packages (from requests<3.0.0,>=2.23.0->deep_translator) (1.24.3)\n",
            "Requirement already satisfied: certifi>=2017.4.17 in /usr/local/lib/python3.7/dist-packages (from requests<3.0.0,>=2.23.0->deep_translator) (2022.6.15)\n",
            "Requirement already satisfied: idna<3,>=2.5 in /usr/local/lib/python3.7/dist-packages (from requests<3.0.0,>=2.23.0->deep_translator) (2.10)\n",
            "Installing collected packages: beautifulsoup4, deep-translator\n",
            "  Attempting uninstall: beautifulsoup4\n",
            "    Found existing installation: beautifulsoup4 4.6.3\n",
            "    Uninstalling beautifulsoup4-4.6.3:\n",
            "      Successfully uninstalled beautifulsoup4-4.6.3\n",
            "Successfully installed beautifulsoup4-4.11.1 deep-translator-1.8.3\n"
          ]
        }
      ]
    },
    {
      "cell_type": "code",
      "source": [
        "from deep_translator import GoogleTranslator"
      ],
      "metadata": {
        "id": "FsFuFAlkns1F"
      },
      "execution_count": null,
      "outputs": []
    },
    {
      "cell_type": "code",
      "source": [
        "pip install nltk"
      ],
      "metadata": {
        "colab": {
          "base_uri": "https://localhost:8080/"
        },
        "id": "Z0-c3gYZobxg",
        "outputId": "1304e488-0ab5-44d4-8d71-92e27804556c"
      },
      "execution_count": null,
      "outputs": [
        {
          "output_type": "stream",
          "name": "stdout",
          "text": [
            "Looking in indexes: https://pypi.org/simple, https://us-python.pkg.dev/colab-wheels/public/simple/\n",
            "Requirement already satisfied: nltk in /usr/local/lib/python3.7/dist-packages (3.7)\n",
            "Requirement already satisfied: click in /usr/local/lib/python3.7/dist-packages (from nltk) (7.1.2)\n",
            "Requirement already satisfied: tqdm in /usr/local/lib/python3.7/dist-packages (from nltk) (4.64.0)\n",
            "Requirement already satisfied: regex>=2021.8.3 in /usr/local/lib/python3.7/dist-packages (from nltk) (2022.6.2)\n",
            "Requirement already satisfied: joblib in /usr/local/lib/python3.7/dist-packages (from nltk) (1.1.0)\n"
          ]
        }
      ]
    },
    {
      "cell_type": "markdown",
      "source": [
        "From detect language to EN"
      ],
      "metadata": {
        "id": "rGC_fB6mn7fi"
      }
    },
    {
      "cell_type": "code",
      "source": [
        "translate = GoogleTranslator(source=\"auto\", target=\"en\").translate\n"
      ],
      "metadata": {
        "id": "aId5JzXZn628"
      },
      "execution_count": null,
      "outputs": []
    },
    {
      "cell_type": "markdown",
      "source": [
        "Example"
      ],
      "metadata": {
        "id": "AQMg1BcAoHge"
      }
    },
    {
      "cell_type": "code",
      "source": [
        "translate(\"Ich liebe Python programmieren.\")"
      ],
      "metadata": {
        "colab": {
          "base_uri": "https://localhost:8080/",
          "height": 35
        },
        "id": "HZQ3tDaGoIXu",
        "outputId": "77199214-d42d-43f4-8f27-9ed5c2a59ae2"
      },
      "execution_count": null,
      "outputs": [
        {
          "output_type": "execute_result",
          "data": {
            "text/plain": [
              "'I love Python programming.'"
            ],
            "application/vnd.google.colaboratory.intrinsic+json": {
              "type": "string"
            }
          },
          "metadata": {},
          "execution_count": 61
        }
      ]
    }
  ]
}