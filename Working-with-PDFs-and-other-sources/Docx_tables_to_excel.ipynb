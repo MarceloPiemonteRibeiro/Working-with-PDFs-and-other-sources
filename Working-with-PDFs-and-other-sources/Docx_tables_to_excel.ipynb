{
  "nbformat": 4,
  "nbformat_minor": 0,
  "metadata": {
    "colab": {
      "provenance": [],
      "authorship_tag": "ABX9TyNwqU99we2KPlLJGlivdvXx",
      "include_colab_link": true
    },
    "kernelspec": {
      "name": "python3",
      "display_name": "Python 3"
    },
    "language_info": {
      "name": "python"
    }
  },
  "cells": [
    {
      "cell_type": "markdown",
      "metadata": {
        "id": "view-in-github",
        "colab_type": "text"
      },
      "source": [
        "<a href=\"https://colab.research.google.com/github/MarceloPiemonteRibeiro/Working-with-PDFs-and-other-sources/blob/main/Working-with-PDFs-and-other-sources/Docx_tables_to_excel.ipynb\" target=\"_parent\"><img src=\"https://colab.research.google.com/assets/colab-badge.svg\" alt=\"Open In Colab\"/></a>"
      ]
    },
    {
      "cell_type": "markdown",
      "source": [
        "Export tables from a Docx to CSV"
      ],
      "metadata": {
        "id": "9Hmhjy4FPaAI"
      }
    },
    {
      "cell_type": "code",
      "execution_count": 1,
      "metadata": {
        "colab": {
          "base_uri": "https://localhost:8080/"
        },
        "id": "5OPG6M73G6dZ",
        "outputId": "c839ab38-2a82-4566-e0ed-dd3cd0df6701"
      },
      "outputs": [
        {
          "output_type": "stream",
          "name": "stdout",
          "text": [
            "Looking in indexes: https://pypi.org/simple, https://us-python.pkg.dev/colab-wheels/public/simple/\n",
            "Collecting docx2txt\n",
            "  Downloading docx2txt-0.8.tar.gz (2.8 kB)\n",
            "Building wheels for collected packages: docx2txt\n",
            "  Building wheel for docx2txt (setup.py) ... \u001b[?25l\u001b[?25hdone\n",
            "  Created wheel for docx2txt: filename=docx2txt-0.8-py3-none-any.whl size=3980 sha256=20bb69c36de6d8132be21588bde51d9cb64a6ad93ee12ab0670103b27d9caedc\n",
            "  Stored in directory: /root/.cache/pip/wheels/b7/20/b2/473e3aea9a0c0d3e7b2f7bd81d06d0794fec12752733d1f3a8\n",
            "Successfully built docx2txt\n",
            "Installing collected packages: docx2txt\n",
            "Successfully installed docx2txt-0.8\n",
            "Looking in indexes: https://pypi.org/simple, https://us-python.pkg.dev/colab-wheels/public/simple/\n",
            "Collecting python-docx\n",
            "  Downloading python-docx-0.8.11.tar.gz (5.6 MB)\n",
            "\u001b[K     |████████████████████████████████| 5.6 MB 5.2 MB/s \n",
            "\u001b[?25hRequirement already satisfied: lxml>=2.3.2 in /usr/local/lib/python3.7/dist-packages (from python-docx) (4.9.1)\n",
            "Building wheels for collected packages: python-docx\n",
            "  Building wheel for python-docx (setup.py) ... \u001b[?25l\u001b[?25hdone\n",
            "  Created wheel for python-docx: filename=python_docx-0.8.11-py3-none-any.whl size=184507 sha256=3bbeb97ff02145946ac2aabce7a9a10a61dbc8dcaaf81a3346abc521aaf10bcc\n",
            "  Stored in directory: /root/.cache/pip/wheels/f6/6f/b9/d798122a8b55b74ad30b5f52b01482169b445fbb84a11797a6\n",
            "Successfully built python-docx\n",
            "Installing collected packages: python-docx\n",
            "Successfully installed python-docx-0.8.11\n",
            "Looking in indexes: https://pypi.org/simple, https://us-python.pkg.dev/colab-wheels/public/simple/\n",
            "Collecting xlsxwriter\n",
            "  Downloading XlsxWriter-3.0.3-py3-none-any.whl (149 kB)\n",
            "\u001b[K     |████████████████████████████████| 149 kB 4.7 MB/s \n",
            "\u001b[?25hInstalling collected packages: xlsxwriter\n",
            "Successfully installed xlsxwriter-3.0.3\n"
          ]
        }
      ],
      "source": [
        "!pip install docx2txt\n",
        "!pip install python-docx\n",
        "!pip install xlsxwriter"
      ]
    },
    {
      "cell_type": "code",
      "source": [
        "from docx.api import Document\n",
        "import pandas as pd\n",
        "\n",
        "path = \"/content/Antigua & Barbuda_Federation-wide Country Plan 18MAY2022.docx\"\n",
        "document = Document(path)\n",
        "output_path=\"/content/sample_data\"\n",
        "writer = pd.ExcelWriter('{}/docx_tables.xlsx'.format(output_path), engine='xlsxwriter')\n",
        "for i in range (len(document.tables)):\n",
        "  table= document.tables[i]\n",
        "  data=[]\n",
        "  keys=None\n",
        "  row_data=None\n",
        "  for i, row in enumerate(table.rows):\n",
        "    text = (cell.text for cell in row.cells)\n",
        "\n",
        "    if i == 0:\n",
        "        keys = tuple(text)\n",
        "        continue\n",
        "    row_data = dict(zip(keys, text))\n",
        "    data.append(row_data)\n",
        "    print (data)\n",
        "\n",
        "df = pd.DataFrame(data)"
      ],
      "metadata": {
        "colab": {
          "base_uri": "https://localhost:8080/"
        },
        "id": "Czy2AHIaHgjm",
        "outputId": "9ea8af7e-3339-4991-ec90-db5e760815b8"
      },
      "execution_count": 15,
      "outputs": [
        {
          "output_type": "stream",
          "name": "stdout",
          "text": [
            "[{'Number of people to be reached': 'Ongoing emergency operations', '2023': 'N/A'}]\n",
            "[{'Number of people to be reached': 'Ongoing emergency operations', '2023': 'N/A'}, {'Number of people to be reached': 'Climate and environmental crises', '2023': '100'}]\n",
            "[{'Number of people to be reached': 'Ongoing emergency operations', '2023': 'N/A'}, {'Number of people to be reached': 'Climate and environmental crises', '2023': '100'}, {'Number of people to be reached': 'Evolving crises and disasters', '2023': '100'}]\n",
            "[{'Number of people to be reached': 'Ongoing emergency operations', '2023': 'N/A'}, {'Number of people to be reached': 'Climate and environmental crises', '2023': '100'}, {'Number of people to be reached': 'Evolving crises and disasters', '2023': '100'}, {'Number of people to be reached': 'Growing gaps in health and well-being', '2023': '200'}]\n",
            "[{'Number of people to be reached': 'Ongoing emergency operations', '2023': 'N/A'}, {'Number of people to be reached': 'Climate and environmental crises', '2023': '100'}, {'Number of people to be reached': 'Evolving crises and disasters', '2023': '100'}, {'Number of people to be reached': 'Growing gaps in health and well-being', '2023': '200'}, {'Number of people to be reached': 'Migration and identity', '2023': 'N/A'}]\n",
            "[{'Number of people to be reached': 'Ongoing emergency operations', '2023': 'N/A'}, {'Number of people to be reached': 'Climate and environmental crises', '2023': '100'}, {'Number of people to be reached': 'Evolving crises and disasters', '2023': '100'}, {'Number of people to be reached': 'Growing gaps in health and well-being', '2023': '200'}, {'Number of people to be reached': 'Migration and identity', '2023': 'N/A'}, {'Number of people to be reached': 'Values, power and inclusion', '2023': 'N/A'}]\n",
            "[{'Funding requirements': 'National Society domestic fundraising requirements', '2023': 'To be determined', '2024\\n(indicative)': '', '2025\\n(indicative)': ''}]\n",
            "[{'Funding requirements': 'National Society domestic fundraising requirements', '2023': 'To be determined', '2024\\n(indicative)': '', '2025\\n(indicative)': ''}, {'Funding requirements': '', '2023': '', '2024\\n(indicative)': '', '2025\\n(indicative)': ''}]\n",
            "[{'Funding requirements': 'National Society domestic fundraising requirements', '2023': 'To be determined', '2024\\n(indicative)': '', '2025\\n(indicative)': ''}, {'Funding requirements': '', '2023': '', '2024\\n(indicative)': '', '2025\\n(indicative)': ''}, {'Funding requirements': 'Funding requirements from the IFRC Network', '2023': '', '2024\\n(indicative)': '', '2025\\n(indicative)': ''}]\n",
            "[{'Funding requirements': 'National Society domestic fundraising requirements', '2023': 'To be determined', '2024\\n(indicative)': '', '2025\\n(indicative)': ''}, {'Funding requirements': '', '2023': '', '2024\\n(indicative)': '', '2025\\n(indicative)': ''}, {'Funding requirements': 'Funding requirements from the IFRC Network', '2023': '', '2024\\n(indicative)': '', '2025\\n(indicative)': ''}, {'Funding requirements': 'Partner National Societies:\\nXX RC\\nYY RC', '2023': '\\nXXX Swiss francs\\nXXX Swiss francs\\nXXX Swiss francs', '2024\\n(indicative)': '', '2025\\n(indicative)': ''}]\n",
            "[{'Funding requirements': 'National Society domestic fundraising requirements', '2023': 'To be determined', '2024\\n(indicative)': '', '2025\\n(indicative)': ''}, {'Funding requirements': '', '2023': '', '2024\\n(indicative)': '', '2025\\n(indicative)': ''}, {'Funding requirements': 'Funding requirements from the IFRC Network', '2023': '', '2024\\n(indicative)': '', '2025\\n(indicative)': ''}, {'Funding requirements': 'Partner National Societies:\\nXX RC\\nYY RC', '2023': '\\nXXX Swiss francs\\nXXX Swiss francs\\nXXX Swiss francs', '2024\\n(indicative)': '', '2025\\n(indicative)': ''}, {'Funding requirements': 'IFRC Secretariat', '2023': 'Swiss francs', '2024\\n(indicative)': '', '2025\\n(indicative)': ''}]\n",
            "[{'Funding requirements': 'National Society domestic fundraising requirements', '2023': 'To be determined', '2024\\n(indicative)': '', '2025\\n(indicative)': ''}, {'Funding requirements': '', '2023': '', '2024\\n(indicative)': '', '2025\\n(indicative)': ''}, {'Funding requirements': 'Funding requirements from the IFRC Network', '2023': '', '2024\\n(indicative)': '', '2025\\n(indicative)': ''}, {'Funding requirements': 'Partner National Societies:\\nXX RC\\nYY RC', '2023': '\\nXXX Swiss francs\\nXXX Swiss francs\\nXXX Swiss francs', '2024\\n(indicative)': '', '2025\\n(indicative)': ''}, {'Funding requirements': 'IFRC Secretariat', '2023': 'Swiss francs', '2024\\n(indicative)': '', '2025\\n(indicative)': ''}, {'Funding requirements': 'IFRC ongoing Emergency Appeal', '2023': 'XXX Swiss francs', '2024\\n(indicative)': '', '2025\\n(indicative)': ''}]\n",
            "[{'Funding requirements': 'National Society domestic fundraising requirements', '2023': 'To be determined', '2024\\n(indicative)': '', '2025\\n(indicative)': ''}, {'Funding requirements': '', '2023': '', '2024\\n(indicative)': '', '2025\\n(indicative)': ''}, {'Funding requirements': 'Funding requirements from the IFRC Network', '2023': '', '2024\\n(indicative)': '', '2025\\n(indicative)': ''}, {'Funding requirements': 'Partner National Societies:\\nXX RC\\nYY RC', '2023': '\\nXXX Swiss francs\\nXXX Swiss francs\\nXXX Swiss francs', '2024\\n(indicative)': '', '2025\\n(indicative)': ''}, {'Funding requirements': 'IFRC Secretariat', '2023': 'Swiss francs', '2024\\n(indicative)': '', '2025\\n(indicative)': ''}, {'Funding requirements': 'IFRC ongoing Emergency Appeal', '2023': 'XXX Swiss francs', '2024\\n(indicative)': '', '2025\\n(indicative)': ''}, {'Funding requirements': 'IFRC ongoing DREF grant', '2023': 'XXX Swiss francs (fully funded)', '2024\\n(indicative)': '', '2025\\n(indicative)': ''}]\n",
            "[{'Funding requirements': 'National Society domestic fundraising requirements', '2023': 'To be determined', '2024\\n(indicative)': '', '2025\\n(indicative)': ''}, {'Funding requirements': '', '2023': '', '2024\\n(indicative)': '', '2025\\n(indicative)': ''}, {'Funding requirements': 'Funding requirements from the IFRC Network', '2023': '', '2024\\n(indicative)': '', '2025\\n(indicative)': ''}, {'Funding requirements': 'Partner National Societies:\\nXX RC\\nYY RC', '2023': '\\nXXX Swiss francs\\nXXX Swiss francs\\nXXX Swiss francs', '2024\\n(indicative)': '', '2025\\n(indicative)': ''}, {'Funding requirements': 'IFRC Secretariat', '2023': 'Swiss francs', '2024\\n(indicative)': '', '2025\\n(indicative)': ''}, {'Funding requirements': 'IFRC ongoing Emergency Appeal', '2023': 'XXX Swiss francs', '2024\\n(indicative)': '', '2025\\n(indicative)': ''}, {'Funding requirements': 'IFRC ongoing DREF grant', '2023': 'XXX Swiss francs (fully funded)', '2024\\n(indicative)': '', '2025\\n(indicative)': ''}, {'Funding requirements': 'IFRC Capacity Building Fund', '2023': 'XXX Swiss francs\\n(fully funded)', '2024\\n(indicative)': '', '2025\\n(indicative)': ''}]\n",
            "[{'Funding requirements': 'National Society domestic fundraising requirements', '2023': 'To be determined', '2024\\n(indicative)': '', '2025\\n(indicative)': ''}, {'Funding requirements': '', '2023': '', '2024\\n(indicative)': '', '2025\\n(indicative)': ''}, {'Funding requirements': 'Funding requirements from the IFRC Network', '2023': '', '2024\\n(indicative)': '', '2025\\n(indicative)': ''}, {'Funding requirements': 'Partner National Societies:\\nXX RC\\nYY RC', '2023': '\\nXXX Swiss francs\\nXXX Swiss francs\\nXXX Swiss francs', '2024\\n(indicative)': '', '2025\\n(indicative)': ''}, {'Funding requirements': 'IFRC Secretariat', '2023': 'Swiss francs', '2024\\n(indicative)': '', '2025\\n(indicative)': ''}, {'Funding requirements': 'IFRC ongoing Emergency Appeal', '2023': 'XXX Swiss francs', '2024\\n(indicative)': '', '2025\\n(indicative)': ''}, {'Funding requirements': 'IFRC ongoing DREF grant', '2023': 'XXX Swiss francs (fully funded)', '2024\\n(indicative)': '', '2025\\n(indicative)': ''}, {'Funding requirements': 'IFRC Capacity Building Fund', '2023': 'XXX Swiss francs\\n(fully funded)', '2024\\n(indicative)': '', '2025\\n(indicative)': ''}, {'Funding requirements': 'National Society Investment Alliance', '2023': 'XXX Swiss francs\\n(fully funded)', '2024\\n(indicative)': '', '2025\\n(indicative)': ''}]\n",
            "[{'Funding requirements': 'National Society domestic fundraising requirements', '2023': 'To be determined', '2024\\n(indicative)': '', '2025\\n(indicative)': ''}, {'Funding requirements': '', '2023': '', '2024\\n(indicative)': '', '2025\\n(indicative)': ''}, {'Funding requirements': 'Funding requirements from the IFRC Network', '2023': '', '2024\\n(indicative)': '', '2025\\n(indicative)': ''}, {'Funding requirements': 'Partner National Societies:\\nXX RC\\nYY RC', '2023': '\\nXXX Swiss francs\\nXXX Swiss francs\\nXXX Swiss francs', '2024\\n(indicative)': '', '2025\\n(indicative)': ''}, {'Funding requirements': 'IFRC Secretariat', '2023': 'Swiss francs', '2024\\n(indicative)': '', '2025\\n(indicative)': ''}, {'Funding requirements': 'IFRC ongoing Emergency Appeal', '2023': 'XXX Swiss francs', '2024\\n(indicative)': '', '2025\\n(indicative)': ''}, {'Funding requirements': 'IFRC ongoing DREF grant', '2023': 'XXX Swiss francs (fully funded)', '2024\\n(indicative)': '', '2025\\n(indicative)': ''}, {'Funding requirements': 'IFRC Capacity Building Fund', '2023': 'XXX Swiss francs\\n(fully funded)', '2024\\n(indicative)': '', '2025\\n(indicative)': ''}, {'Funding requirements': 'National Society Investment Alliance', '2023': 'XXX Swiss francs\\n(fully funded)', '2024\\n(indicative)': '', '2025\\n(indicative)': ''}, {'Funding requirements': 'TOTAL', '2023': 'Swiss francs', '2024\\n(indicative)': '', '2025\\n(indicative)': ''}]\n",
            "[{'Number of staff:': 'Number of volunteers:', '9': '25'}]\n",
            "[{'Number of staff:': 'Number of volunteers:', '9': '25'}, {'Number of staff:': 'Number of branches', '9': '1'}]\n",
            "[{'Name of Partner ': 'Italian Red Cross', 'SP1': 'Currently having discussions with the PNS related to DRM', 'SP2': '', 'SP3': '', 'SP4': '', 'SP5': '', 'E1': '', 'E2': '', 'E3': '', 'Comments': ''}]\n",
            "[{'Name of Partner ': 'Italian Red Cross', 'SP1': 'Currently having discussions with the PNS related to DRM', 'SP2': '', 'SP3': '', 'SP4': '', 'SP5': '', 'E1': '', 'E2': '', 'E3': '', 'Comments': ''}, {}]\n",
            "[{'Name of Partner ': 'Italian Red Cross', 'SP1': 'Currently having discussions with the PNS related to DRM', 'SP2': '', 'SP3': '', 'SP4': '', 'SP5': '', 'E1': '', 'E2': '', 'E3': '', 'Comments': ''}, {}, {}]\n",
            "[{'Name of Partner ': 'Italian Red Cross', 'SP1': 'Currently having discussions with the PNS related to DRM', 'SP2': '', 'SP3': '', 'SP4': '', 'SP5': '', 'E1': '', 'E2': '', 'E3': '', 'Comments': ''}, {}, {}, {}]\n",
            "[{'Name of Partner ': 'Italian Red Cross', 'SP1': 'Currently having discussions with the PNS related to DRM', 'SP2': '', 'SP3': '', 'SP4': '', 'SP5': '', 'E1': '', 'E2': '', 'E3': '', 'Comments': ''}, {}, {}, {}, {}]\n",
            "[{'Risk\\n\\n': '\\xa0Integrity issues related to financial management, harassment, transparency, and reputation\\n', 'Likelihood': '\\xa0Medium', 'Impact': '\\xa0High', 'Mitigating actions': 'Close support to current leadership from the POS CCD to manage risk based on IFRC policies and guidelines'}]\n",
            "[{'Risk\\n\\n': '\\xa0Integrity issues related to financial management, harassment, transparency, and reputation\\n', 'Likelihood': '\\xa0Medium', 'Impact': '\\xa0High', 'Mitigating actions': 'Close support to current leadership from the POS CCD to manage risk based on IFRC policies and guidelines'}, {'Risk\\n\\n': '\\n', 'Likelihood': '\\xa0', 'Impact': '\\xa0', 'Mitigating actions': '\\xa0'}]\n"
          ]
        }
      ]
    },
    {
      "cell_type": "code",
      "source": [
        "df"
      ],
      "metadata": {
        "colab": {
          "base_uri": "https://localhost:8080/",
          "height": 112
        },
        "id": "frcIYPZ9HPW6",
        "outputId": "79b54f33-fdaa-4dcc-d20b-737dbbb6d372"
      },
      "execution_count": 3,
      "outputs": [
        {
          "output_type": "execute_result",
          "data": {
            "text/plain": [
              "                                            Risk\\n\\n Likelihood Impact  \\\n",
              "0   Integrity issues related to financial managem...     Medium   High   \n",
              "1                                                 \\n                     \n",
              "\n",
              "                                  Mitigating actions  \n",
              "0  Close support to current leadership from the P...  \n",
              "1                                                     "
            ],
            "text/html": [
              "\n",
              "  <div id=\"df-0f76d2ed-e7b5-4444-8a3a-8a7a2d14e9e9\">\n",
              "    <div class=\"colab-df-container\">\n",
              "      <div>\n",
              "<style scoped>\n",
              "    .dataframe tbody tr th:only-of-type {\n",
              "        vertical-align: middle;\n",
              "    }\n",
              "\n",
              "    .dataframe tbody tr th {\n",
              "        vertical-align: top;\n",
              "    }\n",
              "\n",
              "    .dataframe thead th {\n",
              "        text-align: right;\n",
              "    }\n",
              "</style>\n",
              "<table border=\"1\" class=\"dataframe\">\n",
              "  <thead>\n",
              "    <tr style=\"text-align: right;\">\n",
              "      <th></th>\n",
              "      <th>Risk\\n\\n</th>\n",
              "      <th>Likelihood</th>\n",
              "      <th>Impact</th>\n",
              "      <th>Mitigating actions</th>\n",
              "    </tr>\n",
              "  </thead>\n",
              "  <tbody>\n",
              "    <tr>\n",
              "      <th>0</th>\n",
              "      <td>Integrity issues related to financial managem...</td>\n",
              "      <td>Medium</td>\n",
              "      <td>High</td>\n",
              "      <td>Close support to current leadership from the P...</td>\n",
              "    </tr>\n",
              "    <tr>\n",
              "      <th>1</th>\n",
              "      <td>\\n</td>\n",
              "      <td></td>\n",
              "      <td></td>\n",
              "      <td></td>\n",
              "    </tr>\n",
              "  </tbody>\n",
              "</table>\n",
              "</div>\n",
              "      <button class=\"colab-df-convert\" onclick=\"convertToInteractive('df-0f76d2ed-e7b5-4444-8a3a-8a7a2d14e9e9')\"\n",
              "              title=\"Convert this dataframe to an interactive table.\"\n",
              "              style=\"display:none;\">\n",
              "        \n",
              "  <svg xmlns=\"http://www.w3.org/2000/svg\" height=\"24px\"viewBox=\"0 0 24 24\"\n",
              "       width=\"24px\">\n",
              "    <path d=\"M0 0h24v24H0V0z\" fill=\"none\"/>\n",
              "    <path d=\"M18.56 5.44l.94 2.06.94-2.06 2.06-.94-2.06-.94-.94-2.06-.94 2.06-2.06.94zm-11 1L8.5 8.5l.94-2.06 2.06-.94-2.06-.94L8.5 2.5l-.94 2.06-2.06.94zm10 10l.94 2.06.94-2.06 2.06-.94-2.06-.94-.94-2.06-.94 2.06-2.06.94z\"/><path d=\"M17.41 7.96l-1.37-1.37c-.4-.4-.92-.59-1.43-.59-.52 0-1.04.2-1.43.59L10.3 9.45l-7.72 7.72c-.78.78-.78 2.05 0 2.83L4 21.41c.39.39.9.59 1.41.59.51 0 1.02-.2 1.41-.59l7.78-7.78 2.81-2.81c.8-.78.8-2.07 0-2.86zM5.41 20L4 18.59l7.72-7.72 1.47 1.35L5.41 20z\"/>\n",
              "  </svg>\n",
              "      </button>\n",
              "      \n",
              "  <style>\n",
              "    .colab-df-container {\n",
              "      display:flex;\n",
              "      flex-wrap:wrap;\n",
              "      gap: 12px;\n",
              "    }\n",
              "\n",
              "    .colab-df-convert {\n",
              "      background-color: #E8F0FE;\n",
              "      border: none;\n",
              "      border-radius: 50%;\n",
              "      cursor: pointer;\n",
              "      display: none;\n",
              "      fill: #1967D2;\n",
              "      height: 32px;\n",
              "      padding: 0 0 0 0;\n",
              "      width: 32px;\n",
              "    }\n",
              "\n",
              "    .colab-df-convert:hover {\n",
              "      background-color: #E2EBFA;\n",
              "      box-shadow: 0px 1px 2px rgba(60, 64, 67, 0.3), 0px 1px 3px 1px rgba(60, 64, 67, 0.15);\n",
              "      fill: #174EA6;\n",
              "    }\n",
              "\n",
              "    [theme=dark] .colab-df-convert {\n",
              "      background-color: #3B4455;\n",
              "      fill: #D2E3FC;\n",
              "    }\n",
              "\n",
              "    [theme=dark] .colab-df-convert:hover {\n",
              "      background-color: #434B5C;\n",
              "      box-shadow: 0px 1px 3px 1px rgba(0, 0, 0, 0.15);\n",
              "      filter: drop-shadow(0px 1px 2px rgba(0, 0, 0, 0.3));\n",
              "      fill: #FFFFFF;\n",
              "    }\n",
              "  </style>\n",
              "\n",
              "      <script>\n",
              "        const buttonEl =\n",
              "          document.querySelector('#df-0f76d2ed-e7b5-4444-8a3a-8a7a2d14e9e9 button.colab-df-convert');\n",
              "        buttonEl.style.display =\n",
              "          google.colab.kernel.accessAllowed ? 'block' : 'none';\n",
              "\n",
              "        async function convertToInteractive(key) {\n",
              "          const element = document.querySelector('#df-0f76d2ed-e7b5-4444-8a3a-8a7a2d14e9e9');\n",
              "          const dataTable =\n",
              "            await google.colab.kernel.invokeFunction('convertToInteractive',\n",
              "                                                     [key], {});\n",
              "          if (!dataTable) return;\n",
              "\n",
              "          const docLinkHtml = 'Like what you see? Visit the ' +\n",
              "            '<a target=\"_blank\" href=https://colab.research.google.com/notebooks/data_table.ipynb>data table notebook</a>'\n",
              "            + ' to learn more about interactive tables.';\n",
              "          element.innerHTML = '';\n",
              "          dataTable['output_type'] = 'display_data';\n",
              "          await google.colab.output.renderOutput(dataTable, element);\n",
              "          const docLink = document.createElement('div');\n",
              "          docLink.innerHTML = docLinkHtml;\n",
              "          element.appendChild(docLink);\n",
              "        }\n",
              "      </script>\n",
              "    </div>\n",
              "  </div>\n",
              "  "
            ]
          },
          "metadata": {},
          "execution_count": 3
        }
      ]
    },
    {
      "cell_type": "code",
      "source": [
        "df.to_csv('raw_data.xls', index=False)"
      ],
      "metadata": {
        "id": "eNwxS6p6VAsr"
      },
      "execution_count": 16,
      "outputs": []
    },
    {
      "cell_type": "code",
      "source": [
        "output_path=\"/content/sample_data\"\n",
        "writer = pd.ExcelWriter('{}/docx1_table.xlsx'.format(output_path), engine='xlsxwriter')\n",
        "\n",
        "df.to_excel(writer, sheet_name='table_{}'.format(i))\n",
        "writer.save()"
      ],
      "metadata": {
        "id": "8_4sBqS7Qo6_"
      },
      "execution_count": 17,
      "outputs": []
    },
    {
      "cell_type": "markdown",
      "source": [
        "# Second try"
      ],
      "metadata": {
        "id": "ZjOXYjIDO-c4"
      }
    },
    {
      "cell_type": "code",
      "source": [
        "import pandas as pd\n",
        "from docx.api import Document\n",
        "\n",
        "document = Document(\"/content/Antigua & Barbuda_Federation-wide Country Plan 18MAY2022.docx\")\n",
        "table = document.tables[4]\n",
        "\n",
        "data = []\n",
        "\n",
        "keys = None\n",
        "for i, row in enumerate(table.rows):\n",
        "    text = (cell.text for cell in row.cells)\n",
        "\n",
        "    if i == 0:\n",
        "        keys = tuple(text)\n",
        "        continue\n",
        "    row_data = dict(zip(keys, text))\n",
        "    data.append(row_data)\n",
        "    print (data)\n",
        "\n",
        "df = pd.DataFrame(data)\n",
        "df.to_excel('raw_data1.xls', index=False)"
      ],
      "metadata": {
        "colab": {
          "base_uri": "https://localhost:8080/"
        },
        "id": "JoPsU_0_O_7R",
        "outputId": "34314627-61e8-479d-9086-1d8262094c6d"
      },
      "execution_count": 18,
      "outputs": [
        {
          "output_type": "stream",
          "name": "stdout",
          "text": [
            "[{'Name of Partner ': 'Italian Red Cross', 'SP1': 'Currently having discussions with the PNS related to DRM', 'SP2': '', 'SP3': '', 'SP4': '', 'SP5': '', 'E1': '', 'E2': '', 'E3': '', 'Comments': ''}]\n",
            "[{'Name of Partner ': 'Italian Red Cross', 'SP1': 'Currently having discussions with the PNS related to DRM', 'SP2': '', 'SP3': '', 'SP4': '', 'SP5': '', 'E1': '', 'E2': '', 'E3': '', 'Comments': ''}, {}]\n",
            "[{'Name of Partner ': 'Italian Red Cross', 'SP1': 'Currently having discussions with the PNS related to DRM', 'SP2': '', 'SP3': '', 'SP4': '', 'SP5': '', 'E1': '', 'E2': '', 'E3': '', 'Comments': ''}, {}, {}]\n",
            "[{'Name of Partner ': 'Italian Red Cross', 'SP1': 'Currently having discussions with the PNS related to DRM', 'SP2': '', 'SP3': '', 'SP4': '', 'SP5': '', 'E1': '', 'E2': '', 'E3': '', 'Comments': ''}, {}, {}, {}]\n",
            "[{'Name of Partner ': 'Italian Red Cross', 'SP1': 'Currently having discussions with the PNS related to DRM', 'SP2': '', 'SP3': '', 'SP4': '', 'SP5': '', 'E1': '', 'E2': '', 'E3': '', 'Comments': ''}, {}, {}, {}, {}]\n"
          ]
        },
        {
          "output_type": "stream",
          "name": "stderr",
          "text": [
            "/usr/local/lib/python3.7/dist-packages/ipykernel_launcher.py:21: FutureWarning: As the xlwt package is no longer maintained, the xlwt engine will be removed in a future version of pandas. This is the only engine in pandas that supports writing in the xls format. Install openpyxl and write to an xlsx file instead. You can set the option io.excel.xls.writer to 'xlwt' to silence this warning. While this option is deprecated and will also raise a warning, it can be globally set and the warning suppressed.\n"
          ]
        }
      ]
    },
    {
      "cell_type": "code",
      "source": [
        "output_path=\"/content/sample_data\"\n",
        "writer = pd.ExcelWriter('{}/docx_afghanistan.xlsx'.format(output_path), engine='xlsxwriter')\n",
        "\n",
        "df.to_excel(writer, sheet_name='table_{}'.format(i))\n",
        "writer.save()"
      ],
      "metadata": {
        "id": "A_D_ppSLPKg4"
      },
      "execution_count": 19,
      "outputs": []
    },
    {
      "cell_type": "markdown",
      "source": [
        "Ivbeg/docx2csv"
      ],
      "metadata": {
        "id": "Cst9gMdkWyTA"
      }
    },
    {
      "cell_type": "code",
      "source": [
        "!pip install docx2csv \n",
        "!pip install -U click\n",
        "!pip install xlwt\n",
        "!pip install openpyxl"
      ],
      "metadata": {
        "colab": {
          "base_uri": "https://localhost:8080/"
        },
        "id": "YGDqLU9qW1vI",
        "outputId": "f11f4e31-05f5-42d5-cd95-4a42db65f733"
      },
      "execution_count": 9,
      "outputs": [
        {
          "output_type": "stream",
          "name": "stdout",
          "text": [
            "Looking in indexes: https://pypi.org/simple, https://us-python.pkg.dev/colab-wheels/public/simple/\n",
            "Collecting docx2csv\n",
            "  Downloading docx2csv-0.1.0-py2.py3-none-any.whl (5.6 kB)\n",
            "Requirement already satisfied: openpyxl in /usr/local/lib/python3.7/dist-packages (from docx2csv) (3.0.10)\n",
            "Requirement already satisfied: python-docx in /usr/local/lib/python3.7/dist-packages (from docx2csv) (0.8.11)\n",
            "Requirement already satisfied: xlwt in /usr/local/lib/python3.7/dist-packages (from docx2csv) (1.3.0)\n",
            "Requirement already satisfied: click in /usr/local/lib/python3.7/dist-packages (from docx2csv) (7.1.2)\n",
            "Requirement already satisfied: et-xmlfile in /usr/local/lib/python3.7/dist-packages (from openpyxl->docx2csv) (1.1.0)\n",
            "Requirement already satisfied: lxml>=2.3.2 in /usr/local/lib/python3.7/dist-packages (from python-docx->docx2csv) (4.9.1)\n",
            "Installing collected packages: docx2csv\n",
            "Successfully installed docx2csv-0.1.0\n",
            "Looking in indexes: https://pypi.org/simple, https://us-python.pkg.dev/colab-wheels/public/simple/\n",
            "Requirement already satisfied: click in /usr/local/lib/python3.7/dist-packages (7.1.2)\n",
            "Collecting click\n",
            "  Downloading click-8.1.3-py3-none-any.whl (96 kB)\n",
            "\u001b[K     |████████████████████████████████| 96 kB 3.0 MB/s \n",
            "\u001b[?25hRequirement already satisfied: importlib-metadata in /usr/local/lib/python3.7/dist-packages (from click) (5.0.0)\n",
            "Requirement already satisfied: typing-extensions>=3.6.4 in /usr/local/lib/python3.7/dist-packages (from importlib-metadata->click) (4.1.1)\n",
            "Requirement already satisfied: zipp>=0.5 in /usr/local/lib/python3.7/dist-packages (from importlib-metadata->click) (3.9.0)\n",
            "Installing collected packages: click\n",
            "  Attempting uninstall: click\n",
            "    Found existing installation: click 7.1.2\n",
            "    Uninstalling click-7.1.2:\n",
            "      Successfully uninstalled click-7.1.2\n",
            "\u001b[31mERROR: pip's dependency resolver does not currently take into account all the packages that are installed. This behaviour is the source of the following dependency conflicts.\n",
            "flask 1.1.4 requires click<8.0,>=5.1, but you have click 8.1.3 which is incompatible.\u001b[0m\n",
            "Successfully installed click-8.1.3\n",
            "Looking in indexes: https://pypi.org/simple, https://us-python.pkg.dev/colab-wheels/public/simple/\n",
            "Requirement already satisfied: xlwt in /usr/local/lib/python3.7/dist-packages (1.3.0)\n",
            "Looking in indexes: https://pypi.org/simple, https://us-python.pkg.dev/colab-wheels/public/simple/\n",
            "Requirement already satisfied: openpyxl in /usr/local/lib/python3.7/dist-packages (3.0.10)\n",
            "Requirement already satisfied: et-xmlfile in /usr/local/lib/python3.7/dist-packages (from openpyxl) (1.1.0)\n"
          ]
        }
      ]
    },
    {
      "cell_type": "code",
      "source": [
        "from docx2csv import extract_tables, extract \n",
        "tables = extract_tables('Antigua & Barbuda_Federation-wide Country Plan 18MAY2022.docx')\n",
        "extract(filename='Antigua & Barbuda_Federation-wide Country Plan 18MAY2022.docx', \n",
        "        format='xlsx')"
      ],
      "metadata": {
        "id": "64HYUCRlYLMg"
      },
      "execution_count": 10,
      "outputs": []
    },
    {
      "cell_type": "code",
      "source": [
        "#docx2csv convert 'Antigua & Barbuda_Federation-wide Country Plan 18MAY2022.docx'"
      ],
      "metadata": {
        "id": "F7kg4xy4XwHf"
      },
      "execution_count": null,
      "outputs": []
    },
    {
      "cell_type": "markdown",
      "source": [
        "3rd try (best one)"
      ],
      "metadata": {
        "id": "5OvZB19_KNQ6"
      }
    },
    {
      "cell_type": "markdown",
      "source": [
        "https://stackoverflow.com/questions/36066625/how-do-you-convert-a-table-that-is-in-a-docx-file-to-an-xlsx-or-a-csv-file-in"
      ],
      "metadata": {
        "id": "7EjlbDXlLwcs"
      }
    },
    {
      "cell_type": "code",
      "source": [
        "from docx import Document\n",
        "import pandas as pd\n",
        "document = Document(\"/content/Antigua & Barbuda_Federation-wide Country Plan 18MAY2022.docx\")\n",
        "tables = []\n",
        "for index,table in enumerate(document.tables):\n",
        "    df = [['' for i in range(len(table.columns))] for j in range(len(table.rows))]\n",
        "    for i, row in enumerate(table.rows):\n",
        "        for j, cell in enumerate(row.cells):\n",
        "            df[i][j] = cell.text\n",
        "        pd.DataFrame(df).to_excel(\"Table# \"+str(index)+\".xlsx\")"
      ],
      "metadata": {
        "id": "dPFvNFy4KOTh"
      },
      "execution_count": 20,
      "outputs": []
    }
  ]
}